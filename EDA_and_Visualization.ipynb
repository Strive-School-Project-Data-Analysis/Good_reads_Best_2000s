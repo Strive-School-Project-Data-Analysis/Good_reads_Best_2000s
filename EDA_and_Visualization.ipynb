{
  "cells": [
    {
      "cell_type": "markdown",
      "source": "# Data Analysis and Visualization for Best Books in the 2000's Decade",
      "metadata": {
        "tags": [],
        "cell_id": "00000-5bcef379-f787-40e0-8a1a-999d8b591b46",
        "deepnote_cell_type": "markdown"
      }
    },
    {
      "cell_type": "markdown",
      "source": "Our boss from publishing house wants an information about Best Books of 2000s Decade\n\nOur main approach here would be the understanding of which features can affect a book to be on the best books list.\n\nwe are doing this by scrabbing data from good reads wensite datebase \n\n![image](test1.jpg)\n",
      "metadata": {
        "tags": [],
        "cell_id": "00001-953068b9-5662-452c-975c-3ac4ad55607a",
        "deepnote_cell_type": "markdown"
      }
    },
    {
      "cell_type": "markdown",
      "source": "## Data Preparation\n1. Importing Libraries and Data Set\n2. Understanding Data Set\n3. Cleaning Data Set",
      "metadata": {
        "tags": [],
        "cell_id": "00001-2db04db0-d915-4f59-9bf5-181f22781807",
        "deepnote_cell_type": "markdown"
      }
    },
    {
      "cell_type": "markdown",
      "source": "### 1.Importing Libraries and Data Set",
      "metadata": {
        "tags": [],
        "cell_id": "00001-e14878dc-0ffb-4cdd-a66f-6c7a522c711c",
        "deepnote_cell_type": "markdown"
      }
    },
    {
      "cell_type": "code",
      "metadata": {
        "tags": [],
        "cell_id": "00000-935d6674-7799-4dc3-8bd5-872878f83ee9",
        "deepnote_to_be_reexecuted": false,
        "source_hash": "5a7dec26",
        "execution_millis": 1,
        "execution_start": 1618415518499,
        "deepnote_cell_type": "code"
      },
      "source": "#Importing Libraries\nimport numpy as np # linear algebra\nimport pandas as pd # data processing, CSV file I/O (e.g. pd.read_csv)\nimport seaborn as sns\nimport os\nimport matplotlib as mpl\nimport matplotlib.pyplot as plt\nimport re",
      "execution_count": 24,
      "outputs": []
    },
    {
      "cell_type": "code",
      "metadata": {
        "tags": [],
        "cell_id": "00001-f8714e80-49cc-4fe2-aac2-f7247067defc",
        "deepnote_to_be_reexecuted": false,
        "source_hash": "282a5200",
        "execution_millis": 15,
        "execution_start": 1618415518924,
        "deepnote_cell_type": "code"
      },
      "source": "#Importing Data\ndef importing_data():\n    df=pd.read_csv(\"/work/Good_reads_Best_2000s/Data.csv\")\n    return df\ndf=importing_data()",
      "execution_count": 25,
      "outputs": []
    },
    {
      "cell_type": "markdown",
      "source": "### 2.Understanding Data Set",
      "metadata": {
        "tags": [],
        "cell_id": "00004-32e5a7fd-ed68-4267-af4e-28b4c4c344c7",
        "deepnote_cell_type": "markdown"
      }
    },
    {
      "cell_type": "code",
      "metadata": {
        "tags": [],
        "cell_id": "00005-7f16131a-c40e-4118-8d79-23fbe8fed1a9",
        "deepnote_to_be_reexecuted": false,
        "source_hash": "6dd7a748",
        "execution_millis": 41,
        "execution_start": 1618415520849,
        "deepnote_cell_type": "code"
      },
      "source": "#Showing first 5 row of dataset\ndf.head()",
      "execution_count": 26,
      "outputs": [
        {
          "output_type": "execute_result",
          "execution_count": 26,
          "data": {
            "application/vnd.deepnote.dataframe.v2+json": {
              "row_count": 5,
              "column_count": 12,
              "columns": [
                {
                  "name": "URL",
                  "dtype": "object",
                  "stats": {
                    "unique_count": 5,
                    "nan_count": 0,
                    "categories": [
                      {
                        "name": "https://www.goodreads.com/book/show/136251.Harry_Potter_and_the_Deathly_Hallows\"",
                        "count": 1
                      },
                      {
                        "name": "https://www.goodreads.com/book/show/2767052-the-hunger-games\"",
                        "count": 1
                      },
                      {
                        "name": "3 others",
                        "count": 3
                      }
                    ]
                  }
                },
                {
                  "name": "Title",
                  "dtype": "object",
                  "stats": {
                    "unique_count": 5,
                    "nan_count": 0,
                    "categories": [
                      {
                        "name": "Harry Potter and the Deathly Hallows (Harry Potter, #7)",
                        "count": 1
                      },
                      {
                        "name": "The Hunger Games (The Hunger Games, #1)",
                        "count": 1
                      },
                      {
                        "name": "3 others",
                        "count": 3
                      }
                    ]
                  }
                },
                {
                  "name": "Author",
                  "dtype": "object",
                  "stats": {
                    "unique_count": 2,
                    "nan_count": 0,
                    "categories": [
                      {
                        "name": "J.K. Rowling",
                        "count": 4
                      },
                      {
                        "name": "Suzanne Collins",
                        "count": 1
                      }
                    ]
                  }
                },
                {
                  "name": "Number of Ratings",
                  "dtype": "float64",
                  "stats": {
                    "unique_count": 5,
                    "nan_count": 0,
                    "min": "2575456.0",
                    "max": "6685627.0",
                    "histogram": [
                      {
                        "bin_start": 2575456,
                        "bin_end": 2986473.1,
                        "count": 4
                      },
                      {
                        "bin_start": 2986473.1,
                        "bin_end": 3397490.2,
                        "count": 0
                      },
                      {
                        "bin_start": 3397490.2,
                        "bin_end": 3808507.3,
                        "count": 0
                      },
                      {
                        "bin_start": 3808507.3,
                        "bin_end": 4219524.4,
                        "count": 0
                      },
                      {
                        "bin_start": 4219524.4,
                        "bin_end": 4630541.5,
                        "count": 0
                      },
                      {
                        "bin_start": 4630541.5,
                        "bin_end": 5041558.6,
                        "count": 0
                      },
                      {
                        "bin_start": 5041558.6,
                        "bin_end": 5452575.699999999,
                        "count": 0
                      },
                      {
                        "bin_start": 5452575.699999999,
                        "bin_end": 5863592.8,
                        "count": 0
                      },
                      {
                        "bin_start": 5863592.8,
                        "bin_end": 6274609.9,
                        "count": 0
                      },
                      {
                        "bin_start": 6274609.9,
                        "bin_end": 6685627,
                        "count": 1
                      }
                    ]
                  }
                },
                {
                  "name": "Number of Reviews",
                  "dtype": "float64",
                  "stats": {
                    "unique_count": 5,
                    "nan_count": 0,
                    "min": "42018.0",
                    "max": "175504.0",
                    "histogram": [
                      {
                        "bin_start": 42018,
                        "bin_end": 55366.6,
                        "count": 3
                      },
                      {
                        "bin_start": 55366.6,
                        "bin_end": 68715.2,
                        "count": 1
                      },
                      {
                        "bin_start": 68715.2,
                        "bin_end": 82063.8,
                        "count": 0
                      },
                      {
                        "bin_start": 82063.8,
                        "bin_end": 95412.4,
                        "count": 0
                      },
                      {
                        "bin_start": 95412.4,
                        "bin_end": 108761,
                        "count": 0
                      },
                      {
                        "bin_start": 108761,
                        "bin_end": 122109.6,
                        "count": 0
                      },
                      {
                        "bin_start": 122109.6,
                        "bin_end": 135458.2,
                        "count": 0
                      },
                      {
                        "bin_start": 135458.2,
                        "bin_end": 148806.8,
                        "count": 0
                      },
                      {
                        "bin_start": 148806.8,
                        "bin_end": 162155.40000000002,
                        "count": 0
                      },
                      {
                        "bin_start": 162155.40000000002,
                        "bin_end": 175504,
                        "count": 1
                      }
                    ]
                  }
                },
                {
                  "name": "Average Ratings",
                  "dtype": "float64",
                  "stats": {
                    "unique_count": 3,
                    "nan_count": 0,
                    "min": "4.3",
                    "max": "4.6",
                    "histogram": [
                      {
                        "bin_start": 4.3,
                        "bin_end": 4.33,
                        "count": 1
                      },
                      {
                        "bin_start": 4.33,
                        "bin_end": 4.359999999999999,
                        "count": 0
                      },
                      {
                        "bin_start": 4.359999999999999,
                        "bin_end": 4.39,
                        "count": 0
                      },
                      {
                        "bin_start": 4.39,
                        "bin_end": 4.42,
                        "count": 0
                      },
                      {
                        "bin_start": 4.42,
                        "bin_end": 4.449999999999999,
                        "count": 0
                      },
                      {
                        "bin_start": 4.449999999999999,
                        "bin_end": 4.4799999999999995,
                        "count": 0
                      },
                      {
                        "bin_start": 4.4799999999999995,
                        "bin_end": 4.51,
                        "count": 3
                      },
                      {
                        "bin_start": 4.51,
                        "bin_end": 4.54,
                        "count": 0
                      },
                      {
                        "bin_start": 4.54,
                        "bin_end": 4.569999999999999,
                        "count": 0
                      },
                      {
                        "bin_start": 4.569999999999999,
                        "bin_end": 4.6,
                        "count": 1
                      }
                    ]
                  }
                },
                {
                  "name": "Number of Pages",
                  "dtype": "float64",
                  "stats": {
                    "unique_count": 5,
                    "nan_count": 0,
                    "min": "374.0",
                    "max": "870.0",
                    "histogram": [
                      {
                        "bin_start": 374,
                        "bin_end": 423.6,
                        "count": 1
                      },
                      {
                        "bin_start": 423.6,
                        "bin_end": 473.2,
                        "count": 0
                      },
                      {
                        "bin_start": 473.2,
                        "bin_end": 522.8,
                        "count": 0
                      },
                      {
                        "bin_start": 522.8,
                        "bin_end": 572.4,
                        "count": 0
                      },
                      {
                        "bin_start": 572.4,
                        "bin_end": 622,
                        "count": 0
                      },
                      {
                        "bin_start": 622,
                        "bin_end": 671.6,
                        "count": 1
                      },
                      {
                        "bin_start": 671.6,
                        "bin_end": 721.2,
                        "count": 0
                      },
                      {
                        "bin_start": 721.2,
                        "bin_end": 770.8,
                        "count": 2
                      },
                      {
                        "bin_start": 770.8,
                        "bin_end": 820.4000000000001,
                        "count": 0
                      },
                      {
                        "bin_start": 820.4000000000001,
                        "bin_end": 870,
                        "count": 1
                      }
                    ]
                  }
                },
                {
                  "name": "Published Year",
                  "dtype": "float64",
                  "stats": {
                    "unique_count": 5,
                    "nan_count": 0,
                    "min": "2002.0",
                    "max": "2008.0",
                    "histogram": [
                      {
                        "bin_start": 2002,
                        "bin_end": 2002.6,
                        "count": 1
                      },
                      {
                        "bin_start": 2002.6,
                        "bin_end": 2003.2,
                        "count": 0
                      },
                      {
                        "bin_start": 2003.2,
                        "bin_end": 2003.8,
                        "count": 0
                      },
                      {
                        "bin_start": 2003.8,
                        "bin_end": 2004.4,
                        "count": 1
                      },
                      {
                        "bin_start": 2004.4,
                        "bin_end": 2005,
                        "count": 0
                      },
                      {
                        "bin_start": 2005,
                        "bin_end": 2005.6,
                        "count": 0
                      },
                      {
                        "bin_start": 2005.6,
                        "bin_end": 2006.2,
                        "count": 1
                      },
                      {
                        "bin_start": 2006.2,
                        "bin_end": 2006.8,
                        "count": 0
                      },
                      {
                        "bin_start": 2006.8,
                        "bin_end": 2007.4,
                        "count": 1
                      },
                      {
                        "bin_start": 2007.4,
                        "bin_end": 2008,
                        "count": 1
                      }
                    ]
                  }
                },
                {
                  "name": "Series",
                  "dtype": "float64",
                  "stats": {
                    "unique_count": 1,
                    "nan_count": 0,
                    "min": "1.0",
                    "max": "1.0",
                    "histogram": [
                      {
                        "bin_start": 0.5,
                        "bin_end": 0.6,
                        "count": 0
                      },
                      {
                        "bin_start": 0.6,
                        "bin_end": 0.7,
                        "count": 0
                      },
                      {
                        "bin_start": 0.7,
                        "bin_end": 0.8,
                        "count": 0
                      },
                      {
                        "bin_start": 0.8,
                        "bin_end": 0.9,
                        "count": 0
                      },
                      {
                        "bin_start": 0.9,
                        "bin_end": 1,
                        "count": 0
                      },
                      {
                        "bin_start": 1,
                        "bin_end": 1.1,
                        "count": 5
                      },
                      {
                        "bin_start": 1.1,
                        "bin_end": 1.2000000000000002,
                        "count": 0
                      },
                      {
                        "bin_start": 1.2000000000000002,
                        "bin_end": 1.3,
                        "count": 0
                      },
                      {
                        "bin_start": 1.3,
                        "bin_end": 1.4,
                        "count": 0
                      },
                      {
                        "bin_start": 1.4,
                        "bin_end": 1.5,
                        "count": 0
                      }
                    ]
                  }
                },
                {
                  "name": "Genres",
                  "dtype": "object",
                  "stats": {
                    "unique_count": 2,
                    "nan_count": 0,
                    "categories": [
                      {
                        "name": "['Fantasy', 'Young Adult', 'Fiction']",
                        "count": 4
                      },
                      {
                        "name": "['Young Adult', 'Fiction', 'Dystopia']",
                        "count": 1
                      }
                    ]
                  }
                },
                {
                  "name": "Awards",
                  "dtype": "object",
                  "stats": {
                    "unique_count": 5,
                    "nan_count": 0,
                    "categories": [
                      {
                        "name": "['Locus Award Nominee for Best Young Adult Novel (2008)', 'Odyssey Award Nominee (2008)', 'Audie Award (2008)', 'Books I Loved Best Yearly (BILBY) Awards for Older Readers (2008)', 'Teen Read Award Nominee for Best All-Time-Fave (2010)', 'Puddly Award for Fiction (2008)', 'Andre Norton Award (2007)', 'Carnegie Medal Nominee (2008)']",
                        "count": 1
                      },
                      {
                        "name": "['Locus Award Nominee for Best Young Adult Book (2009)', 'Georgia Peach Book Award (2009)', 'Buxtehuder Bulle (2009)', 'Golden Duck Award for Young Adult (Hal Clement Award) (2009)', \"Grand Prix de l'Imaginaire Nominee for Roman jeunesse étranger (2010)\", 'Books I Loved Best Yearly (BILBY) Awards for Older Readers (2012)', \"West Australian Young Readers' Book Award (WAYRBA) for Older Readers (2010)\", \"Red House Children's Book Award for Older Readers & Overall (2010)\", 'South Carolina Book Award for Junior and Young Adult Book (2011)', 'Charlotte Award (2010)', 'Colorado Blue Spruce Young Adult Book Award (2010)', 'Teen Buckeye Book Award (2009)', \"Pennsylvania Young Readers' Choice Award for Young Adults (2010)\", 'Rhode Island Teen Book Award (2010)', \"Dorothy Canfield Fisher Children's Book Award (2010)\", 'Evergreen Teen Book Award (2011)', 'Soaring Eagle Book Award (2009)', 'Milwaukee County Teen Book Award Nominee (2010)', 'Sakura Medal for Middle School Book (2010)', 'Michigan Library Association Thumbs Up! Award (2009)', 'Florida Teens Read (2009)', 'Deutscher Jugendliteraturpreis for Preis der Jugendjury (2010)', 'Iowa High School Book Award (2011)', 'New Mexico Land of Enchantment Award for Young Adult (2011)', 'Eliot Rosewater Indiana High School Book Award (2010)', 'The Inky Awards for Silver Inky (2009)', 'California Young Readers Medal for Young Adult (2011)', 'Lincoln Award (2011)', 'Kinderboekwinkelprijs (2010)', 'Missouri Truman Readers Award (2011)', 'CYBILS Award for Young Adult Fantasy & Science Fiction (2008)', 'Literaturpreis der Jury der jungen Leser for Jugendbuch (2010)', 'The Inky Awards Shortlist for Silver Inky (2009)', 'Prix Et-lisez-moi (2011)', 'Missouri Gateway Readers Award (2011)', 'Oklahoma Sequoyah Award for High School and Intermediate (2011)', 'Premio El Templo de las Mil Puertas for Mejor novela extranjera perteneciente a saga (2009)', \"Rebecca Caudill Young Readers' Book Award (2011)\", 'LovelyBooks Leserpreis for Fantasy (2009)', 'LovelyBooks Leserpreis for Bestes Cover/Umschlag (2009)', 'Premi Protagonista Jove for Categoria 13-14 anys (2010)']",
                        "count": 1
                      },
                      {
                        "name": "3 others",
                        "count": 3
                      }
                    ]
                  }
                },
                {
                  "name": "Places",
                  "dtype": "object",
                  "stats": {
                    "unique_count": 5,
                    "nan_count": 0,
                    "categories": [
                      {
                        "name": "[['London, England', '(United Kingdom)'], ['Hogwarts School of Witchcraft and Wizardry', '(United Kingdom)'], ['Pagford', '(United Kingdom)']]",
                        "count": 1
                      },
                      {
                        "name": "[['District 12, Panem', 'Capitol, Panem', 'Panem', '(United States)']]",
                        "count": 1
                      },
                      {
                        "name": "3 others",
                        "count": 3
                      }
                    ]
                  }
                },
                {
                  "name": "_deepnote_index_column",
                  "dtype": "int64"
                }
              ],
              "rows_top": [
                {
                  "URL": "https://www.goodreads.com/book/show/136251.Harry_Potter_and_the_Deathly_Hallows\"",
                  "Title": "Harry Potter and the Deathly Hallows (Harry Potter, #7)",
                  "Author": "J.K. Rowling",
                  "Number of Ratings": 2959601,
                  "Number of Reviews": 68457,
                  "Average Ratings": 4.6,
                  "Number of Pages": 759,
                  "Published Year": 2007,
                  "Series": 1,
                  "Genres": "['Fantasy', 'Young Adult', 'Fiction']",
                  "Awards": "['Locus Award Nominee for Best Young Adult Novel (2008)', 'Odyssey Award Nominee (2008)', 'Audie Award (2008)', 'Books I Loved Best Yearly (BILBY) Awards for Older Readers (2008)', 'Teen Read Award Nominee for Best All-Time-Fave (2010)', 'Puddly Award for Fiction (2008)', 'Andre Norton Award (2007)', 'Carnegie Medal Nominee (2008)']",
                  "Places": "[['London, England', '(United Kingdom)'], ['Hogwarts School of Witchcraft and Wizardry', '(United Kingdom)'], ['Pagford', '(United Kingdom)']]",
                  "_deepnote_index_column": 0
                },
                {
                  "URL": "https://www.goodreads.com/book/show/2767052-the-hunger-games\"",
                  "Title": "The Hunger Games (The Hunger Games, #1)",
                  "Author": "Suzanne Collins",
                  "Number of Ratings": 6685627,
                  "Number of Reviews": 175504,
                  "Average Ratings": 4.3,
                  "Number of Pages": 374,
                  "Published Year": 2008,
                  "Series": 1,
                  "Genres": "['Young Adult', 'Fiction', 'Dystopia']",
                  "Awards": "['Locus Award Nominee for Best Young Adult Book (2009)', 'Georgia Peach Book Award (2009)', 'Buxtehuder Bulle (2009)', 'Golden Duck Award for Young Adult (Hal Clement Award) (2009)', \"Grand Prix de l'Imaginaire Nominee for Roman jeunesse étranger (2010)\", 'Books I Loved Best Yearly (BILBY) Awards for Older Readers (2012)', \"West Australian Young Readers' Book Award (WAYRBA) for Older Readers (2010)\", \"Red House Children's Book Award for Older Readers & Overall (2010)\", 'South Carolina Book Award for Junior and Young Adult Book (2011)', 'Charlotte Award (2010)', 'Colorado Blue Spruce Young Adult Book Award (2010)', 'Teen Buckeye Book Award (2009)', \"Pennsylvania Young Readers' Choice Award for Young Adults (2010)\", 'Rhode Island Teen Book Award (2010)', \"Dorothy Canfield Fisher Children's Book Award (2010)\", 'Evergreen Teen Book Award (2011)', 'Soaring Eagle Book Award (2009)', 'Milwaukee County Teen Book Award Nominee (2010)', 'Sakura Medal for Middle School Book (2010)', 'Michigan Library Association Thumbs Up! Award (2009)', 'Florida Teens Read (2009)', 'Deutscher Jugendliteraturpreis for Preis der Jugendjury (2010)', 'Iowa High School Book Award (2011)', 'New Mexico Land of Enchantment Award for Young Adult (2011)', 'Eliot Rosewater Indiana High School Book Award (2010)', 'The Inky Awards for Silver Inky (2009)', 'California Young Readers Medal for Young Adult (2011)', 'Lincoln Award (2011)', 'Kinderboekwinkelprijs (2010)', 'Missouri Truman Readers Award (2011)', 'CYBILS Award for Young Adult Fantasy & Science Fiction (2008)', 'Literaturpreis der Jury der jungen Leser for Jugendbuch (2010)', 'The Inky Awards Shortlist for Silver Inky (2009)', 'Prix Et-lisez-moi (2011)', 'Missouri Gateway Readers Award (2011)', 'Oklahoma Sequoyah Award for High School and Intermediate (2011)', 'Premio El Templo de las Mil Puertas for Mejor novela extranjera perteneciente a saga (2009)', \"Rebecca Caudill Young Readers' Book Award (2011)\", 'LovelyBooks Leserpreis for Fantasy (2009)', 'LovelyBooks Leserpreis for Bestes Cover/Umschlag (2009)', 'Premi Protagonista Jove for Categoria 13-14 anys (2010)']",
                  "Places": "[['District 12, Panem', 'Capitol, Panem', 'Panem', '(United States)']]",
                  "_deepnote_index_column": 1
                },
                {
                  "URL": "https://www.goodreads.com/book/show/1.Harry_Potter_and_the_Half_Blood_Prince\"",
                  "Title": "Harry Potter and the Half-Blood Prince (Harry Potter, #6)",
                  "Author": "J.K. Rowling",
                  "Number of Ratings": 2575456,
                  "Number of Reviews": 42018,
                  "Average Ratings": 4.5,
                  "Number of Pages": 652,
                  "Published Year": 2006,
                  "Series": 1,
                  "Genres": "['Fantasy', 'Young Adult', 'Fiction']",
                  "Awards": "['Locus Award Nominee for Best Young Adult Novel (2006)', 'Audie Award for Audiobook of the Year (2006)', 'British Book of the Year (2006)']",
                  "Places": "[['Hogwarts School of Witchcraft and Wizardry', '(United Kingdom)'], ['England']]",
                  "_deepnote_index_column": 2
                },
                {
                  "URL": "https://www.goodreads.com/book/show/6.Harry_Potter_and_the_Goblet_of_Fire\"",
                  "Title": "Harry Potter and the Goblet of Fire (Harry Potter, #4)",
                  "Author": "J.K. Rowling",
                  "Number of Ratings": 2750013,
                  "Number of Reviews": 49585,
                  "Average Ratings": 4.5,
                  "Number of Pages": 734,
                  "Published Year": 2002,
                  "Series": 1,
                  "Genres": "['Fantasy', 'Young Adult', 'Fiction']",
                  "Awards": "['Hugo Award for Best Novel (2001)', \"Mythopoeic Fantasy Award for Children's Literature (2008)\", 'Publieksprijs voor het Nederlandse Boek (2001)', 'Audie Award for Solo Narration - Male (2001)', \"West Australian Young Readers' Book Award (WAYRBA) for Younger Readers (2001)\", 'Golden Archer Award for Middle/Junior High (2002)', 'Indian Paintbrush Book Award (2002)', 'Deutscher Bücherpreis for Publikumspreis', 'Corine Internationaler Buchpreis for Kinder- und Jugendbuch (2001)']",
                  "Places": "[['Hogwarts School of Witchcraft and Wizardry,\\n1994', '(United Kingdom)'], ['Scotland', 'United Kingdom']]",
                  "_deepnote_index_column": 3
                },
                {
                  "URL": "https://www.goodreads.com/book/show/2.Harry_Potter_and_the_Order_of_the_Phoenix\"",
                  "Title": "Harry Potter and the Order of the Phoenix (Harry Potter, #5)",
                  "Author": "J.K. Rowling",
                  "Number of Ratings": 2653494,
                  "Number of Reviews": 45376,
                  "Average Ratings": 4.5,
                  "Number of Pages": 870,
                  "Published Year": 2004,
                  "Series": 1,
                  "Genres": "['Fantasy', 'Young Adult', 'Fiction']",
                  "Awards": "['Bram Stoker Award for Works for Young Readers (2003)', 'Anthony Award for Young Adult (2004)', \"Mythopoeic Fantasy Award for Children's Literature (2008)\", 'Audie Award for Audiobook of the Year (2004)', 'Books I Loved Best Yearly (BILBY) Awards for Older Readers (2004)', 'Colorado Blue Spruce Young Adult Book Award (2006)', 'Golden Archer Award for Middle/Junior High (2005)', 'Deutscher Jugendliteraturpreis Nominee for Preis der Jugendjury (2004)', 'Carnegie Medal Nominee (2003)']",
                  "Places": "[['Hogwarts School of Witchcraft and Wizardry', '(United Kingdom)'], ['London, England', '(United Kingdom)']]",
                  "_deepnote_index_column": 4
                }
              ],
              "rows_bottom": null
            },
            "text/plain": "                                                 URL  \\\n0  https://www.goodreads.com/book/show/136251.Har...   \n1  https://www.goodreads.com/book/show/2767052-th...   \n2  https://www.goodreads.com/book/show/1.Harry_Po...   \n3  https://www.goodreads.com/book/show/6.Harry_Po...   \n4  https://www.goodreads.com/book/show/2.Harry_Po...   \n\n                                               Title           Author  \\\n0  Harry Potter and the Deathly Hallows (Harry Po...     J.K. Rowling   \n1            The Hunger Games (The Hunger Games, #1)  Suzanne Collins   \n2  Harry Potter and the Half-Blood Prince (Harry ...     J.K. Rowling   \n3  Harry Potter and the Goblet of Fire (Harry Pot...     J.K. Rowling   \n4  Harry Potter and the Order of the Phoenix (Har...     J.K. Rowling   \n\n   Number of Ratings  Number of Reviews  Average Ratings  Number of Pages  \\\n0          2959601.0            68457.0              4.6            759.0   \n1          6685627.0           175504.0              4.3            374.0   \n2          2575456.0            42018.0              4.5            652.0   \n3          2750013.0            49585.0              4.5            734.0   \n4          2653494.0            45376.0              4.5            870.0   \n\n   Published Year  Series                                  Genres  \\\n0          2007.0     1.0   ['Fantasy', 'Young Adult', 'Fiction']   \n1          2008.0     1.0  ['Young Adult', 'Fiction', 'Dystopia']   \n2          2006.0     1.0   ['Fantasy', 'Young Adult', 'Fiction']   \n3          2002.0     1.0   ['Fantasy', 'Young Adult', 'Fiction']   \n4          2004.0     1.0   ['Fantasy', 'Young Adult', 'Fiction']   \n\n                                              Awards  \\\n0  ['Locus Award Nominee for Best Young Adult Nov...   \n1  ['Locus Award Nominee for Best Young Adult Boo...   \n2  ['Locus Award Nominee for Best Young Adult Nov...   \n3  ['Hugo Award for Best Novel (2001)', \"Mythopoe...   \n4  ['Bram Stoker Award for Works for Young Reader...   \n\n                                              Places  \n0  [['London, England', '(United Kingdom)'], ['Ho...  \n1  [['District 12, Panem', 'Capitol, Panem', 'Pan...  \n2  [['Hogwarts School of Witchcraft and Wizardry'...  \n3  [['Hogwarts School of Witchcraft and Wizardry,...  \n4  [['Hogwarts School of Witchcraft and Wizardry'...  ",
            "text/html": "<div>\n<style scoped>\n    .dataframe tbody tr th:only-of-type {\n        vertical-align: middle;\n    }\n\n    .dataframe tbody tr th {\n        vertical-align: top;\n    }\n\n    .dataframe thead th {\n        text-align: right;\n    }\n</style>\n<table border=\"1\" class=\"dataframe\">\n  <thead>\n    <tr style=\"text-align: right;\">\n      <th></th>\n      <th>URL</th>\n      <th>Title</th>\n      <th>Author</th>\n      <th>Number of Ratings</th>\n      <th>Number of Reviews</th>\n      <th>Average Ratings</th>\n      <th>Number of Pages</th>\n      <th>Published Year</th>\n      <th>Series</th>\n      <th>Genres</th>\n      <th>Awards</th>\n      <th>Places</th>\n    </tr>\n  </thead>\n  <tbody>\n    <tr>\n      <th>0</th>\n      <td>https://www.goodreads.com/book/show/136251.Har...</td>\n      <td>Harry Potter and the Deathly Hallows (Harry Po...</td>\n      <td>J.K. Rowling</td>\n      <td>2959601.0</td>\n      <td>68457.0</td>\n      <td>4.6</td>\n      <td>759.0</td>\n      <td>2007.0</td>\n      <td>1.0</td>\n      <td>['Fantasy', 'Young Adult', 'Fiction']</td>\n      <td>['Locus Award Nominee for Best Young Adult Nov...</td>\n      <td>[['London, England', '(United Kingdom)'], ['Ho...</td>\n    </tr>\n    <tr>\n      <th>1</th>\n      <td>https://www.goodreads.com/book/show/2767052-th...</td>\n      <td>The Hunger Games (The Hunger Games, #1)</td>\n      <td>Suzanne Collins</td>\n      <td>6685627.0</td>\n      <td>175504.0</td>\n      <td>4.3</td>\n      <td>374.0</td>\n      <td>2008.0</td>\n      <td>1.0</td>\n      <td>['Young Adult', 'Fiction', 'Dystopia']</td>\n      <td>['Locus Award Nominee for Best Young Adult Boo...</td>\n      <td>[['District 12, Panem', 'Capitol, Panem', 'Pan...</td>\n    </tr>\n    <tr>\n      <th>2</th>\n      <td>https://www.goodreads.com/book/show/1.Harry_Po...</td>\n      <td>Harry Potter and the Half-Blood Prince (Harry ...</td>\n      <td>J.K. Rowling</td>\n      <td>2575456.0</td>\n      <td>42018.0</td>\n      <td>4.5</td>\n      <td>652.0</td>\n      <td>2006.0</td>\n      <td>1.0</td>\n      <td>['Fantasy', 'Young Adult', 'Fiction']</td>\n      <td>['Locus Award Nominee for Best Young Adult Nov...</td>\n      <td>[['Hogwarts School of Witchcraft and Wizardry'...</td>\n    </tr>\n    <tr>\n      <th>3</th>\n      <td>https://www.goodreads.com/book/show/6.Harry_Po...</td>\n      <td>Harry Potter and the Goblet of Fire (Harry Pot...</td>\n      <td>J.K. Rowling</td>\n      <td>2750013.0</td>\n      <td>49585.0</td>\n      <td>4.5</td>\n      <td>734.0</td>\n      <td>2002.0</td>\n      <td>1.0</td>\n      <td>['Fantasy', 'Young Adult', 'Fiction']</td>\n      <td>['Hugo Award for Best Novel (2001)', \"Mythopoe...</td>\n      <td>[['Hogwarts School of Witchcraft and Wizardry,...</td>\n    </tr>\n    <tr>\n      <th>4</th>\n      <td>https://www.goodreads.com/book/show/2.Harry_Po...</td>\n      <td>Harry Potter and the Order of the Phoenix (Har...</td>\n      <td>J.K. Rowling</td>\n      <td>2653494.0</td>\n      <td>45376.0</td>\n      <td>4.5</td>\n      <td>870.0</td>\n      <td>2004.0</td>\n      <td>1.0</td>\n      <td>['Fantasy', 'Young Adult', 'Fiction']</td>\n      <td>['Bram Stoker Award for Works for Young Reader...</td>\n      <td>[['Hogwarts School of Witchcraft and Wizardry'...</td>\n    </tr>\n  </tbody>\n</table>\n</div>"
          },
          "metadata": {}
        }
      ]
    },
    {
      "cell_type": "code",
      "metadata": {
        "tags": [],
        "cell_id": "00002-1569a56a-dec6-4a19-922c-a2cba1f95015",
        "deepnote_to_be_reexecuted": false,
        "source_hash": "de1e323c",
        "execution_millis": 23,
        "execution_start": 1618415522048,
        "deepnote_cell_type": "code"
      },
      "source": "df.info()",
      "execution_count": 27,
      "outputs": [
        {
          "name": "stdout",
          "text": "<class 'pandas.core.frame.DataFrame'>\nRangeIndex: 1000 entries, 0 to 999\nData columns (total 12 columns):\n #   Column             Non-Null Count  Dtype  \n---  ------             --------------  -----  \n 0   URL                1000 non-null   object \n 1   Title              1000 non-null   object \n 2   Author             1000 non-null   object \n 3   Number of Ratings  995 non-null    float64\n 4   Number of Reviews  995 non-null    float64\n 5   Average Ratings    978 non-null    float64\n 6   Number of Pages    992 non-null    float64\n 7   Published Year     994 non-null    float64\n 8   Series             995 non-null    float64\n 9   Genres             992 non-null    object \n 10  Awards             1000 non-null   object \n 11  Places             671 non-null    object \ndtypes: float64(6), object(6)\nmemory usage: 93.9+ KB\n",
          "output_type": "stream"
        }
      ]
    },
    {
      "cell_type": "markdown",
      "source": "We have 12 different columns which can be categorical or numerical data in our data set. Also, we can say that there are some non-values that we should take care of! Let's check how big they are.",
      "metadata": {
        "tags": [],
        "cell_id": "00006-58719b3b-a6a5-41f7-a233-4f264557265e",
        "deepnote_cell_type": "markdown"
      }
    },
    {
      "cell_type": "code",
      "metadata": {
        "tags": [],
        "cell_id": "00003-5eebbc1c-e4bd-4029-99be-c7591d9148bd",
        "deepnote_to_be_reexecuted": false,
        "source_hash": "10d37ea",
        "execution_millis": 763,
        "execution_start": 1618415524293,
        "deepnote_cell_type": "code"
      },
      "source": "#Heat map of null cells\ndef plotting_null_data():\n    fig = plt.figure(figsize=(18,7))\n    fig.add_subplot(121)\n    plt.title('Nulls of Data')\n    sns.heatmap(df.isnull(), cmap='plasma')\n    return plt.show()\nplotting_null_data()",
      "execution_count": 28,
      "outputs": [
        {
          "data": {
            "text/plain": "<Figure size 1296x504 with 2 Axes>",
            "image/png": "[encoded data removed]"
          },
          "metadata": {
            "needs_background": "light"
          },
          "output_type": "display_data"
        }
      ]
    },
    {
      "cell_type": "code",
      "metadata": {
        "tags": [],
        "cell_id": "00004-ae2faa8c-338e-462d-9920-fc15e34d2f14",
        "deepnote_to_be_reexecuted": false,
        "source_hash": "ad9b1920",
        "execution_millis": 16,
        "execution_start": 1618415525825,
        "deepnote_cell_type": "code"
      },
      "source": "print(\"Percentage of Null Values\")\nmissing_percentage = df.isnull().sum() * 100 / len(df) #Calculating percentage of missing values\nmissing_percentage",
      "execution_count": 29,
      "outputs": [
        {
          "name": "stdout",
          "text": "Percentage of Null Values\n",
          "output_type": "stream"
        },
        {
          "output_type": "execute_result",
          "execution_count": 29,
          "data": {
            "text/plain": "URL                   0.0\nTitle                 0.0\nAuthor                0.0\nNumber of Ratings     0.5\nNumber of Reviews     0.5\nAverage Ratings       2.2\nNumber of Pages       0.8\nPublished Year        0.6\nSeries                0.5\nGenres                0.8\nAwards                0.0\nPlaces               32.9\ndtype: float64"
          },
          "metadata": {}
        }
      ]
    },
    {
      "cell_type": "markdown",
      "source": "We have pretty less null value in our data set. Only \"Places\" have 32% null value.\n\nLets look at **basic statistical information** of our data set.",
      "metadata": {
        "tags": [],
        "cell_id": "00010-9a479ca3-a357-49d3-bb4a-b7baebd5ddbb",
        "deepnote_cell_type": "markdown"
      }
    },
    {
      "cell_type": "code",
      "metadata": {
        "tags": [],
        "cell_id": "00010-0e890cec-9711-4167-b872-86e450b677fe",
        "deepnote_to_be_reexecuted": false,
        "source_hash": "f88152d9",
        "execution_millis": 54,
        "execution_start": 1618415528799,
        "deepnote_cell_type": "code"
      },
      "source": "df.describe()",
      "execution_count": 30,
      "outputs": [
        {
          "output_type": "execute_result",
          "execution_count": 30,
          "data": {
            "application/vnd.deepnote.dataframe.v2+json": {
              "row_count": 8,
              "column_count": 6,
              "columns": [
                {
                  "name": "Number of Ratings",
                  "dtype": "float64",
                  "stats": {
                    "unique_count": 8,
                    "nan_count": 0,
                    "min": "15.0",
                    "max": "6685627.0",
                    "histogram": [
                      {
                        "bin_start": 15,
                        "bin_end": 668576.2,
                        "count": 7
                      },
                      {
                        "bin_start": 668576.2,
                        "bin_end": 1337137.4,
                        "count": 0
                      },
                      {
                        "bin_start": 1337137.4,
                        "bin_end": 2005698.5999999999,
                        "count": 0
                      },
                      {
                        "bin_start": 2005698.5999999999,
                        "bin_end": 2674259.8,
                        "count": 0
                      },
                      {
                        "bin_start": 2674259.8,
                        "bin_end": 3342821,
                        "count": 0
                      },
                      {
                        "bin_start": 3342821,
                        "bin_end": 4011382.1999999997,
                        "count": 0
                      },
                      {
                        "bin_start": 4011382.1999999997,
                        "bin_end": 4679943.399999999,
                        "count": 0
                      },
                      {
                        "bin_start": 4679943.399999999,
                        "bin_end": 5348504.6,
                        "count": 0
                      },
                      {
                        "bin_start": 5348504.6,
                        "bin_end": 6017065.8,
                        "count": 0
                      },
                      {
                        "bin_start": 6017065.8,
                        "bin_end": 6685627,
                        "count": 1
                      }
                    ]
                  }
                },
                {
                  "name": "Number of Reviews",
                  "dtype": "float64",
                  "stats": {
                    "unique_count": 8,
                    "nan_count": 0,
                    "min": "0.0",
                    "max": "175504.0",
                    "histogram": [
                      {
                        "bin_start": 0,
                        "bin_end": 17550.4,
                        "count": 7
                      },
                      {
                        "bin_start": 17550.4,
                        "bin_end": 35100.8,
                        "count": 0
                      },
                      {
                        "bin_start": 35100.8,
                        "bin_end": 52651.200000000004,
                        "count": 0
                      },
                      {
                        "bin_start": 52651.200000000004,
                        "bin_end": 70201.6,
                        "count": 0
                      },
                      {
                        "bin_start": 70201.6,
                        "bin_end": 87752,
                        "count": 0
                      },
                      {
                        "bin_start": 87752,
                        "bin_end": 105302.40000000001,
                        "count": 0
                      },
                      {
                        "bin_start": 105302.40000000001,
                        "bin_end": 122852.80000000002,
                        "count": 0
                      },
                      {
                        "bin_start": 122852.80000000002,
                        "bin_end": 140403.2,
                        "count": 0
                      },
                      {
                        "bin_start": 140403.2,
                        "bin_end": 157953.6,
                        "count": 0
                      },
                      {
                        "bin_start": 157953.6,
                        "bin_end": 175504,
                        "count": 1
                      }
                    ]
                  }
                },
                {
                  "name": "Average Ratings",
                  "dtype": "float64",
                  "stats": {
                    "unique_count": 8,
                    "nan_count": 0,
                    "min": "0.2533456403740034",
                    "max": "978.0",
                    "histogram": [
                      {
                        "bin_start": 0.2533456403740034,
                        "bin_end": 98.0280110763366,
                        "count": 7
                      },
                      {
                        "bin_start": 98.0280110763366,
                        "bin_end": 195.80267651229917,
                        "count": 0
                      },
                      {
                        "bin_start": 195.80267651229917,
                        "bin_end": 293.5773419482618,
                        "count": 0
                      },
                      {
                        "bin_start": 293.5773419482618,
                        "bin_end": 391.35200738422435,
                        "count": 0
                      },
                      {
                        "bin_start": 391.35200738422435,
                        "bin_end": 489.1266728201869,
                        "count": 0
                      },
                      {
                        "bin_start": 489.1266728201869,
                        "bin_end": 586.9013382561496,
                        "count": 0
                      },
                      {
                        "bin_start": 586.9013382561496,
                        "bin_end": 684.6760036921122,
                        "count": 0
                      },
                      {
                        "bin_start": 684.6760036921122,
                        "bin_end": 782.4506691280748,
                        "count": 0
                      },
                      {
                        "bin_start": 782.4506691280748,
                        "bin_end": 880.2253345640373,
                        "count": 0
                      },
                      {
                        "bin_start": 880.2253345640373,
                        "bin_end": 978,
                        "count": 1
                      }
                    ]
                  }
                },
                {
                  "name": "Number of Pages",
                  "dtype": "float64",
                  "stats": {
                    "unique_count": 8,
                    "nan_count": 0,
                    "min": "6.0",
                    "max": "4100.0",
                    "histogram": [
                      {
                        "bin_start": 6,
                        "bin_end": 415.4,
                        "count": 5
                      },
                      {
                        "bin_start": 415.4,
                        "bin_end": 824.8,
                        "count": 1
                      },
                      {
                        "bin_start": 824.8,
                        "bin_end": 1234.1999999999998,
                        "count": 1
                      },
                      {
                        "bin_start": 1234.1999999999998,
                        "bin_end": 1643.6,
                        "count": 0
                      },
                      {
                        "bin_start": 1643.6,
                        "bin_end": 2053,
                        "count": 0
                      },
                      {
                        "bin_start": 2053,
                        "bin_end": 2462.3999999999996,
                        "count": 0
                      },
                      {
                        "bin_start": 2462.3999999999996,
                        "bin_end": 2871.7999999999997,
                        "count": 0
                      },
                      {
                        "bin_start": 2871.7999999999997,
                        "bin_end": 3281.2,
                        "count": 0
                      },
                      {
                        "bin_start": 3281.2,
                        "bin_end": 3690.6,
                        "count": 0
                      },
                      {
                        "bin_start": 3690.6,
                        "bin_end": 4100,
                        "count": 1
                      }
                    ]
                  }
                },
                {
                  "name": "Published Year",
                  "dtype": "float64",
                  "stats": {
                    "unique_count": 8,
                    "nan_count": 0,
                    "min": "2.640259616050403",
                    "max": "2018.0",
                    "histogram": [
                      {
                        "bin_start": 2.640259616050403,
                        "bin_end": 204.17623365444535,
                        "count": 1
                      },
                      {
                        "bin_start": 204.17623365444535,
                        "bin_end": 405.7122076928403,
                        "count": 0
                      },
                      {
                        "bin_start": 405.7122076928403,
                        "bin_end": 607.2481817312354,
                        "count": 0
                      },
                      {
                        "bin_start": 607.2481817312354,
                        "bin_end": 808.7841557696303,
                        "count": 0
                      },
                      {
                        "bin_start": 808.7841557696303,
                        "bin_end": 1010.3201298080252,
                        "count": 1
                      },
                      {
                        "bin_start": 1010.3201298080252,
                        "bin_end": 1211.8561038464202,
                        "count": 0
                      },
                      {
                        "bin_start": 1211.8561038464202,
                        "bin_end": 1413.392077884815,
                        "count": 0
                      },
                      {
                        "bin_start": 1413.392077884815,
                        "bin_end": 1614.92805192321,
                        "count": 0
                      },
                      {
                        "bin_start": 1614.92805192321,
                        "bin_end": 1816.4640259616049,
                        "count": 0
                      },
                      {
                        "bin_start": 1816.4640259616049,
                        "bin_end": 2018,
                        "count": 6
                      }
                    ]
                  }
                },
                {
                  "name": "Series",
                  "dtype": "float64",
                  "stats": {
                    "unique_count": 5,
                    "nan_count": 0,
                    "min": "0.0",
                    "max": "995.0",
                    "histogram": [
                      {
                        "bin_start": 0,
                        "bin_end": 99.5,
                        "count": 7
                      },
                      {
                        "bin_start": 99.5,
                        "bin_end": 199,
                        "count": 0
                      },
                      {
                        "bin_start": 199,
                        "bin_end": 298.5,
                        "count": 0
                      },
                      {
                        "bin_start": 298.5,
                        "bin_end": 398,
                        "count": 0
                      },
                      {
                        "bin_start": 398,
                        "bin_end": 497.5,
                        "count": 0
                      },
                      {
                        "bin_start": 497.5,
                        "bin_end": 597,
                        "count": 0
                      },
                      {
                        "bin_start": 597,
                        "bin_end": 696.5,
                        "count": 0
                      },
                      {
                        "bin_start": 696.5,
                        "bin_end": 796,
                        "count": 0
                      },
                      {
                        "bin_start": 796,
                        "bin_end": 895.5,
                        "count": 0
                      },
                      {
                        "bin_start": 895.5,
                        "bin_end": 995,
                        "count": 1
                      }
                    ]
                  }
                },
                {
                  "name": "_deepnote_index_column",
                  "dtype": "object"
                }
              ],
              "rows_top": [
                {
                  "Number of Ratings": 995,
                  "Number of Reviews": 995,
                  "Average Ratings": 978,
                  "Number of Pages": 992,
                  "Published Year": 994,
                  "Series": 995,
                  "_deepnote_index_column": "count"
                },
                {
                  "Number of Ratings": 181578.68040201004,
                  "Number of Reviews": 7786.791959798995,
                  "Average Ratings": 3.929345603271983,
                  "Number of Pages": 412.304435483871,
                  "Published Year": 2006.0533199195172,
                  "Series": 0.5105527638190954,
                  "_deepnote_index_column": "mean"
                },
                {
                  "Number of Ratings": 426919.2665828331,
                  "Number of Reviews": 13021.106839199298,
                  "Average Ratings": 0.2533456403740034,
                  "Number of Pages": 216.89270636690463,
                  "Published Year": 2.640259616050403,
                  "Series": 0.5001400165924359,
                  "_deepnote_index_column": "std"
                },
                {
                  "Number of Ratings": 15,
                  "Number of Reviews": 0,
                  "Average Ratings": 3,
                  "Number of Pages": 6,
                  "Published Year": 1998,
                  "Series": 0,
                  "_deepnote_index_column": "min"
                },
                {
                  "Number of Ratings": 29898,
                  "Number of Reviews": 1796,
                  "Average Ratings": 3.8,
                  "Number of Pages": 302,
                  "Published Year": 2004,
                  "Series": 0,
                  "_deepnote_index_column": "25%"
                },
                {
                  "Number of Ratings": 71964,
                  "Number of Reviews": 3669,
                  "Average Ratings": 3.9,
                  "Number of Pages": 374,
                  "Published Year": 2006,
                  "Series": 1,
                  "_deepnote_index_column": "50%"
                },
                {
                  "Number of Ratings": 156709.5,
                  "Number of Reviews": 7983,
                  "Average Ratings": 4.1,
                  "Number of Pages": 472.25,
                  "Published Year": 2008,
                  "Series": 1,
                  "_deepnote_index_column": "75%"
                },
                {
                  "Number of Ratings": 6685627,
                  "Number of Reviews": 175504,
                  "Average Ratings": 4.8,
                  "Number of Pages": 4100,
                  "Published Year": 2018,
                  "Series": 1,
                  "_deepnote_index_column": "max"
                }
              ],
              "rows_bottom": null
            },
            "text/plain": "       Number of Ratings  Number of Reviews  Average Ratings  Number of Pages  \\\ncount       9.950000e+02         995.000000       978.000000       992.000000   \nmean        1.815787e+05        7786.791960         3.929346       412.304435   \nstd         4.269193e+05       13021.106839         0.253346       216.892706   \nmin         1.500000e+01           0.000000         3.000000         6.000000   \n25%         2.989800e+04        1796.000000         3.800000       302.000000   \n50%         7.196400e+04        3669.000000         3.900000       374.000000   \n75%         1.567095e+05        7983.000000         4.100000       472.250000   \nmax         6.685627e+06      175504.000000         4.800000      4100.000000   \n\n       Published Year      Series  \ncount       994.00000  995.000000  \nmean       2006.05332    0.510553  \nstd           2.64026    0.500140  \nmin        1998.00000    0.000000  \n25%        2004.00000    0.000000  \n50%        2006.00000    1.000000  \n75%        2008.00000    1.000000  \nmax        2018.00000    1.000000  ",
            "text/html": "<div>\n<style scoped>\n    .dataframe tbody tr th:only-of-type {\n        vertical-align: middle;\n    }\n\n    .dataframe tbody tr th {\n        vertical-align: top;\n    }\n\n    .dataframe thead th {\n        text-align: right;\n    }\n</style>\n<table border=\"1\" class=\"dataframe\">\n  <thead>\n    <tr style=\"text-align: right;\">\n      <th></th>\n      <th>Number of Ratings</th>\n      <th>Number of Reviews</th>\n      <th>Average Ratings</th>\n      <th>Number of Pages</th>\n      <th>Published Year</th>\n      <th>Series</th>\n    </tr>\n  </thead>\n  <tbody>\n    <tr>\n      <th>count</th>\n      <td>9.950000e+02</td>\n      <td>995.000000</td>\n      <td>978.000000</td>\n      <td>992.000000</td>\n      <td>994.00000</td>\n      <td>995.000000</td>\n    </tr>\n    <tr>\n      <th>mean</th>\n      <td>1.815787e+05</td>\n      <td>7786.791960</td>\n      <td>3.929346</td>\n      <td>412.304435</td>\n      <td>2006.05332</td>\n      <td>0.510553</td>\n    </tr>\n    <tr>\n      <th>std</th>\n      <td>4.269193e+05</td>\n      <td>13021.106839</td>\n      <td>0.253346</td>\n      <td>216.892706</td>\n      <td>2.64026</td>\n      <td>0.500140</td>\n    </tr>\n    <tr>\n      <th>min</th>\n      <td>1.500000e+01</td>\n      <td>0.000000</td>\n      <td>3.000000</td>\n      <td>6.000000</td>\n      <td>1998.00000</td>\n      <td>0.000000</td>\n    </tr>\n    <tr>\n      <th>25%</th>\n      <td>2.989800e+04</td>\n      <td>1796.000000</td>\n      <td>3.800000</td>\n      <td>302.000000</td>\n      <td>2004.00000</td>\n      <td>0.000000</td>\n    </tr>\n    <tr>\n      <th>50%</th>\n      <td>7.196400e+04</td>\n      <td>3669.000000</td>\n      <td>3.900000</td>\n      <td>374.000000</td>\n      <td>2006.00000</td>\n      <td>1.000000</td>\n    </tr>\n    <tr>\n      <th>75%</th>\n      <td>1.567095e+05</td>\n      <td>7983.000000</td>\n      <td>4.100000</td>\n      <td>472.250000</td>\n      <td>2008.00000</td>\n      <td>1.000000</td>\n    </tr>\n    <tr>\n      <th>max</th>\n      <td>6.685627e+06</td>\n      <td>175504.000000</td>\n      <td>4.800000</td>\n      <td>4100.000000</td>\n      <td>2018.00000</td>\n      <td>1.000000</td>\n    </tr>\n  </tbody>\n</table>\n</div>"
          },
          "metadata": {}
        }
      ]
    },
    {
      "cell_type": "markdown",
      "source": "Here is the results;\n* The mean value and maximum and minimum values of the **Number of Ratings** differences are too big! That means we should **normalize** this column.\n* The mean value and maximum and minimum values of the **Number of Reviews** differences are too big! That means we should **normalize** this column.\n* The mean value and maximum and minimum values of the **Average Ratings** differences are too close! That means we should **scale** this column, for better visualizing and understanding the distributions.\n* The mean value and maximum and minimum values of the **Number of Pages** differences are too big! That means we should **normalize** this column.\n* We can count **Year** and **Series** columns as **categorical** data. \n",
      "metadata": {
        "tags": [],
        "cell_id": "00012-598c374f-8b4b-4f45-959a-29d7abb874c9",
        "deepnote_cell_type": "markdown"
      }
    },
    {
      "cell_type": "markdown",
      "source": "#### Pre-Visualisation",
      "metadata": {
        "tags": [],
        "cell_id": "00015-17c56545-030c-4f22-b04d-b0b3a4ffb3aa",
        "deepnote_cell_type": "markdown"
      }
    },
    {
      "cell_type": "code",
      "source": "",
      "metadata": {
        "tags": [],
        "cell_id": "00016-56d97701-8073-4de4-bc3c-3463661a9409",
        "deepnote_cell_type": "code"
      },
      "outputs": [],
      "execution_count": null
    },
    {
      "cell_type": "markdown",
      "source": "### 2.Cleaning Data Set",
      "metadata": {
        "tags": [],
        "cell_id": "00019-a58f0bba-47c6-4ac3-b8f3-a32d76b74f6a",
        "deepnote_cell_type": "markdown"
      }
    },
    {
      "cell_type": "markdown",
      "source": "#### Filling the null data \nThere are a lot of approaches for filling the data.\n* For filling numerical data we will use mean values \n* For filling categorical data we will use mode values\n\n**Filling numerical data**\n",
      "metadata": {
        "tags": [],
        "cell_id": "00020-02c868c7-b14e-4daf-bfb5-0f8e3ca33edc",
        "deepnote_cell_type": "markdown"
      }
    },
    {
      "cell_type": "code",
      "metadata": {
        "tags": [],
        "cell_id": "00015-7968718a-417a-438e-b867-81c8138f9ae3",
        "deepnote_to_be_reexecuted": false,
        "source_hash": "c6846916",
        "execution_millis": 17,
        "execution_start": 1618415324542,
        "deepnote_cell_type": "code"
      },
      "source": "#Filling numerical data of Number of Ratings\ndf['Number of Ratings'] = df['Number of Ratings'].fillna(df['Number of Ratings'].mean())\n#Filling numerical data of Number of Reviews\ndf['Number of Reviews'] = df['Number of Reviews'].fillna(df['Number of Reviews'].mean())\n#Filling numerical data of Average Ratings\ndf['Average Ratings'] = df['Average Ratings'].fillna(df['Average Ratings'].mean())\n#Filling numerical data of Number of Pages\ndf['Number of Pages'] = df['Number of Pages'].fillna(df['Number of Pages'].mean())",
      "execution_count": 8,
      "outputs": []
    },
    {
      "cell_type": "markdown",
      "source": "**Filling categorical data**",
      "metadata": {
        "tags": [],
        "cell_id": "00022-1dee8786-eaa7-4e08-b8ac-449e55d151ec",
        "deepnote_cell_type": "markdown"
      }
    },
    {
      "cell_type": "code",
      "metadata": {
        "tags": [],
        "cell_id": "00023-392f3b8b-90d0-4c14-8fbf-0b84fda67ded",
        "deepnote_to_be_reexecuted": false,
        "source_hash": "268d2db4",
        "execution_millis": 1,
        "execution_start": 1618415324559,
        "deepnote_cell_type": "code"
      },
      "source": "#Filling categorical data of Published Year\ndf['Published Year'] = df['Published Year'].fillna(df['Published Year'].mode()[0])\n#Filling categorical data of Series\ndf['Series'] = df['Series'].fillna(df['Series'].mode()[0])\n#Filling categorical data of Genres\ndf['Genres'] = df['Genres'].fillna(df['Genres'].mode())\n#Filling categorical data of Places\ndf['Places'] = df['Places'].fillna(df['Places'].mode()[0])",
      "execution_count": 9,
      "outputs": []
    },
    {
      "cell_type": "markdown",
      "source": "Lets look at last status of data set",
      "metadata": {
        "tags": [],
        "cell_id": "00024-db3c4ef6-c0fa-496e-8d30-a22c7fb55b47",
        "deepnote_cell_type": "markdown"
      }
    },
    {
      "cell_type": "code",
      "metadata": {
        "tags": [],
        "cell_id": "00024-e1a50981-e37d-4be8-8b46-257c6a8d4e07",
        "deepnote_to_be_reexecuted": false,
        "source_hash": "a6372c8d",
        "execution_millis": 149,
        "execution_start": 1618415324560,
        "deepnote_cell_type": "code"
      },
      "source": "print(\"Percentage of Updated Null Values\")\nmissing_percentage_updated = df.isnull().sum() * 100 / len(df) #Calculating percentage of missing values\nmissing_percentage_updated",
      "execution_count": 10,
      "outputs": [
        {
          "name": "stdout",
          "text": "Percentage of Updated Null Values\n",
          "output_type": "stream"
        },
        {
          "output_type": "execute_result",
          "execution_count": 10,
          "data": {
            "text/plain": "URL                  0.0\nTitle                0.0\nAuthor               0.0\nNumber of Ratings    0.0\nNumber of Reviews    0.0\nAverage Ratings      0.0\nNumber of Pages      0.0\nPublished Year       0.0\nSeries               0.0\nGenres               0.8\nAwards               0.0\nPlaces               0.0\ndtype: float64"
          },
          "metadata": {}
        }
      ]
    },
    {
      "cell_type": "markdown",
      "source": "Now we don't have any missing values!\n\n",
      "metadata": {
        "tags": [],
        "cell_id": "00021-fe46f6b3-5269-4d82-b96f-0f60fb3da675",
        "deepnote_cell_type": "markdown"
      }
    },
    {
      "cell_type": "markdown",
      "source": "### Data Cleaning\nWe need to interest with empty brackets and format problems\n\nLets create general pattern of regex used for cleaning the data\n\nThese scripts clean the string data in the Dataframe and makes the usable for data analysis",
      "metadata": {
        "tags": [],
        "cell_id": "00021-59e13001-bafd-4000-a7a8-e19969f33082",
        "deepnote_cell_type": "markdown"
      }
    },
    {
      "cell_type": "code",
      "source": "pattern = re.compile(r'(\\[|\\]|\\'|\\\")+')\npattern2 = re.compile(r'(\\\\n|...more)+')",
      "metadata": {
        "tags": [],
        "cell_id": "00022-bdce798a-a6be-4cf7-beab-077380533c74",
        "deepnote_to_be_reexecuted": false,
        "source_hash": "bee38404",
        "execution_millis": 1,
        "execution_start": 1618415324590,
        "deepnote_cell_type": "code"
      },
      "outputs": [],
      "execution_count": 11
    },
    {
      "cell_type": "markdown",
      "source": "Creating a new column with the no. of awards won by a book. \n",
      "metadata": {
        "tags": [],
        "cell_id": "00023-0d1ec164-5e42-42b2-bb7d-afed3746f745",
        "deepnote_cell_type": "markdown"
      }
    },
    {
      "cell_type": "code",
      "source": "awards_no = []\n\nfor i, j in df['Awards'].items():\n    if j is np.nan:\n        j = np.nan\n    else:\n        j = re.sub(pattern, '', j)\n        if len(j) > 5:\n            j = re.sub(pattern2, ',', j).split(',')\n            j = len(j)\n        else:\n            j = np.nan\n    awards_no.append(j)\n\n\ndf['Awards_no'] = awards_no",
      "metadata": {
        "tags": [],
        "cell_id": "00023-ac0b59f8-017f-4b2e-a16d-b72b4be368d7",
        "deepnote_to_be_reexecuted": false,
        "source_hash": "264f0e24",
        "execution_millis": 3,
        "execution_start": 1618415324592,
        "deepnote_cell_type": "code"
      },
      "outputs": [],
      "execution_count": 12
    },
    {
      "cell_type": "markdown",
      "source": "Modifying the Genres column values to make in to a list.\n",
      "metadata": {
        "tags": [],
        "cell_id": "00025-9e2f5e2d-3b25-4351-84ba-667aa1c19921",
        "deepnote_cell_type": "markdown"
      }
    },
    {
      "cell_type": "code",
      "source": "genres_l = []\ngenres_freq = {}\nfor i, j in df['Genres'].items():\n    j = re.sub(pattern, '', str(j)).split(',')\n    for word in j:\n        if word in genres_freq:\n            genres_freq[word] += 1\n        else:\n            genres_freq[word] = 1\n    genres_l.append(j)\n\ndf['Genres'] = genres_l\nprint(genres_freq)\n",
      "metadata": {
        "tags": [],
        "cell_id": "00026-5bd02758-0359-43fe-9e48-984b4351091b",
        "deepnote_to_be_reexecuted": false,
        "source_hash": "720716c3",
        "execution_millis": 88,
        "execution_start": 1618415324621,
        "deepnote_cell_type": "code"
      },
      "outputs": [
        {
          "name": "stdout",
          "text": "{'Fantasy': 199, ' Young Adult': 147, ' Fiction': 366, 'Young Adult': 94, ' Dystopia': 26, 'Historical Fiction': 74, 'Fiction': 280, ' Romance': 72, ' Fantasy': 112, 'nan': 8, ' Historical Fiction': 105, ' Historical': 34, ' Contemporary': 104, ' Mystery': 71, ' Thriller': 46, ' Classics': 3, ' Science Fiction': 49, ' Chick Lit': 27, ' Mythology': 9, 'Nonfiction': 88, ' Memoir': 42, ' Biography': 30, ' Urban Fantasy': 25, ' Paranormal': 63, ' Inspirational': 2, ' Travel': 5, ' Epic Fantasy': 18, ' Literary Fiction': 11, ' Novels': 27, ' History': 23, ' True Crime': 5, ' Humor': 49, ' China': 8, ' Vampires': 33, ' Horror': 15, ' Economics': 6, ' Business': 9, ' Magical Realism': 10, ' Adult Fiction': 7, ' India': 9, 'Graphic Novels': 16, ' Nonfiction': 54, ' Animals': 7, 'Memoir': 7, ' Crime': 22, ' Literature': 10, ' Christian': 2, ' Christian Fiction': 1, ' Africa': 16, ' Food': 9, ' Science': 9, ' Holocaust': 3, 'Horror': 19, ' Dogs': 2, ' Psychology': 7, ' Health': 4, 'History': 21, 'Mystery': 67, ' Comedy': 1, ' Scandinavian Literature': 2, 'Science Fiction': 15, ' Philosophy': 6, ' Ireland': 4, 'Romance': 16, ' Contemporary Romance': 2, 'Urban Fantasy': 20, 'Politics': 2, 'Vampires': 13, ' German Literature': 2, 'Thriller': 3, 'Biography': 2, 'Steampunk': 3, ' Nature': 2, ' Japan': 6, ' Sports': 6, ' Cyberpunk': 3, ' Asia': 2, ' Fairy Tales': 5, ' Middle Grade': 5, ' Magic': 11, ' Politics': 13, ' LGBT': 7, 'Humor': 9, ' Comics': 15, ' Poetry': 2, 'Christian': 1, ' Faith': 1, 'Counter Culture': 1, ' About Brian Celio': 1, ' Canada': 9, ' Dragons': 7, ' Sociology': 3, ' Mystery Thriller': 2, ' Childrens': 20, 'Chick Lit': 13, ' Environment': 1, 'Short Stories': 6, ' Queer': 1, ' Short Stories': 9, ' Zombies': 5, ' Southern': 1, ' Civil War': 3, ' Paranormal Romance': 5, 'Psychology': 2, ' American History': 4, ' Adult': 3, ' Religion': 8, 'Paranormal': 4, 'Paranormal Romance': 2, 'Comics': 1, ' Graphic Novels': 1, ' Time Travel': 1, ' War': 5, ' Italian Literature': 1, ' American': 3, ' Plays': 2, ' Science Fiction Fantasy': 1, ' Parenting': 1, ' Irish Literature': 2, ' About Ann Finding': 1, ' followers': 2, ' Books About Books': 1, ' Adventure': 6, 'Africa': 1, ' Self Help': 2, 'Poetry': 1, ' France': 5, ' African American': 3, ' Italy': 1, ' Essays': 3, 'Picture Books': 2, ' Realistic Fiction': 3, 'Sports': 1, ' High Fantasy': 2, ' About T. Rafael Cimino': 1, ' Adoption': 1, ' Japanese Literature': 2, ' Medicine': 1, ' Egypt': 1, ' Book Club': 2, ' Latin American': 1, ' Coming Of Age': 1, ' New York': 2, ' Jewish': 1, 'Feminism': 1, 'Travel': 1, ' Baseball': 1, ' Espionage': 1, ' Spirituality': 1, 'LGBT': 1, ' Finnish Literature': 1, ' Portugal': 1, ' Spain': 1, ' Russia': 1, ' Space Opera': 4, ' About Jonathan Culver': 1, 'Religion': 1, ' World War II': 4, ' Finance': 1, ' Writing': 2, ' Language': 1, ' British Literature': 1, ' Alternate History': 1, ' Israel': 1, ' Education': 1, 'Music': 3, ' Greece': 1, ' Military Fiction': 2, ' Suspense': 1, 'Science': 2, ' Physics': 1, ' Hugo Awards': 1, ' Australia': 2, ' Iran': 1, ' Evolution': 1}\n",
          "output_type": "stream"
        }
      ],
      "execution_count": 13
    },
    {
      "cell_type": "markdown",
      "source": "Cleaning the Setting data and makes it usable.",
      "metadata": {
        "tags": [],
        "cell_id": "00027-30191888-b4c7-4f47-97e2-098242b5575b",
        "deepnote_cell_type": "markdown"
      }
    },
    {
      "cell_type": "code",
      "source": "places = []\nplaces_freq = {}\nfor i, j in df['Places'].items():\n    if j is np.nan:\n        j = np.nan\n    elif len(j) > 5:\n        j = re.sub(pattern2, '', j)\n        j = re.sub(pattern, '', j).strip('').split(',')\n        for word in j:\n            if word in places_freq:\n                places_freq[word] += 1\n            else:\n                places_freq[word] = 1\n    else:\n        j = np.nan\n    places.append(j)\n\ndf['Places'] = places\nprint(places_freq)",
      "metadata": {
        "tags": [],
        "cell_id": "00028-b9fd4487-dadf-4192-a4a5-850a6c95de65",
        "deepnote_to_be_reexecuted": false,
        "source_hash": "7dc40770",
        "execution_millis": 46,
        "execution_start": 1618415324663,
        "deepnote_cell_type": "code"
      },
      "outputs": [
        {
          "name": "stdout",
          "text": "{'London': 23, ' England': 82, ' (United Kingdom)': 74, ' Hogwarts School of Witchcraft and Wizardry': 1, ' Pagford': 1, 'District 12': 2, ' Panem': 6, ' Capitol': 2, ' (United States)': 519, 'Hogwarts School of Witchcraft and Wizardry': 3, '1994': 1, ' Scotland': 6, ' United Kingdom': 5, ' London': 21, 'Molching': 1, '1939': 2, ' (Germany)': 15, ' Germany': 2, 'Chicago': 17, ' Illinois': 31, 'United States of America': 395, 'Jackson': 2, ' Mississippi': 5, '1962': 3, ' Jackson': 1, 'Afghanistan': 1, ' Kabul': 1, ' (Afghanistan)': 4, ' Herat': 1, 'Forks': 4, ' Washington': 22, ' Phoenix': 2, ' Arizona': 5, ' Washington (state)': 9, ' Joliet': 1, '1932': 2, ' Ithaca': 1, ' New York': 67, 'Stockholm': 5, ' (Sweden)': 9, ' Hedeby Island': 1, ' Hedestad': 1, ' Stockholm': 1, ' Sweden': 4, ' …less': 50, 'Pacific Ocean': 1, ' Pondicherry': 1, ' (India)': 8, ' Toronto': 3, ' Ontario': 7, ' (Canada)': 19, ' Tomatlan': 1, ' (Mexico)': 10, 'Paris': 9, ' (France)': 25, ' France': 3, 'England': 12, 'Philadelphia': 3, ' Pennsylvania': 14, '1973': 3, ' United States of America': 2, 'Swindon': 1, '1999': 6, ' South Carolina': 7, ' Tiburon': 1, '1964': 2, 'Bursa': 1, ' (Turkey)': 4, ' Izmir': 1, ' Detroit': 2, ' Michigan': 4, ' Berlin': 4, ' Providence': 1, ' Rhode Island': 2, 'New York City': 20, ' Montauk': 1, ' New Jersey': 16, ' St. Louis': 2, ' Missouri': 7, ' Las Vegas': 3, ' Nevada': 5, ' Long Island': 2, ' West Virginia': 1, ' La Push': 2, 'Spain': 3, ' Barcelona': 3, ' Catalonia': 4, ' (Spain)': 6, 'Rome': 1, ' (Italy)': 18, ' Vatican City': 1, ' Italy': 3, ' Chicago': 5, ' Chattanooga': 1, ' Tennessee': 6, ' Minnesota': 4, ' Wisconsin': 4, ' Volterra': 1, 'Arizona': 1, ' ': 2851, ' Other Editions (183)': 1, ' All Editions': 239, '  | ': 478, ' Add a New Edition': 239, ' Combine': 239, '2007': 5, '2003': 5, ' Dresden': 2, '1945': 1, 'Alabama': 1, 'Hailsham': 1, ' Norfolk': 1, ' The Cottages': 1, ' Kingsfield': 1, 'United Kingdom': 21, '1946': 2, '     Guernsey': 1, 'Italy': 5, ' India': 3, ' Bali': 2, ' (Indonesia)': 2, 'Angelfield': 1, 'Brooklyn': 4, ' New York City': 22, ' Prague (Praha)': 2, ' (Czech Republic)': 4, ' New York State': 10, ' Flatbush': 1, ' Brooklyn': 2, 'Westminster Palace': 1, '1521': 1, 'Alagaësia': 3, ' Raleigh': 1, ' North Carolina': 29, 'Westeros': 1, ' Essos': 1, 'Hunan': 1, ' (China)': 6, ' China': 3, 'Europe': 1, '1974': 3, '     Amsterdam': 1, ' (Netherlands)': 1, ' Gothenburg': 1, 'Chatham Islands': 1, ' (New Zealand)': 1, ' Neerbeke': 1, ' West Vlaanderen': 1, ' (Belgium)': 3, ' Buenas Yerbas': 1, ' Seoul': 1, ' South Korea': 1, ' (Korea': 3, ' Republic of)': 2, ' Maui': 1, ' Hawaii': 1, 'Montana': 4, ' Other Editions (137)': 2, ' Old Town': 1, '1806': 1, 'Takamatsu': 1, ' (Japan)': 8, 'Ukraine': 2, ' Trochenbrod': 1, ' (Ukraine)': 8, ' Odessa': 1, ' Lviv': 1, '(Pakistan)': 1, 'Pittsburgh': 1, '1970': 3, ' Lexington': 1, ' Kentucky': 4, ' Paris': 10, '1988': 1, ' Other Editions (117)': 1, 'Dominican Republic': 2, ' Washington Heights': 1, ' Paterson': 1, ' Rutgers University': 1, ' New Brunswick': 1, ' New Jersey (United States)': 1, ' Santo Domingo': 1, ' (Dominican Republic)': 3, ' Baní': 1, ' Samaná': 1, ' Santiago': 1, ' Dominican Republic': 1, 'Iran': 2, ' Islamic Republic of': 2, ' Tehran': 4, '1980': 4, ' (Iran)': 5, ' Persia': 1, 'Seattle': 8, ' Other Editions (120)': 1, 'St. Jude': 1, ' Terrell County': 1, ' Texas': 10, 'Canada': 2, '     Toronto': 1, ' Southwest Ontario': 1, '1914': 1, 'Kingsbridge': 1, ' Other Editions (189)': 1, ' Oregon': 4, 'Addis Ababa': 1, ' (Ethiopia)': 1, ' Madras': 1, ' Kochi': 1, ' Aden': 1, ' (Yemen)': 1, ' Djibouti': 1, ' Asmara': 1, ' (Eritrea)': 1, ' Khartoum': 1, ' (Sudan)': 1, ' Nairobi': 1, ' (Kenya)': 2, ' Boston': 3, ' Massachusetts': 18, ' Rome': 2, ' Slonim': 1, ' (Poland)': 8, '1942': 3, '2002': 3, ' Other Editions (146)': 1, 'Bombay': 1, ' Afghanistan': 1, ' Australia': 2, 'India': 3, 'Maine': 2, 'Mellen': 1, ' Pusan': 1, '1952': 1, 'Willesden': 1, ' North London': 1, '1895': 2, '     London': 2, 'Colorado Springs': 1, ' Colorado': 8, 'Manhattan': 4, 'Boston': 7, ' Philadelphia': 3, ' Florida': 9, 'California': 3, ' Valparaíso': 1, ' (Chile)': 1, 'Eyam': 1, ' Derbyshire': 1, '1666': 1, 'Miami': 2, ' Atlantic Ocean': 1, ' Bermuda Triangle': 1, '2006': 2, ' Other Editions (31)': 1, 'Sudan': 1, ' Ethiopia': 1, ' Kakuma': 1, ' Marial Bai': 1, ' (South Sudan)': 1, 'Alera': 1, ' Other Editions (42)': 4, 'Barrayar': 1, 'France': 6, '1944': 6, '     Reims': 1, '         …less': 2, 'Trenton': 6, ' Other Editions (74)': 8, 'Mexico': 2, 'Massachusetts': 4, 'Big Stone Gap': 1, ' Virginia': 7, ' Other Editions (67)': 2, 'Viscos': 1, ' Other Editions (214)': 1, 'Temptation': 1, ' Ohio': 18, ' Ames': 1, ' Iowa': 6, 'New York State': 6, ' Florence': 3, ' Other Editions (75)': 3, ' Other Editions (4)': 3, 'Morganville': 7, ' Other Editions (44)': 4, 'Tokyo': 4, '1984': 2, ' Other Editions (51)': 6, 'Rwanda': 1, 'Wyoming': 1, ' Other Editions (26)': 2, '1940': 4, 'Los Angeles': 8, ' California': 37, ' Vancouver': 1, ' British Columbia': 3, 'Burma': 1, ' Myanmar': 1, ' Other Editions (63)': 5, 'Salem': 2, '1692': 1, 'Scotland': 1, ' The Underland': 1, 'Toronto': 3, ' Maine': 10, ' Trinity': 1, ' Other Editions (5)': 1, 'Cincinnati': 4, ' Other Editions (29)': 3, ' Other Editions (56)': 3, 'Tucson': 1, ' Otherworld': 1, ' Other Editions (23)': 5, ' Italian Riviera': 1, ' Liguria': 1, ' Other Editions (136)': 2, ' Other Editions (48)': 4, 'St. Petersburg': 1, ' Russia': 4, ' Moscow': 5, ' (Russian Federation)': 15, 'Tar Valon': 1, 'Sacramento': 1, ' Other Editions (61)': 5, ' Other Editions (103)': 1, 'Gideon': 1, ' New Hampshire': 2, 'Nevada': 1, ' Other Editions (14)': 3, 'Midcyru': 1, ' Other Editions (40)': 4, 'Gaborone': 5, ' (Botswana)': 7, ' Mochudi': 1, ' Other Editions (58)': 2, 'Newark': 2, '1951': 1, 'Las Vegas': 1, ' Trenton': 1, ' Other Editions (49)': 4, 'Texas': 2, ' Other Editions (33)': 3, 'Wisconsin': 4, '1909': 1, 'Oxford': 2, '1176': 1, ' Other Editions (43)': 2, 'Atlanta': 4, ' Georgia': 6, '2040': 3, 'Moscow': 2, '2033': 1, '2034': 1, ' Brussels': 1, ' Belgium': 1, ' Other Editions (94)': 3, 'Australia': 6, ' Sydney': 2, ' New South Wales': 2, ' (Australia)': 4, ' Other Editions (111)': 1, 'Trinity': 2, ' Other Editions (19)': 1, ' Oklahoma': 11, ' Other Editions (9)': 2, ' Other Editions (28)': 1, 'Kabul': 2, 'Salem Falls': 1, 'Hangzhou': 1, '1665': 1, 'Zimbabwe': 2, ' Malawi': 1, ' Zambia': 1, 'San Francisco': 7, ' Bon Temps': 1, ' Louisiana': 15, ' Other Editions (97)': 1, 'Akron': 1, ' Scottsburg': 1, ' Indiana': 2, ' Joplin': 1, 'Savannah': 1, ' Other Editions (110)': 3, 'Washington': 2, ' D.C.': 5, ' San Angel': 1, ' Mexico City (México City)': 2, '1929': 1, ' Coyoacán': 1, ' Asheville': 1, 'New Orleans': 2, '2005': 4, 'Myanmar': 1, ' Burma': 1, 'Florida': 5, ' Boerum Hill': 1, 'Japan': 2, 'Beaufort': 1, 'Alexandria': 1, 'Bulawayo': 1, ' (Zimbabwe)': 2, ' Gaborone': 1, ' Other Editions (85)': 4, 'Denver': 3, ' Connecticut': 2, ' Other Editions (165)': 1, 'Buffalo': 2, 'South Carolina': 1, ' Charleston': 1, 'Caldwell': 7, ' Other Editions (64)': 2, 'Chesil Beach': 1, ' Dorset': 1, 'Louisiana': 2, 'Bon Temps': 7, ' Other Editions (90)': 2, ' Northern Louisiana': 1, ' Other Editions (79)': 2, 'Perdido Beach': 2, 'New World': 1, ' Other Editions (62)': 2, ' Other Editions (50)': 1, 'China': 3, ' Nova Scotia': 1, 'Peru': 1, ' Chile': 2, ' Other Editions (113)': 1, ' Acapulco': 1, 'Oz': 1, 'Kentucky': 1, ' Beverly Hills': 1, ' Brakebills College for Magical Pedagogy': 1, 'Davis': 1, ' Other Editions (89)': 1, ' Other Editions': 2, 'Licking Falls': 1, ' Other Editions (2)': 1, ' Derry': 1, ' Other Editions (54)': 3, ' Other Editions (8)': 2, 'Saint Petersburg': 2, ' Tokyo': 1, ' Hong Kong': 1, ' Ireland': 2, ' Okinawa': 1, ' Mongolia': 1, 'Discworld': 5, ' The Chalk': 1, 'Kars': 1, ' Los Angeles': 3, ' Europe': 1, ' New England': 1, ' Hollywood': 3, ' Other Editions (68)': 3, 'Rostov-on-Don': 1, '1953': 2, 'Alaska': 1, ' Bavaria': 1, ' Austria': 1, 'French Quarter': 1, ' New Orleans': 4, ' Orlando': 1, ' Richmond': 1, 'New Hampshire': 3, '1540': 1, 'Bathory': 1, 'Hyde Park': 1, '1912': 1, ' Other Editions (98)': 1, 'Middle-earth': 1, 'Wind Gap': 1, ' Stalingrad': 2, ' USSR': 5, ' Kiev': 1, ' Lutsk': 1, ' Zhytomyr': 1, ' Kharkiv': 1, ' Yalta': 1, ' Pyatigorsk': 1, ' Voroshilovsk': 1, ' Usedom': 1, ' Lublin': 1, ' Oświęcim (Auschwitz)': 1, ' Auschwitz': 2, ' Budapest': 1, ' (Hungary)': 1, ' Other Editions (11)': 2, 'Kyralia': 3, ' Other Editions (77)': 2, 'Gilead': 2, 'Turin': 1, 'Lyme Regis': 1, '1820': 1, ' Yorkshire': 2, 'Sosnowiec': 1, '1803': 2, ' Other Editions (37)': 6, ' Other Editions (47)': 2, 'Charleston': 1, ' Ankh-Morpork': 2, ' South Pole': 1, ' (Antarctica)': 1, ' Singapore': 1, 'Hawaii': 3, 'New Jersey': 2, 'Richmond': 2, ' South Dakota': 1, ' Other Editions (39)': 3, '1886': 1, ' Tulsa': 3, 'Antarctica': 2, 'North Dakota': 2, ' Other Editions (38)': 4, 'Bangkok': 1, ' (Thailand)': 1, 'Quebec (Québec)': 1, ' Montreal': 1, ' Quebec (Montréal': 2, ' Québec)': 2, ' Shallotte': 1, ' Other Editions (95)': 4, ' Cumbria': 1, 'Ireland': 2, ' Ludlow': 1, ' Wales': 2, ' Cynthiana': 1, 'Bas-Lag': 2, ' Other Editions (156)': 1, ' Other Editions (52)': 1, 'Norway': 1, 'Austria': 1, 'Greece': 3, ' Atlantis': 1, ' Nashville': 1, 'Warwickshire': 1, '1949': 1, '     Warwickshire': 1, '1947': 4, 'Connecticut': 3, 'Dublin': 7, ' (Ireland)': 14, ' Rhodesia': 1, 'Statler': 1, 'Vancouver': 1, ' Thailand': 1, 'Besźel': 1, ' Ul Qoma': 1, 'Sitia': 2, 'Ashford': 1, ' Dublin': 3, 'Constantinople': 1, '1204': 1, 'Haven (Lower Elements)': 1, ' Dublin Region': 2, ' Other Editions (65)': 2, 'Swansboro': 1, ' Other Editions (34)': 2, ' Haven (Lower Elements)': 1, 'Antwerp': 1, ' Terezín': 1, ' Mariánské Lázně': 1, 'Les Laveuses': 1, '1992': 2, ' Les Laveuses': 1, '1936': 1, 'Old Kingdom': 2, '1998': 2, 'Holt': 1, ' Denver': 1, 'Tortall': 4, 'Shanghai': 1, ' Tri-Cities': 1, ' Other Editions (46)': 4, 'Kalimpong': 1, 'Roseville': 1, 'Colby': 1, 'Parma': 1, 'Lakeview': 2, '1888': 1, '1889': 1, ' Other Editions (101)': 1, '1864': 1, 'Denmark': 1, '1550': 2, '     France': 1, '     Gabon': 1, ' South Bend': 1, 'Cambridge': 2, '1171': 1, 'Nepal': 1, ' Other Editions (3)': 2, ' Leningrad': 1, '     Russia': 2, 'Warszawa': 1, 'Memphis': 1, ' Other Editions (53)': 3, 'Plymouth': 1, ' Other Editions (69)': 4, ' Carcassonne': 1, '2004': 2, '1878': 1, 'Wilmington': 2, ' Other Editions (145)': 1, 'Portland': 2, 'Bald Slope': 1, 'Adirondack Mountains': 1, '1906': 1, ' Borogravia': 1, 'Taipei': 1, ' (Taiwan)': 1, ' Outside Nice': 1, ' Hybras (lost colony)': 1, 'Fells Church': 2, ' Other Editions (7)': 3, 'Ba': 2, ' Maryland': 3, 'Ankh-Morpork': 4, 'Colombia': 1, 'New Bern': 1, ' Other Editions (125)': 1, 'Malmköping': 1, ' Los Alamos': 1, ' New Mexico': 2, ' Moskow': 1, ' Vladivostok': 2, '1968': 2, ' Pyongyang': 1, ' Democratic Peoples Republic of)': 1, 'Tallinn': 1, ' (Estonia)': 1, ' Africa': 1, 'Kinnakee': 1, ' Kansas': 2, '1985': 4, ' Kansas City': 1, 'Hiroshima': 1, ' Other Editions (35)': 1, 'Hampton': 1, ' Other Editions (128)': 1, ' Gutshot': 1, 'Orlando': 1, ' Agloe': 1, 'Ixia': 1, 'Tulsa': 3, ' Other Editions (96)': 1, 'Santa Teresa': 1, ' Madrid': 2, ' Wilhelmshaven': 1, ' Buenos Aires': 1, ' (Argentina)': 1, ' Hamburg': 1, ' Köln': 1, ' Paderborn': 1, ' Other Editions (91)': 1, 'Springfield': 1, '1860': 3, '1989': 1, '     Dumfriesshire': 1, '1995': 1, '     Long Island': 1, ' Athens': 1, ' (Greece)': 2, 'Riverton Manor': 1, '1924': 1, 'Pico Mundo': 1, ' Discworld': 2, 'Ontario': 1, ' Other Editions (70)': 3, 'Terre DAnge': 1, 'Mexico City (México City)': 1, ' Other Editions (78)': 3, 'Worcestershire': 1, '1982': 1, ' Albuquerque': 1, ' Reno': 1, 'Santorini': 1, ' Bethesda': 1, ' Loreto': 1, ' Baja California Sur': 1, 'Bascom': 1, 'Lucky Smells Lumbermill': 1, ' Paltryville': 1, ' Other Editions (108)': 2, ' Puyallup': 1, ' Minidoka': 1, ' Idaho': 2, 'Nantucket': 1, ' South Pacific': 1, ' Bronx': 1, 'Prufrock Preparatory School': 1, ' Other Editions (92)': 2, ' Other Editions (45)': 2, '667 Dark Avenue': 1, ' Café Salmonella': 1, ' Veblen Hall': 1, 'Arctic Circle': 1, ' Milne Ice Shelf': 1, 'Frasers Ridge': 1, '1777': 4, ' Saratoga': 1, ' Wilmington': 1, '1776': 2, ' Lallybroch': 2, ' Alice Springs': 1, ' Northwest Territory': 1, ' Other Editions (57)': 4, 'Mount Eskel': 1, 'Bishops Lacey': 1, ' Milwaukee': 1, ' Other Editions (10)': 1, 'Laguna Beach': 3, ' Other Editions (72)': 1, '1981': 1, 'Langhorne': 1, ' Montgomery County': 1, 'Pennsylvania': 2, ' Howell': 1, 'Village of Fowl Devotees': 1, '1865': 1, 'Camorr': 1, 'Huntsdale': 1, 'Caligari Carnival': 1, ' Dallas': 1, 'Spencer': 1, ' Other Editions (115)': 1, ' Shutter Island': 1, '1954': 1, 'Gatlin': 1, 'Collingswood': 1, ' Other Editions (16)': 1, 'Oslo': 2, ' (Norway)': 3, ' Bergen': 1, 'Venice': 1, 'Centralia': 1, 'Virginia': 3, ' Other Editions (6)': 1, 'Estonia': 1, ' Western Estonia': 1, '1464': 1, 'Vietnam': 1, 'Tehran': 1, ' Vienna': 2, ' (Austria)': 3, 'Combe (an imaginary offshore island)': 1, ' Cornwall': 2, ' Other Editions (76)': 2, 'Princeton': 1, ' Columbus': 1, ' Austin': 1, ' Genoa': 1, 'Pompeii': 1, '79': 1, ' Other Editions (126)': 1, 'York': 1, '1541': 1, 'Sussex': 1, ' Grange (fictive)': 1, ' Other Editions (1)': 1, 'Earthsea Realm': 2, 'Bloors Academy': 1, ' Manhattan': 2, ' Other Editions (86)': 2, 'Washington (state)': 1, 'Sarajevo': 2, ' (Bosnia and Herzegovina)': 3, ' Bosnia and Herzegovina': 2, ' Other Editions (24)': 2, ' Other Editions (32)': 2, 'Buckkeep': 1, 'Detroit': 1, ' North Dakota': 1, 'Alicante': 1, ' Idris': 1, '     New York City': 1, 'Utah': 1, 'Germany': 2, '1943': 2, '     Poland': 1, 'Paradise': 1, 'Israel': 1, ' Other Editions (60)': 2, 'Spokane': 1, ' Montana': 1, '1931': 1, ' Ho Chi Minh City': 1, ' (Viet Nam)': 1, ' Haven City (Underground - Earth)': 1, 'Martina Franca': 1, ' Southeast Coast of Ireland (location undisclosed)': 1, 'Egg Fork': 1, ' Zebulon County': 1, ' Appalachia': 1, '     Wales': 1, '     Swindon': 1, ' Baia (Russia)': 1, ' Stanford University': 1, ' Chatham': 1, 'Oxshott': 1, ' Surrey': 2, ' Other Editions (176)': 1, 'Sitka': 1, ' Alaska': 1, '1996': 1, ' Sarajevo': 1, 'Kingston-upon-Thames': 1, 'Laxmangarh': 1, ' Bihar': 1, ' New Delhi': 1, 'Crosby': 1, 'Mercy Falls': 1, '2009': 1, 'Vienna': 1, ' Iran': 1, ' Other Editions (84)': 1, ' San Francisco': 1, 'Coldwater': 1, ' Putney': 1, '1500': 2, 'Sierra Leone': 1, 'Nigeria': 2, ' Biafra': 1, ' Nsukka': 1, ' (Nigeria)': 7, ' Lagos': 1, ' Kano': 1, ' Port Harcourt': 1, ' Abba': 1, ' Imo': 1, ' Umuahia': 1, ' Orlu': 1, 'Luthadel': 1, 'Stockton': 1, 'North Carolina': 1, '1771': 1, '1770': 2, '1772': 1, ' Mount Holicon': 1, ' The Royal Colony of North Carolina': 1, 'Minneapolis': 1, ' Weimar': 1, '1891': 1, ' Argentina': 1, 'Uruguay': 1, ' Bolivia': 1, ' Brazil': 2, ' Indonesia': 1, ' South Africa': 1, ' Iraq': 1, ' Sri Lanka': 1, 'North America': 1, ' Japan': 1, ' Iceland': 1, '1874': 1, ' Other Editions (170)': 1, 'Mortmain Mountains': 1, ' Other Editions (226)': 1, 'Lake Lachrymose': 1, ' Curdled Cave': 1, ' Other Editions (119)': 1, 'Tri-Cities': 1, ' Canada': 1, 'Nova Scotia': 1, ' Sierra Leone': 1, '1773': 1, '1774': 1, '1775': 1, 'Chesters Mill': 1, '     Japan': 1, 'Arkansas': 1, 'Tennessee': 1, 'Last Chance General Store': 1, ' Heimlich Hospital': 1, 'Niagara Falls': 1, '1950': 1, 'Doraville': 1, ' Other Editions (36)': 2, 'Jerusalem': 1, ' (Israel)': 2, '     Tel Aviv': 1, 'Poland': 1, ' Warsaw': 1, 'Aslevjal': 1, ' Buckkeep': 1, ' Zylig (Out Islands port)': 1, 'Wuislington on Out Island Mayle': 1, ' Rye': 1, ' East Sussex': 1, 'High Norland': 1, ' Chelsea': 1, 'New Jersey Shore': 1, 'Rodanthe': 1, ' Other Editions (143)': 1, 'Liston': 1, '     Judea': 1, '26': 1, '     Rome': 1, 'Ozark Mountains': 1, 'Berlin': 1, ' Leningrado': 1, 'Leningrad': 1, '1941': 1, ' Other Editions (112)': 1, 'Iowa': 1, 'Long Island': 1, 'Copenhagen': 1, ' (Denmark)': 1, 'Midlands': 1, ' Birmingham': 1, 'Saint-Domingue': 1, ' (Haiti)': 1, 'Nebraska': 1, 'Montreal': 1, 'Überwald': 1, 'London Bridge': 1, ' Other Editions (104)': 1, ' Other Editions (30)': 1, ' Beijing': 2, ' Panama Canal': 1, ' (Panama)': 1, '1948': 2, ' Coon Bog': 1, ' Other Editions (25)': 1, 'Florence': 1, ' Other Editions (106)': 1, 'Bixby': 1, 'Bloomsbury': 1, '2140': 1, 'Barcelona': 1, ' Other Editions (59)': 1, 'Scarnesea': 1, ' Sussex': 1, '1537': 1, 'New South Wales': 1, ' British Empire': 1, ' Oxshott': 1, 'Crescent City': 1, '1997': 1, '1513': 1, ' Ancelstierre': 1, ' Oude Koninkrijk': 1, ' Other Editions (109)': 1, 'Michigan': 1, '1893': 1, ' Licking Falls': 1, 'Edinburgh': 1, 'Red Bend': 1, 'Botswana': 1, ' Other Editions (71)': 2, 'Sarne': 1, ' Arkansas': 1, 'Nevada desert': 1, ' Other Editions (132)': 1, ' Other Editions (258)': 1, 'Templeton': 1, 'Kennewick': 1, ' Umatilla (Fae) Reservation': 1, ' Kennewick': 1, ' Other Editions (118)': 1, 'Piecliff': 1, 'Charlottesville': 1, ' Other Editions (27)': 2, ' Other Editions (13)': 1, 'Geneva': 1, ' (Switzerland)': 2, ' Rio de Janeiro': 1, ' (Brazil)': 1, ' Rue de Berne': 1, ' Geneva': 1, '': 1, ' Other Editions (260)': 1, 'Cancún': 1, ' Mexico': 1, '1979': 1, '1873': 1, ' Glenskehy': 1, ' Other Editions (105)': 1, ' Other Editions (122)': 1, 'The Forbidden City': 1, 'Cenaria': 1, ' Midcyru': 1}\n",
          "output_type": "stream"
        }
      ],
      "execution_count": 14
    },
    {
      "cell_type": "markdown",
      "source": "Lets look at last form of the data frame!",
      "metadata": {
        "tags": [],
        "cell_id": "00029-ff5d5d90-ebcb-46ee-8d3f-e0dfa9625bab",
        "deepnote_cell_type": "markdown"
      }
    },
    {
      "cell_type": "code",
      "source": "df.head()",
      "metadata": {
        "tags": [],
        "cell_id": "00029-c03b1a59-cb13-4a04-8ca2-78a7b44f87f7",
        "deepnote_to_be_reexecuted": false,
        "source_hash": "c085b6ba",
        "execution_millis": 19,
        "execution_start": 1618415324690,
        "deepnote_cell_type": "code"
      },
      "outputs": [
        {
          "output_type": "execute_result",
          "execution_count": 15,
          "data": {
            "application/vnd.deepnote.dataframe.v2+json": {
              "row_count": 5,
              "column_count": 13,
              "columns": [
                {
                  "name": "URL",
                  "dtype": "object",
                  "stats": {
                    "unique_count": 5,
                    "nan_count": 0,
                    "categories": [
                      {
                        "name": "https://www.goodreads.com/book/show/136251.Harry_Potter_and_the_Deathly_Hallows\"",
                        "count": 1
                      },
                      {
                        "name": "https://www.goodreads.com/book/show/2767052-the-hunger-games\"",
                        "count": 1
                      },
                      {
                        "name": "3 others",
                        "count": 3
                      }
                    ]
                  }
                },
                {
                  "name": "Title",
                  "dtype": "object",
                  "stats": {
                    "unique_count": 5,
                    "nan_count": 0,
                    "categories": [
                      {
                        "name": "Harry Potter and the Deathly Hallows (Harry Potter, #7)",
                        "count": 1
                      },
                      {
                        "name": "The Hunger Games (The Hunger Games, #1)",
                        "count": 1
                      },
                      {
                        "name": "3 others",
                        "count": 3
                      }
                    ]
                  }
                },
                {
                  "name": "Author",
                  "dtype": "object",
                  "stats": {
                    "unique_count": 2,
                    "nan_count": 0,
                    "categories": [
                      {
                        "name": "J.K. Rowling",
                        "count": 4
                      },
                      {
                        "name": "Suzanne Collins",
                        "count": 1
                      }
                    ]
                  }
                },
                {
                  "name": "Number of Ratings",
                  "dtype": "float64",
                  "stats": {
                    "unique_count": 5,
                    "nan_count": 0,
                    "min": "2575456.0",
                    "max": "6685627.0",
                    "histogram": [
                      {
                        "bin_start": 2575456,
                        "bin_end": 2986473.1,
                        "count": 4
                      },
                      {
                        "bin_start": 2986473.1,
                        "bin_end": 3397490.2,
                        "count": 0
                      },
                      {
                        "bin_start": 3397490.2,
                        "bin_end": 3808507.3,
                        "count": 0
                      },
                      {
                        "bin_start": 3808507.3,
                        "bin_end": 4219524.4,
                        "count": 0
                      },
                      {
                        "bin_start": 4219524.4,
                        "bin_end": 4630541.5,
                        "count": 0
                      },
                      {
                        "bin_start": 4630541.5,
                        "bin_end": 5041558.6,
                        "count": 0
                      },
                      {
                        "bin_start": 5041558.6,
                        "bin_end": 5452575.699999999,
                        "count": 0
                      },
                      {
                        "bin_start": 5452575.699999999,
                        "bin_end": 5863592.8,
                        "count": 0
                      },
                      {
                        "bin_start": 5863592.8,
                        "bin_end": 6274609.9,
                        "count": 0
                      },
                      {
                        "bin_start": 6274609.9,
                        "bin_end": 6685627,
                        "count": 1
                      }
                    ]
                  }
                },
                {
                  "name": "Number of Reviews",
                  "dtype": "float64",
                  "stats": {
                    "unique_count": 5,
                    "nan_count": 0,
                    "min": "42018.0",
                    "max": "175504.0",
                    "histogram": [
                      {
                        "bin_start": 42018,
                        "bin_end": 55366.6,
                        "count": 3
                      },
                      {
                        "bin_start": 55366.6,
                        "bin_end": 68715.2,
                        "count": 1
                      },
                      {
                        "bin_start": 68715.2,
                        "bin_end": 82063.8,
                        "count": 0
                      },
                      {
                        "bin_start": 82063.8,
                        "bin_end": 95412.4,
                        "count": 0
                      },
                      {
                        "bin_start": 95412.4,
                        "bin_end": 108761,
                        "count": 0
                      },
                      {
                        "bin_start": 108761,
                        "bin_end": 122109.6,
                        "count": 0
                      },
                      {
                        "bin_start": 122109.6,
                        "bin_end": 135458.2,
                        "count": 0
                      },
                      {
                        "bin_start": 135458.2,
                        "bin_end": 148806.8,
                        "count": 0
                      },
                      {
                        "bin_start": 148806.8,
                        "bin_end": 162155.40000000002,
                        "count": 0
                      },
                      {
                        "bin_start": 162155.40000000002,
                        "bin_end": 175504,
                        "count": 1
                      }
                    ]
                  }
                },
                {
                  "name": "Average Ratings",
                  "dtype": "float64",
                  "stats": {
                    "unique_count": 3,
                    "nan_count": 0,
                    "min": "4.3",
                    "max": "4.6",
                    "histogram": [
                      {
                        "bin_start": 4.3,
                        "bin_end": 4.33,
                        "count": 1
                      },
                      {
                        "bin_start": 4.33,
                        "bin_end": 4.359999999999999,
                        "count": 0
                      },
                      {
                        "bin_start": 4.359999999999999,
                        "bin_end": 4.39,
                        "count": 0
                      },
                      {
                        "bin_start": 4.39,
                        "bin_end": 4.42,
                        "count": 0
                      },
                      {
                        "bin_start": 4.42,
                        "bin_end": 4.449999999999999,
                        "count": 0
                      },
                      {
                        "bin_start": 4.449999999999999,
                        "bin_end": 4.4799999999999995,
                        "count": 0
                      },
                      {
                        "bin_start": 4.4799999999999995,
                        "bin_end": 4.51,
                        "count": 3
                      },
                      {
                        "bin_start": 4.51,
                        "bin_end": 4.54,
                        "count": 0
                      },
                      {
                        "bin_start": 4.54,
                        "bin_end": 4.569999999999999,
                        "count": 0
                      },
                      {
                        "bin_start": 4.569999999999999,
                        "bin_end": 4.6,
                        "count": 1
                      }
                    ]
                  }
                },
                {
                  "name": "Number of Pages",
                  "dtype": "float64",
                  "stats": {
                    "unique_count": 5,
                    "nan_count": 0,
                    "min": "374.0",
                    "max": "870.0",
                    "histogram": [
                      {
                        "bin_start": 374,
                        "bin_end": 423.6,
                        "count": 1
                      },
                      {
                        "bin_start": 423.6,
                        "bin_end": 473.2,
                        "count": 0
                      },
                      {
                        "bin_start": 473.2,
                        "bin_end": 522.8,
                        "count": 0
                      },
                      {
                        "bin_start": 522.8,
                        "bin_end": 572.4,
                        "count": 0
                      },
                      {
                        "bin_start": 572.4,
                        "bin_end": 622,
                        "count": 0
                      },
                      {
                        "bin_start": 622,
                        "bin_end": 671.6,
                        "count": 1
                      },
                      {
                        "bin_start": 671.6,
                        "bin_end": 721.2,
                        "count": 0
                      },
                      {
                        "bin_start": 721.2,
                        "bin_end": 770.8,
                        "count": 2
                      },
                      {
                        "bin_start": 770.8,
                        "bin_end": 820.4000000000001,
                        "count": 0
                      },
                      {
                        "bin_start": 820.4000000000001,
                        "bin_end": 870,
                        "count": 1
                      }
                    ]
                  }
                },
                {
                  "name": "Published Year",
                  "dtype": "float64",
                  "stats": {
                    "unique_count": 5,
                    "nan_count": 0,
                    "min": "2002.0",
                    "max": "2008.0",
                    "histogram": [
                      {
                        "bin_start": 2002,
                        "bin_end": 2002.6,
                        "count": 1
                      },
                      {
                        "bin_start": 2002.6,
                        "bin_end": 2003.2,
                        "count": 0
                      },
                      {
                        "bin_start": 2003.2,
                        "bin_end": 2003.8,
                        "count": 0
                      },
                      {
                        "bin_start": 2003.8,
                        "bin_end": 2004.4,
                        "count": 1
                      },
                      {
                        "bin_start": 2004.4,
                        "bin_end": 2005,
                        "count": 0
                      },
                      {
                        "bin_start": 2005,
                        "bin_end": 2005.6,
                        "count": 0
                      },
                      {
                        "bin_start": 2005.6,
                        "bin_end": 2006.2,
                        "count": 1
                      },
                      {
                        "bin_start": 2006.2,
                        "bin_end": 2006.8,
                        "count": 0
                      },
                      {
                        "bin_start": 2006.8,
                        "bin_end": 2007.4,
                        "count": 1
                      },
                      {
                        "bin_start": 2007.4,
                        "bin_end": 2008,
                        "count": 1
                      }
                    ]
                  }
                },
                {
                  "name": "Series",
                  "dtype": "float64",
                  "stats": {
                    "unique_count": 1,
                    "nan_count": 0,
                    "min": "1.0",
                    "max": "1.0",
                    "histogram": [
                      {
                        "bin_start": 0.5,
                        "bin_end": 0.6,
                        "count": 0
                      },
                      {
                        "bin_start": 0.6,
                        "bin_end": 0.7,
                        "count": 0
                      },
                      {
                        "bin_start": 0.7,
                        "bin_end": 0.8,
                        "count": 0
                      },
                      {
                        "bin_start": 0.8,
                        "bin_end": 0.9,
                        "count": 0
                      },
                      {
                        "bin_start": 0.9,
                        "bin_end": 1,
                        "count": 0
                      },
                      {
                        "bin_start": 1,
                        "bin_end": 1.1,
                        "count": 5
                      },
                      {
                        "bin_start": 1.1,
                        "bin_end": 1.2000000000000002,
                        "count": 0
                      },
                      {
                        "bin_start": 1.2000000000000002,
                        "bin_end": 1.3,
                        "count": 0
                      },
                      {
                        "bin_start": 1.3,
                        "bin_end": 1.4,
                        "count": 0
                      },
                      {
                        "bin_start": 1.4,
                        "bin_end": 1.5,
                        "count": 0
                      }
                    ]
                  }
                },
                {
                  "name": "Genres",
                  "dtype": "object",
                  "stats": {
                    "unique_count": 5,
                    "nan_count": 0,
                    "categories": [
                      {
                        "name": "['Fantasy', ' Young Adult', ' Fiction']",
                        "count": 4
                      },
                      {
                        "name": "['Young Adult', ' Fiction', ' Dystopia']",
                        "count": 1
                      }
                    ]
                  }
                },
                {
                  "name": "Awards",
                  "dtype": "object",
                  "stats": {
                    "unique_count": 5,
                    "nan_count": 0,
                    "categories": [
                      {
                        "name": "['Locus Award Nominee for Best Young Adult Novel (2008)', 'Odyssey Award Nominee (2008)', 'Audie Award (2008)', 'Books I Loved Best Yearly (BILBY) Awards for Older Readers (2008)', 'Teen Read Award Nominee for Best All-Time-Fave (2010)', 'Puddly Award for Fiction (2008)', 'Andre Norton Award (2007)', 'Carnegie Medal Nominee (2008)']",
                        "count": 1
                      },
                      {
                        "name": "['Locus Award Nominee for Best Young Adult Book (2009)', 'Georgia Peach Book Award (2009)', 'Buxtehuder Bulle (2009)', 'Golden Duck Award for Young Adult (Hal Clement Award) (2009)', \"Grand Prix de l'Imaginaire Nominee for Roman jeunesse étranger (2010)\", 'Books I Loved Best Yearly (BILBY) Awards for Older Readers (2012)', \"West Australian Young Readers' Book Award (WAYRBA) for Older Readers (2010)\", \"Red House Children's Book Award for Older Readers & Overall (2010)\", 'South Carolina Book Award for Junior and Young Adult Book (2011)', 'Charlotte Award (2010)', 'Colorado Blue Spruce Young Adult Book Award (2010)', 'Teen Buckeye Book Award (2009)', \"Pennsylvania Young Readers' Choice Award for Young Adults (2010)\", 'Rhode Island Teen Book Award (2010)', \"Dorothy Canfield Fisher Children's Book Award (2010)\", 'Evergreen Teen Book Award (2011)', 'Soaring Eagle Book Award (2009)', 'Milwaukee County Teen Book Award Nominee (2010)', 'Sakura Medal for Middle School Book (2010)', 'Michigan Library Association Thumbs Up! Award (2009)', 'Florida Teens Read (2009)', 'Deutscher Jugendliteraturpreis for Preis der Jugendjury (2010)', 'Iowa High School Book Award (2011)', 'New Mexico Land of Enchantment Award for Young Adult (2011)', 'Eliot Rosewater Indiana High School Book Award (2010)', 'The Inky Awards for Silver Inky (2009)', 'California Young Readers Medal for Young Adult (2011)', 'Lincoln Award (2011)', 'Kinderboekwinkelprijs (2010)', 'Missouri Truman Readers Award (2011)', 'CYBILS Award for Young Adult Fantasy & Science Fiction (2008)', 'Literaturpreis der Jury der jungen Leser for Jugendbuch (2010)', 'The Inky Awards Shortlist for Silver Inky (2009)', 'Prix Et-lisez-moi (2011)', 'Missouri Gateway Readers Award (2011)', 'Oklahoma Sequoyah Award for High School and Intermediate (2011)', 'Premio El Templo de las Mil Puertas for Mejor novela extranjera perteneciente a saga (2009)', \"Rebecca Caudill Young Readers' Book Award (2011)\", 'LovelyBooks Leserpreis for Fantasy (2009)', 'LovelyBooks Leserpreis for Bestes Cover/Umschlag (2009)', 'Premi Protagonista Jove for Categoria 13-14 anys (2010)']",
                        "count": 1
                      },
                      {
                        "name": "3 others",
                        "count": 3
                      }
                    ]
                  }
                },
                {
                  "name": "Places",
                  "dtype": "object",
                  "stats": {
                    "unique_count": 5,
                    "nan_count": 0,
                    "categories": [
                      {
                        "name": "['London', ' England', ' (United Kingdom)', ' Hogwarts School of Witchcraft and Wizardry', ' (United Kingdom)', ' Pagford', ' (United Kingdom)']",
                        "count": 1
                      },
                      {
                        "name": "['District 12', ' Panem', ' Capitol', ' Panem', ' Panem', ' (United States)']",
                        "count": 1
                      },
                      {
                        "name": "3 others",
                        "count": 3
                      }
                    ]
                  }
                },
                {
                  "name": "Awards_no",
                  "dtype": "float64",
                  "stats": {
                    "unique_count": 4,
                    "nan_count": 0,
                    "min": "3.0",
                    "max": "41.0",
                    "histogram": [
                      {
                        "bin_start": 3,
                        "bin_end": 6.8,
                        "count": 1
                      },
                      {
                        "bin_start": 6.8,
                        "bin_end": 10.6,
                        "count": 3
                      },
                      {
                        "bin_start": 10.6,
                        "bin_end": 14.399999999999999,
                        "count": 0
                      },
                      {
                        "bin_start": 14.399999999999999,
                        "bin_end": 18.2,
                        "count": 0
                      },
                      {
                        "bin_start": 18.2,
                        "bin_end": 22,
                        "count": 0
                      },
                      {
                        "bin_start": 22,
                        "bin_end": 25.799999999999997,
                        "count": 0
                      },
                      {
                        "bin_start": 25.799999999999997,
                        "bin_end": 29.599999999999998,
                        "count": 0
                      },
                      {
                        "bin_start": 29.599999999999998,
                        "bin_end": 33.4,
                        "count": 0
                      },
                      {
                        "bin_start": 33.4,
                        "bin_end": 37.199999999999996,
                        "count": 0
                      },
                      {
                        "bin_start": 37.199999999999996,
                        "bin_end": 41,
                        "count": 1
                      }
                    ]
                  }
                },
                {
                  "name": "_deepnote_index_column",
                  "dtype": "int64"
                }
              ],
              "rows_top": [
                {
                  "URL": "https://www.goodreads.com/book/show/136251.Harry_Potter_and_the_Deathly_Hallows\"",
                  "Title": "Harry Potter and the Deathly Hallows (Harry Potter, #7)",
                  "Author": "J.K. Rowling",
                  "Number of Ratings": 2959601,
                  "Number of Reviews": 68457,
                  "Average Ratings": 4.6,
                  "Number of Pages": 759,
                  "Published Year": 2007,
                  "Series": 1,
                  "Genres": "['Fantasy', ' Young Adult', ' Fiction']",
                  "Awards": "['Locus Award Nominee for Best Young Adult Novel (2008)', 'Odyssey Award Nominee (2008)', 'Audie Award (2008)', 'Books I Loved Best Yearly (BILBY) Awards for Older Readers (2008)', 'Teen Read Award Nominee for Best All-Time-Fave (2010)', 'Puddly Award for Fiction (2008)', 'Andre Norton Award (2007)', 'Carnegie Medal Nominee (2008)']",
                  "Places": "['London', ' England', ' (United Kingdom)', ' Hogwarts School of Witchcraft and Wizardry', ' (United Kingdom)', ' Pagford', ' (United Kingdom)']",
                  "Awards_no": 8,
                  "_deepnote_index_column": 0
                },
                {
                  "URL": "https://www.goodreads.com/book/show/2767052-the-hunger-games\"",
                  "Title": "The Hunger Games (The Hunger Games, #1)",
                  "Author": "Suzanne Collins",
                  "Number of Ratings": 6685627,
                  "Number of Reviews": 175504,
                  "Average Ratings": 4.3,
                  "Number of Pages": 374,
                  "Published Year": 2008,
                  "Series": 1,
                  "Genres": "['Young Adult', ' Fiction', ' Dystopia']",
                  "Awards": "['Locus Award Nominee for Best Young Adult Book (2009)', 'Georgia Peach Book Award (2009)', 'Buxtehuder Bulle (2009)', 'Golden Duck Award for Young Adult (Hal Clement Award) (2009)', \"Grand Prix de l'Imaginaire Nominee for Roman jeunesse étranger (2010)\", 'Books I Loved Best Yearly (BILBY) Awards for Older Readers (2012)', \"West Australian Young Readers' Book Award (WAYRBA) for Older Readers (2010)\", \"Red House Children's Book Award for Older Readers & Overall (2010)\", 'South Carolina Book Award for Junior and Young Adult Book (2011)', 'Charlotte Award (2010)', 'Colorado Blue Spruce Young Adult Book Award (2010)', 'Teen Buckeye Book Award (2009)', \"Pennsylvania Young Readers' Choice Award for Young Adults (2010)\", 'Rhode Island Teen Book Award (2010)', \"Dorothy Canfield Fisher Children's Book Award (2010)\", 'Evergreen Teen Book Award (2011)', 'Soaring Eagle Book Award (2009)', 'Milwaukee County Teen Book Award Nominee (2010)', 'Sakura Medal for Middle School Book (2010)', 'Michigan Library Association Thumbs Up! Award (2009)', 'Florida Teens Read (2009)', 'Deutscher Jugendliteraturpreis for Preis der Jugendjury (2010)', 'Iowa High School Book Award (2011)', 'New Mexico Land of Enchantment Award for Young Adult (2011)', 'Eliot Rosewater Indiana High School Book Award (2010)', 'The Inky Awards for Silver Inky (2009)', 'California Young Readers Medal for Young Adult (2011)', 'Lincoln Award (2011)', 'Kinderboekwinkelprijs (2010)', 'Missouri Truman Readers Award (2011)', 'CYBILS Award for Young Adult Fantasy & Science Fiction (2008)', 'Literaturpreis der Jury der jungen Leser for Jugendbuch (2010)', 'The Inky Awards Shortlist for Silver Inky (2009)', 'Prix Et-lisez-moi (2011)', 'Missouri Gateway Readers Award (2011)', 'Oklahoma Sequoyah Award for High School and Intermediate (2011)', 'Premio El Templo de las Mil Puertas for Mejor novela extranjera perteneciente a saga (2009)', \"Rebecca Caudill Young Readers' Book Award (2011)\", 'LovelyBooks Leserpreis for Fantasy (2009)', 'LovelyBooks Leserpreis for Bestes Cover/Umschlag (2009)', 'Premi Protagonista Jove for Categoria 13-14 anys (2010)']",
                  "Places": "['District 12', ' Panem', ' Capitol', ' Panem', ' Panem', ' (United States)']",
                  "Awards_no": 41,
                  "_deepnote_index_column": 1
                },
                {
                  "URL": "https://www.goodreads.com/book/show/1.Harry_Potter_and_the_Half_Blood_Prince\"",
                  "Title": "Harry Potter and the Half-Blood Prince (Harry Potter, #6)",
                  "Author": "J.K. Rowling",
                  "Number of Ratings": 2575456,
                  "Number of Reviews": 42018,
                  "Average Ratings": 4.5,
                  "Number of Pages": 652,
                  "Published Year": 2006,
                  "Series": 1,
                  "Genres": "['Fantasy', ' Young Adult', ' Fiction']",
                  "Awards": "['Locus Award Nominee for Best Young Adult Novel (2006)', 'Audie Award for Audiobook of the Year (2006)', 'British Book of the Year (2006)']",
                  "Places": "['Hogwarts School of Witchcraft and Wizardry', ' (United Kingdom)', ' England']",
                  "Awards_no": 3,
                  "_deepnote_index_column": 2
                },
                {
                  "URL": "https://www.goodreads.com/book/show/6.Harry_Potter_and_the_Goblet_of_Fire\"",
                  "Title": "Harry Potter and the Goblet of Fire (Harry Potter, #4)",
                  "Author": "J.K. Rowling",
                  "Number of Ratings": 2750013,
                  "Number of Reviews": 49585,
                  "Average Ratings": 4.5,
                  "Number of Pages": 734,
                  "Published Year": 2002,
                  "Series": 1,
                  "Genres": "['Fantasy', ' Young Adult', ' Fiction']",
                  "Awards": "['Hugo Award for Best Novel (2001)', \"Mythopoeic Fantasy Award for Children's Literature (2008)\", 'Publieksprijs voor het Nederlandse Boek (2001)', 'Audie Award for Solo Narration - Male (2001)', \"West Australian Young Readers' Book Award (WAYRBA) for Younger Readers (2001)\", 'Golden Archer Award for Middle/Junior High (2002)', 'Indian Paintbrush Book Award (2002)', 'Deutscher Bücherpreis for Publikumspreis', 'Corine Internationaler Buchpreis for Kinder- und Jugendbuch (2001)']",
                  "Places": "['Hogwarts School of Witchcraft and Wizardry', '1994', ' (United Kingdom)', ' Scotland', ' United Kingdom']",
                  "Awards_no": 9,
                  "_deepnote_index_column": 3
                },
                {
                  "URL": "https://www.goodreads.com/book/show/2.Harry_Potter_and_the_Order_of_the_Phoenix\"",
                  "Title": "Harry Potter and the Order of the Phoenix (Harry Potter, #5)",
                  "Author": "J.K. Rowling",
                  "Number of Ratings": 2653494,
                  "Number of Reviews": 45376,
                  "Average Ratings": 4.5,
                  "Number of Pages": 870,
                  "Published Year": 2004,
                  "Series": 1,
                  "Genres": "['Fantasy', ' Young Adult', ' Fiction']",
                  "Awards": "['Bram Stoker Award for Works for Young Readers (2003)', 'Anthony Award for Young Adult (2004)', \"Mythopoeic Fantasy Award for Children's Literature (2008)\", 'Audie Award for Audiobook of the Year (2004)', 'Books I Loved Best Yearly (BILBY) Awards for Older Readers (2004)', 'Colorado Blue Spruce Young Adult Book Award (2006)', 'Golden Archer Award for Middle/Junior High (2005)', 'Deutscher Jugendliteraturpreis Nominee for Preis der Jugendjury (2004)', 'Carnegie Medal Nominee (2003)']",
                  "Places": "['Hogwarts School of Witchcraft and Wizardry', ' (United Kingdom)', ' London', ' England', ' (United Kingdom)']",
                  "Awards_no": 9,
                  "_deepnote_index_column": 4
                }
              ],
              "rows_bottom": null
            },
            "text/plain": "                                                 URL  \\\n0  https://www.goodreads.com/book/show/136251.Har...   \n1  https://www.goodreads.com/book/show/2767052-th...   \n2  https://www.goodreads.com/book/show/1.Harry_Po...   \n3  https://www.goodreads.com/book/show/6.Harry_Po...   \n4  https://www.goodreads.com/book/show/2.Harry_Po...   \n\n                                               Title           Author  \\\n0  Harry Potter and the Deathly Hallows (Harry Po...     J.K. Rowling   \n1            The Hunger Games (The Hunger Games, #1)  Suzanne Collins   \n2  Harry Potter and the Half-Blood Prince (Harry ...     J.K. Rowling   \n3  Harry Potter and the Goblet of Fire (Harry Pot...     J.K. Rowling   \n4  Harry Potter and the Order of the Phoenix (Har...     J.K. Rowling   \n\n   Number of Ratings  Number of Reviews  Average Ratings  Number of Pages  \\\n0          2959601.0            68457.0              4.6            759.0   \n1          6685627.0           175504.0              4.3            374.0   \n2          2575456.0            42018.0              4.5            652.0   \n3          2750013.0            49585.0              4.5            734.0   \n4          2653494.0            45376.0              4.5            870.0   \n\n   Published Year  Series                              Genres  \\\n0          2007.0     1.0   [Fantasy,  Young Adult,  Fiction]   \n1          2008.0     1.0  [Young Adult,  Fiction,  Dystopia]   \n2          2006.0     1.0   [Fantasy,  Young Adult,  Fiction]   \n3          2002.0     1.0   [Fantasy,  Young Adult,  Fiction]   \n4          2004.0     1.0   [Fantasy,  Young Adult,  Fiction]   \n\n                                              Awards  \\\n0  ['Locus Award Nominee for Best Young Adult Nov...   \n1  ['Locus Award Nominee for Best Young Adult Boo...   \n2  ['Locus Award Nominee for Best Young Adult Nov...   \n3  ['Hugo Award for Best Novel (2001)', \"Mythopoe...   \n4  ['Bram Stoker Award for Works for Young Reader...   \n\n                                              Places  Awards_no  \n0  [London,  England,  (United Kingdom),  Hogwart...        8.0  \n1  [District 12,  Panem,  Capitol,  Panem,  Panem...       41.0  \n2  [Hogwarts School of Witchcraft and Wizardry,  ...        3.0  \n3  [Hogwarts School of Witchcraft and Wizardry, 1...        9.0  \n4  [Hogwarts School of Witchcraft and Wizardry,  ...        9.0  ",
            "text/html": "<div>\n<style scoped>\n    .dataframe tbody tr th:only-of-type {\n        vertical-align: middle;\n    }\n\n    .dataframe tbody tr th {\n        vertical-align: top;\n    }\n\n    .dataframe thead th {\n        text-align: right;\n    }\n</style>\n<table border=\"1\" class=\"dataframe\">\n  <thead>\n    <tr style=\"text-align: right;\">\n      <th></th>\n      <th>URL</th>\n      <th>Title</th>\n      <th>Author</th>\n      <th>Number of Ratings</th>\n      <th>Number of Reviews</th>\n      <th>Average Ratings</th>\n      <th>Number of Pages</th>\n      <th>Published Year</th>\n      <th>Series</th>\n      <th>Genres</th>\n      <th>Awards</th>\n      <th>Places</th>\n      <th>Awards_no</th>\n    </tr>\n  </thead>\n  <tbody>\n    <tr>\n      <th>0</th>\n      <td>https://www.goodreads.com/book/show/136251.Har...</td>\n      <td>Harry Potter and the Deathly Hallows (Harry Po...</td>\n      <td>J.K. Rowling</td>\n      <td>2959601.0</td>\n      <td>68457.0</td>\n      <td>4.6</td>\n      <td>759.0</td>\n      <td>2007.0</td>\n      <td>1.0</td>\n      <td>[Fantasy,  Young Adult,  Fiction]</td>\n      <td>['Locus Award Nominee for Best Young Adult Nov...</td>\n      <td>[London,  England,  (United Kingdom),  Hogwart...</td>\n      <td>8.0</td>\n    </tr>\n    <tr>\n      <th>1</th>\n      <td>https://www.goodreads.com/book/show/2767052-th...</td>\n      <td>The Hunger Games (The Hunger Games, #1)</td>\n      <td>Suzanne Collins</td>\n      <td>6685627.0</td>\n      <td>175504.0</td>\n      <td>4.3</td>\n      <td>374.0</td>\n      <td>2008.0</td>\n      <td>1.0</td>\n      <td>[Young Adult,  Fiction,  Dystopia]</td>\n      <td>['Locus Award Nominee for Best Young Adult Boo...</td>\n      <td>[District 12,  Panem,  Capitol,  Panem,  Panem...</td>\n      <td>41.0</td>\n    </tr>\n    <tr>\n      <th>2</th>\n      <td>https://www.goodreads.com/book/show/1.Harry_Po...</td>\n      <td>Harry Potter and the Half-Blood Prince (Harry ...</td>\n      <td>J.K. Rowling</td>\n      <td>2575456.0</td>\n      <td>42018.0</td>\n      <td>4.5</td>\n      <td>652.0</td>\n      <td>2006.0</td>\n      <td>1.0</td>\n      <td>[Fantasy,  Young Adult,  Fiction]</td>\n      <td>['Locus Award Nominee for Best Young Adult Nov...</td>\n      <td>[Hogwarts School of Witchcraft and Wizardry,  ...</td>\n      <td>3.0</td>\n    </tr>\n    <tr>\n      <th>3</th>\n      <td>https://www.goodreads.com/book/show/6.Harry_Po...</td>\n      <td>Harry Potter and the Goblet of Fire (Harry Pot...</td>\n      <td>J.K. Rowling</td>\n      <td>2750013.0</td>\n      <td>49585.0</td>\n      <td>4.5</td>\n      <td>734.0</td>\n      <td>2002.0</td>\n      <td>1.0</td>\n      <td>[Fantasy,  Young Adult,  Fiction]</td>\n      <td>['Hugo Award for Best Novel (2001)', \"Mythopoe...</td>\n      <td>[Hogwarts School of Witchcraft and Wizardry, 1...</td>\n      <td>9.0</td>\n    </tr>\n    <tr>\n      <th>4</th>\n      <td>https://www.goodreads.com/book/show/2.Harry_Po...</td>\n      <td>Harry Potter and the Order of the Phoenix (Har...</td>\n      <td>J.K. Rowling</td>\n      <td>2653494.0</td>\n      <td>45376.0</td>\n      <td>4.5</td>\n      <td>870.0</td>\n      <td>2004.0</td>\n      <td>1.0</td>\n      <td>[Fantasy,  Young Adult,  Fiction]</td>\n      <td>['Bram Stoker Award for Works for Young Reader...</td>\n      <td>[Hogwarts School of Witchcraft and Wizardry,  ...</td>\n      <td>9.0</td>\n    </tr>\n  </tbody>\n</table>\n</div>"
          },
          "metadata": {}
        }
      ],
      "execution_count": 15
    },
    {
      "cell_type": "markdown",
      "source": "### Normalising-Scaling The Data\n**Creating General Function for Min-Max Normalising**",
      "metadata": {
        "tags": [],
        "cell_id": "00033-f23517ed-be44-483d-ba46-5ce1d7289256",
        "deepnote_cell_type": "markdown"
      }
    },
    {
      "cell_type": "code",
      "source": "def min_max(column):\n    \"\"\" Returns the Min-Max normalised values for the average ratings value.\n    Can filter elements greater than a given threshhold value i.e. the artificial minimum\"\"\"\n    column = ((column - column.min()) / column.max() - column.min()) \n    return column",
      "metadata": {
        "tags": [],
        "cell_id": "00034-062aacfa-1e2f-4bd4-b873-cc4543c96ae0",
        "deepnote_to_be_reexecuted": false,
        "source_hash": "953d998",
        "execution_millis": 0,
        "execution_start": 1618415324695,
        "deepnote_cell_type": "code"
      },
      "outputs": [],
      "execution_count": 16
    },
    {
      "cell_type": "markdown",
      "source": "**Min-Max Normalising Number of Ratings**",
      "metadata": {
        "tags": [],
        "cell_id": "00035-f5aa5827-5606-4352-a721-7fe86877978c",
        "deepnote_cell_type": "markdown"
      }
    },
    {
      "cell_type": "code",
      "source": "df_normalised=df\ndf_normalised[\"Number of Ratings\"]=min_max(df_normalised[\"Number of Ratings\"])",
      "metadata": {
        "tags": [],
        "cell_id": "00036-fd402412-fb37-44d2-84b6-fe60d54427f9",
        "deepnote_to_be_reexecuted": false,
        "source_hash": "f0f0471e",
        "execution_millis": 1,
        "execution_start": 1618415324699,
        "deepnote_cell_type": "code"
      },
      "outputs": [],
      "execution_count": 17
    },
    {
      "cell_type": "markdown",
      "source": "**Min-Max Normalising Number of Reviews**",
      "metadata": {
        "tags": [],
        "cell_id": "00037-08208c67-d950-4e2b-acdf-0e982ba35fab",
        "deepnote_cell_type": "markdown"
      }
    },
    {
      "cell_type": "code",
      "source": "df_normalised[\"Number of Reviews\"]=min_max(df_normalised[\"Number of Reviews\"])",
      "metadata": {
        "tags": [],
        "cell_id": "00038-e678c3bd-4c29-460b-8077-9c9b886e4397",
        "deepnote_to_be_reexecuted": false,
        "source_hash": "4687b67d",
        "execution_millis": 0,
        "execution_start": 1618415324747,
        "deepnote_cell_type": "code"
      },
      "outputs": [],
      "execution_count": 18
    },
    {
      "cell_type": "markdown",
      "source": "**Min-Max Normalising Number of Pages**",
      "metadata": {
        "tags": [],
        "cell_id": "00039-a2cda1df-6831-4f3f-a035-b8582ce9ca75",
        "deepnote_cell_type": "markdown"
      }
    },
    {
      "cell_type": "code",
      "source": "df_normalised[\"Number of Pages\"]=min_max(df_normalised[\"Number of Pages\"])",
      "metadata": {
        "tags": [],
        "cell_id": "00040-72fef433-571b-4dc6-8d21-beec45eb6a2a",
        "deepnote_to_be_reexecuted": false,
        "source_hash": "94c6f5d3",
        "execution_millis": 2,
        "execution_start": 1618415324748,
        "deepnote_cell_type": "code"
      },
      "outputs": [],
      "execution_count": 19
    },
    {
      "cell_type": "markdown",
      "source": "**Scaling 0 to 10 Average Ratings**",
      "metadata": {
        "tags": [],
        "cell_id": "00041-79cd7faa-4f11-49ea-a1fd-fd8c89423960",
        "deepnote_cell_type": "markdown"
      }
    },
    {
      "cell_type": "code",
      "source": "df_normalised[\"Average Ratings\"]=2*df_normalised[\"Average Ratings\"]",
      "metadata": {
        "tags": [],
        "cell_id": "00042-8fbf0afe-31f2-4e11-8636-263c4b790fd5",
        "deepnote_to_be_reexecuted": false,
        "source_hash": "22fa0eb2",
        "execution_millis": 6,
        "execution_start": 1618415355561,
        "deepnote_cell_type": "code"
      },
      "outputs": [],
      "execution_count": 23
    },
    {
      "cell_type": "markdown",
      "source": "## Pre-Conclusions\n",
      "metadata": {
        "tags": [],
        "cell_id": "00021-6c5060c9-7a44-44f5-9cc1-4f86223eb880",
        "deepnote_cell_type": "markdown"
      }
    },
    {
      "cell_type": "markdown",
      "source": "Places feature visualization",
      "metadata": {
        "tags": [],
        "cell_id": "00022-71324e0a-5e0c-4051-baff-cccd836ef37a",
        "deepnote_cell_type": "markdown"
      }
    },
    {
      "cell_type": "code",
      "source": "places_freq_list=[]\nplaces_freq[]",
      "metadata": {
        "tags": [],
        "cell_id": "00033-7ade668e-41cf-4f3e-bf07-635bc5c1228a",
        "deepnote_to_be_reexecuted": false,
        "source_hash": "863af526",
        "execution_millis": 22,
        "execution_start": 1618415324829,
        "deepnote_cell_type": "code"
      },
      "outputs": [
        {
          "output_type": "error",
          "ename": "SyntaxError",
          "evalue": "invalid syntax (<ipython-input-21-ca6073d725d9>, line 2)",
          "traceback": [
            "\u001b[0;36m  File \u001b[0;32m\"<ipython-input-21-ca6073d725d9>\"\u001b[0;36m, line \u001b[0;32m2\u001b[0m\n\u001b[0;31m    places_freq[]\u001b[0m\n\u001b[0m                ^\u001b[0m\n\u001b[0;31mSyntaxError\u001b[0m\u001b[0;31m:\u001b[0m invalid syntax\n"
          ]
        }
      ],
      "execution_count": 21
    },
    {
      "cell_type": "code",
      "source": "\n\nfig, ax = plt.subplots(1, 1, figsize=(16, 6))\nsns.histplot(data=places_freq, x='Name_length', hue='Survived', kde=True, fill=True, ax=ax, palette=palette_binary)\nax.set_title('Name Length - Survived Plot', size=20, loc='Left', y=1.03)\n\nsns.despine()\nplt.show()",
      "metadata": {
        "tags": [],
        "cell_id": "00022-867d474b-1501-49af-a2e3-877e119c4d7a",
        "deepnote_to_be_reexecuted": true,
        "source_hash": "d7940752",
        "execution_millis": 149,
        "deepnote_cell_type": "code"
      },
      "outputs": [
        {
          "output_type": "error",
          "ename": "NameError",
          "evalue": "name 'palette_binary' is not defined",
          "traceback": [
            "\u001b[0;31m---------------------------------------------------------------------------\u001b[0m",
            "\u001b[0;31mNameError\u001b[0m                                 Traceback (most recent call last)",
            "\u001b[0;32m<ipython-input-75-2a8ce657c8af>\u001b[0m in \u001b[0;36m<module>\u001b[0;34m\u001b[0m\n\u001b[1;32m      1\u001b[0m \u001b[0mfig\u001b[0m\u001b[0;34m,\u001b[0m \u001b[0max\u001b[0m \u001b[0;34m=\u001b[0m \u001b[0mplt\u001b[0m\u001b[0;34m.\u001b[0m\u001b[0msubplots\u001b[0m\u001b[0;34m(\u001b[0m\u001b[0;36m1\u001b[0m\u001b[0;34m,\u001b[0m \u001b[0;36m1\u001b[0m\u001b[0;34m,\u001b[0m \u001b[0mfigsize\u001b[0m\u001b[0;34m=\u001b[0m\u001b[0;34m(\u001b[0m\u001b[0;36m16\u001b[0m\u001b[0;34m,\u001b[0m \u001b[0;36m6\u001b[0m\u001b[0;34m)\u001b[0m\u001b[0;34m)\u001b[0m\u001b[0;34m\u001b[0m\u001b[0;34m\u001b[0m\u001b[0m\n\u001b[0;32m----> 2\u001b[0;31m \u001b[0msns\u001b[0m\u001b[0;34m.\u001b[0m\u001b[0mhistplot\u001b[0m\u001b[0;34m(\u001b[0m\u001b[0mdata\u001b[0m\u001b[0;34m=\u001b[0m\u001b[0mdf\u001b[0m\u001b[0;34m,\u001b[0m \u001b[0mx\u001b[0m\u001b[0;34m=\u001b[0m\u001b[0;34m'Name_length'\u001b[0m\u001b[0;34m,\u001b[0m \u001b[0mhue\u001b[0m\u001b[0;34m=\u001b[0m\u001b[0;34m'Survived'\u001b[0m\u001b[0;34m,\u001b[0m \u001b[0mkde\u001b[0m\u001b[0;34m=\u001b[0m\u001b[0;32mTrue\u001b[0m\u001b[0;34m,\u001b[0m \u001b[0mfill\u001b[0m\u001b[0;34m=\u001b[0m\u001b[0;32mTrue\u001b[0m\u001b[0;34m,\u001b[0m \u001b[0max\u001b[0m\u001b[0;34m=\u001b[0m\u001b[0max\u001b[0m\u001b[0;34m,\u001b[0m \u001b[0mpalette\u001b[0m\u001b[0;34m=\u001b[0m\u001b[0mpalette_binary\u001b[0m\u001b[0;34m)\u001b[0m\u001b[0;34m\u001b[0m\u001b[0;34m\u001b[0m\u001b[0m\n\u001b[0m\u001b[1;32m      3\u001b[0m \u001b[0max\u001b[0m\u001b[0;34m.\u001b[0m\u001b[0mset_title\u001b[0m\u001b[0;34m(\u001b[0m\u001b[0;34m'Name Length - Survived Plot'\u001b[0m\u001b[0;34m,\u001b[0m \u001b[0msize\u001b[0m\u001b[0;34m=\u001b[0m\u001b[0;36m20\u001b[0m\u001b[0;34m,\u001b[0m \u001b[0mloc\u001b[0m\u001b[0;34m=\u001b[0m\u001b[0;34m'Left'\u001b[0m\u001b[0;34m,\u001b[0m \u001b[0my\u001b[0m\u001b[0;34m=\u001b[0m\u001b[0;36m1.03\u001b[0m\u001b[0;34m)\u001b[0m\u001b[0;34m\u001b[0m\u001b[0;34m\u001b[0m\u001b[0m\n\u001b[1;32m      4\u001b[0m \u001b[0;34m\u001b[0m\u001b[0m\n\u001b[1;32m      5\u001b[0m \u001b[0msns\u001b[0m\u001b[0;34m.\u001b[0m\u001b[0mdespine\u001b[0m\u001b[0;34m(\u001b[0m\u001b[0;34m)\u001b[0m\u001b[0;34m\u001b[0m\u001b[0;34m\u001b[0m\u001b[0m\n",
            "\u001b[0;31mNameError\u001b[0m: name 'palette_binary' is not defined"
          ]
        },
        {
          "data": {
            "text/plain": "<Figure size 1152x432 with 1 Axes>",
            "image/png": "[encoded data removed]"
          },
          "metadata": {},
          "output_type": "display_data"
        }
      ],
      "execution_count": null
    },
    {
      "cell_type": "markdown",
      "source": "## Data Visualization\n1. Correlation Maps\n2. Data Distributions\n3. Interesting Informations\n4. Graphs with Places",
      "metadata": {
        "tags": [],
        "cell_id": "00022-1a1783cc-2dad-4b65-aca6-c6ddc85a03e2",
        "deepnote_cell_type": "markdown"
      }
    },
    {
      "cell_type": "markdown",
      "source": "### 1.Correlation Maps",
      "metadata": {
        "tags": [],
        "cell_id": "00021-852f33f1-1064-4cc0-9756-94667811da1a",
        "deepnote_cell_type": "markdown"
      }
    },
    {
      "cell_type": "code",
      "source": "#Creating heat map\nplt.figure(figsize=(18, 7))\nsns.set(font_scale=1.5)\nsns.set_style('white')\ncorr = df.corr()\nsns.heatmap(corr, cmap='coolwarm', annot=True, annot_kws={'size':15})\nplt.show()",
      "metadata": {
        "tags": [],
        "cell_id": "00024-5014efba-9228-45ab-b561-4a6c0f3612e6",
        "deepnote_to_be_reexecuted": true,
        "source_hash": "bdc22623",
        "execution_millis": 1438,
        "deepnote_cell_type": "code"
      },
      "outputs": [
        {
          "data": {
            "text/plain": "<Figure size 1296x504 with 2 Axes>",
            "image/png": "[encoded data removed]"
          },
          "metadata": {},
          "output_type": "display_data"
        }
      ],
      "execution_count": null
    },
    {
      "cell_type": "markdown",
      "source": "1. The most significant correlation that appears here is the **Number of Ratings** and **Number of Reviews** they are obviously co-related positively.\n2. **Average Rattings** slightly co-relates positively with some other fields like:\n    * Number of pages \n    * Whether it's a series or not \n    * The published year which just could mean that the user is more active through time no more \n    \n",
      "metadata": {
        "tags": [],
        "cell_id": "00025-6daddf9f-ace7-4387-b872-c0895ee4c9c1",
        "deepnote_cell_type": "markdown"
      }
    },
    {
      "cell_type": "markdown",
      "source": "### 2.Data Distributions",
      "metadata": {
        "tags": [],
        "cell_id": "00022-bedd46e2-6717-483a-9431-34e963d9b234",
        "deepnote_cell_type": "markdown"
      }
    },
    {
      "cell_type": "markdown",
      "source": "",
      "metadata": {
        "tags": [],
        "cell_id": "00027-d1a6d873-78e6-44bd-ab4d-cbbe9928529a",
        "deepnote_cell_type": "markdown"
      }
    },
    {
      "cell_type": "markdown",
      "source": "### 3.Interesting Informations",
      "metadata": {
        "tags": [],
        "cell_id": "00024-888bf7d5-33b9-43a7-95da-f53ed4457f9e",
        "deepnote_cell_type": "markdown"
      }
    },
    {
      "cell_type": "markdown",
      "source": "### 4.Graphs with Places",
      "metadata": {
        "tags": [],
        "cell_id": "00023-9e3a7f54-91f6-4585-a75c-7f9dbe4abad1",
        "deepnote_cell_type": "markdown"
      }
    },
    {
      "cell_type": "markdown",
      "source": "",
      "metadata": {
        "tags": [],
        "cell_id": "00021-214f9d65-a8d3-4e69-a1a9-c6e25719d0a3",
        "deepnote_cell_type": "markdown"
      }
    },
    {
      "cell_type": "code",
      "source": "",
      "metadata": {
        "tags": [],
        "cell_id": "00022-02c23fb5-0f5b-4b4d-8b3e-129766e78271",
        "deepnote_to_be_reexecuted": true,
        "source_hash": "b623e53d",
        "deepnote_cell_type": "code"
      },
      "outputs": [],
      "execution_count": null
    },
    {
      "cell_type": "markdown",
      "source": "",
      "metadata": {
        "tags": [],
        "cell_id": "00021-e7502a48-183f-4c6c-a00e-aa8ded4893e9",
        "deepnote_cell_type": "markdown"
      }
    },
    {
      "cell_type": "markdown",
      "source": "<a style='text-decoration:none;line-height:16px;display:flex;color:#5B5B62;padding:10px;justify-content:end;' href='https://deepnote.com?utm_source=created-in-deepnote-cell&projectId=a0867bd3-5624-476b-af8a-bd1f917bd510' target=\"_blank\">\n<img alt='Created in deepnote.com' style='display:inline;max-height:16px;margin:0px;margin-right:7.5px;' src='data:image/svg+xml;base64,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' > </img>\nCreated in <span style='font-weight:600;margin-left:4px;'>Deepnote</span></a>",
      "metadata": {
        "tags": [],
        "created_in_deepnote_cell": true,
        "deepnote_cell_type": "markdown"
      }
    }
  ],
  "nbformat": 4,
  "nbformat_minor": 2,
  "metadata": {
    "orig_nbformat": 2,
    "deepnote": {
      "is_reactive": false
    },
    "deepnote_notebook_id": "66a0c235-95ed-4dba-bb5e-30b31abf3ce2",
    "deepnote_execution_queue": []
  }
}