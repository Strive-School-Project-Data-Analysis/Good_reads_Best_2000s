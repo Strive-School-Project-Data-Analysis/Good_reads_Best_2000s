{
  "cells": [
    {
      "cell_type": "markdown",
      "source": "### Data Preparation\n1. Importing Libraries and Data Set\n2. Understanding Data Set\n3. Cleaning Data Set",
      "metadata": {
        "tags": [],
        "cell_id": "00001-2db04db0-d915-4f59-9bf5-181f22781807",
        "deepnote_cell_type": "markdown"
      }
    },
    {
      "cell_type": "markdown",
      "source": "#### 1.Importing Libraries and Data Set",
      "metadata": {
        "tags": [],
        "cell_id": "00001-e14878dc-0ffb-4cdd-a66f-6c7a522c711c",
        "deepnote_cell_type": "markdown"
      }
    },
    {
      "cell_type": "code",
      "metadata": {
        "tags": [],
        "cell_id": "00000-935d6674-7799-4dc3-8bd5-872878f83ee9",
        "deepnote_to_be_reexecuted": false,
        "source_hash": "86ec21fd",
        "execution_millis": 1,
        "execution_start": 1618386137073,
        "deepnote_cell_type": "code"
      },
      "source": "#Importing Libraries\nimport numpy as np # linear algebra\nimport pandas as pd # data processing, CSV file I/O (e.g. pd.read_csv)\nimport seaborn as sns\nimport os\nimport matplotlib as mpl\nimport matplotlib.pyplot as plt",
      "execution_count": 18,
      "outputs": []
    },
    {
      "cell_type": "code",
      "metadata": {
        "tags": [],
        "cell_id": "00001-f8714e80-49cc-4fe2-aac2-f7247067defc",
        "deepnote_to_be_reexecuted": false,
        "source_hash": "282a5200",
        "execution_millis": 11,
        "execution_start": 1618386297415,
        "deepnote_cell_type": "code"
      },
      "source": "#Importing Data\ndef importing_data():\n    df=pd.read_csv(\"/work/Good_reads_Best_2000s/Data.csv\")\n    return df\ndf=importing_data()",
      "execution_count": 26,
      "outputs": []
    },
    {
      "cell_type": "markdown",
      "source": "#### 2.Understanding Data Set",
      "metadata": {
        "tags": [],
        "cell_id": "00004-32e5a7fd-ed68-4267-af4e-28b4c4c344c7",
        "deepnote_cell_type": "markdown"
      }
    },
    {
      "cell_type": "code",
      "metadata": {
        "tags": [],
        "cell_id": "00005-7f16131a-c40e-4118-8d79-23fbe8fed1a9",
        "deepnote_to_be_reexecuted": false,
        "source_hash": "6dd7a748",
        "execution_millis": 12,
        "execution_start": 1618386139527,
        "deepnote_cell_type": "code"
      },
      "source": "#Showing first 5 row of dataset\ndf.head()",
      "execution_count": 20,
      "outputs": [
        {
          "output_type": "execute_result",
          "execution_count": 20,
          "data": {
            "application/vnd.deepnote.dataframe.v2+json": {
              "row_count": 5,
              "column_count": 12,
              "columns": [
                {
                  "name": "URL",
                  "dtype": "object",
                  "stats": {
                    "unique_count": 5,
                    "nan_count": 0,
                    "categories": [
                      {
                        "name": "https://www.goodreads.com/book/show/136251.Harry_Potter_and_the_Deathly_Hallows\"",
                        "count": 1
                      },
                      {
                        "name": "https://www.goodreads.com/book/show/2767052-the-hunger-games\"",
                        "count": 1
                      },
                      {
                        "name": "3 others",
                        "count": 3
                      }
                    ]
                  }
                },
                {
                  "name": "Title",
                  "dtype": "object",
                  "stats": {
                    "unique_count": 5,
                    "nan_count": 0,
                    "categories": [
                      {
                        "name": "Harry Potter and the Deathly Hallows (Harry Potter, #7)",
                        "count": 1
                      },
                      {
                        "name": "The Hunger Games (The Hunger Games, #1)",
                        "count": 1
                      },
                      {
                        "name": "3 others",
                        "count": 3
                      }
                    ]
                  }
                },
                {
                  "name": "Author",
                  "dtype": "object",
                  "stats": {
                    "unique_count": 2,
                    "nan_count": 0,
                    "categories": [
                      {
                        "name": "J.K. Rowling",
                        "count": 4
                      },
                      {
                        "name": "Suzanne Collins",
                        "count": 1
                      }
                    ]
                  }
                },
                {
                  "name": "Number of Ratings",
                  "dtype": "float64",
                  "stats": {
                    "unique_count": 5,
                    "nan_count": 0,
                    "min": "2575456.0",
                    "max": "6685627.0",
                    "histogram": [
                      {
                        "bin_start": 2575456,
                        "bin_end": 2986473.1,
                        "count": 4
                      },
                      {
                        "bin_start": 2986473.1,
                        "bin_end": 3397490.2,
                        "count": 0
                      },
                      {
                        "bin_start": 3397490.2,
                        "bin_end": 3808507.3,
                        "count": 0
                      },
                      {
                        "bin_start": 3808507.3,
                        "bin_end": 4219524.4,
                        "count": 0
                      },
                      {
                        "bin_start": 4219524.4,
                        "bin_end": 4630541.5,
                        "count": 0
                      },
                      {
                        "bin_start": 4630541.5,
                        "bin_end": 5041558.6,
                        "count": 0
                      },
                      {
                        "bin_start": 5041558.6,
                        "bin_end": 5452575.699999999,
                        "count": 0
                      },
                      {
                        "bin_start": 5452575.699999999,
                        "bin_end": 5863592.8,
                        "count": 0
                      },
                      {
                        "bin_start": 5863592.8,
                        "bin_end": 6274609.9,
                        "count": 0
                      },
                      {
                        "bin_start": 6274609.9,
                        "bin_end": 6685627,
                        "count": 1
                      }
                    ]
                  }
                },
                {
                  "name": "Number of Reviews",
                  "dtype": "float64",
                  "stats": {
                    "unique_count": 5,
                    "nan_count": 0,
                    "min": "42018.0",
                    "max": "175504.0",
                    "histogram": [
                      {
                        "bin_start": 42018,
                        "bin_end": 55366.6,
                        "count": 3
                      },
                      {
                        "bin_start": 55366.6,
                        "bin_end": 68715.2,
                        "count": 1
                      },
                      {
                        "bin_start": 68715.2,
                        "bin_end": 82063.8,
                        "count": 0
                      },
                      {
                        "bin_start": 82063.8,
                        "bin_end": 95412.4,
                        "count": 0
                      },
                      {
                        "bin_start": 95412.4,
                        "bin_end": 108761,
                        "count": 0
                      },
                      {
                        "bin_start": 108761,
                        "bin_end": 122109.6,
                        "count": 0
                      },
                      {
                        "bin_start": 122109.6,
                        "bin_end": 135458.2,
                        "count": 0
                      },
                      {
                        "bin_start": 135458.2,
                        "bin_end": 148806.8,
                        "count": 0
                      },
                      {
                        "bin_start": 148806.8,
                        "bin_end": 162155.40000000002,
                        "count": 0
                      },
                      {
                        "bin_start": 162155.40000000002,
                        "bin_end": 175504,
                        "count": 1
                      }
                    ]
                  }
                },
                {
                  "name": "Average Ratings",
                  "dtype": "float64",
                  "stats": {
                    "unique_count": 3,
                    "nan_count": 0,
                    "min": "4.3",
                    "max": "4.6",
                    "histogram": [
                      {
                        "bin_start": 4.3,
                        "bin_end": 4.33,
                        "count": 1
                      },
                      {
                        "bin_start": 4.33,
                        "bin_end": 4.359999999999999,
                        "count": 0
                      },
                      {
                        "bin_start": 4.359999999999999,
                        "bin_end": 4.39,
                        "count": 0
                      },
                      {
                        "bin_start": 4.39,
                        "bin_end": 4.42,
                        "count": 0
                      },
                      {
                        "bin_start": 4.42,
                        "bin_end": 4.449999999999999,
                        "count": 0
                      },
                      {
                        "bin_start": 4.449999999999999,
                        "bin_end": 4.4799999999999995,
                        "count": 0
                      },
                      {
                        "bin_start": 4.4799999999999995,
                        "bin_end": 4.51,
                        "count": 3
                      },
                      {
                        "bin_start": 4.51,
                        "bin_end": 4.54,
                        "count": 0
                      },
                      {
                        "bin_start": 4.54,
                        "bin_end": 4.569999999999999,
                        "count": 0
                      },
                      {
                        "bin_start": 4.569999999999999,
                        "bin_end": 4.6,
                        "count": 1
                      }
                    ]
                  }
                },
                {
                  "name": "Number of Pages",
                  "dtype": "float64",
                  "stats": {
                    "unique_count": 5,
                    "nan_count": 0,
                    "min": "374.0",
                    "max": "870.0",
                    "histogram": [
                      {
                        "bin_start": 374,
                        "bin_end": 423.6,
                        "count": 1
                      },
                      {
                        "bin_start": 423.6,
                        "bin_end": 473.2,
                        "count": 0
                      },
                      {
                        "bin_start": 473.2,
                        "bin_end": 522.8,
                        "count": 0
                      },
                      {
                        "bin_start": 522.8,
                        "bin_end": 572.4,
                        "count": 0
                      },
                      {
                        "bin_start": 572.4,
                        "bin_end": 622,
                        "count": 0
                      },
                      {
                        "bin_start": 622,
                        "bin_end": 671.6,
                        "count": 1
                      },
                      {
                        "bin_start": 671.6,
                        "bin_end": 721.2,
                        "count": 0
                      },
                      {
                        "bin_start": 721.2,
                        "bin_end": 770.8,
                        "count": 2
                      },
                      {
                        "bin_start": 770.8,
                        "bin_end": 820.4000000000001,
                        "count": 0
                      },
                      {
                        "bin_start": 820.4000000000001,
                        "bin_end": 870,
                        "count": 1
                      }
                    ]
                  }
                },
                {
                  "name": "Published Year",
                  "dtype": "float64",
                  "stats": {
                    "unique_count": 5,
                    "nan_count": 0,
                    "min": "2002.0",
                    "max": "2008.0",
                    "histogram": [
                      {
                        "bin_start": 2002,
                        "bin_end": 2002.6,
                        "count": 1
                      },
                      {
                        "bin_start": 2002.6,
                        "bin_end": 2003.2,
                        "count": 0
                      },
                      {
                        "bin_start": 2003.2,
                        "bin_end": 2003.8,
                        "count": 0
                      },
                      {
                        "bin_start": 2003.8,
                        "bin_end": 2004.4,
                        "count": 1
                      },
                      {
                        "bin_start": 2004.4,
                        "bin_end": 2005,
                        "count": 0
                      },
                      {
                        "bin_start": 2005,
                        "bin_end": 2005.6,
                        "count": 0
                      },
                      {
                        "bin_start": 2005.6,
                        "bin_end": 2006.2,
                        "count": 1
                      },
                      {
                        "bin_start": 2006.2,
                        "bin_end": 2006.8,
                        "count": 0
                      },
                      {
                        "bin_start": 2006.8,
                        "bin_end": 2007.4,
                        "count": 1
                      },
                      {
                        "bin_start": 2007.4,
                        "bin_end": 2008,
                        "count": 1
                      }
                    ]
                  }
                },
                {
                  "name": "Series",
                  "dtype": "float64",
                  "stats": {
                    "unique_count": 1,
                    "nan_count": 0,
                    "min": "1.0",
                    "max": "1.0",
                    "histogram": [
                      {
                        "bin_start": 0.5,
                        "bin_end": 0.6,
                        "count": 0
                      },
                      {
                        "bin_start": 0.6,
                        "bin_end": 0.7,
                        "count": 0
                      },
                      {
                        "bin_start": 0.7,
                        "bin_end": 0.8,
                        "count": 0
                      },
                      {
                        "bin_start": 0.8,
                        "bin_end": 0.9,
                        "count": 0
                      },
                      {
                        "bin_start": 0.9,
                        "bin_end": 1,
                        "count": 0
                      },
                      {
                        "bin_start": 1,
                        "bin_end": 1.1,
                        "count": 5
                      },
                      {
                        "bin_start": 1.1,
                        "bin_end": 1.2000000000000002,
                        "count": 0
                      },
                      {
                        "bin_start": 1.2000000000000002,
                        "bin_end": 1.3,
                        "count": 0
                      },
                      {
                        "bin_start": 1.3,
                        "bin_end": 1.4,
                        "count": 0
                      },
                      {
                        "bin_start": 1.4,
                        "bin_end": 1.5,
                        "count": 0
                      }
                    ]
                  }
                },
                {
                  "name": "Genres",
                  "dtype": "object",
                  "stats": {
                    "unique_count": 2,
                    "nan_count": 0,
                    "categories": [
                      {
                        "name": "['Fantasy', 'Young Adult', 'Fiction']",
                        "count": 4
                      },
                      {
                        "name": "['Young Adult', 'Fiction', 'Dystopia']",
                        "count": 1
                      }
                    ]
                  }
                },
                {
                  "name": "Awards",
                  "dtype": "object",
                  "stats": {
                    "unique_count": 5,
                    "nan_count": 0,
                    "categories": [
                      {
                        "name": "['Locus Award Nominee for Best Young Adult Novel (2008)', 'Odyssey Award Nominee (2008)', 'Audie Award (2008)', 'Books I Loved Best Yearly (BILBY) Awards for Older Readers (2008)', 'Teen Read Award Nominee for Best All-Time-Fave (2010)', 'Puddly Award for Fiction (2008)', 'Andre Norton Award (2007)', 'Carnegie Medal Nominee (2008)']",
                        "count": 1
                      },
                      {
                        "name": "['Locus Award Nominee for Best Young Adult Book (2009)', 'Georgia Peach Book Award (2009)', 'Buxtehuder Bulle (2009)', 'Golden Duck Award for Young Adult (Hal Clement Award) (2009)', \"Grand Prix de l'Imaginaire Nominee for Roman jeunesse étranger (2010)\", 'Books I Loved Best Yearly (BILBY) Awards for Older Readers (2012)', \"West Australian Young Readers' Book Award (WAYRBA) for Older Readers (2010)\", \"Red House Children's Book Award for Older Readers & Overall (2010)\", 'South Carolina Book Award for Junior and Young Adult Book (2011)', 'Charlotte Award (2010)', 'Colorado Blue Spruce Young Adult Book Award (2010)', 'Teen Buckeye Book Award (2009)', \"Pennsylvania Young Readers' Choice Award for Young Adults (2010)\", 'Rhode Island Teen Book Award (2010)', \"Dorothy Canfield Fisher Children's Book Award (2010)\", 'Evergreen Teen Book Award (2011)', 'Soaring Eagle Book Award (2009)', 'Milwaukee County Teen Book Award Nominee (2010)', 'Sakura Medal for Middle School Book (2010)', 'Michigan Library Association Thumbs Up! Award (2009)', 'Florida Teens Read (2009)', 'Deutscher Jugendliteraturpreis for Preis der Jugendjury (2010)', 'Iowa High School Book Award (2011)', 'New Mexico Land of Enchantment Award for Young Adult (2011)', 'Eliot Rosewater Indiana High School Book Award (2010)', 'The Inky Awards for Silver Inky (2009)', 'California Young Readers Medal for Young Adult (2011)', 'Lincoln Award (2011)', 'Kinderboekwinkelprijs (2010)', 'Missouri Truman Readers Award (2011)', 'CYBILS Award for Young Adult Fantasy & Science Fiction (2008)', 'Literaturpreis der Jury der jungen Leser for Jugendbuch (2010)', 'The Inky Awards Shortlist for Silver Inky (2009)', 'Prix Et-lisez-moi (2011)', 'Missouri Gateway Readers Award (2011)', 'Oklahoma Sequoyah Award for High School and Intermediate (2011)', 'Premio El Templo de las Mil Puertas for Mejor novela extranjera perteneciente a saga (2009)', \"Rebecca Caudill Young Readers' Book Award (2011)\", 'LovelyBooks Leserpreis for Fantasy (2009)', 'LovelyBooks Leserpreis for Bestes Cover/Umschlag (2009)', 'Premi Protagonista Jove for Categoria 13-14 anys (2010)']",
                        "count": 1
                      },
                      {
                        "name": "3 others",
                        "count": 3
                      }
                    ]
                  }
                },
                {
                  "name": "Places",
                  "dtype": "object",
                  "stats": {
                    "unique_count": 5,
                    "nan_count": 0,
                    "categories": [
                      {
                        "name": "[['London, England', '(United Kingdom)'], ['Hogwarts School of Witchcraft and Wizardry', '(United Kingdom)'], ['Pagford', '(United Kingdom)']]",
                        "count": 1
                      },
                      {
                        "name": "[['District 12, Panem', 'Capitol, Panem', 'Panem', '(United States)']]",
                        "count": 1
                      },
                      {
                        "name": "3 others",
                        "count": 3
                      }
                    ]
                  }
                },
                {
                  "name": "_deepnote_index_column",
                  "dtype": "int64"
                }
              ],
              "rows_top": [
                {
                  "URL": "https://www.goodreads.com/book/show/136251.Harry_Potter_and_the_Deathly_Hallows\"",
                  "Title": "Harry Potter and the Deathly Hallows (Harry Potter, #7)",
                  "Author": "J.K. Rowling",
                  "Number of Ratings": 2959601,
                  "Number of Reviews": 68457,
                  "Average Ratings": 4.6,
                  "Number of Pages": 759,
                  "Published Year": 2007,
                  "Series": 1,
                  "Genres": "['Fantasy', 'Young Adult', 'Fiction']",
                  "Awards": "['Locus Award Nominee for Best Young Adult Novel (2008)', 'Odyssey Award Nominee (2008)', 'Audie Award (2008)', 'Books I Loved Best Yearly (BILBY) Awards for Older Readers (2008)', 'Teen Read Award Nominee for Best All-Time-Fave (2010)', 'Puddly Award for Fiction (2008)', 'Andre Norton Award (2007)', 'Carnegie Medal Nominee (2008)']",
                  "Places": "[['London, England', '(United Kingdom)'], ['Hogwarts School of Witchcraft and Wizardry', '(United Kingdom)'], ['Pagford', '(United Kingdom)']]",
                  "_deepnote_index_column": 0
                },
                {
                  "URL": "https://www.goodreads.com/book/show/2767052-the-hunger-games\"",
                  "Title": "The Hunger Games (The Hunger Games, #1)",
                  "Author": "Suzanne Collins",
                  "Number of Ratings": 6685627,
                  "Number of Reviews": 175504,
                  "Average Ratings": 4.3,
                  "Number of Pages": 374,
                  "Published Year": 2008,
                  "Series": 1,
                  "Genres": "['Young Adult', 'Fiction', 'Dystopia']",
                  "Awards": "['Locus Award Nominee for Best Young Adult Book (2009)', 'Georgia Peach Book Award (2009)', 'Buxtehuder Bulle (2009)', 'Golden Duck Award for Young Adult (Hal Clement Award) (2009)', \"Grand Prix de l'Imaginaire Nominee for Roman jeunesse étranger (2010)\", 'Books I Loved Best Yearly (BILBY) Awards for Older Readers (2012)', \"West Australian Young Readers' Book Award (WAYRBA) for Older Readers (2010)\", \"Red House Children's Book Award for Older Readers & Overall (2010)\", 'South Carolina Book Award for Junior and Young Adult Book (2011)', 'Charlotte Award (2010)', 'Colorado Blue Spruce Young Adult Book Award (2010)', 'Teen Buckeye Book Award (2009)', \"Pennsylvania Young Readers' Choice Award for Young Adults (2010)\", 'Rhode Island Teen Book Award (2010)', \"Dorothy Canfield Fisher Children's Book Award (2010)\", 'Evergreen Teen Book Award (2011)', 'Soaring Eagle Book Award (2009)', 'Milwaukee County Teen Book Award Nominee (2010)', 'Sakura Medal for Middle School Book (2010)', 'Michigan Library Association Thumbs Up! Award (2009)', 'Florida Teens Read (2009)', 'Deutscher Jugendliteraturpreis for Preis der Jugendjury (2010)', 'Iowa High School Book Award (2011)', 'New Mexico Land of Enchantment Award for Young Adult (2011)', 'Eliot Rosewater Indiana High School Book Award (2010)', 'The Inky Awards for Silver Inky (2009)', 'California Young Readers Medal for Young Adult (2011)', 'Lincoln Award (2011)', 'Kinderboekwinkelprijs (2010)', 'Missouri Truman Readers Award (2011)', 'CYBILS Award for Young Adult Fantasy & Science Fiction (2008)', 'Literaturpreis der Jury der jungen Leser for Jugendbuch (2010)', 'The Inky Awards Shortlist for Silver Inky (2009)', 'Prix Et-lisez-moi (2011)', 'Missouri Gateway Readers Award (2011)', 'Oklahoma Sequoyah Award for High School and Intermediate (2011)', 'Premio El Templo de las Mil Puertas for Mejor novela extranjera perteneciente a saga (2009)', \"Rebecca Caudill Young Readers' Book Award (2011)\", 'LovelyBooks Leserpreis for Fantasy (2009)', 'LovelyBooks Leserpreis for Bestes Cover/Umschlag (2009)', 'Premi Protagonista Jove for Categoria 13-14 anys (2010)']",
                  "Places": "[['District 12, Panem', 'Capitol, Panem', 'Panem', '(United States)']]",
                  "_deepnote_index_column": 1
                },
                {
                  "URL": "https://www.goodreads.com/book/show/1.Harry_Potter_and_the_Half_Blood_Prince\"",
                  "Title": "Harry Potter and the Half-Blood Prince (Harry Potter, #6)",
                  "Author": "J.K. Rowling",
                  "Number of Ratings": 2575456,
                  "Number of Reviews": 42018,
                  "Average Ratings": 4.5,
                  "Number of Pages": 652,
                  "Published Year": 2006,
                  "Series": 1,
                  "Genres": "['Fantasy', 'Young Adult', 'Fiction']",
                  "Awards": "['Locus Award Nominee for Best Young Adult Novel (2006)', 'Audie Award for Audiobook of the Year (2006)', 'British Book of the Year (2006)']",
                  "Places": "[['Hogwarts School of Witchcraft and Wizardry', '(United Kingdom)'], ['England']]",
                  "_deepnote_index_column": 2
                },
                {
                  "URL": "https://www.goodreads.com/book/show/6.Harry_Potter_and_the_Goblet_of_Fire\"",
                  "Title": "Harry Potter and the Goblet of Fire (Harry Potter, #4)",
                  "Author": "J.K. Rowling",
                  "Number of Ratings": 2750013,
                  "Number of Reviews": 49585,
                  "Average Ratings": 4.5,
                  "Number of Pages": 734,
                  "Published Year": 2002,
                  "Series": 1,
                  "Genres": "['Fantasy', 'Young Adult', 'Fiction']",
                  "Awards": "['Hugo Award for Best Novel (2001)', \"Mythopoeic Fantasy Award for Children's Literature (2008)\", 'Publieksprijs voor het Nederlandse Boek (2001)', 'Audie Award for Solo Narration - Male (2001)', \"West Australian Young Readers' Book Award (WAYRBA) for Younger Readers (2001)\", 'Golden Archer Award for Middle/Junior High (2002)', 'Indian Paintbrush Book Award (2002)', 'Deutscher Bücherpreis for Publikumspreis', 'Corine Internationaler Buchpreis for Kinder- und Jugendbuch (2001)']",
                  "Places": "[['Hogwarts School of Witchcraft and Wizardry,\\n1994', '(United Kingdom)'], ['Scotland', 'United Kingdom']]",
                  "_deepnote_index_column": 3
                },
                {
                  "URL": "https://www.goodreads.com/book/show/2.Harry_Potter_and_the_Order_of_the_Phoenix\"",
                  "Title": "Harry Potter and the Order of the Phoenix (Harry Potter, #5)",
                  "Author": "J.K. Rowling",
                  "Number of Ratings": 2653494,
                  "Number of Reviews": 45376,
                  "Average Ratings": 4.5,
                  "Number of Pages": 870,
                  "Published Year": 2004,
                  "Series": 1,
                  "Genres": "['Fantasy', 'Young Adult', 'Fiction']",
                  "Awards": "['Bram Stoker Award for Works for Young Readers (2003)', 'Anthony Award for Young Adult (2004)', \"Mythopoeic Fantasy Award for Children's Literature (2008)\", 'Audie Award for Audiobook of the Year (2004)', 'Books I Loved Best Yearly (BILBY) Awards for Older Readers (2004)', 'Colorado Blue Spruce Young Adult Book Award (2006)', 'Golden Archer Award for Middle/Junior High (2005)', 'Deutscher Jugendliteraturpreis Nominee for Preis der Jugendjury (2004)', 'Carnegie Medal Nominee (2003)']",
                  "Places": "[['Hogwarts School of Witchcraft and Wizardry', '(United Kingdom)'], ['London, England', '(United Kingdom)']]",
                  "_deepnote_index_column": 4
                }
              ],
              "rows_bottom": null
            },
            "text/plain": "                                                 URL  \\\n0  https://www.goodreads.com/book/show/136251.Har...   \n1  https://www.goodreads.com/book/show/2767052-th...   \n2  https://www.goodreads.com/book/show/1.Harry_Po...   \n3  https://www.goodreads.com/book/show/6.Harry_Po...   \n4  https://www.goodreads.com/book/show/2.Harry_Po...   \n\n                                               Title           Author  \\\n0  Harry Potter and the Deathly Hallows (Harry Po...     J.K. Rowling   \n1            The Hunger Games (The Hunger Games, #1)  Suzanne Collins   \n2  Harry Potter and the Half-Blood Prince (Harry ...     J.K. Rowling   \n3  Harry Potter and the Goblet of Fire (Harry Pot...     J.K. Rowling   \n4  Harry Potter and the Order of the Phoenix (Har...     J.K. Rowling   \n\n   Number of Ratings  Number of Reviews  Average Ratings  Number of Pages  \\\n0          2959601.0            68457.0              4.6            759.0   \n1          6685627.0           175504.0              4.3            374.0   \n2          2575456.0            42018.0              4.5            652.0   \n3          2750013.0            49585.0              4.5            734.0   \n4          2653494.0            45376.0              4.5            870.0   \n\n   Published Year  Series                                  Genres  \\\n0          2007.0     1.0   ['Fantasy', 'Young Adult', 'Fiction']   \n1          2008.0     1.0  ['Young Adult', 'Fiction', 'Dystopia']   \n2          2006.0     1.0   ['Fantasy', 'Young Adult', 'Fiction']   \n3          2002.0     1.0   ['Fantasy', 'Young Adult', 'Fiction']   \n4          2004.0     1.0   ['Fantasy', 'Young Adult', 'Fiction']   \n\n                                              Awards  \\\n0  ['Locus Award Nominee for Best Young Adult Nov...   \n1  ['Locus Award Nominee for Best Young Adult Boo...   \n2  ['Locus Award Nominee for Best Young Adult Nov...   \n3  ['Hugo Award for Best Novel (2001)', \"Mythopoe...   \n4  ['Bram Stoker Award for Works for Young Reader...   \n\n                                              Places  \n0  [['London, England', '(United Kingdom)'], ['Ho...  \n1  [['District 12, Panem', 'Capitol, Panem', 'Pan...  \n2  [['Hogwarts School of Witchcraft and Wizardry'...  \n3  [['Hogwarts School of Witchcraft and Wizardry,...  \n4  [['Hogwarts School of Witchcraft and Wizardry'...  ",
            "text/html": "<div>\n<style scoped>\n    .dataframe tbody tr th:only-of-type {\n        vertical-align: middle;\n    }\n\n    .dataframe tbody tr th {\n        vertical-align: top;\n    }\n\n    .dataframe thead th {\n        text-align: right;\n    }\n</style>\n<table border=\"1\" class=\"dataframe\">\n  <thead>\n    <tr style=\"text-align: right;\">\n      <th></th>\n      <th>URL</th>\n      <th>Title</th>\n      <th>Author</th>\n      <th>Number of Ratings</th>\n      <th>Number of Reviews</th>\n      <th>Average Ratings</th>\n      <th>Number of Pages</th>\n      <th>Published Year</th>\n      <th>Series</th>\n      <th>Genres</th>\n      <th>Awards</th>\n      <th>Places</th>\n    </tr>\n  </thead>\n  <tbody>\n    <tr>\n      <th>0</th>\n      <td>https://www.goodreads.com/book/show/136251.Har...</td>\n      <td>Harry Potter and the Deathly Hallows (Harry Po...</td>\n      <td>J.K. Rowling</td>\n      <td>2959601.0</td>\n      <td>68457.0</td>\n      <td>4.6</td>\n      <td>759.0</td>\n      <td>2007.0</td>\n      <td>1.0</td>\n      <td>['Fantasy', 'Young Adult', 'Fiction']</td>\n      <td>['Locus Award Nominee for Best Young Adult Nov...</td>\n      <td>[['London, England', '(United Kingdom)'], ['Ho...</td>\n    </tr>\n    <tr>\n      <th>1</th>\n      <td>https://www.goodreads.com/book/show/2767052-th...</td>\n      <td>The Hunger Games (The Hunger Games, #1)</td>\n      <td>Suzanne Collins</td>\n      <td>6685627.0</td>\n      <td>175504.0</td>\n      <td>4.3</td>\n      <td>374.0</td>\n      <td>2008.0</td>\n      <td>1.0</td>\n      <td>['Young Adult', 'Fiction', 'Dystopia']</td>\n      <td>['Locus Award Nominee for Best Young Adult Boo...</td>\n      <td>[['District 12, Panem', 'Capitol, Panem', 'Pan...</td>\n    </tr>\n    <tr>\n      <th>2</th>\n      <td>https://www.goodreads.com/book/show/1.Harry_Po...</td>\n      <td>Harry Potter and the Half-Blood Prince (Harry ...</td>\n      <td>J.K. Rowling</td>\n      <td>2575456.0</td>\n      <td>42018.0</td>\n      <td>4.5</td>\n      <td>652.0</td>\n      <td>2006.0</td>\n      <td>1.0</td>\n      <td>['Fantasy', 'Young Adult', 'Fiction']</td>\n      <td>['Locus Award Nominee for Best Young Adult Nov...</td>\n      <td>[['Hogwarts School of Witchcraft and Wizardry'...</td>\n    </tr>\n    <tr>\n      <th>3</th>\n      <td>https://www.goodreads.com/book/show/6.Harry_Po...</td>\n      <td>Harry Potter and the Goblet of Fire (Harry Pot...</td>\n      <td>J.K. Rowling</td>\n      <td>2750013.0</td>\n      <td>49585.0</td>\n      <td>4.5</td>\n      <td>734.0</td>\n      <td>2002.0</td>\n      <td>1.0</td>\n      <td>['Fantasy', 'Young Adult', 'Fiction']</td>\n      <td>['Hugo Award for Best Novel (2001)', \"Mythopoe...</td>\n      <td>[['Hogwarts School of Witchcraft and Wizardry,...</td>\n    </tr>\n    <tr>\n      <th>4</th>\n      <td>https://www.goodreads.com/book/show/2.Harry_Po...</td>\n      <td>Harry Potter and the Order of the Phoenix (Har...</td>\n      <td>J.K. Rowling</td>\n      <td>2653494.0</td>\n      <td>45376.0</td>\n      <td>4.5</td>\n      <td>870.0</td>\n      <td>2004.0</td>\n      <td>1.0</td>\n      <td>['Fantasy', 'Young Adult', 'Fiction']</td>\n      <td>['Bram Stoker Award for Works for Young Reader...</td>\n      <td>[['Hogwarts School of Witchcraft and Wizardry'...</td>\n    </tr>\n  </tbody>\n</table>\n</div>"
          },
          "metadata": {}
        }
      ]
    },
    {
      "cell_type": "code",
      "metadata": {
        "tags": [],
        "cell_id": "00002-1569a56a-dec6-4a19-922c-a2cba1f95015",
        "deepnote_to_be_reexecuted": false,
        "source_hash": "de1e323c",
        "execution_millis": 6,
        "execution_start": 1618386141398,
        "deepnote_cell_type": "code"
      },
      "source": "df.info()",
      "execution_count": 21,
      "outputs": [
        {
          "name": "stdout",
          "text": "<class 'pandas.core.frame.DataFrame'>\nRangeIndex: 5 entries, 0 to 4\nData columns (total 12 columns):\n #   Column             Non-Null Count  Dtype  \n---  ------             --------------  -----  \n 0   URL                5 non-null      object \n 1   Title              5 non-null      object \n 2   Author             5 non-null      object \n 3   Number of Ratings  5 non-null      float64\n 4   Number of Reviews  5 non-null      float64\n 5   Average Ratings    5 non-null      float64\n 6   Number of Pages    5 non-null      float64\n 7   Published Year     5 non-null      float64\n 8   Series             5 non-null      float64\n 9   Genres             5 non-null      object \n 10  Awards             5 non-null      object \n 11  Places             5 non-null      object \ndtypes: float64(6), object(6)\nmemory usage: 608.0+ bytes\n",
          "output_type": "stream"
        }
      ]
    },
    {
      "cell_type": "markdown",
      "source": "We have 12 different columns which can be categorical or numerical data in our data set. Also, we can say that there are some non-values that we should take care of! Let's check how big they are.",
      "metadata": {
        "tags": [],
        "cell_id": "00006-58719b3b-a6a5-41f7-a233-4f264557265e",
        "deepnote_cell_type": "markdown"
      }
    },
    {
      "cell_type": "code",
      "metadata": {
        "tags": [],
        "cell_id": "00003-5eebbc1c-e4bd-4029-99be-c7591d9148bd",
        "deepnote_to_be_reexecuted": false,
        "source_hash": "7b5e9d7",
        "execution_millis": 601,
        "execution_start": 1618386303278,
        "deepnote_cell_type": "code"
      },
      "source": "#Heat map of null cells\ndef plotting_null_data():\n    fig = plt.figure(figsize=(15,5))\n    fig.add_subplot(121)\n    plt.title('Nulls of Data')\n    sns.heatmap(df.isnull(), cmap='plasma')\n    return plt.show()\nplotting_null_data()",
      "execution_count": 27,
      "outputs": [
        {
          "data": {
            "text/plain": "<Figure size 1080x360 with 2 Axes>",
            "image/png": "[encoded data removed]"
          },
          "metadata": {
            "needs_background": "light"
          },
          "output_type": "display_data"
        }
      ]
    },
    {
      "cell_type": "code",
      "metadata": {
        "tags": [],
        "cell_id": "00004-ae2faa8c-338e-462d-9920-fc15e34d2f14",
        "deepnote_to_be_reexecuted": false,
        "source_hash": "ad9b1920",
        "execution_millis": 4,
        "execution_start": 1618387090909,
        "deepnote_cell_type": "code"
      },
      "source": "print(\"Percentage of Null Values\")\nmissing_percentage = df.isnull().sum() * 100 / len(df) #Calculating percentage of missing values\nmissing_percentage",
      "execution_count": 28,
      "outputs": [
        {
          "name": "stdout",
          "text": "Percentage of Null Values\n",
          "output_type": "stream"
        },
        {
          "output_type": "execute_result",
          "execution_count": 28,
          "data": {
            "text/plain": "URL                   0.0\nTitle                 0.0\nAuthor                0.0\nNumber of Ratings     0.5\nNumber of Reviews     0.5\nAverage Ratings       2.2\nNumber of Pages       0.8\nPublished Year        0.6\nSeries                0.5\nGenres                0.8\nAwards                0.0\nPlaces               32.9\ndtype: float64"
          },
          "metadata": {}
        }
      ]
    },
    {
      "cell_type": "markdown",
      "source": "We have pretty less null value in our data set. Only \"Places\" have 32% null value.\n## Filling the null data \nThere are a lot of approaches for filling the data.\n* For filling numerical data we will use mean values \n* For filling categorical data we will use mode values\n",
      "metadata": {
        "tags": [],
        "cell_id": "00010-9a479ca3-a357-49d3-bb4a-b7baebd5ddbb",
        "deepnote_cell_type": "markdown"
      }
    },
    {
      "cell_type": "markdown",
      "source": "**Filling numerical data**",
      "metadata": {
        "tags": [],
        "cell_id": "00011-e36dce2c-38da-4b10-9554-b790cdd2a4b8",
        "deepnote_cell_type": "markdown"
      }
    },
    {
      "cell_type": "code",
      "metadata": {
        "tags": [],
        "cell_id": "00011-211332d6-7b82-4722-9323-cd2996c0f10e",
        "deepnote_to_be_reexecuted": false,
        "source_hash": "af73de52",
        "execution_millis": 1,
        "execution_start": 1618390703452,
        "deepnote_cell_type": "code"
      },
      "source": "#Filling numerical data of Number of Ratings\ndf['Number of Ratings'] = df['Number of Ratings'].fillna(df['Number of Ratings'].mean())\n#Filling numerical data of Number of Reviews\ndf['Number of Reviews'] = df['Number of Reviews'].fillna(df['Number of Reviews'].mean())\n#Filling numerical data of Average Ratings\ndf['Average Ratings'] = df['Average Ratings'].fillna(df['Average Ratings'].mean())\n#Filling numerical data of Number of Pages\ndf['Number of Pages'] = df['Number of Pages'].fillna(df['Number of Pages'].mean())\n",
      "execution_count": 36,
      "outputs": []
    },
    {
      "cell_type": "markdown",
      "source": "**Filling categorical data**",
      "metadata": {
        "tags": [],
        "cell_id": "00013-15bfc1aa-dd24-4abd-897a-1f1454a3c503",
        "deepnote_cell_type": "markdown"
      }
    },
    {
      "cell_type": "code",
      "metadata": {
        "tags": [],
        "cell_id": "00014-f7c0845e-78be-4b8e-9f54-22978807b28d",
        "deepnote_to_be_reexecuted": false,
        "source_hash": "72704b6b",
        "execution_millis": 3,
        "execution_start": 1618390843518,
        "deepnote_cell_type": "code"
      },
      "source": "#Filling categorical data of Published Year\ndf['Published Year'] = df['Published Year'].fillna(df['Published Year'].mode()[0])\n#Filling categorical data of Series\ndf['Series'] = df['Series'].fillna(df['Series'].mode()[0])\n#Filling categorical data of Genres\ndf['Genres'] = df['Genres'].fillna(df['Genres'].mode()[0])\n#Filling categorical data of Places\ndf['Places'] = df['Places'].fillna(df['Places'].mode()[0])",
      "execution_count": 42,
      "outputs": []
    },
    {
      "cell_type": "markdown",
      "source": "Lets look at last status of data set",
      "metadata": {
        "tags": [],
        "cell_id": "00015-6c5084e6-df41-4771-bf6d-e16b0aab1203",
        "deepnote_cell_type": "markdown"
      }
    },
    {
      "cell_type": "code",
      "metadata": {
        "tags": [],
        "cell_id": "00016-f32d64be-2a18-4d37-96b1-e4000e6235ad",
        "deepnote_to_be_reexecuted": false,
        "source_hash": "2aa987af",
        "execution_millis": 13,
        "execution_start": 1618390854490,
        "deepnote_cell_type": "code"
      },
      "source": "print(\"Percentage of Updated Null Values\")\nmissing_percentage = df.isnull().sum() * 100 / len(df) #Calculating percentage of missing values\nmissing_percentage",
      "execution_count": 43,
      "outputs": [
        {
          "name": "stdout",
          "text": "Percentage of Updated Null Values\n",
          "output_type": "stream"
        },
        {
          "output_type": "execute_result",
          "execution_count": 43,
          "data": {
            "text/plain": "URL                  0.0\nTitle                0.0\nAuthor               0.0\nNumber of Ratings    0.0\nNumber of Reviews    0.0\nAverage Ratings      0.0\nNumber of Pages      0.0\nPublished Year       0.0\nSeries               0.0\nGenres               0.0\nAwards               0.0\nPlaces               0.0\ndtype: float64"
          },
          "metadata": {}
        }
      ]
    },
    {
      "cell_type": "markdown",
      "source": "Now we don't have any missing values!\n\nLets look at **basic statistical information** of our data set.",
      "metadata": {
        "tags": [],
        "cell_id": "00012-5769e996-1800-4bdc-8a2f-bc08a5417830",
        "deepnote_cell_type": "markdown"
      }
    },
    {
      "cell_type": "code",
      "metadata": {
        "tags": [],
        "cell_id": "00010-0e890cec-9711-4167-b872-86e450b677fe",
        "deepnote_to_be_reexecuted": false,
        "source_hash": "f88152d9",
        "execution_millis": 11,
        "execution_start": 1618389491985,
        "deepnote_cell_type": "code"
      },
      "source": "df.describe()",
      "execution_count": 29,
      "outputs": [
        {
          "output_type": "execute_result",
          "execution_count": 29,
          "data": {
            "application/vnd.deepnote.dataframe.v2+json": {
              "row_count": 8,
              "column_count": 6,
              "columns": [
                {
                  "name": "Number of Ratings",
                  "dtype": "float64",
                  "stats": {
                    "unique_count": 8,
                    "nan_count": 0,
                    "min": "15.0",
                    "max": "6685627.0",
                    "histogram": [
                      {
                        "bin_start": 15,
                        "bin_end": 668576.2,
                        "count": 7
                      },
                      {
                        "bin_start": 668576.2,
                        "bin_end": 1337137.4,
                        "count": 0
                      },
                      {
                        "bin_start": 1337137.4,
                        "bin_end": 2005698.5999999999,
                        "count": 0
                      },
                      {
                        "bin_start": 2005698.5999999999,
                        "bin_end": 2674259.8,
                        "count": 0
                      },
                      {
                        "bin_start": 2674259.8,
                        "bin_end": 3342821,
                        "count": 0
                      },
                      {
                        "bin_start": 3342821,
                        "bin_end": 4011382.1999999997,
                        "count": 0
                      },
                      {
                        "bin_start": 4011382.1999999997,
                        "bin_end": 4679943.399999999,
                        "count": 0
                      },
                      {
                        "bin_start": 4679943.399999999,
                        "bin_end": 5348504.6,
                        "count": 0
                      },
                      {
                        "bin_start": 5348504.6,
                        "bin_end": 6017065.8,
                        "count": 0
                      },
                      {
                        "bin_start": 6017065.8,
                        "bin_end": 6685627,
                        "count": 1
                      }
                    ]
                  }
                },
                {
                  "name": "Number of Reviews",
                  "dtype": "float64",
                  "stats": {
                    "unique_count": 8,
                    "nan_count": 0,
                    "min": "0.0",
                    "max": "175504.0",
                    "histogram": [
                      {
                        "bin_start": 0,
                        "bin_end": 17550.4,
                        "count": 7
                      },
                      {
                        "bin_start": 17550.4,
                        "bin_end": 35100.8,
                        "count": 0
                      },
                      {
                        "bin_start": 35100.8,
                        "bin_end": 52651.200000000004,
                        "count": 0
                      },
                      {
                        "bin_start": 52651.200000000004,
                        "bin_end": 70201.6,
                        "count": 0
                      },
                      {
                        "bin_start": 70201.6,
                        "bin_end": 87752,
                        "count": 0
                      },
                      {
                        "bin_start": 87752,
                        "bin_end": 105302.40000000001,
                        "count": 0
                      },
                      {
                        "bin_start": 105302.40000000001,
                        "bin_end": 122852.80000000002,
                        "count": 0
                      },
                      {
                        "bin_start": 122852.80000000002,
                        "bin_end": 140403.2,
                        "count": 0
                      },
                      {
                        "bin_start": 140403.2,
                        "bin_end": 157953.6,
                        "count": 0
                      },
                      {
                        "bin_start": 157953.6,
                        "bin_end": 175504,
                        "count": 1
                      }
                    ]
                  }
                },
                {
                  "name": "Average Ratings",
                  "dtype": "float64",
                  "stats": {
                    "unique_count": 8,
                    "nan_count": 0,
                    "min": "0.2533456403740034",
                    "max": "978.0",
                    "histogram": [
                      {
                        "bin_start": 0.2533456403740034,
                        "bin_end": 98.0280110763366,
                        "count": 7
                      },
                      {
                        "bin_start": 98.0280110763366,
                        "bin_end": 195.80267651229917,
                        "count": 0
                      },
                      {
                        "bin_start": 195.80267651229917,
                        "bin_end": 293.5773419482618,
                        "count": 0
                      },
                      {
                        "bin_start": 293.5773419482618,
                        "bin_end": 391.35200738422435,
                        "count": 0
                      },
                      {
                        "bin_start": 391.35200738422435,
                        "bin_end": 489.1266728201869,
                        "count": 0
                      },
                      {
                        "bin_start": 489.1266728201869,
                        "bin_end": 586.9013382561496,
                        "count": 0
                      },
                      {
                        "bin_start": 586.9013382561496,
                        "bin_end": 684.6760036921122,
                        "count": 0
                      },
                      {
                        "bin_start": 684.6760036921122,
                        "bin_end": 782.4506691280748,
                        "count": 0
                      },
                      {
                        "bin_start": 782.4506691280748,
                        "bin_end": 880.2253345640373,
                        "count": 0
                      },
                      {
                        "bin_start": 880.2253345640373,
                        "bin_end": 978,
                        "count": 1
                      }
                    ]
                  }
                },
                {
                  "name": "Number of Pages",
                  "dtype": "float64",
                  "stats": {
                    "unique_count": 8,
                    "nan_count": 0,
                    "min": "6.0",
                    "max": "4100.0",
                    "histogram": [
                      {
                        "bin_start": 6,
                        "bin_end": 415.4,
                        "count": 5
                      },
                      {
                        "bin_start": 415.4,
                        "bin_end": 824.8,
                        "count": 1
                      },
                      {
                        "bin_start": 824.8,
                        "bin_end": 1234.1999999999998,
                        "count": 1
                      },
                      {
                        "bin_start": 1234.1999999999998,
                        "bin_end": 1643.6,
                        "count": 0
                      },
                      {
                        "bin_start": 1643.6,
                        "bin_end": 2053,
                        "count": 0
                      },
                      {
                        "bin_start": 2053,
                        "bin_end": 2462.3999999999996,
                        "count": 0
                      },
                      {
                        "bin_start": 2462.3999999999996,
                        "bin_end": 2871.7999999999997,
                        "count": 0
                      },
                      {
                        "bin_start": 2871.7999999999997,
                        "bin_end": 3281.2,
                        "count": 0
                      },
                      {
                        "bin_start": 3281.2,
                        "bin_end": 3690.6,
                        "count": 0
                      },
                      {
                        "bin_start": 3690.6,
                        "bin_end": 4100,
                        "count": 1
                      }
                    ]
                  }
                },
                {
                  "name": "Published Year",
                  "dtype": "float64",
                  "stats": {
                    "unique_count": 8,
                    "nan_count": 0,
                    "min": "2.640259616050403",
                    "max": "2018.0",
                    "histogram": [
                      {
                        "bin_start": 2.640259616050403,
                        "bin_end": 204.17623365444535,
                        "count": 1
                      },
                      {
                        "bin_start": 204.17623365444535,
                        "bin_end": 405.7122076928403,
                        "count": 0
                      },
                      {
                        "bin_start": 405.7122076928403,
                        "bin_end": 607.2481817312354,
                        "count": 0
                      },
                      {
                        "bin_start": 607.2481817312354,
                        "bin_end": 808.7841557696303,
                        "count": 0
                      },
                      {
                        "bin_start": 808.7841557696303,
                        "bin_end": 1010.3201298080252,
                        "count": 1
                      },
                      {
                        "bin_start": 1010.3201298080252,
                        "bin_end": 1211.8561038464202,
                        "count": 0
                      },
                      {
                        "bin_start": 1211.8561038464202,
                        "bin_end": 1413.392077884815,
                        "count": 0
                      },
                      {
                        "bin_start": 1413.392077884815,
                        "bin_end": 1614.92805192321,
                        "count": 0
                      },
                      {
                        "bin_start": 1614.92805192321,
                        "bin_end": 1816.4640259616049,
                        "count": 0
                      },
                      {
                        "bin_start": 1816.4640259616049,
                        "bin_end": 2018,
                        "count": 6
                      }
                    ]
                  }
                },
                {
                  "name": "Series",
                  "dtype": "float64",
                  "stats": {
                    "unique_count": 5,
                    "nan_count": 0,
                    "min": "0.0",
                    "max": "995.0",
                    "histogram": [
                      {
                        "bin_start": 0,
                        "bin_end": 99.5,
                        "count": 7
                      },
                      {
                        "bin_start": 99.5,
                        "bin_end": 199,
                        "count": 0
                      },
                      {
                        "bin_start": 199,
                        "bin_end": 298.5,
                        "count": 0
                      },
                      {
                        "bin_start": 298.5,
                        "bin_end": 398,
                        "count": 0
                      },
                      {
                        "bin_start": 398,
                        "bin_end": 497.5,
                        "count": 0
                      },
                      {
                        "bin_start": 497.5,
                        "bin_end": 597,
                        "count": 0
                      },
                      {
                        "bin_start": 597,
                        "bin_end": 696.5,
                        "count": 0
                      },
                      {
                        "bin_start": 696.5,
                        "bin_end": 796,
                        "count": 0
                      },
                      {
                        "bin_start": 796,
                        "bin_end": 895.5,
                        "count": 0
                      },
                      {
                        "bin_start": 895.5,
                        "bin_end": 995,
                        "count": 1
                      }
                    ]
                  }
                },
                {
                  "name": "_deepnote_index_column",
                  "dtype": "object"
                }
              ],
              "rows_top": [
                {
                  "Number of Ratings": 995,
                  "Number of Reviews": 995,
                  "Average Ratings": 978,
                  "Number of Pages": 992,
                  "Published Year": 994,
                  "Series": 995,
                  "_deepnote_index_column": "count"
                },
                {
                  "Number of Ratings": 181578.68040201004,
                  "Number of Reviews": 7786.791959798995,
                  "Average Ratings": 3.929345603271983,
                  "Number of Pages": 412.304435483871,
                  "Published Year": 2006.0533199195172,
                  "Series": 0.5105527638190954,
                  "_deepnote_index_column": "mean"
                },
                {
                  "Number of Ratings": 426919.2665828331,
                  "Number of Reviews": 13021.106839199298,
                  "Average Ratings": 0.2533456403740034,
                  "Number of Pages": 216.89270636690463,
                  "Published Year": 2.640259616050403,
                  "Series": 0.5001400165924359,
                  "_deepnote_index_column": "std"
                },
                {
                  "Number of Ratings": 15,
                  "Number of Reviews": 0,
                  "Average Ratings": 3,
                  "Number of Pages": 6,
                  "Published Year": 1998,
                  "Series": 0,
                  "_deepnote_index_column": "min"
                },
                {
                  "Number of Ratings": 29898,
                  "Number of Reviews": 1796,
                  "Average Ratings": 3.8,
                  "Number of Pages": 302,
                  "Published Year": 2004,
                  "Series": 0,
                  "_deepnote_index_column": "25%"
                },
                {
                  "Number of Ratings": 71964,
                  "Number of Reviews": 3669,
                  "Average Ratings": 3.9,
                  "Number of Pages": 374,
                  "Published Year": 2006,
                  "Series": 1,
                  "_deepnote_index_column": "50%"
                },
                {
                  "Number of Ratings": 156709.5,
                  "Number of Reviews": 7983,
                  "Average Ratings": 4.1,
                  "Number of Pages": 472.25,
                  "Published Year": 2008,
                  "Series": 1,
                  "_deepnote_index_column": "75%"
                },
                {
                  "Number of Ratings": 6685627,
                  "Number of Reviews": 175504,
                  "Average Ratings": 4.8,
                  "Number of Pages": 4100,
                  "Published Year": 2018,
                  "Series": 1,
                  "_deepnote_index_column": "max"
                }
              ],
              "rows_bottom": null
            },
            "text/plain": "       Number of Ratings  Number of Reviews  Average Ratings  Number of Pages  \\\ncount       9.950000e+02         995.000000       978.000000       992.000000   \nmean        1.815787e+05        7786.791960         3.929346       412.304435   \nstd         4.269193e+05       13021.106839         0.253346       216.892706   \nmin         1.500000e+01           0.000000         3.000000         6.000000   \n25%         2.989800e+04        1796.000000         3.800000       302.000000   \n50%         7.196400e+04        3669.000000         3.900000       374.000000   \n75%         1.567095e+05        7983.000000         4.100000       472.250000   \nmax         6.685627e+06      175504.000000         4.800000      4100.000000   \n\n       Published Year      Series  \ncount       994.00000  995.000000  \nmean       2006.05332    0.510553  \nstd           2.64026    0.500140  \nmin        1998.00000    0.000000  \n25%        2004.00000    0.000000  \n50%        2006.00000    1.000000  \n75%        2008.00000    1.000000  \nmax        2018.00000    1.000000  ",
            "text/html": "<div>\n<style scoped>\n    .dataframe tbody tr th:only-of-type {\n        vertical-align: middle;\n    }\n\n    .dataframe tbody tr th {\n        vertical-align: top;\n    }\n\n    .dataframe thead th {\n        text-align: right;\n    }\n</style>\n<table border=\"1\" class=\"dataframe\">\n  <thead>\n    <tr style=\"text-align: right;\">\n      <th></th>\n      <th>Number of Ratings</th>\n      <th>Number of Reviews</th>\n      <th>Average Ratings</th>\n      <th>Number of Pages</th>\n      <th>Published Year</th>\n      <th>Series</th>\n    </tr>\n  </thead>\n  <tbody>\n    <tr>\n      <th>count</th>\n      <td>9.950000e+02</td>\n      <td>995.000000</td>\n      <td>978.000000</td>\n      <td>992.000000</td>\n      <td>994.00000</td>\n      <td>995.000000</td>\n    </tr>\n    <tr>\n      <th>mean</th>\n      <td>1.815787e+05</td>\n      <td>7786.791960</td>\n      <td>3.929346</td>\n      <td>412.304435</td>\n      <td>2006.05332</td>\n      <td>0.510553</td>\n    </tr>\n    <tr>\n      <th>std</th>\n      <td>4.269193e+05</td>\n      <td>13021.106839</td>\n      <td>0.253346</td>\n      <td>216.892706</td>\n      <td>2.64026</td>\n      <td>0.500140</td>\n    </tr>\n    <tr>\n      <th>min</th>\n      <td>1.500000e+01</td>\n      <td>0.000000</td>\n      <td>3.000000</td>\n      <td>6.000000</td>\n      <td>1998.00000</td>\n      <td>0.000000</td>\n    </tr>\n    <tr>\n      <th>25%</th>\n      <td>2.989800e+04</td>\n      <td>1796.000000</td>\n      <td>3.800000</td>\n      <td>302.000000</td>\n      <td>2004.00000</td>\n      <td>0.000000</td>\n    </tr>\n    <tr>\n      <th>50%</th>\n      <td>7.196400e+04</td>\n      <td>3669.000000</td>\n      <td>3.900000</td>\n      <td>374.000000</td>\n      <td>2006.00000</td>\n      <td>1.000000</td>\n    </tr>\n    <tr>\n      <th>75%</th>\n      <td>1.567095e+05</td>\n      <td>7983.000000</td>\n      <td>4.100000</td>\n      <td>472.250000</td>\n      <td>2008.00000</td>\n      <td>1.000000</td>\n    </tr>\n    <tr>\n      <th>max</th>\n      <td>6.685627e+06</td>\n      <td>175504.000000</td>\n      <td>4.800000</td>\n      <td>4100.000000</td>\n      <td>2018.00000</td>\n      <td>1.000000</td>\n    </tr>\n  </tbody>\n</table>\n</div>"
          },
          "metadata": {}
        }
      ]
    },
    {
      "cell_type": "code",
      "metadata": {
        "tags": [],
        "cell_id": "00015-7968718a-417a-438e-b867-81c8138f9ae3",
        "deepnote_cell_type": "code"
      },
      "source": "",
      "execution_count": null,
      "outputs": []
    },
    {
      "cell_type": "markdown",
      "source": "<a style='text-decoration:none;line-height:16px;display:flex;color:#5B5B62;padding:10px;justify-content:end;' href='https://deepnote.com?utm_source=created-in-deepnote-cell&projectId=a0867bd3-5624-476b-af8a-bd1f917bd510' target=\"_blank\">\n<img alt='Created in deepnote.com' style='display:inline;max-height:16px;margin:0px;margin-right:7.5px;' src='data:image/svg+xml;base64,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' > </img>\nCreated in <span style='font-weight:600;margin-left:4px;'>Deepnote</span></a>",
      "metadata": {
        "tags": [],
        "created_in_deepnote_cell": true,
        "deepnote_cell_type": "markdown"
      }
    }
  ],
  "nbformat": 4,
  "nbformat_minor": 2,
  "metadata": {
    "orig_nbformat": 2,
    "deepnote": {
      "is_reactive": false
    },
    "deepnote_notebook_id": "66a0c235-95ed-4dba-bb5e-30b31abf3ce2",
    "deepnote_execution_queue": []
  }
}