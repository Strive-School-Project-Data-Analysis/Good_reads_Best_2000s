{
  "cells": [
    {
      "cell_type": "code",
      "metadata": {
        "tags": [],
        "cell_id": "00000-2e38b44a-c455-4697-9d0f-dd223a79c290",
        "deepnote_to_be_reexecuted": false,
        "source_hash": "2d6aaf3c",
        "execution_start": 1618496886683,
        "execution_millis": 1456,
        "deepnote_cell_type": "code"
      },
      "source": "#Importing Libraries\nimport numpy as np # linear algebra\nimport pandas as pd # data processing, CSV file I/O (e.g. pd.read_csv)\nimport seaborn as sns\nimport os\nimport re\nimport statsmodels.api as sm\nimport matplotlib as mpl\nimport matplotlib.pyplot as plt\nfrom matplotlib import rcParams #Import rcParams to set font styles\n\n#Set font style and size \nrcParams['font.family'] = 'serif'\nrcParams['font.size'] = 16\n",
      "execution_count": 2,
      "outputs": []
    },
    {
      "cell_type": "code",
      "source": "#Importing Data Set\ndef importing_test_data():\n    df=pd.read_csv(\"big_books_clean.csv\")\n    return df\ndf=importing_test_data()\ndf.head()",
      "metadata": {
        "tags": [],
        "cell_id": "00001-6ded1633-534d-4447-a973-710f9fc2e38a",
        "deepnote_to_be_reexecuted": false,
        "source_hash": "90c4391e",
        "execution_millis": 60,
        "execution_start": 1618496888364,
        "deepnote_cell_type": "code"
      },
      "outputs": [
        {
          "output_type": "execute_result",
          "execution_count": 3,
          "data": {
            "application/vnd.deepnote.dataframe.v2+json": {
              "row_count": 5,
              "column_count": 13,
              "columns": [
                {
                  "name": "Title",
                  "dtype": "object",
                  "stats": {
                    "unique_count": 5,
                    "nan_count": 0,
                    "categories": [
                      {
                        "name": "Harry Potter and the Deathly Hallows (Harry Potter, #7)",
                        "count": 1
                      },
                      {
                        "name": "The Hunger Games (The Hunger Games, #1)",
                        "count": 1
                      },
                      {
                        "name": "3 others",
                        "count": 3
                      }
                    ]
                  }
                },
                {
                  "name": "URL",
                  "dtype": "object",
                  "stats": {
                    "unique_count": 5,
                    "nan_count": 0,
                    "categories": [
                      {
                        "name": "https://www.goodreads.com//book/show/136251.Harry_Potter_and_the_Deathly_Hallows",
                        "count": 1
                      },
                      {
                        "name": "https://www.goodreads.com//book/show/2767052-the-hunger-games",
                        "count": 1
                      },
                      {
                        "name": "3 others",
                        "count": 3
                      }
                    ]
                  }
                },
                {
                  "name": "Author",
                  "dtype": "object",
                  "stats": {
                    "unique_count": 2,
                    "nan_count": 0,
                    "categories": [
                      {
                        "name": "J.K. Rowling",
                        "count": 4
                      },
                      {
                        "name": "Suzanne Collins",
                        "count": 1
                      }
                    ]
                  }
                },
                {
                  "name": "Average_rating",
                  "dtype": "float64",
                  "stats": {
                    "unique_count": 5,
                    "nan_count": 0,
                    "min": "4.32",
                    "max": "4.62",
                    "histogram": [
                      {
                        "bin_start": 4.32,
                        "bin_end": 4.3500000000000005,
                        "count": 1
                      },
                      {
                        "bin_start": 4.3500000000000005,
                        "bin_end": 4.38,
                        "count": 0
                      },
                      {
                        "bin_start": 4.38,
                        "bin_end": 4.41,
                        "count": 0
                      },
                      {
                        "bin_start": 4.41,
                        "bin_end": 4.44,
                        "count": 0
                      },
                      {
                        "bin_start": 4.44,
                        "bin_end": 4.470000000000001,
                        "count": 0
                      },
                      {
                        "bin_start": 4.470000000000001,
                        "bin_end": 4.5,
                        "count": 0
                      },
                      {
                        "bin_start": 4.5,
                        "bin_end": 4.53,
                        "count": 1
                      },
                      {
                        "bin_start": 4.53,
                        "bin_end": 4.5600000000000005,
                        "count": 1
                      },
                      {
                        "bin_start": 4.5600000000000005,
                        "bin_end": 4.59,
                        "count": 1
                      },
                      {
                        "bin_start": 4.59,
                        "bin_end": 4.62,
                        "count": 1
                      }
                    ]
                  }
                },
                {
                  "name": "Rating",
                  "dtype": "float64",
                  "stats": {
                    "unique_count": 5,
                    "nan_count": 0,
                    "min": "2575436.0",
                    "max": "6685572.0",
                    "histogram": [
                      {
                        "bin_start": 2575436,
                        "bin_end": 2986449.6,
                        "count": 4
                      },
                      {
                        "bin_start": 2986449.6,
                        "bin_end": 3397463.2,
                        "count": 0
                      },
                      {
                        "bin_start": 3397463.2,
                        "bin_end": 3808476.8,
                        "count": 0
                      },
                      {
                        "bin_start": 3808476.8,
                        "bin_end": 4219490.4,
                        "count": 0
                      },
                      {
                        "bin_start": 4219490.4,
                        "bin_end": 4630504,
                        "count": 0
                      },
                      {
                        "bin_start": 4630504,
                        "bin_end": 5041517.6,
                        "count": 0
                      },
                      {
                        "bin_start": 5041517.6,
                        "bin_end": 5452531.199999999,
                        "count": 0
                      },
                      {
                        "bin_start": 5452531.199999999,
                        "bin_end": 5863544.8,
                        "count": 0
                      },
                      {
                        "bin_start": 5863544.8,
                        "bin_end": 6274558.4,
                        "count": 0
                      },
                      {
                        "bin_start": 6274558.4,
                        "bin_end": 6685572,
                        "count": 1
                      }
                    ]
                  }
                },
                {
                  "name": "Reviews",
                  "dtype": "float64",
                  "stats": {
                    "unique_count": 5,
                    "nan_count": 0,
                    "min": "42018.0",
                    "max": "175503.0",
                    "histogram": [
                      {
                        "bin_start": 42018,
                        "bin_end": 55366.5,
                        "count": 3
                      },
                      {
                        "bin_start": 55366.5,
                        "bin_end": 68715,
                        "count": 1
                      },
                      {
                        "bin_start": 68715,
                        "bin_end": 82063.5,
                        "count": 0
                      },
                      {
                        "bin_start": 82063.5,
                        "bin_end": 95412,
                        "count": 0
                      },
                      {
                        "bin_start": 95412,
                        "bin_end": 108760.5,
                        "count": 0
                      },
                      {
                        "bin_start": 108760.5,
                        "bin_end": 122109,
                        "count": 0
                      },
                      {
                        "bin_start": 122109,
                        "bin_end": 135457.5,
                        "count": 0
                      },
                      {
                        "bin_start": 135457.5,
                        "bin_end": 148806,
                        "count": 0
                      },
                      {
                        "bin_start": 148806,
                        "bin_end": 162154.5,
                        "count": 0
                      },
                      {
                        "bin_start": 162154.5,
                        "bin_end": 175503,
                        "count": 1
                      }
                    ]
                  }
                },
                {
                  "name": "Pages",
                  "dtype": "float64",
                  "stats": {
                    "unique_count": 5,
                    "nan_count": 0,
                    "min": "374.0",
                    "max": "870.0",
                    "histogram": [
                      {
                        "bin_start": 374,
                        "bin_end": 423.6,
                        "count": 1
                      },
                      {
                        "bin_start": 423.6,
                        "bin_end": 473.2,
                        "count": 0
                      },
                      {
                        "bin_start": 473.2,
                        "bin_end": 522.8,
                        "count": 0
                      },
                      {
                        "bin_start": 522.8,
                        "bin_end": 572.4,
                        "count": 0
                      },
                      {
                        "bin_start": 572.4,
                        "bin_end": 622,
                        "count": 0
                      },
                      {
                        "bin_start": 622,
                        "bin_end": 671.6,
                        "count": 1
                      },
                      {
                        "bin_start": 671.6,
                        "bin_end": 721.2,
                        "count": 0
                      },
                      {
                        "bin_start": 721.2,
                        "bin_end": 770.8,
                        "count": 2
                      },
                      {
                        "bin_start": 770.8,
                        "bin_end": 820.4000000000001,
                        "count": 0
                      },
                      {
                        "bin_start": 820.4000000000001,
                        "bin_end": 870,
                        "count": 1
                      }
                    ]
                  }
                },
                {
                  "name": "Year",
                  "dtype": "float64",
                  "stats": {
                    "unique_count": 5,
                    "nan_count": 0,
                    "min": "2002.0",
                    "max": "2008.0",
                    "histogram": [
                      {
                        "bin_start": 2002,
                        "bin_end": 2002.6,
                        "count": 1
                      },
                      {
                        "bin_start": 2002.6,
                        "bin_end": 2003.2,
                        "count": 0
                      },
                      {
                        "bin_start": 2003.2,
                        "bin_end": 2003.8,
                        "count": 0
                      },
                      {
                        "bin_start": 2003.8,
                        "bin_end": 2004.4,
                        "count": 1
                      },
                      {
                        "bin_start": 2004.4,
                        "bin_end": 2005,
                        "count": 0
                      },
                      {
                        "bin_start": 2005,
                        "bin_end": 2005.6,
                        "count": 0
                      },
                      {
                        "bin_start": 2005.6,
                        "bin_end": 2006.2,
                        "count": 1
                      },
                      {
                        "bin_start": 2006.2,
                        "bin_end": 2006.8,
                        "count": 0
                      },
                      {
                        "bin_start": 2006.8,
                        "bin_end": 2007.4,
                        "count": 1
                      },
                      {
                        "bin_start": 2007.4,
                        "bin_end": 2008,
                        "count": 1
                      }
                    ]
                  }
                },
                {
                  "name": "Series",
                  "dtype": "int64",
                  "stats": {
                    "unique_count": 1,
                    "nan_count": 0,
                    "min": "1",
                    "max": "1",
                    "histogram": [
                      {
                        "bin_start": 0.5,
                        "bin_end": 0.6,
                        "count": 0
                      },
                      {
                        "bin_start": 0.6,
                        "bin_end": 0.7,
                        "count": 0
                      },
                      {
                        "bin_start": 0.7,
                        "bin_end": 0.8,
                        "count": 0
                      },
                      {
                        "bin_start": 0.8,
                        "bin_end": 0.9,
                        "count": 0
                      },
                      {
                        "bin_start": 0.9,
                        "bin_end": 1,
                        "count": 0
                      },
                      {
                        "bin_start": 1,
                        "bin_end": 1.1,
                        "count": 5
                      },
                      {
                        "bin_start": 1.1,
                        "bin_end": 1.2000000000000002,
                        "count": 0
                      },
                      {
                        "bin_start": 1.2000000000000002,
                        "bin_end": 1.3,
                        "count": 0
                      },
                      {
                        "bin_start": 1.3,
                        "bin_end": 1.4,
                        "count": 0
                      },
                      {
                        "bin_start": 1.4,
                        "bin_end": 1.5,
                        "count": 0
                      }
                    ]
                  }
                },
                {
                  "name": "Setting",
                  "dtype": "object",
                  "stats": {
                    "unique_count": 5,
                    "nan_count": 0,
                    "categories": [
                      {
                        "name": "['London', ' England  United Kingdom', '    Hogwarts School of Witchcraft and Wizardry  United Kingdom', '    Pagford  United Kingdom', ' ']",
                        "count": 1
                      },
                      {
                        "name": "['District 12', ' Panem  Capitol', ' Panem  Panem  United States', ' ']",
                        "count": 1
                      },
                      {
                        "name": "3 others",
                        "count": 3
                      }
                    ]
                  }
                },
                {
                  "name": "Awards",
                  "dtype": "object",
                  "stats": {
                    "unique_count": 5,
                    "nan_count": 0,
                    "categories": [
                      {
                        "name": "['Locus Award Nominee for Best Young Adult Novel (2008), Odyssey Award Nominee (2008), Audie Award (2008), Books I Loved Best Yearly (BILBY) Awards for Older Readers (2008), Teen Read Award Nominee for Best All-Time-Fave (2010)\\n...more\\nPuddly Award for Fiction (2008), Andre Norton Award (2007), Carnegie Medal Nominee (2008)']",
                        "count": 1
                      },
                      {
                        "name": "[\"Locus Award Nominee for Best Young Adult Book (2009), Georgia Peach Book Award (2009), Buxtehuder Bulle (2009), Golden Duck Award for Young Adult (Hal Clement Award) (2009), Grand Prix de l'Imaginaire Nominee for Roman jeunesse étranger (2010)\\n...more\\nBooks I Loved Best Yearly (BILBY) Awards for Older Readers (2012), West Australian Young Readers' Book Award (WAYRBA) for Older Readers (2010), Red House Children's Book Award for Older Readers & Overall (2010), South Carolina Book Award for Junior and Young Adult Book (2011), Charlotte Award (2010), Colorado Blue Spruce Young Adult Book Award (2010), Teen Buckeye Book Award (2009), Pennsylvania Young Readers' Choice Award for Young Adults (2010), Rhode Island Teen Book Award (2010), Dorothy Canfield Fisher Children's Book Award (2010), Evergreen Teen Book Award (2011), Soaring Eagle Book Award (2009), Milwaukee County Teen Book Award Nominee (2010), Sakura Medal for Middle School Book (2010), Michigan Library Association Thumbs Up! Award (2009), Florida Teens Read (2009), Deutscher Jugendliteraturpreis for Preis der Jugendjury (2010), Iowa High School Book Award (2011), New Mexico Land of Enchantment Award for Young Adult (2011), Eliot Rosewater Indiana High School Book Award (2010), The Inky Awards for Silver Inky (2009), California Young Readers Medal for Young Adult (2011), Lincoln Award (2011), Kinderboekwinkelprijs (2010), Missouri Truman Readers Award (2011), CYBILS Award for Young Adult Fantasy & Science Fiction (2008), Literaturpreis der Jury der jungen Leser for Jugendbuch (2010), The Inky Awards Shortlist for Silver Inky (2009), Prix Et-lisez-moi (2011), Missouri Gateway Readers Award (2011), Oklahoma Sequoyah Award for High School and Intermediate (2011), Premio El Templo de las Mil Puertas for Mejor novela extranjera perteneciente a saga (2009), Rebecca Caudill Young Readers' Book Award (2011), LovelyBooks Leserpreis for Fantasy (2009), LovelyBooks Leserpreis for Bestes Cover/Umschlag (2009), Premi Protagonista Jove for Categoria 13-14 anys (2010)\"]",
                        "count": 1
                      },
                      {
                        "name": "3 others",
                        "count": 3
                      }
                    ]
                  }
                },
                {
                  "name": "Genres",
                  "dtype": "object",
                  "stats": {
                    "unique_count": 2,
                    "nan_count": 0,
                    "categories": [
                      {
                        "name": "['Fantasy', ' Young Adult', ' Fiction']",
                        "count": 4
                      },
                      {
                        "name": "['Young Adult', ' Fiction', ' Science Fiction']",
                        "count": 1
                      }
                    ]
                  }
                },
                {
                  "name": "Awards_no",
                  "dtype": "float64",
                  "stats": {
                    "unique_count": 4,
                    "nan_count": 0,
                    "min": "3.0",
                    "max": "41.0",
                    "histogram": [
                      {
                        "bin_start": 3,
                        "bin_end": 6.8,
                        "count": 1
                      },
                      {
                        "bin_start": 6.8,
                        "bin_end": 10.6,
                        "count": 3
                      },
                      {
                        "bin_start": 10.6,
                        "bin_end": 14.399999999999999,
                        "count": 0
                      },
                      {
                        "bin_start": 14.399999999999999,
                        "bin_end": 18.2,
                        "count": 0
                      },
                      {
                        "bin_start": 18.2,
                        "bin_end": 22,
                        "count": 0
                      },
                      {
                        "bin_start": 22,
                        "bin_end": 25.799999999999997,
                        "count": 0
                      },
                      {
                        "bin_start": 25.799999999999997,
                        "bin_end": 29.599999999999998,
                        "count": 0
                      },
                      {
                        "bin_start": 29.599999999999998,
                        "bin_end": 33.4,
                        "count": 0
                      },
                      {
                        "bin_start": 33.4,
                        "bin_end": 37.199999999999996,
                        "count": 0
                      },
                      {
                        "bin_start": 37.199999999999996,
                        "bin_end": 41,
                        "count": 1
                      }
                    ]
                  }
                },
                {
                  "name": "_deepnote_index_column",
                  "dtype": "int64"
                }
              ],
              "rows_top": [
                {
                  "Title": "Harry Potter and the Deathly Hallows (Harry Potter, #7)",
                  "URL": "https://www.goodreads.com//book/show/136251.Harry_Potter_and_the_Deathly_Hallows",
                  "Author": "J.K. Rowling",
                  "Average_rating": 4.62,
                  "Rating": 2959574,
                  "Reviews": 68456,
                  "Pages": 759,
                  "Year": 2007,
                  "Series": 1,
                  "Setting": "['London', ' England  United Kingdom', '    Hogwarts School of Witchcraft and Wizardry  United Kingdom', '    Pagford  United Kingdom', ' ']",
                  "Awards": "['Locus Award Nominee for Best Young Adult Novel (2008), Odyssey Award Nominee (2008), Audie Award (2008), Books I Loved Best Yearly (BILBY) Awards for Older Readers (2008), Teen Read Award Nominee for Best All-Time-Fave (2010)\\n...more\\nPuddly Award for Fiction (2008), Andre Norton Award (2007), Carnegie Medal Nominee (2008)']",
                  "Genres": "['Fantasy', ' Young Adult', ' Fiction']",
                  "Awards_no": 8,
                  "_deepnote_index_column": 0
                },
                {
                  "Title": "The Hunger Games (The Hunger Games, #1)",
                  "URL": "https://www.goodreads.com//book/show/2767052-the-hunger-games",
                  "Author": "Suzanne Collins",
                  "Average_rating": 4.32,
                  "Rating": 6685572,
                  "Reviews": 175503,
                  "Pages": 374,
                  "Year": 2008,
                  "Series": 1,
                  "Setting": "['District 12', ' Panem  Capitol', ' Panem  Panem  United States', ' ']",
                  "Awards": "[\"Locus Award Nominee for Best Young Adult Book (2009), Georgia Peach Book Award (2009), Buxtehuder Bulle (2009), Golden Duck Award for Young Adult (Hal Clement Award) (2009), Grand Prix de l'Imaginaire Nominee for Roman jeunesse étranger (2010)\\n...more\\nBooks I Loved Best Yearly (BILBY) Awards for Older Readers (2012), West Australian Young Readers' Book Award (WAYRBA) for Older Readers (2010), Red House Children's Book Award for Older Readers & Overall (2010), South Carolina Book Award for Junior and Young Adult Book (2011), Charlotte Award (2010), Colorado Blue Spruce Young Adult Book Award (2010), Teen Buckeye Book Award (2009), Pennsylvania Young Readers' Choice Award for Young Adults (2010), Rhode Island Teen Book Award (2010), Dorothy Canfield Fisher Children's Book Award (2010), Evergreen Teen Book Award (2011), Soaring Eagle Book Award (2009), Milwaukee County Teen Book Award Nominee (2010), Sakura Medal for Middle School Book (2010), Michigan Library Association Thumbs Up! Award (2009), Florida Teens Read (2009), Deutscher Jugendliteraturpreis for Preis der Jugendjury (2010), Iowa High School Book Award (2011), New Mexico Land of Enchantment Award for Young Adult (2011), Eliot Rosewater Indiana High School Book Award (2010), The Inky Awards for Silver Inky (2009), California Young Readers Medal for Young Adult (2011), Lincoln Award (2011), Kinderboekwinkelprijs (2010), Missouri Truman Readers Award (2011), CYBILS Award for Young Adult Fantasy & Science Fiction (2008), Literaturpreis der Jury der jungen Leser for Jugendbuch (2010), The Inky Awards Shortlist for Silver Inky (2009), Prix Et-lisez-moi (2011), Missouri Gateway Readers Award (2011), Oklahoma Sequoyah Award for High School and Intermediate (2011), Premio El Templo de las Mil Puertas for Mejor novela extranjera perteneciente a saga (2009), Rebecca Caudill Young Readers' Book Award (2011), LovelyBooks Leserpreis for Fantasy (2009), LovelyBooks Leserpreis for Bestes Cover/Umschlag (2009), Premi Protagonista Jove for Categoria 13-14 anys (2010)\"]",
                  "Genres": "['Young Adult', ' Fiction', ' Science Fiction']",
                  "Awards_no": 41,
                  "_deepnote_index_column": 1
                },
                {
                  "Title": "Harry Potter and the Half-Blood Prince (Harry Potter, #6)",
                  "URL": "https://www.goodreads.com//book/show/1.Harry_Potter_and_the_Half_Blood_Prince",
                  "Author": "J.K. Rowling",
                  "Average_rating": 4.57,
                  "Rating": 2575436,
                  "Reviews": 42018,
                  "Pages": 652,
                  "Year": 2006,
                  "Series": 1,
                  "Setting": "['Hogwarts School of Witchcraft and Wizardry  United Kingdom', '    England']",
                  "Awards": "['Locus Award Nominee for Best Young Adult Novel (2006), Audie Award for Audiobook of the Year (2006), British Book of the Year (2006)']",
                  "Genres": "['Fantasy', ' Young Adult', ' Fiction']",
                  "Awards_no": 3,
                  "_deepnote_index_column": 2
                },
                {
                  "Title": "Harry Potter and the Goblet of Fire (Harry Potter, #4)",
                  "URL": "https://www.goodreads.com//book/show/6.Harry_Potter_and_the_Goblet_of_Fire",
                  "Author": "J.K. Rowling",
                  "Average_rating": 4.56,
                  "Rating": 2749984,
                  "Reviews": 49584,
                  "Pages": 734,
                  "Year": 2002,
                  "Series": 1,
                  "Setting": "['Hogwarts School of Witchcraft and Wizardry', ' 1994  United Kingdom', '    Scotland  United Kingdom']",
                  "Awards": "[\"Hugo Award for Best Novel (2001), Mythopoeic Fantasy Award for Children's Literature (2008), Publieksprijs voor het Nederlandse Boek (2001), Audie Award for Solo Narration - Male (2001), West Australian Young Readers' Book Award (WAYRBA) for Younger Readers (2001)\\n...more\\nGolden Archer Award for Middle/Junior High (2002), Indian Paintbrush Book Award (2002), Deutscher Bücherpreis for Publikumspreis, Corine Internationaler Buchpreis for Kinder- und Jugendbuch (2001)\"]",
                  "Genres": "['Fantasy', ' Young Adult', ' Fiction']",
                  "Awards_no": 9,
                  "_deepnote_index_column": 3
                },
                {
                  "Title": "Harry Potter and the Order of the Phoenix (Harry Potter, #5)",
                  "URL": "https://www.goodreads.com//book/show/2.Harry_Potter_and_the_Order_of_the_Phoenix",
                  "Author": "J.K. Rowling",
                  "Average_rating": 4.5,
                  "Rating": 2653470,
                  "Reviews": 45376,
                  "Pages": 870,
                  "Year": 2004,
                  "Series": 1,
                  "Setting": "['Hogwarts School of Witchcraft and Wizardry  United Kingdom', '    London', ' England  United Kingdom', ' ']",
                  "Awards": "[\"Bram Stoker Award for Works for Young Readers (2003), Anthony Award for Young Adult (2004), Mythopoeic Fantasy Award for Children's Literature (2008), Audie Award for Audiobook of the Year (2004), Books I Loved Best Yearly (BILBY) Awards for Older Readers (2004)\\n...more\\nColorado Blue Spruce Young Adult Book Award (2006), Golden Archer Award for Middle/Junior High (2005), Deutscher Jugendliteraturpreis Nominee for Preis der Jugendjury (2004), Carnegie Medal Nominee (2003)\"]",
                  "Genres": "['Fantasy', ' Young Adult', ' Fiction']",
                  "Awards_no": 9,
                  "_deepnote_index_column": 4
                }
              ],
              "rows_bottom": null
            },
            "text/plain": "                                               Title  \\\n0  Harry Potter and the Deathly Hallows (Harry Po...   \n1            The Hunger Games (The Hunger Games, #1)   \n2  Harry Potter and the Half-Blood Prince (Harry ...   \n3  Harry Potter and the Goblet of Fire (Harry Pot...   \n4  Harry Potter and the Order of the Phoenix (Har...   \n\n                                                 URL           Author  \\\n0  https://www.goodreads.com//book/show/136251.Ha...     J.K. Rowling   \n1  https://www.goodreads.com//book/show/2767052-t...  Suzanne Collins   \n2  https://www.goodreads.com//book/show/1.Harry_P...     J.K. Rowling   \n3  https://www.goodreads.com//book/show/6.Harry_P...     J.K. Rowling   \n4  https://www.goodreads.com//book/show/2.Harry_P...     J.K. Rowling   \n\n   Average_rating     Rating   Reviews  Pages    Year  Series  \\\n0            4.62  2959574.0   68456.0  759.0  2007.0       1   \n1            4.32  6685572.0  175503.0  374.0  2008.0       1   \n2            4.57  2575436.0   42018.0  652.0  2006.0       1   \n3            4.56  2749984.0   49584.0  734.0  2002.0       1   \n4            4.50  2653470.0   45376.0  870.0  2004.0       1   \n\n                                             Setting  \\\n0  ['London', ' England  United Kingdom', '    Ho...   \n1  ['District 12', ' Panem  Capitol', ' Panem  Pa...   \n2  ['Hogwarts School of Witchcraft and Wizardry  ...   \n3  ['Hogwarts School of Witchcraft and Wizardry',...   \n4  ['Hogwarts School of Witchcraft and Wizardry  ...   \n\n                                              Awards  \\\n0  ['Locus Award Nominee for Best Young Adult Nov...   \n1  [\"Locus Award Nominee for Best Young Adult Boo...   \n2  ['Locus Award Nominee for Best Young Adult Nov...   \n3  [\"Hugo Award for Best Novel (2001), Mythopoeic...   \n4  [\"Bram Stoker Award for Works for Young Reader...   \n\n                                            Genres  Awards_no  \n0          ['Fantasy', ' Young Adult', ' Fiction']        8.0  \n1  ['Young Adult', ' Fiction', ' Science Fiction']       41.0  \n2          ['Fantasy', ' Young Adult', ' Fiction']        3.0  \n3          ['Fantasy', ' Young Adult', ' Fiction']        9.0  \n4          ['Fantasy', ' Young Adult', ' Fiction']        9.0  ",
            "text/html": "<div>\n<style scoped>\n    .dataframe tbody tr th:only-of-type {\n        vertical-align: middle;\n    }\n\n    .dataframe tbody tr th {\n        vertical-align: top;\n    }\n\n    .dataframe thead th {\n        text-align: right;\n    }\n</style>\n<table border=\"1\" class=\"dataframe\">\n  <thead>\n    <tr style=\"text-align: right;\">\n      <th></th>\n      <th>Title</th>\n      <th>URL</th>\n      <th>Author</th>\n      <th>Average_rating</th>\n      <th>Rating</th>\n      <th>Reviews</th>\n      <th>Pages</th>\n      <th>Year</th>\n      <th>Series</th>\n      <th>Setting</th>\n      <th>Awards</th>\n      <th>Genres</th>\n      <th>Awards_no</th>\n    </tr>\n  </thead>\n  <tbody>\n    <tr>\n      <th>0</th>\n      <td>Harry Potter and the Deathly Hallows (Harry Po...</td>\n      <td>https://www.goodreads.com//book/show/136251.Ha...</td>\n      <td>J.K. Rowling</td>\n      <td>4.62</td>\n      <td>2959574.0</td>\n      <td>68456.0</td>\n      <td>759.0</td>\n      <td>2007.0</td>\n      <td>1</td>\n      <td>['London', ' England  United Kingdom', '    Ho...</td>\n      <td>['Locus Award Nominee for Best Young Adult Nov...</td>\n      <td>['Fantasy', ' Young Adult', ' Fiction']</td>\n      <td>8.0</td>\n    </tr>\n    <tr>\n      <th>1</th>\n      <td>The Hunger Games (The Hunger Games, #1)</td>\n      <td>https://www.goodreads.com//book/show/2767052-t...</td>\n      <td>Suzanne Collins</td>\n      <td>4.32</td>\n      <td>6685572.0</td>\n      <td>175503.0</td>\n      <td>374.0</td>\n      <td>2008.0</td>\n      <td>1</td>\n      <td>['District 12', ' Panem  Capitol', ' Panem  Pa...</td>\n      <td>[\"Locus Award Nominee for Best Young Adult Boo...</td>\n      <td>['Young Adult', ' Fiction', ' Science Fiction']</td>\n      <td>41.0</td>\n    </tr>\n    <tr>\n      <th>2</th>\n      <td>Harry Potter and the Half-Blood Prince (Harry ...</td>\n      <td>https://www.goodreads.com//book/show/1.Harry_P...</td>\n      <td>J.K. Rowling</td>\n      <td>4.57</td>\n      <td>2575436.0</td>\n      <td>42018.0</td>\n      <td>652.0</td>\n      <td>2006.0</td>\n      <td>1</td>\n      <td>['Hogwarts School of Witchcraft and Wizardry  ...</td>\n      <td>['Locus Award Nominee for Best Young Adult Nov...</td>\n      <td>['Fantasy', ' Young Adult', ' Fiction']</td>\n      <td>3.0</td>\n    </tr>\n    <tr>\n      <th>3</th>\n      <td>Harry Potter and the Goblet of Fire (Harry Pot...</td>\n      <td>https://www.goodreads.com//book/show/6.Harry_P...</td>\n      <td>J.K. Rowling</td>\n      <td>4.56</td>\n      <td>2749984.0</td>\n      <td>49584.0</td>\n      <td>734.0</td>\n      <td>2002.0</td>\n      <td>1</td>\n      <td>['Hogwarts School of Witchcraft and Wizardry',...</td>\n      <td>[\"Hugo Award for Best Novel (2001), Mythopoeic...</td>\n      <td>['Fantasy', ' Young Adult', ' Fiction']</td>\n      <td>9.0</td>\n    </tr>\n    <tr>\n      <th>4</th>\n      <td>Harry Potter and the Order of the Phoenix (Har...</td>\n      <td>https://www.goodreads.com//book/show/2.Harry_P...</td>\n      <td>J.K. Rowling</td>\n      <td>4.50</td>\n      <td>2653470.0</td>\n      <td>45376.0</td>\n      <td>870.0</td>\n      <td>2004.0</td>\n      <td>1</td>\n      <td>['Hogwarts School of Witchcraft and Wizardry  ...</td>\n      <td>[\"Bram Stoker Award for Works for Young Reader...</td>\n      <td>['Fantasy', ' Young Adult', ' Fiction']</td>\n      <td>9.0</td>\n    </tr>\n  </tbody>\n</table>\n</div>"
          },
          "metadata": {}
        }
      ],
      "execution_count": 3
    },
    {
      "cell_type": "code",
      "source": "",
      "metadata": {
        "tags": [],
        "cell_id": "00002-34fbd36a-834a-43d9-83c3-7662cc129ebf",
        "deepnote_cell_type": "code"
      },
      "outputs": [],
      "execution_count": null
    },
    {
      "cell_type": "markdown",
      "source": "# Group the books by original_publish_year and get the mean of the minmax_norm_ratings of the groups",
      "metadata": {
        "tags": [],
        "cell_id": "00001-3d50f3a0-d7bb-43cf-8742-27f582732afc",
        "deepnote_cell_type": "text-cell-h1"
      }
    },
    {
      "cell_type": "code",
      "source": " df_year = df.groupby(['Year'])\n#df_year.head()\ndf_year.mean()",
      "metadata": {
        "tags": [],
        "cell_id": "00002-d77de675-2b82-497d-809b-eb3f217ebb88",
        "deepnote_to_be_reexecuted": false,
        "source_hash": "b62a3940",
        "execution_millis": 50,
        "execution_start": 1618497821943,
        "deepnote_cell_type": "code"
      },
      "outputs": [
        {
          "output_type": "execute_result",
          "execution_count": 20,
          "data": {
            "application/vnd.deepnote.dataframe.v2+json": {
              "row_count": 21,
              "column_count": 6,
              "columns": [
                {
                  "name": "Average_rating",
                  "dtype": "float64",
                  "stats": {
                    "unique_count": 21,
                    "nan_count": 0,
                    "min": "3.86",
                    "max": "4.32",
                    "histogram": [
                      {
                        "bin_start": 3.86,
                        "bin_end": 3.9059999999999997,
                        "count": 1
                      },
                      {
                        "bin_start": 3.9059999999999997,
                        "bin_end": 3.952,
                        "count": 3
                      },
                      {
                        "bin_start": 3.952,
                        "bin_end": 3.998,
                        "count": 8
                      },
                      {
                        "bin_start": 3.998,
                        "bin_end": 4.0440000000000005,
                        "count": 4
                      },
                      {
                        "bin_start": 4.0440000000000005,
                        "bin_end": 4.09,
                        "count": 1
                      },
                      {
                        "bin_start": 4.09,
                        "bin_end": 4.136,
                        "count": 1
                      },
                      {
                        "bin_start": 4.136,
                        "bin_end": 4.182,
                        "count": 1
                      },
                      {
                        "bin_start": 4.182,
                        "bin_end": 4.228,
                        "count": 1
                      },
                      {
                        "bin_start": 4.228,
                        "bin_end": 4.274,
                        "count": 0
                      },
                      {
                        "bin_start": 4.274,
                        "bin_end": 4.32,
                        "count": 1
                      }
                    ]
                  }
                },
                {
                  "name": "Rating",
                  "dtype": "float64",
                  "stats": {
                    "unique_count": 21,
                    "nan_count": 0,
                    "min": "13350.0",
                    "max": "640051.0",
                    "histogram": [
                      {
                        "bin_start": 13350,
                        "bin_end": 76020.1,
                        "count": 1
                      },
                      {
                        "bin_start": 76020.1,
                        "bin_end": 138690.2,
                        "count": 4
                      },
                      {
                        "bin_start": 138690.2,
                        "bin_end": 201360.3,
                        "count": 8
                      },
                      {
                        "bin_start": 201360.3,
                        "bin_end": 264030.4,
                        "count": 5
                      },
                      {
                        "bin_start": 264030.4,
                        "bin_end": 326700.5,
                        "count": 0
                      },
                      {
                        "bin_start": 326700.5,
                        "bin_end": 389370.6,
                        "count": 0
                      },
                      {
                        "bin_start": 389370.6,
                        "bin_end": 452040.7,
                        "count": 1
                      },
                      {
                        "bin_start": 452040.7,
                        "bin_end": 514710.8,
                        "count": 1
                      },
                      {
                        "bin_start": 514710.8,
                        "bin_end": 577380.9,
                        "count": 0
                      },
                      {
                        "bin_start": 577380.9,
                        "bin_end": 640051,
                        "count": 1
                      }
                    ]
                  }
                },
                {
                  "name": "Reviews",
                  "dtype": "float64",
                  "stats": {
                    "unique_count": 21,
                    "nan_count": 0,
                    "min": "869.0",
                    "max": "55607.0",
                    "histogram": [
                      {
                        "bin_start": 869,
                        "bin_end": 6342.8,
                        "count": 9
                      },
                      {
                        "bin_start": 6342.8,
                        "bin_end": 11816.6,
                        "count": 5
                      },
                      {
                        "bin_start": 11816.6,
                        "bin_end": 17290.4,
                        "count": 4
                      },
                      {
                        "bin_start": 17290.4,
                        "bin_end": 22764.2,
                        "count": 1
                      },
                      {
                        "bin_start": 22764.2,
                        "bin_end": 28238,
                        "count": 1
                      },
                      {
                        "bin_start": 28238,
                        "bin_end": 33711.8,
                        "count": 0
                      },
                      {
                        "bin_start": 33711.8,
                        "bin_end": 39185.6,
                        "count": 0
                      },
                      {
                        "bin_start": 39185.6,
                        "bin_end": 44659.4,
                        "count": 0
                      },
                      {
                        "bin_start": 44659.4,
                        "bin_end": 50133.200000000004,
                        "count": 0
                      },
                      {
                        "bin_start": 50133.200000000004,
                        "bin_end": 55607,
                        "count": 1
                      }
                    ]
                  }
                },
                {
                  "name": "Pages",
                  "dtype": "float64",
                  "stats": {
                    "unique_count": 21,
                    "nan_count": 0,
                    "min": "291.0",
                    "max": "604.5",
                    "histogram": [
                      {
                        "bin_start": 291,
                        "bin_end": 322.35,
                        "count": 2
                      },
                      {
                        "bin_start": 322.35,
                        "bin_end": 353.7,
                        "count": 4
                      },
                      {
                        "bin_start": 353.7,
                        "bin_end": 385.05,
                        "count": 1
                      },
                      {
                        "bin_start": 385.05,
                        "bin_end": 416.4,
                        "count": 8
                      },
                      {
                        "bin_start": 416.4,
                        "bin_end": 447.75,
                        "count": 1
                      },
                      {
                        "bin_start": 447.75,
                        "bin_end": 479.1,
                        "count": 2
                      },
                      {
                        "bin_start": 479.1,
                        "bin_end": 510.45000000000005,
                        "count": 2
                      },
                      {
                        "bin_start": 510.45000000000005,
                        "bin_end": 541.8,
                        "count": 0
                      },
                      {
                        "bin_start": 541.8,
                        "bin_end": 573.1500000000001,
                        "count": 0
                      },
                      {
                        "bin_start": 573.1500000000001,
                        "bin_end": 604.5,
                        "count": 1
                      }
                    ]
                  }
                },
                {
                  "name": "Series",
                  "dtype": "float64",
                  "stats": {
                    "unique_count": 13,
                    "nan_count": 0,
                    "min": "0.0",
                    "max": "1.0",
                    "histogram": [
                      {
                        "bin_start": 0,
                        "bin_end": 0.1,
                        "count": 4
                      },
                      {
                        "bin_start": 0.1,
                        "bin_end": 0.2,
                        "count": 0
                      },
                      {
                        "bin_start": 0.2,
                        "bin_end": 0.30000000000000004,
                        "count": 0
                      },
                      {
                        "bin_start": 0.30000000000000004,
                        "bin_end": 0.4,
                        "count": 2
                      },
                      {
                        "bin_start": 0.4,
                        "bin_end": 0.5,
                        "count": 5
                      },
                      {
                        "bin_start": 0.5,
                        "bin_end": 0.6000000000000001,
                        "count": 4
                      },
                      {
                        "bin_start": 0.6000000000000001,
                        "bin_end": 0.7000000000000001,
                        "count": 3
                      },
                      {
                        "bin_start": 0.7000000000000001,
                        "bin_end": 0.8,
                        "count": 0
                      },
                      {
                        "bin_start": 0.8,
                        "bin_end": 0.9,
                        "count": 0
                      },
                      {
                        "bin_start": 0.9,
                        "bin_end": 1,
                        "count": 3
                      }
                    ]
                  }
                },
                {
                  "name": "Awards_no",
                  "dtype": "float64",
                  "stats": {
                    "unique_count": 18,
                    "nan_count": 2,
                    "min": "2.0",
                    "max": "8.0",
                    "histogram": [
                      {
                        "bin_start": 2,
                        "bin_end": 2.6,
                        "count": 2
                      },
                      {
                        "bin_start": 2.6,
                        "bin_end": 3.2,
                        "count": 3
                      },
                      {
                        "bin_start": 3.2,
                        "bin_end": 3.8,
                        "count": 3
                      },
                      {
                        "bin_start": 3.8,
                        "bin_end": 4.4,
                        "count": 7
                      },
                      {
                        "bin_start": 4.4,
                        "bin_end": 5,
                        "count": 1
                      },
                      {
                        "bin_start": 5,
                        "bin_end": 5.6,
                        "count": 0
                      },
                      {
                        "bin_start": 5.6,
                        "bin_end": 6.2,
                        "count": 1
                      },
                      {
                        "bin_start": 6.2,
                        "bin_end": 6.8,
                        "count": 1
                      },
                      {
                        "bin_start": 6.8,
                        "bin_end": 7.3999999999999995,
                        "count": 0
                      },
                      {
                        "bin_start": 7.3999999999999995,
                        "bin_end": 8,
                        "count": 1
                      }
                    ]
                  }
                },
                {
                  "name": "_deepnote_index_column",
                  "dtype": "float64"
                }
              ],
              "rows_top": [
                {
                  "Average_rating": 4.08,
                  "Rating": 246361,
                  "Reviews": 5795,
                  "Pages": 304,
                  "Series": 0,
                  "Awards_no": "2.0",
                  "_deepnote_index_column": 1998
                },
                {
                  "Average_rating": 3.86,
                  "Rating": 13350,
                  "Reviews": 869,
                  "Pages": 496,
                  "Series": 0,
                  "Awards_no": "nan",
                  "_deepnote_index_column": 1999
                },
                {
                  "Average_rating": 3.908333333333333,
                  "Rating": 103842.66666666667,
                  "Reviews": 5290.833333333333,
                  "Pages": 334.8333333333333,
                  "Series": 0.6666666666666666,
                  "Awards_no": "3.0",
                  "_deepnote_index_column": 2000
                },
                {
                  "Average_rating": 3.948888888888889,
                  "Rating": 147298.05555555556,
                  "Reviews": 5380.805555555556,
                  "Pages": 352.1111111111111,
                  "Series": 0.4444444444444444,
                  "Awards_no": "5.761904761904762",
                  "_deepnote_index_column": 2001
                },
                {
                  "Average_rating": 3.9824,
                  "Rating": 155814.48,
                  "Reviews": 4858.18,
                  "Pages": 397.46,
                  "Series": 0.36,
                  "Awards_no": "3.7241379310344827",
                  "_deepnote_index_column": 2002
                },
                {
                  "Average_rating": 3.928115942028985,
                  "Rating": 147864.27536231885,
                  "Reviews": 5455.826086956522,
                  "Pages": 412.59420289855075,
                  "Series": 0.5217391304347826,
                  "Awards_no": "3.5652173913043477",
                  "_deepnote_index_column": 2003
                },
                {
                  "Average_rating": 3.9731958762886586,
                  "Rating": 156587.71134020618,
                  "Reviews": 5701.40206185567,
                  "Pages": 411.0103092783505,
                  "Series": 0.4536082474226804,
                  "Awards_no": "3.8947368421052633",
                  "_deepnote_index_column": 2004
                },
                {
                  "Average_rating": 3.9732954545454544,
                  "Rating": 128644.61363636363,
                  "Reviews": 5193.897727272727,
                  "Pages": 466.25,
                  "Series": 0.48863636363636365,
                  "Awards_no": "3.84",
                  "_deepnote_index_column": 2005
                },
                {
                  "Average_rating": 3.963039215686273,
                  "Rating": 225125.5980392157,
                  "Reviews": 8738.132352941177,
                  "Pages": 409.9166666666667,
                  "Series": 0.5,
                  "Awards_no": "4.055555555555555",
                  "_deepnote_index_column": 2006
                },
                {
                  "Average_rating": 3.9569736842105256,
                  "Rating": 170989.0197368421,
                  "Reviews": 8090.296052631579,
                  "Pages": 399.6842105263158,
                  "Series": 0.46710526315789475,
                  "Awards_no": "3.142857142857143",
                  "_deepnote_index_column": 2007
                },
                {
                  "Average_rating": 4.0076,
                  "Rating": 206171.568,
                  "Reviews": 8989.816,
                  "Pages": 401.176,
                  "Series": 0.632,
                  "Awards_no": "4.12",
                  "_deepnote_index_column": 2008
                },
                {
                  "Average_rating": 3.9982051282051283,
                  "Rating": 192507.67521367522,
                  "Reviews": 9480.145299145299,
                  "Pages": 413.8974358974359,
                  "Series": 0.5555555555555556,
                  "Awards_no": "4.324324324324325",
                  "_deepnote_index_column": 2009
                },
                {
                  "Average_rating": 3.9888888888888894,
                  "Rating": 254057.22222222222,
                  "Reviews": 15518.555555555555,
                  "Pages": 508.27777777777777,
                  "Series": 0.4444444444444444,
                  "Awards_no": "4.071428571428571",
                  "_deepnote_index_column": 2010
                },
                {
                  "Average_rating": 4.1025,
                  "Rating": 260469.125,
                  "Reviews": 13606.375,
                  "Pages": 604.5,
                  "Series": 1,
                  "Awards_no": "4.428571428571429",
                  "_deepnote_index_column": 2011
                },
                {
                  "Average_rating": 3.99,
                  "Rating": 154621.33333333334,
                  "Reviews": 14269.666666666666,
                  "Pages": 340.3333333333333,
                  "Series": 0.3333333333333333,
                  "Awards_no": "2.6666666666666665",
                  "_deepnote_index_column": 2012
                },
                {
                  "Average_rating": 4.029999999999999,
                  "Rating": 475209.5,
                  "Reviews": 14745.5,
                  "Pages": 344.75,
                  "Series": 0.5,
                  "Awards_no": "3.5",
                  "_deepnote_index_column": 2013
                },
                {
                  "Average_rating": 4.015,
                  "Rating": 168753.5,
                  "Reviews": 17377.5,
                  "Pages": 455.5,
                  "Series": 1,
                  "Awards_no": "6.5",
                  "_deepnote_index_column": 2014
                },
                {
                  "Average_rating": 4.32,
                  "Rating": 110706.66666666667,
                  "Reviews": 5536.666666666667,
                  "Pages": 432,
                  "Series": 0.6666666666666666,
                  "Awards_no": "4.0",
                  "_deepnote_index_column": 2015
                },
                {
                  "Average_rating": 3.9749999999999996,
                  "Rating": 415120.5,
                  "Reviews": 27171.5,
                  "Pages": 384,
                  "Series": 0,
                  "Awards_no": "8.0",
                  "_deepnote_index_column": 2016
                },
                {
                  "Average_rating": 4.216666666666668,
                  "Rating": 125829.66666666667,
                  "Reviews": 8999,
                  "Pages": 397.3333333333333,
                  "Series": 1,
                  "Awards_no": "nan",
                  "_deepnote_index_column": 2017
                },
                {
                  "Average_rating": 4.17,
                  "Rating": 640051,
                  "Reviews": 55607,
                  "Pages": 291,
                  "Series": 0,
                  "Awards_no": "2.0",
                  "_deepnote_index_column": 2018
                }
              ],
              "rows_bottom": null
            },
            "text/plain": "        Average_rating         Rating       Reviews       Pages    Series  \\\nYear                                                                        \n1998.0        4.080000  246361.000000   5795.000000  304.000000  0.000000   \n1999.0        3.860000   13350.000000    869.000000  496.000000  0.000000   \n2000.0        3.908333  103842.666667   5290.833333  334.833333  0.666667   \n2001.0        3.948889  147298.055556   5380.805556  352.111111  0.444444   \n2002.0        3.982400  155814.480000   4858.180000  397.460000  0.360000   \n2003.0        3.928116  147864.275362   5455.826087  412.594203  0.521739   \n2004.0        3.973196  156587.711340   5701.402062  411.010309  0.453608   \n2005.0        3.973295  128644.613636   5193.897727  466.250000  0.488636   \n2006.0        3.963039  225125.598039   8738.132353  409.916667  0.500000   \n2007.0        3.956974  170989.019737   8090.296053  399.684211  0.467105   \n2008.0        4.007600  206171.568000   8989.816000  401.176000  0.632000   \n2009.0        3.998205  192507.675214   9480.145299  413.897436  0.555556   \n2010.0        3.988889  254057.222222  15518.555556  508.277778  0.444444   \n2011.0        4.102500  260469.125000  13606.375000  604.500000  1.000000   \n2012.0        3.990000  154621.333333  14269.666667  340.333333  0.333333   \n2013.0        4.030000  475209.500000  14745.500000  344.750000  0.500000   \n2014.0        4.015000  168753.500000  17377.500000  455.500000  1.000000   \n2015.0        4.320000  110706.666667   5536.666667  432.000000  0.666667   \n2016.0        3.975000  415120.500000  27171.500000  384.000000  0.000000   \n2017.0        4.216667  125829.666667   8999.000000  397.333333  1.000000   \n2018.0        4.170000  640051.000000  55607.000000  291.000000  0.000000   \n\n        Awards_no  \nYear               \n1998.0   2.000000  \n1999.0        NaN  \n2000.0   3.000000  \n2001.0   5.761905  \n2002.0   3.724138  \n2003.0   3.565217  \n2004.0   3.894737  \n2005.0   3.840000  \n2006.0   4.055556  \n2007.0   3.142857  \n2008.0   4.120000  \n2009.0   4.324324  \n2010.0   4.071429  \n2011.0   4.428571  \n2012.0   2.666667  \n2013.0   3.500000  \n2014.0   6.500000  \n2015.0   4.000000  \n2016.0   8.000000  \n2017.0        NaN  \n2018.0   2.000000  ",
            "text/html": "<div>\n<style scoped>\n    .dataframe tbody tr th:only-of-type {\n        vertical-align: middle;\n    }\n\n    .dataframe tbody tr th {\n        vertical-align: top;\n    }\n\n    .dataframe thead th {\n        text-align: right;\n    }\n</style>\n<table border=\"1\" class=\"dataframe\">\n  <thead>\n    <tr style=\"text-align: right;\">\n      <th></th>\n      <th>Average_rating</th>\n      <th>Rating</th>\n      <th>Reviews</th>\n      <th>Pages</th>\n      <th>Series</th>\n      <th>Awards_no</th>\n    </tr>\n    <tr>\n      <th>Year</th>\n      <th></th>\n      <th></th>\n      <th></th>\n      <th></th>\n      <th></th>\n      <th></th>\n    </tr>\n  </thead>\n  <tbody>\n    <tr>\n      <th>1998.0</th>\n      <td>4.080000</td>\n      <td>246361.000000</td>\n      <td>5795.000000</td>\n      <td>304.000000</td>\n      <td>0.000000</td>\n      <td>2.000000</td>\n    </tr>\n    <tr>\n      <th>1999.0</th>\n      <td>3.860000</td>\n      <td>13350.000000</td>\n      <td>869.000000</td>\n      <td>496.000000</td>\n      <td>0.000000</td>\n      <td>NaN</td>\n    </tr>\n    <tr>\n      <th>2000.0</th>\n      <td>3.908333</td>\n      <td>103842.666667</td>\n      <td>5290.833333</td>\n      <td>334.833333</td>\n      <td>0.666667</td>\n      <td>3.000000</td>\n    </tr>\n    <tr>\n      <th>2001.0</th>\n      <td>3.948889</td>\n      <td>147298.055556</td>\n      <td>5380.805556</td>\n      <td>352.111111</td>\n      <td>0.444444</td>\n      <td>5.761905</td>\n    </tr>\n    <tr>\n      <th>2002.0</th>\n      <td>3.982400</td>\n      <td>155814.480000</td>\n      <td>4858.180000</td>\n      <td>397.460000</td>\n      <td>0.360000</td>\n      <td>3.724138</td>\n    </tr>\n    <tr>\n      <th>2003.0</th>\n      <td>3.928116</td>\n      <td>147864.275362</td>\n      <td>5455.826087</td>\n      <td>412.594203</td>\n      <td>0.521739</td>\n      <td>3.565217</td>\n    </tr>\n    <tr>\n      <th>2004.0</th>\n      <td>3.973196</td>\n      <td>156587.711340</td>\n      <td>5701.402062</td>\n      <td>411.010309</td>\n      <td>0.453608</td>\n      <td>3.894737</td>\n    </tr>\n    <tr>\n      <th>2005.0</th>\n      <td>3.973295</td>\n      <td>128644.613636</td>\n      <td>5193.897727</td>\n      <td>466.250000</td>\n      <td>0.488636</td>\n      <td>3.840000</td>\n    </tr>\n    <tr>\n      <th>2006.0</th>\n      <td>3.963039</td>\n      <td>225125.598039</td>\n      <td>8738.132353</td>\n      <td>409.916667</td>\n      <td>0.500000</td>\n      <td>4.055556</td>\n    </tr>\n    <tr>\n      <th>2007.0</th>\n      <td>3.956974</td>\n      <td>170989.019737</td>\n      <td>8090.296053</td>\n      <td>399.684211</td>\n      <td>0.467105</td>\n      <td>3.142857</td>\n    </tr>\n    <tr>\n      <th>2008.0</th>\n      <td>4.007600</td>\n      <td>206171.568000</td>\n      <td>8989.816000</td>\n      <td>401.176000</td>\n      <td>0.632000</td>\n      <td>4.120000</td>\n    </tr>\n    <tr>\n      <th>2009.0</th>\n      <td>3.998205</td>\n      <td>192507.675214</td>\n      <td>9480.145299</td>\n      <td>413.897436</td>\n      <td>0.555556</td>\n      <td>4.324324</td>\n    </tr>\n    <tr>\n      <th>2010.0</th>\n      <td>3.988889</td>\n      <td>254057.222222</td>\n      <td>15518.555556</td>\n      <td>508.277778</td>\n      <td>0.444444</td>\n      <td>4.071429</td>\n    </tr>\n    <tr>\n      <th>2011.0</th>\n      <td>4.102500</td>\n      <td>260469.125000</td>\n      <td>13606.375000</td>\n      <td>604.500000</td>\n      <td>1.000000</td>\n      <td>4.428571</td>\n    </tr>\n    <tr>\n      <th>2012.0</th>\n      <td>3.990000</td>\n      <td>154621.333333</td>\n      <td>14269.666667</td>\n      <td>340.333333</td>\n      <td>0.333333</td>\n      <td>2.666667</td>\n    </tr>\n    <tr>\n      <th>2013.0</th>\n      <td>4.030000</td>\n      <td>475209.500000</td>\n      <td>14745.500000</td>\n      <td>344.750000</td>\n      <td>0.500000</td>\n      <td>3.500000</td>\n    </tr>\n    <tr>\n      <th>2014.0</th>\n      <td>4.015000</td>\n      <td>168753.500000</td>\n      <td>17377.500000</td>\n      <td>455.500000</td>\n      <td>1.000000</td>\n      <td>6.500000</td>\n    </tr>\n    <tr>\n      <th>2015.0</th>\n      <td>4.320000</td>\n      <td>110706.666667</td>\n      <td>5536.666667</td>\n      <td>432.000000</td>\n      <td>0.666667</td>\n      <td>4.000000</td>\n    </tr>\n    <tr>\n      <th>2016.0</th>\n      <td>3.975000</td>\n      <td>415120.500000</td>\n      <td>27171.500000</td>\n      <td>384.000000</td>\n      <td>0.000000</td>\n      <td>8.000000</td>\n    </tr>\n    <tr>\n      <th>2017.0</th>\n      <td>4.216667</td>\n      <td>125829.666667</td>\n      <td>8999.000000</td>\n      <td>397.333333</td>\n      <td>1.000000</td>\n      <td>NaN</td>\n    </tr>\n    <tr>\n      <th>2018.0</th>\n      <td>4.170000</td>\n      <td>640051.000000</td>\n      <td>55607.000000</td>\n      <td>291.000000</td>\n      <td>0.000000</td>\n      <td>2.000000</td>\n    </tr>\n  </tbody>\n</table>\n</div>"
          },
          "metadata": {}
        }
      ],
      "execution_count": 20
    },
    {
      "cell_type": "code",
      "source": "print(df_year.mean().min())",
      "metadata": {
        "tags": [],
        "cell_id": "00005-60e870b1-4001-4f36-931f-11bb20791583",
        "deepnote_to_be_reexecuted": false,
        "source_hash": "a23ec64a",
        "execution_start": 1618497550458,
        "execution_millis": 4,
        "deepnote_cell_type": "code"
      },
      "outputs": [
        {
          "name": "stdout",
          "text": "Average_rating        3.86\nRating            13350.00\nReviews             869.00\nPages               291.00\nSeries                0.00\nAwards_no             2.00\ndtype: float64\n",
          "output_type": "stream"
        }
      ],
      "execution_count": 18
    },
    {
      "cell_type": "code",
      "source": "print(df_year.mean().max())",
      "metadata": {
        "tags": [],
        "cell_id": "00006-ad04d883-060d-4c98-81a5-d7d8583fde8f",
        "deepnote_to_be_reexecuted": false,
        "source_hash": "3fca32bb",
        "execution_start": 1618497562115,
        "execution_millis": 13,
        "deepnote_cell_type": "code"
      },
      "outputs": [
        {
          "name": "stdout",
          "text": "Average_rating         4.32\nRating            640051.00\nReviews            55607.00\nPages                604.50\nSeries                 1.00\nAwards_no              8.00\ndtype: float64\n",
          "output_type": "stream"
        }
      ],
      "execution_count": 19
    },
    {
      "cell_type": "markdown",
      "source": "# Create a function that given an author as input it returns her/his book with the highest minmax_norm_ratings.",
      "metadata": {
        "tags": [],
        "cell_id": "00002-25400a35-b83a-44cd-883c-7f97d615b5da",
        "deepnote_cell_type": "text-cell-h1"
      }
    },
    {
      "cell_type": "code",
      "source": "def get_author_books(author_name):\n    df_autors = df.groupby('Author')\n    df_autors.get_group(author_name)\n    Author_best = df_autors.get_group(author_name).max()\n    Author_least_best = df_autors.get_group(author_name).min()\n    print(\"{} Maximum rated book is {} , Minmum rated book is {}\".format(author_name,Author_best,Author_least_best ))\n    \nget_author_books('J.K. Rowling')",
      "metadata": {
        "tags": [],
        "cell_id": "00008-7ac67332-db43-47c4-8c6c-648d04863576",
        "deepnote_to_be_reexecuted": false,
        "source_hash": "9f075a86",
        "execution_millis": 23,
        "execution_start": 1618499553409,
        "deepnote_cell_type": "code"
      },
      "outputs": [
        {
          "name": "stdout",
          "text": "J.K. Rowling Maximum rated book is Title                                  The Tales of Beedle the Bard\nURL               https://www.goodreads.com//book/show/862041.Ha...\nAuthor                                                 J.K. Rowling\nAverage_rating                                                 4.72\nRating                                                    2959574.0\nReviews                                                     68456.0\nPages                                                        4100.0\nYear                                                         2008.0\nSeries                                                            1\nAwards            ['Locus Award Nominee for Best Young Adult Nov...\nGenres                      ['Fantasy', ' Young Adult', ' Fiction']\nAwards_no                                                       9.0\ndtype: object , Minmum rated book is Title              Harry Potter Series Box Set (Harry Potter, #1-7)\nURL               https://www.goodreads.com//book/show/1.Harry_P...\nAuthor                                                 J.K. Rowling\nAverage_rating                                                 4.05\nRating                                                     260300.0\nReviews                                                      7545.0\nPages                                                         109.0\nYear                                                         2002.0\nSeries                                                            1\nAwards            [\"Bram Stoker Award for Works for Young Reader...\nGenres                      ['Fantasy', ' Fiction', ' Young Adult']\nAwards_no                                                       1.0\ndtype: object\n",
          "output_type": "stream"
        }
      ],
      "execution_count": 27
    },
    {
      "cell_type": "markdown",
      "source": "<a style='text-decoration:none;line-height:16px;display:flex;color:#5B5B62;padding:10px;justify-content:end;' href='https://deepnote.com?utm_source=created-in-deepnote-cell&projectId=a0867bd3-5624-476b-af8a-bd1f917bd510' target=\"_blank\">\n<img alt='Created in deepnote.com' style='display:inline;max-height:16px;margin:0px;margin-right:7.5px;' src='data:image/svg+xml;base64,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' > </img>\nCreated in <span style='font-weight:600;margin-left:4px;'>Deepnote</span></a>",
      "metadata": {
        "tags": [],
        "created_in_deepnote_cell": true,
        "deepnote_cell_type": "markdown"
      }
    }
  ],
  "nbformat": 4,
  "nbformat_minor": 2,
  "metadata": {
    "orig_nbformat": 2,
    "deepnote": {
      "is_reactive": false
    },
    "deepnote_notebook_id": "088e1c59-b7cc-4b43-9413-c06cf6cf7a82",
    "deepnote_execution_queue": []
  }
}