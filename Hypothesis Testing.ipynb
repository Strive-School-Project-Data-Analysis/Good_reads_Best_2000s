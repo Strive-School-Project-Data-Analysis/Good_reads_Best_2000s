{
  "cells": [
    {
      "cell_type": "markdown",
      "source": "## Hypothesis Testing\n1. Defining Null and Alternative Hypothesis\n2. Importing Libraries and Data Set\n3. Preparing The Data\n3. Finding Confidence Interval and P value\n4. Clarifying Alternative Hypothesis\n5. Testing with Large Data\n6. Conclusion",
      "metadata": {
        "tags": [],
        "cell_id": "00001-b618cfc5-77ff-4c31-9d1f-d51e14325a13",
        "deepnote_cell_type": "markdown"
      }
    },
    {
      "cell_type": "markdown",
      "source": "### 1.Defining Null and Alternative Hypothesis",
      "metadata": {
        "tags": [],
        "cell_id": "00001-dc5c5033-ead8-4779-a214-c850644b766a",
        "deepnote_cell_type": "markdown"
      }
    },
    {
      "cell_type": "markdown",
      "source": "1- Book between 4 and 5 rating are not all series\n\n2- The best 100 books are all below 1000 pages\n\n3- Books are getting shorter through years!\n\n4- The books with the highest review number will also have good ratings!\n\n5- The best 100 books are all series\n\n6- which genres are getting popular? Not Hypothesis material I think ",
      "metadata": {
        "tags": [],
        "cell_id": "00002-7b7f511e-68e5-4880-8cd5-ab47442acf18",
        "deepnote_cell_type": "markdown"
      }
    },
    {
      "cell_type": "markdown",
      "source": "### 2.Importing Libraries and Data Set",
      "metadata": {
        "tags": [],
        "cell_id": "00001-ccdba446-cd20-4411-97fd-6a38529aace2",
        "deepnote_cell_type": "markdown"
      }
    },
    {
      "cell_type": "code",
      "metadata": {
        "tags": [],
        "cell_id": "00001-b131ad85-6d52-4047-89ee-f8c2e85d3c86",
        "deepnote_to_be_reexecuted": false,
        "source_hash": "c8c2a2fb",
        "execution_millis": 5799,
        "execution_start": 1618572325517,
        "deepnote_cell_type": "code"
      },
      "source": "#Importing Libraries\nimport numpy as np # linear algebra\nimport pandas as pd # data processing, CSV file I/O (e.g. pd.read_csv)\nimport seaborn as sns\nimport os\nimport re\nimport statsmodels.api as sm\nimport matplotlib as mpl\nimport matplotlib.pyplot as plt\nfrom matplotlib import rcParams #Import rcParams to set font styles\n\n#Set font style and size \nrcParams['font.family'] = 'serif'\nrcParams['font.size'] = 16",
      "execution_count": 1,
      "outputs": []
    },
    {
      "cell_type": "code",
      "metadata": {
        "tags": [],
        "cell_id": "00002-130ffe86-e232-4909-8de0-13d613d2bb57",
        "deepnote_to_be_reexecuted": false,
        "source_hash": "1522d882",
        "execution_millis": 23,
        "execution_start": 1618572331320,
        "deepnote_cell_type": "code"
      },
      "source": "#Importing Data Set\ndef importing_test_data():\n    df=pd.read_csv(\"/work/Good_reads_Best_2000s/big_books_clean.csv\")\n    return df\ndf=importing_test_data()",
      "execution_count": 2,
      "outputs": []
    },
    {
      "cell_type": "markdown",
      "source": "### 3.Preparing The Data",
      "metadata": {
        "tags": [],
        "cell_id": "00006-8c68a6c5-d6a1-489f-8802-b811907f8c7e",
        "deepnote_cell_type": "markdown"
      }
    },
    {
      "cell_type": "code",
      "metadata": {
        "tags": [],
        "cell_id": "00006-5c9cd6f7-4f71-4381-a6f3-ea8b08958f40",
        "deepnote_to_be_reexecuted": false,
        "source_hash": "6bcef6e",
        "execution_millis": 45,
        "execution_start": 1618572331370,
        "deepnote_cell_type": "code"
      },
      "source": "#Showing first 5 row of data\ndf.head()",
      "execution_count": 3,
      "outputs": [
        {
          "output_type": "execute_result",
          "execution_count": 3,
          "data": {
            "application/vnd.deepnote.dataframe.v2+json": {
              "row_count": 5,
              "column_count": 13,
              "columns": [
                {
                  "name": "Title",
                  "dtype": "object",
                  "stats": {
                    "unique_count": 5,
                    "nan_count": 0,
                    "categories": [
                      {
                        "name": "Harry Potter and the Deathly Hallows (Harry Potter, #7)",
                        "count": 1
                      },
                      {
                        "name": "The Hunger Games (The Hunger Games, #1)",
                        "count": 1
                      },
                      {
                        "name": "3 others",
                        "count": 3
                      }
                    ]
                  }
                },
                {
                  "name": "URL",
                  "dtype": "object",
                  "stats": {
                    "unique_count": 5,
                    "nan_count": 0,
                    "categories": [
                      {
                        "name": "https://www.goodreads.com//book/show/136251.Harry_Potter_and_the_Deathly_Hallows",
                        "count": 1
                      },
                      {
                        "name": "https://www.goodreads.com//book/show/2767052-the-hunger-games",
                        "count": 1
                      },
                      {
                        "name": "3 others",
                        "count": 3
                      }
                    ]
                  }
                },
                {
                  "name": "Author",
                  "dtype": "object",
                  "stats": {
                    "unique_count": 2,
                    "nan_count": 0,
                    "categories": [
                      {
                        "name": "J.K. Rowling",
                        "count": 4
                      },
                      {
                        "name": "Suzanne Collins",
                        "count": 1
                      }
                    ]
                  }
                },
                {
                  "name": "Average_rating",
                  "dtype": "float64",
                  "stats": {
                    "unique_count": 5,
                    "nan_count": 0,
                    "min": "4.32",
                    "max": "4.62",
                    "histogram": [
                      {
                        "bin_start": 4.32,
                        "bin_end": 4.3500000000000005,
                        "count": 1
                      },
                      {
                        "bin_start": 4.3500000000000005,
                        "bin_end": 4.38,
                        "count": 0
                      },
                      {
                        "bin_start": 4.38,
                        "bin_end": 4.41,
                        "count": 0
                      },
                      {
                        "bin_start": 4.41,
                        "bin_end": 4.44,
                        "count": 0
                      },
                      {
                        "bin_start": 4.44,
                        "bin_end": 4.470000000000001,
                        "count": 0
                      },
                      {
                        "bin_start": 4.470000000000001,
                        "bin_end": 4.5,
                        "count": 0
                      },
                      {
                        "bin_start": 4.5,
                        "bin_end": 4.53,
                        "count": 1
                      },
                      {
                        "bin_start": 4.53,
                        "bin_end": 4.5600000000000005,
                        "count": 1
                      },
                      {
                        "bin_start": 4.5600000000000005,
                        "bin_end": 4.59,
                        "count": 1
                      },
                      {
                        "bin_start": 4.59,
                        "bin_end": 4.62,
                        "count": 1
                      }
                    ]
                  }
                },
                {
                  "name": "Rating",
                  "dtype": "float64",
                  "stats": {
                    "unique_count": 5,
                    "nan_count": 0,
                    "min": "2575436.0",
                    "max": "6685572.0",
                    "histogram": [
                      {
                        "bin_start": 2575436,
                        "bin_end": 2986449.6,
                        "count": 4
                      },
                      {
                        "bin_start": 2986449.6,
                        "bin_end": 3397463.2,
                        "count": 0
                      },
                      {
                        "bin_start": 3397463.2,
                        "bin_end": 3808476.8,
                        "count": 0
                      },
                      {
                        "bin_start": 3808476.8,
                        "bin_end": 4219490.4,
                        "count": 0
                      },
                      {
                        "bin_start": 4219490.4,
                        "bin_end": 4630504,
                        "count": 0
                      },
                      {
                        "bin_start": 4630504,
                        "bin_end": 5041517.6,
                        "count": 0
                      },
                      {
                        "bin_start": 5041517.6,
                        "bin_end": 5452531.199999999,
                        "count": 0
                      },
                      {
                        "bin_start": 5452531.199999999,
                        "bin_end": 5863544.8,
                        "count": 0
                      },
                      {
                        "bin_start": 5863544.8,
                        "bin_end": 6274558.4,
                        "count": 0
                      },
                      {
                        "bin_start": 6274558.4,
                        "bin_end": 6685572,
                        "count": 1
                      }
                    ]
                  }
                },
                {
                  "name": "Reviews",
                  "dtype": "float64",
                  "stats": {
                    "unique_count": 5,
                    "nan_count": 0,
                    "min": "42018.0",
                    "max": "175503.0",
                    "histogram": [
                      {
                        "bin_start": 42018,
                        "bin_end": 55366.5,
                        "count": 3
                      },
                      {
                        "bin_start": 55366.5,
                        "bin_end": 68715,
                        "count": 1
                      },
                      {
                        "bin_start": 68715,
                        "bin_end": 82063.5,
                        "count": 0
                      },
                      {
                        "bin_start": 82063.5,
                        "bin_end": 95412,
                        "count": 0
                      },
                      {
                        "bin_start": 95412,
                        "bin_end": 108760.5,
                        "count": 0
                      },
                      {
                        "bin_start": 108760.5,
                        "bin_end": 122109,
                        "count": 0
                      },
                      {
                        "bin_start": 122109,
                        "bin_end": 135457.5,
                        "count": 0
                      },
                      {
                        "bin_start": 135457.5,
                        "bin_end": 148806,
                        "count": 0
                      },
                      {
                        "bin_start": 148806,
                        "bin_end": 162154.5,
                        "count": 0
                      },
                      {
                        "bin_start": 162154.5,
                        "bin_end": 175503,
                        "count": 1
                      }
                    ]
                  }
                },
                {
                  "name": "Pages",
                  "dtype": "float64",
                  "stats": {
                    "unique_count": 5,
                    "nan_count": 0,
                    "min": "374.0",
                    "max": "870.0",
                    "histogram": [
                      {
                        "bin_start": 374,
                        "bin_end": 423.6,
                        "count": 1
                      },
                      {
                        "bin_start": 423.6,
                        "bin_end": 473.2,
                        "count": 0
                      },
                      {
                        "bin_start": 473.2,
                        "bin_end": 522.8,
                        "count": 0
                      },
                      {
                        "bin_start": 522.8,
                        "bin_end": 572.4,
                        "count": 0
                      },
                      {
                        "bin_start": 572.4,
                        "bin_end": 622,
                        "count": 0
                      },
                      {
                        "bin_start": 622,
                        "bin_end": 671.6,
                        "count": 1
                      },
                      {
                        "bin_start": 671.6,
                        "bin_end": 721.2,
                        "count": 0
                      },
                      {
                        "bin_start": 721.2,
                        "bin_end": 770.8,
                        "count": 2
                      },
                      {
                        "bin_start": 770.8,
                        "bin_end": 820.4000000000001,
                        "count": 0
                      },
                      {
                        "bin_start": 820.4000000000001,
                        "bin_end": 870,
                        "count": 1
                      }
                    ]
                  }
                },
                {
                  "name": "Year",
                  "dtype": "float64",
                  "stats": {
                    "unique_count": 5,
                    "nan_count": 0,
                    "min": "2002.0",
                    "max": "2008.0",
                    "histogram": [
                      {
                        "bin_start": 2002,
                        "bin_end": 2002.6,
                        "count": 1
                      },
                      {
                        "bin_start": 2002.6,
                        "bin_end": 2003.2,
                        "count": 0
                      },
                      {
                        "bin_start": 2003.2,
                        "bin_end": 2003.8,
                        "count": 0
                      },
                      {
                        "bin_start": 2003.8,
                        "bin_end": 2004.4,
                        "count": 1
                      },
                      {
                        "bin_start": 2004.4,
                        "bin_end": 2005,
                        "count": 0
                      },
                      {
                        "bin_start": 2005,
                        "bin_end": 2005.6,
                        "count": 0
                      },
                      {
                        "bin_start": 2005.6,
                        "bin_end": 2006.2,
                        "count": 1
                      },
                      {
                        "bin_start": 2006.2,
                        "bin_end": 2006.8,
                        "count": 0
                      },
                      {
                        "bin_start": 2006.8,
                        "bin_end": 2007.4,
                        "count": 1
                      },
                      {
                        "bin_start": 2007.4,
                        "bin_end": 2008,
                        "count": 1
                      }
                    ]
                  }
                },
                {
                  "name": "Series",
                  "dtype": "int64",
                  "stats": {
                    "unique_count": 1,
                    "nan_count": 0,
                    "min": "1",
                    "max": "1",
                    "histogram": [
                      {
                        "bin_start": 0.5,
                        "bin_end": 0.6,
                        "count": 0
                      },
                      {
                        "bin_start": 0.6,
                        "bin_end": 0.7,
                        "count": 0
                      },
                      {
                        "bin_start": 0.7,
                        "bin_end": 0.8,
                        "count": 0
                      },
                      {
                        "bin_start": 0.8,
                        "bin_end": 0.9,
                        "count": 0
                      },
                      {
                        "bin_start": 0.9,
                        "bin_end": 1,
                        "count": 0
                      },
                      {
                        "bin_start": 1,
                        "bin_end": 1.1,
                        "count": 5
                      },
                      {
                        "bin_start": 1.1,
                        "bin_end": 1.2000000000000002,
                        "count": 0
                      },
                      {
                        "bin_start": 1.2000000000000002,
                        "bin_end": 1.3,
                        "count": 0
                      },
                      {
                        "bin_start": 1.3,
                        "bin_end": 1.4,
                        "count": 0
                      },
                      {
                        "bin_start": 1.4,
                        "bin_end": 1.5,
                        "count": 0
                      }
                    ]
                  }
                },
                {
                  "name": "Setting",
                  "dtype": "object",
                  "stats": {
                    "unique_count": 5,
                    "nan_count": 0,
                    "categories": [
                      {
                        "name": "['London', ' England  United Kingdom', '    Hogwarts School of Witchcraft and Wizardry  United Kingdom', '    Pagford  United Kingdom', ' ']",
                        "count": 1
                      },
                      {
                        "name": "['District 12', ' Panem  Capitol', ' Panem  Panem  United States', ' ']",
                        "count": 1
                      },
                      {
                        "name": "3 others",
                        "count": 3
                      }
                    ]
                  }
                },
                {
                  "name": "Awards",
                  "dtype": "object",
                  "stats": {
                    "unique_count": 5,
                    "nan_count": 0,
                    "categories": [
                      {
                        "name": "['Locus Award Nominee for Best Young Adult Novel (2008), Odyssey Award Nominee (2008), Audie Award (2008), Books I Loved Best Yearly (BILBY) Awards for Older Readers (2008), Teen Read Award Nominee for Best All-Time-Fave (2010)\\n...more\\nPuddly Award for Fiction (2008), Andre Norton Award (2007), Carnegie Medal Nominee (2008)']",
                        "count": 1
                      },
                      {
                        "name": "[\"Locus Award Nominee for Best Young Adult Book (2009), Georgia Peach Book Award (2009), Buxtehuder Bulle (2009), Golden Duck Award for Young Adult (Hal Clement Award) (2009), Grand Prix de l'Imaginaire Nominee for Roman jeunesse étranger (2010)\\n...more\\nBooks I Loved Best Yearly (BILBY) Awards for Older Readers (2012), West Australian Young Readers' Book Award (WAYRBA) for Older Readers (2010), Red House Children's Book Award for Older Readers & Overall (2010), South Carolina Book Award for Junior and Young Adult Book (2011), Charlotte Award (2010), Colorado Blue Spruce Young Adult Book Award (2010), Teen Buckeye Book Award (2009), Pennsylvania Young Readers' Choice Award for Young Adults (2010), Rhode Island Teen Book Award (2010), Dorothy Canfield Fisher Children's Book Award (2010), Evergreen Teen Book Award (2011), Soaring Eagle Book Award (2009), Milwaukee County Teen Book Award Nominee (2010), Sakura Medal for Middle School Book (2010), Michigan Library Association Thumbs Up! Award (2009), Florida Teens Read (2009), Deutscher Jugendliteraturpreis for Preis der Jugendjury (2010), Iowa High School Book Award (2011), New Mexico Land of Enchantment Award for Young Adult (2011), Eliot Rosewater Indiana High School Book Award (2010), The Inky Awards for Silver Inky (2009), California Young Readers Medal for Young Adult (2011), Lincoln Award (2011), Kinderboekwinkelprijs (2010), Missouri Truman Readers Award (2011), CYBILS Award for Young Adult Fantasy & Science Fiction (2008), Literaturpreis der Jury der jungen Leser for Jugendbuch (2010), The Inky Awards Shortlist for Silver Inky (2009), Prix Et-lisez-moi (2011), Missouri Gateway Readers Award (2011), Oklahoma Sequoyah Award for High School and Intermediate (2011), Premio El Templo de las Mil Puertas for Mejor novela extranjera perteneciente a saga (2009), Rebecca Caudill Young Readers' Book Award (2011), LovelyBooks Leserpreis for Fantasy (2009), LovelyBooks Leserpreis for Bestes Cover/Umschlag (2009), Premi Protagonista Jove for Categoria 13-14 anys (2010)\"]",
                        "count": 1
                      },
                      {
                        "name": "3 others",
                        "count": 3
                      }
                    ]
                  }
                },
                {
                  "name": "Genres",
                  "dtype": "object",
                  "stats": {
                    "unique_count": 2,
                    "nan_count": 0,
                    "categories": [
                      {
                        "name": "['Fantasy', ' Young Adult', ' Fiction']",
                        "count": 4
                      },
                      {
                        "name": "['Young Adult', ' Fiction', ' Science Fiction']",
                        "count": 1
                      }
                    ]
                  }
                },
                {
                  "name": "Awards_no",
                  "dtype": "float64",
                  "stats": {
                    "unique_count": 4,
                    "nan_count": 0,
                    "min": "3.0",
                    "max": "41.0",
                    "histogram": [
                      {
                        "bin_start": 3,
                        "bin_end": 6.8,
                        "count": 1
                      },
                      {
                        "bin_start": 6.8,
                        "bin_end": 10.6,
                        "count": 3
                      },
                      {
                        "bin_start": 10.6,
                        "bin_end": 14.399999999999999,
                        "count": 0
                      },
                      {
                        "bin_start": 14.399999999999999,
                        "bin_end": 18.2,
                        "count": 0
                      },
                      {
                        "bin_start": 18.2,
                        "bin_end": 22,
                        "count": 0
                      },
                      {
                        "bin_start": 22,
                        "bin_end": 25.799999999999997,
                        "count": 0
                      },
                      {
                        "bin_start": 25.799999999999997,
                        "bin_end": 29.599999999999998,
                        "count": 0
                      },
                      {
                        "bin_start": 29.599999999999998,
                        "bin_end": 33.4,
                        "count": 0
                      },
                      {
                        "bin_start": 33.4,
                        "bin_end": 37.199999999999996,
                        "count": 0
                      },
                      {
                        "bin_start": 37.199999999999996,
                        "bin_end": 41,
                        "count": 1
                      }
                    ]
                  }
                },
                {
                  "name": "_deepnote_index_column",
                  "dtype": "int64"
                }
              ],
              "rows_top": [
                {
                  "Title": "Harry Potter and the Deathly Hallows (Harry Potter, #7)",
                  "URL": "https://www.goodreads.com//book/show/136251.Harry_Potter_and_the_Deathly_Hallows",
                  "Author": "J.K. Rowling",
                  "Average_rating": 4.62,
                  "Rating": 2959574,
                  "Reviews": 68456,
                  "Pages": 759,
                  "Year": 2007,
                  "Series": 1,
                  "Setting": "['London', ' England  United Kingdom', '    Hogwarts School of Witchcraft and Wizardry  United Kingdom', '    Pagford  United Kingdom', ' ']",
                  "Awards": "['Locus Award Nominee for Best Young Adult Novel (2008), Odyssey Award Nominee (2008), Audie Award (2008), Books I Loved Best Yearly (BILBY) Awards for Older Readers (2008), Teen Read Award Nominee for Best All-Time-Fave (2010)\\n...more\\nPuddly Award for Fiction (2008), Andre Norton Award (2007), Carnegie Medal Nominee (2008)']",
                  "Genres": "['Fantasy', ' Young Adult', ' Fiction']",
                  "Awards_no": 8,
                  "_deepnote_index_column": 0
                },
                {
                  "Title": "The Hunger Games (The Hunger Games, #1)",
                  "URL": "https://www.goodreads.com//book/show/2767052-the-hunger-games",
                  "Author": "Suzanne Collins",
                  "Average_rating": 4.32,
                  "Rating": 6685572,
                  "Reviews": 175503,
                  "Pages": 374,
                  "Year": 2008,
                  "Series": 1,
                  "Setting": "['District 12', ' Panem  Capitol', ' Panem  Panem  United States', ' ']",
                  "Awards": "[\"Locus Award Nominee for Best Young Adult Book (2009), Georgia Peach Book Award (2009), Buxtehuder Bulle (2009), Golden Duck Award for Young Adult (Hal Clement Award) (2009), Grand Prix de l'Imaginaire Nominee for Roman jeunesse étranger (2010)\\n...more\\nBooks I Loved Best Yearly (BILBY) Awards for Older Readers (2012), West Australian Young Readers' Book Award (WAYRBA) for Older Readers (2010), Red House Children's Book Award for Older Readers & Overall (2010), South Carolina Book Award for Junior and Young Adult Book (2011), Charlotte Award (2010), Colorado Blue Spruce Young Adult Book Award (2010), Teen Buckeye Book Award (2009), Pennsylvania Young Readers' Choice Award for Young Adults (2010), Rhode Island Teen Book Award (2010), Dorothy Canfield Fisher Children's Book Award (2010), Evergreen Teen Book Award (2011), Soaring Eagle Book Award (2009), Milwaukee County Teen Book Award Nominee (2010), Sakura Medal for Middle School Book (2010), Michigan Library Association Thumbs Up! Award (2009), Florida Teens Read (2009), Deutscher Jugendliteraturpreis for Preis der Jugendjury (2010), Iowa High School Book Award (2011), New Mexico Land of Enchantment Award for Young Adult (2011), Eliot Rosewater Indiana High School Book Award (2010), The Inky Awards for Silver Inky (2009), California Young Readers Medal for Young Adult (2011), Lincoln Award (2011), Kinderboekwinkelprijs (2010), Missouri Truman Readers Award (2011), CYBILS Award for Young Adult Fantasy & Science Fiction (2008), Literaturpreis der Jury der jungen Leser for Jugendbuch (2010), The Inky Awards Shortlist for Silver Inky (2009), Prix Et-lisez-moi (2011), Missouri Gateway Readers Award (2011), Oklahoma Sequoyah Award for High School and Intermediate (2011), Premio El Templo de las Mil Puertas for Mejor novela extranjera perteneciente a saga (2009), Rebecca Caudill Young Readers' Book Award (2011), LovelyBooks Leserpreis for Fantasy (2009), LovelyBooks Leserpreis for Bestes Cover/Umschlag (2009), Premi Protagonista Jove for Categoria 13-14 anys (2010)\"]",
                  "Genres": "['Young Adult', ' Fiction', ' Science Fiction']",
                  "Awards_no": 41,
                  "_deepnote_index_column": 1
                },
                {
                  "Title": "Harry Potter and the Half-Blood Prince (Harry Potter, #6)",
                  "URL": "https://www.goodreads.com//book/show/1.Harry_Potter_and_the_Half_Blood_Prince",
                  "Author": "J.K. Rowling",
                  "Average_rating": 4.57,
                  "Rating": 2575436,
                  "Reviews": 42018,
                  "Pages": 652,
                  "Year": 2006,
                  "Series": 1,
                  "Setting": "['Hogwarts School of Witchcraft and Wizardry  United Kingdom', '    England']",
                  "Awards": "['Locus Award Nominee for Best Young Adult Novel (2006), Audie Award for Audiobook of the Year (2006), British Book of the Year (2006)']",
                  "Genres": "['Fantasy', ' Young Adult', ' Fiction']",
                  "Awards_no": 3,
                  "_deepnote_index_column": 2
                },
                {
                  "Title": "Harry Potter and the Goblet of Fire (Harry Potter, #4)",
                  "URL": "https://www.goodreads.com//book/show/6.Harry_Potter_and_the_Goblet_of_Fire",
                  "Author": "J.K. Rowling",
                  "Average_rating": 4.56,
                  "Rating": 2749984,
                  "Reviews": 49584,
                  "Pages": 734,
                  "Year": 2002,
                  "Series": 1,
                  "Setting": "['Hogwarts School of Witchcraft and Wizardry', ' 1994  United Kingdom', '    Scotland  United Kingdom']",
                  "Awards": "[\"Hugo Award for Best Novel (2001), Mythopoeic Fantasy Award for Children's Literature (2008), Publieksprijs voor het Nederlandse Boek (2001), Audie Award for Solo Narration - Male (2001), West Australian Young Readers' Book Award (WAYRBA) for Younger Readers (2001)\\n...more\\nGolden Archer Award for Middle/Junior High (2002), Indian Paintbrush Book Award (2002), Deutscher Bücherpreis for Publikumspreis, Corine Internationaler Buchpreis for Kinder- und Jugendbuch (2001)\"]",
                  "Genres": "['Fantasy', ' Young Adult', ' Fiction']",
                  "Awards_no": 9,
                  "_deepnote_index_column": 3
                },
                {
                  "Title": "Harry Potter and the Order of the Phoenix (Harry Potter, #5)",
                  "URL": "https://www.goodreads.com//book/show/2.Harry_Potter_and_the_Order_of_the_Phoenix",
                  "Author": "J.K. Rowling",
                  "Average_rating": 4.5,
                  "Rating": 2653470,
                  "Reviews": 45376,
                  "Pages": 870,
                  "Year": 2004,
                  "Series": 1,
                  "Setting": "['Hogwarts School of Witchcraft and Wizardry  United Kingdom', '    London', ' England  United Kingdom', ' ']",
                  "Awards": "[\"Bram Stoker Award for Works for Young Readers (2003), Anthony Award for Young Adult (2004), Mythopoeic Fantasy Award for Children's Literature (2008), Audie Award for Audiobook of the Year (2004), Books I Loved Best Yearly (BILBY) Awards for Older Readers (2004)\\n...more\\nColorado Blue Spruce Young Adult Book Award (2006), Golden Archer Award for Middle/Junior High (2005), Deutscher Jugendliteraturpreis Nominee for Preis der Jugendjury (2004), Carnegie Medal Nominee (2003)\"]",
                  "Genres": "['Fantasy', ' Young Adult', ' Fiction']",
                  "Awards_no": 9,
                  "_deepnote_index_column": 4
                }
              ],
              "rows_bottom": null
            },
            "text/plain": "                                               Title  \\\n0  Harry Potter and the Deathly Hallows (Harry Po...   \n1            The Hunger Games (The Hunger Games, #1)   \n2  Harry Potter and the Half-Blood Prince (Harry ...   \n3  Harry Potter and the Goblet of Fire (Harry Pot...   \n4  Harry Potter and the Order of the Phoenix (Har...   \n\n                                                 URL           Author  \\\n0  https://www.goodreads.com//book/show/136251.Ha...     J.K. Rowling   \n1  https://www.goodreads.com//book/show/2767052-t...  Suzanne Collins   \n2  https://www.goodreads.com//book/show/1.Harry_P...     J.K. Rowling   \n3  https://www.goodreads.com//book/show/6.Harry_P...     J.K. Rowling   \n4  https://www.goodreads.com//book/show/2.Harry_P...     J.K. Rowling   \n\n   Average_rating     Rating   Reviews  Pages    Year  Series  \\\n0            4.62  2959574.0   68456.0  759.0  2007.0       1   \n1            4.32  6685572.0  175503.0  374.0  2008.0       1   \n2            4.57  2575436.0   42018.0  652.0  2006.0       1   \n3            4.56  2749984.0   49584.0  734.0  2002.0       1   \n4            4.50  2653470.0   45376.0  870.0  2004.0       1   \n\n                                             Setting  \\\n0  ['London', ' England  United Kingdom', '    Ho...   \n1  ['District 12', ' Panem  Capitol', ' Panem  Pa...   \n2  ['Hogwarts School of Witchcraft and Wizardry  ...   \n3  ['Hogwarts School of Witchcraft and Wizardry',...   \n4  ['Hogwarts School of Witchcraft and Wizardry  ...   \n\n                                              Awards  \\\n0  ['Locus Award Nominee for Best Young Adult Nov...   \n1  [\"Locus Award Nominee for Best Young Adult Boo...   \n2  ['Locus Award Nominee for Best Young Adult Nov...   \n3  [\"Hugo Award for Best Novel (2001), Mythopoeic...   \n4  [\"Bram Stoker Award for Works for Young Reader...   \n\n                                            Genres  Awards_no  \n0          ['Fantasy', ' Young Adult', ' Fiction']        8.0  \n1  ['Young Adult', ' Fiction', ' Science Fiction']       41.0  \n2          ['Fantasy', ' Young Adult', ' Fiction']        3.0  \n3          ['Fantasy', ' Young Adult', ' Fiction']        9.0  \n4          ['Fantasy', ' Young Adult', ' Fiction']        9.0  ",
            "text/html": "<div>\n<style scoped>\n    .dataframe tbody tr th:only-of-type {\n        vertical-align: middle;\n    }\n\n    .dataframe tbody tr th {\n        vertical-align: top;\n    }\n\n    .dataframe thead th {\n        text-align: right;\n    }\n</style>\n<table border=\"1\" class=\"dataframe\">\n  <thead>\n    <tr style=\"text-align: right;\">\n      <th></th>\n      <th>Title</th>\n      <th>URL</th>\n      <th>Author</th>\n      <th>Average_rating</th>\n      <th>Rating</th>\n      <th>Reviews</th>\n      <th>Pages</th>\n      <th>Year</th>\n      <th>Series</th>\n      <th>Setting</th>\n      <th>Awards</th>\n      <th>Genres</th>\n      <th>Awards_no</th>\n    </tr>\n  </thead>\n  <tbody>\n    <tr>\n      <th>0</th>\n      <td>Harry Potter and the Deathly Hallows (Harry Po...</td>\n      <td>https://www.goodreads.com//book/show/136251.Ha...</td>\n      <td>J.K. Rowling</td>\n      <td>4.62</td>\n      <td>2959574.0</td>\n      <td>68456.0</td>\n      <td>759.0</td>\n      <td>2007.0</td>\n      <td>1</td>\n      <td>['London', ' England  United Kingdom', '    Ho...</td>\n      <td>['Locus Award Nominee for Best Young Adult Nov...</td>\n      <td>['Fantasy', ' Young Adult', ' Fiction']</td>\n      <td>8.0</td>\n    </tr>\n    <tr>\n      <th>1</th>\n      <td>The Hunger Games (The Hunger Games, #1)</td>\n      <td>https://www.goodreads.com//book/show/2767052-t...</td>\n      <td>Suzanne Collins</td>\n      <td>4.32</td>\n      <td>6685572.0</td>\n      <td>175503.0</td>\n      <td>374.0</td>\n      <td>2008.0</td>\n      <td>1</td>\n      <td>['District 12', ' Panem  Capitol', ' Panem  Pa...</td>\n      <td>[\"Locus Award Nominee for Best Young Adult Boo...</td>\n      <td>['Young Adult', ' Fiction', ' Science Fiction']</td>\n      <td>41.0</td>\n    </tr>\n    <tr>\n      <th>2</th>\n      <td>Harry Potter and the Half-Blood Prince (Harry ...</td>\n      <td>https://www.goodreads.com//book/show/1.Harry_P...</td>\n      <td>J.K. Rowling</td>\n      <td>4.57</td>\n      <td>2575436.0</td>\n      <td>42018.0</td>\n      <td>652.0</td>\n      <td>2006.0</td>\n      <td>1</td>\n      <td>['Hogwarts School of Witchcraft and Wizardry  ...</td>\n      <td>['Locus Award Nominee for Best Young Adult Nov...</td>\n      <td>['Fantasy', ' Young Adult', ' Fiction']</td>\n      <td>3.0</td>\n    </tr>\n    <tr>\n      <th>3</th>\n      <td>Harry Potter and the Goblet of Fire (Harry Pot...</td>\n      <td>https://www.goodreads.com//book/show/6.Harry_P...</td>\n      <td>J.K. Rowling</td>\n      <td>4.56</td>\n      <td>2749984.0</td>\n      <td>49584.0</td>\n      <td>734.0</td>\n      <td>2002.0</td>\n      <td>1</td>\n      <td>['Hogwarts School of Witchcraft and Wizardry',...</td>\n      <td>[\"Hugo Award for Best Novel (2001), Mythopoeic...</td>\n      <td>['Fantasy', ' Young Adult', ' Fiction']</td>\n      <td>9.0</td>\n    </tr>\n    <tr>\n      <th>4</th>\n      <td>Harry Potter and the Order of the Phoenix (Har...</td>\n      <td>https://www.goodreads.com//book/show/2.Harry_P...</td>\n      <td>J.K. Rowling</td>\n      <td>4.50</td>\n      <td>2653470.0</td>\n      <td>45376.0</td>\n      <td>870.0</td>\n      <td>2004.0</td>\n      <td>1</td>\n      <td>['Hogwarts School of Witchcraft and Wizardry  ...</td>\n      <td>[\"Bram Stoker Award for Works for Young Reader...</td>\n      <td>['Fantasy', ' Young Adult', ' Fiction']</td>\n      <td>9.0</td>\n    </tr>\n  </tbody>\n</table>\n</div>"
          },
          "metadata": {}
        }
      ]
    },
    {
      "cell_type": "code",
      "metadata": {
        "tags": [],
        "cell_id": "00008-dc0a9632-8009-41db-bc3b-dbdd8ece4cdd",
        "deepnote_to_be_reexecuted": false,
        "source_hash": "ac250856",
        "execution_millis": 0,
        "execution_start": 1618572331411,
        "deepnote_cell_type": "code"
      },
      "source": "print(df.shape)\n",
      "execution_count": 4,
      "outputs": [
        {
          "name": "stdout",
          "text": "(1000, 13)\n",
          "output_type": "stream"
        }
      ]
    },
    {
      "cell_type": "code",
      "metadata": {
        "tags": [],
        "cell_id": "00009-008849cb-0369-4b8c-bca4-f90d3b34ad6c",
        "deepnote_to_be_reexecuted": false,
        "source_hash": "de1e323c",
        "execution_millis": 8,
        "execution_start": 1618572331447,
        "deepnote_cell_type": "code"
      },
      "source": "df.info()",
      "execution_count": 5,
      "outputs": [
        {
          "name": "stdout",
          "text": "<class 'pandas.core.frame.DataFrame'>\nRangeIndex: 1000 entries, 0 to 999\nData columns (total 13 columns):\n #   Column          Non-Null Count  Dtype  \n---  ------          --------------  -----  \n 0   Title           1000 non-null   object \n 1   URL             1000 non-null   object \n 2   Author          999 non-null    object \n 3   Average_rating  999 non-null    float64\n 4   Rating          999 non-null    float64\n 5   Reviews         999 non-null    float64\n 6   Pages           996 non-null    float64\n 7   Year            996 non-null    float64\n 8   Series          1000 non-null   int64  \n 9   Setting         673 non-null    object \n 10  Awards          999 non-null    object \n 11  Genres          1000 non-null   object \n 12  Awards_no       619 non-null    float64\ndtypes: float64(6), int64(1), object(6)\nmemory usage: 101.7+ KB\n",
          "output_type": "stream"
        }
      ]
    },
    {
      "cell_type": "markdown",
      "source": "# 2- Testing Hypothesis ",
      "metadata": {
        "tags": [],
        "cell_id": "00010-02408685-a2a6-4cd3-82d6-a87e559732a5",
        "deepnote_cell_type": "text-cell-h1"
      }
    },
    {
      "cell_type": "markdown",
      "source": "## 1- Book between 4 and 5 rating are not all series",
      "metadata": {
        "tags": [],
        "cell_id": "00011-27edb02d-e027-4281-8f07-ee93bdeffeed",
        "deepnote_cell_type": "text-cell-h2"
      }
    },
    {
      "cell_type": "markdown",
      "source": "H(1)  The Alternative Hypothesis : all books with a rate between 4 and 5 are not part of a series, ",
      "metadata": {
        "tags": [],
        "cell_id": "00012-2b8b991a-9a26-46da-ab8b-47adea7daa3b",
        "deepnote_cell_type": "text-cell-p"
      }
    },
    {
      "cell_type": "markdown",
      "source": "H(0) The Null Hypothesis : Not all books between 4 and 5 rates are part of a series  ",
      "metadata": {
        "tags": [],
        "cell_id": "00013-9c5acea8-b533-41e8-a292-b1461f47aac8",
        "deepnote_cell_type": "text-cell-p"
      }
    },
    {
      "cell_type": "markdown",
      "source": "p (probability of a book is part of a series  Given that the book have a rate between 4  and 5 ).",
      "metadata": {
        "tags": [],
        "cell_id": "00014-963d4197-a91a-49e6-bf3e-5f30f0d6663b",
        "deepnote_cell_type": "text-cell-p"
      }
    },
    {
      "cell_type": "code",
      "metadata": {
        "tags": [],
        "cell_id": "00014-f85921d3-9d86-4216-aa4a-ffae58d96bd7",
        "deepnote_to_be_reexecuted": false,
        "source_hash": "4a844756",
        "execution_millis": 0,
        "execution_start": 1618572331448,
        "deepnote_cell_type": "code"
      },
      "source": "df_Hypof = df[['Average_rating', 'Series']]\ndf_Hypof = df_Hypof.loc[(df_Hypof.Average_rating >= 4)]\n",
      "execution_count": 6,
      "outputs": []
    },
    {
      "cell_type": "code",
      "metadata": {
        "tags": [],
        "cell_id": "00020-79ce6fac-e81c-4e3f-9002-a2906fd6730b",
        "deepnote_to_be_reexecuted": false,
        "source_hash": "d77a1a6d",
        "execution_millis": 7,
        "execution_start": 1618572331448,
        "deepnote_cell_type": "code"
      },
      "source": "print(df_Hypof.Series.mean()) # prints mean blood pressure\nprint(sm.stats.ztest(df_Hypof.Series, value=0.62)) #print p values",
      "execution_count": 7,
      "outputs": [
        {
          "name": "stdout",
          "text": "0.6206896551724138\n(0.03152680437246157, 0.9748494159681361)\n",
          "output_type": "stream"
        }
      ]
    },
    {
      "cell_type": "markdown",
      "source": "### P value is less than 0.05 so null Hypothesis is true",
      "metadata": {
        "tags": [],
        "cell_id": "00021-831718af-c2e9-455c-9692-1b032491add1",
        "deepnote_cell_type": "text-cell-h3"
      }
    },
    {
      "cell_type": "markdown",
      "source": "## 2-  The best 100 books are all below 1000 pages",
      "metadata": {
        "tags": [],
        "cell_id": "00021-a91f85db-c54e-4b72-bef7-f43b038e59c6",
        "deepnote_cell_type": "text-cell-h2"
      }
    },
    {
      "cell_type": "markdown",
      "source": "H(1)  The Alternative Hypothesis : All of the best 100 boos are below 1000 pages",
      "metadata": {
        "tags": [],
        "cell_id": "00024-adbed80f-b718-465c-9e86-5c1412b386f3",
        "deepnote_cell_type": "text-cell-p"
      }
    },
    {
      "cell_type": "markdown",
      "source": "H(0) The Null Hypothesis: Some of the best 100 books are 1000 pages or more",
      "metadata": {
        "tags": [],
        "cell_id": "00020-5f5df70c-9641-42c4-9b82-99adb601b6ad",
        "deepnote_cell_type": "text-cell-p"
      }
    },
    {
      "cell_type": "code",
      "metadata": {
        "tags": [],
        "cell_id": "00022-f8ced436-44bc-402e-8670-de4a515bd134",
        "deepnote_to_be_reexecuted": false,
        "source_hash": "8f881876",
        "execution_millis": 7,
        "execution_start": 1618572331458,
        "deepnote_cell_type": "code"
      },
      "source": "df_Hypo1000 = df[:100]\n#df_Hypo2 = df_Hypof.loc[(df_Hypo1000.Pages >= 1000)]\np_1000 = df_Hypo1000[df_Hypo1000.Pages >= 1000].shape[0] / df.shape[0]\npages_v = df_Hypo1000[\"Pages\"].value_counts()\nprint(p_1000)\nprint(pages_v)\n\nprint(sm.stats.ztest(df_Hypo1000.Pages, value=pages_v)) ",
      "execution_count": 8,
      "outputs": [
        {
          "name": "stdout",
          "text": "0.004\n288.0     3\n304.0     2\n485.0     2\n294.0     2\n335.0     2\n         ..\n307.0     1\n241.0     1\n4100.0    1\n381.0     1\n541.0     1\nName: Pages, Length: 88, dtype: int64\n(288.0    NaN\n304.0    NaN\n485.0    NaN\n294.0    NaN\n335.0    NaN\n          ..\n307.0    NaN\n241.0    NaN\n4100.0   NaN\n381.0    NaN\n541.0    NaN\nName: Pages, Length: 88, dtype: float64, array([nan, nan, nan, nan, nan, nan, nan, nan, nan, nan, nan, nan, nan,\n       nan, nan, nan, nan, nan, nan, nan, nan, nan, nan, nan, nan, nan,\n       nan, nan, nan, nan, nan, nan, nan, nan, nan, nan, nan, nan, nan,\n       nan, nan, nan, nan, nan, nan, nan, nan, nan, nan, nan, nan, nan,\n       nan, nan, nan, nan, nan, nan, nan, nan, nan, nan, nan, nan, nan,\n       nan, nan, nan, nan, nan, nan, nan, nan, nan, nan, nan, nan, nan,\n       nan, nan, nan, nan, nan, nan, nan, nan, nan, nan]))\n",
          "output_type": "stream"
        }
      ]
    },
    {
      "cell_type": "markdown",
      "source": "### Probability of a book has 1000 pages or more and be also in the best 100 books in the decade are 0.004 which means null hypothesis is true ",
      "metadata": {
        "tags": [],
        "cell_id": "00027-ea2ba3f5-dd27-4c48-83ea-f5444da91df3",
        "deepnote_cell_type": "text-cell-h3"
      }
    },
    {
      "cell_type": "markdown",
      "source": "## 3- Books are getting shorter through years!",
      "metadata": {
        "tags": [],
        "cell_id": "00028-b139e55d-61d2-486a-984b-d13222ead77f",
        "deepnote_cell_type": "text-cell-h2"
      }
    },
    {
      "cell_type": "markdown",
      "source": "H(1):  The Alternative Hypothesis is that books are getting shorter each year than the year before  along the 2000's decade",
      "metadata": {
        "tags": [],
        "cell_id": "00029-e4539cda-8cea-4616-9e19-15a430c6c100",
        "deepnote_cell_type": "text-cell-p"
      }
    },
    {
      "cell_type": "markdown",
      "source": "H(0): The Null Hypothesis is that Books are not getting shorter  ",
      "metadata": {
        "tags": [],
        "cell_id": "00025-4a489001-420a-4a96-bd9d-d79a29f43441",
        "deepnote_cell_type": "text-cell-p"
      }
    },
    {
      "cell_type": "markdown",
      "source": "There is two ways to test this hypothesis, one is plotting the number of pages with years and check the data distributions ",
      "metadata": {
        "tags": [],
        "cell_id": "00027-51228eb3-de2a-4ddb-858c-dee6506fd5f9",
        "deepnote_cell_type": "text-cell-p"
      }
    },
    {
      "cell_type": "code",
      "metadata": {
        "tags": [],
        "cell_id": "00029-8e17e526-5916-4616-90d7-a86a2be9fc93",
        "deepnote_to_be_reexecuted": false,
        "source_hash": "927fea45",
        "execution_millis": 853,
        "execution_start": 1618572331469,
        "deepnote_cell_type": "code"
      },
      "source": "df_years = df[['Year', 'Pages']]\n#df.plot(x='Year', y='Pages')\nplt.figure(figsize=(17, 7))\nsns.set(font_scale= 1.2)\nplt.style.use('fivethirtyeight')\nsns.color_palette(\"mako\", as_cmap=True)\n\nsns.barplot(x='Year', y='Pages', data=df)\nsns.despine()\n",
      "execution_count": 9,
      "outputs": [
        {
          "data": {
            "text/plain": "<Figure size 1224x504 with 1 Axes>",
            "image/png": "[encoded data removed]"
          },
          "metadata": {
            "needs_background": "light"
          },
          "output_type": "display_data"
        }
      ]
    },
    {
      "cell_type": "markdown",
      "source": "Graph shows almost a normal distribution even regardless of the outliers ",
      "metadata": {
        "tags": [],
        "cell_id": "00029-f4b265d5-060a-4b95-8681-178b0f564c47",
        "deepnote_cell_type": "text-cell-p"
      }
    },
    {
      "cell_type": "markdown",
      "source": "Another way is to check for negative correlation from matrix correlation  which is slightly positive (0.038)",
      "metadata": {
        "tags": [],
        "cell_id": "00029-c4a4cce0-6f90-4e32-be1d-d6d696f62899",
        "deepnote_cell_type": "text-cell-p"
      }
    },
    {
      "cell_type": "markdown",
      "source": "### In conclusion best Books are not getting shouter.",
      "metadata": {
        "tags": [],
        "cell_id": "00031-dabdff50-0532-4026-97dd-971f65dfa71b",
        "deepnote_cell_type": "text-cell-h3"
      }
    },
    {
      "cell_type": "markdown",
      "source": "## 4- The books with the highest review number will also have good ratings!",
      "metadata": {
        "tags": [],
        "cell_id": "00030-8636a45a-7caf-46e2-a3bf-2f14a82b8add",
        "deepnote_cell_type": "text-cell-h2"
      }
    },
    {
      "cell_type": "markdown",
      "source": "H(1) The Alternative Hypothesis is that bigger reviews number does note refer to high average ratting ",
      "metadata": {
        "tags": [],
        "cell_id": "00034-057819f9-1064-46d7-b526-e4073949117f",
        "deepnote_cell_type": "text-cell-p"
      }
    },
    {
      "cell_type": "markdown",
      "source": "H(0) The Null Hypothesis is that high review number mostly refer to an expected high average rate",
      "metadata": {
        "tags": [],
        "cell_id": "00035-c13546f1-97dd-42d1-bbb2-9b9a1345a782",
        "deepnote_cell_type": "text-cell-p"
      }
    },
    {
      "cell_type": "markdown",
      "source": "In this Hypothesis we are checking if there is a positive correlation between average rating and review number which as shown before in the correlation matrix a slightly positive correlation  (0.032) ",
      "metadata": {
        "tags": [],
        "cell_id": "00031-6214983c-9e8b-4a3f-8512-9f3f4cb83757",
        "deepnote_cell_type": "text-cell-p"
      }
    },
    {
      "cell_type": "markdown",
      "source": "<a style='text-decoration:none;line-height:16px;display:flex;color:#5B5B62;padding:10px;justify-content:end;' href='https://deepnote.com?utm_source=created-in-deepnote-cell&projectId=a0867bd3-5624-476b-af8a-bd1f917bd510' target=\"_blank\">\n<img alt='Created in deepnote.com' style='display:inline;max-height:16px;margin:0px;margin-right:7.5px;' src='data:image/svg+xml;base64,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' > </img>\nCreated in <span style='font-weight:600;margin-left:4px;'>Deepnote</span></a>",
      "metadata": {
        "tags": [],
        "created_in_deepnote_cell": true,
        "deepnote_cell_type": "markdown"
      }
    }
  ],
  "nbformat": 4,
  "nbformat_minor": 2,
  "metadata": {
    "orig_nbformat": 2,
    "deepnote": {
      "is_reactive": false
    },
    "deepnote_notebook_id": "e77e6893-4e68-4d00-abde-5ff8fce9f744",
    "deepnote_execution_queue": []
  }
}