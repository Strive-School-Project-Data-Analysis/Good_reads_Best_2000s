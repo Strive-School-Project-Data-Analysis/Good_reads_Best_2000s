{
  "cells": [
    {
      "cell_type": "markdown",
      "source": "## Hypothesis Testing\n1. Defining Null and Alternative Hypothesis\n2. Importing Libraries and Data Set\n3. Preparing The Data\n3. Finding Confidence Interval and P value\n4. Clarifying Alternative Hypothesis\n5. Testing with Large Data\n6. Conclusion",
      "metadata": {
        "tags": [],
        "cell_id": "00001-b618cfc5-77ff-4c31-9d1f-d51e14325a13",
        "deepnote_cell_type": "markdown"
      }
    },
    {
      "cell_type": "markdown",
      "source": "### 1.Defining Null and Alternative Hypothesis",
      "metadata": {
        "tags": [],
        "cell_id": "00001-dc5c5033-ead8-4779-a214-c850644b766a",
        "deepnote_cell_type": "markdown"
      }
    },
    {
      "cell_type": "markdown",
      "source": "If a book has rating between 4 to 5 it isn't part of series!\n\nIf a book is longer than 1000 pages it will not be in the first 100 books!\n\nBooks are getting shorter each year!\n\nThe books with the highest review number will also have good ratings!\n\nShould it be series to be in 100th book?\n\nShould it be written by the female?",
      "metadata": {
        "tags": [],
        "cell_id": "00002-7b7f511e-68e5-4880-8cd5-ab47442acf18",
        "deepnote_cell_type": "markdown"
      }
    },
    {
      "cell_type": "markdown",
      "source": "### 2.Importing Libraries and Data Set",
      "metadata": {
        "tags": [],
        "cell_id": "00001-ccdba446-cd20-4411-97fd-6a38529aace2",
        "deepnote_cell_type": "markdown"
      }
    },
    {
      "cell_type": "code",
      "source": "#Importing Libraries\nimport numpy as np # linear algebra\nimport pandas as pd # data processing, CSV file I/O (e.g. pd.read_csv)\nimport seaborn as sns\nimport os\nimport matplotlib as mpl\nimport matplotlib.pyplot as plt\nfrom matplotlib import rcParams #Import rcParams to set font styles\n\n#Set font style and size \nrcParams['font.family'] = 'serif'\nrcParams['font.size'] = 16",
      "metadata": {
        "tags": [],
        "cell_id": "00001-b131ad85-6d52-4047-89ee-f8c2e85d3c86",
        "deepnote_to_be_reexecuted": false,
        "source_hash": "7ca0620a",
        "execution_millis": 1,
        "execution_start": 1618395193485,
        "deepnote_cell_type": "code"
      },
      "outputs": [],
      "execution_count": 2
    },
    {
      "cell_type": "code",
      "source": "#Importing Data Set\ndef importing_test_data():\n    df=pd.read_csv(\"/work/Good_reads_Best_2000s/test_csv.csv\")\n    return df\ndf=importing_test_data()",
      "metadata": {
        "tags": [],
        "cell_id": "00002-130ffe86-e232-4909-8de0-13d613d2bb57",
        "deepnote_to_be_reexecuted": false,
        "source_hash": "9b87e1b5",
        "execution_start": 1618395906905,
        "execution_millis": 1,
        "deepnote_cell_type": "code"
      },
      "outputs": [],
      "execution_count": 3
    },
    {
      "cell_type": "markdown",
      "source": "### 3.Preparing The Data",
      "metadata": {
        "tags": [],
        "cell_id": "00006-8c68a6c5-d6a1-489f-8802-b811907f8c7e",
        "deepnote_cell_type": "markdown"
      }
    },
    {
      "cell_type": "code",
      "source": "#Showing first 5 row of data\ndf.head()",
      "metadata": {
        "tags": [],
        "cell_id": "00006-5c9cd6f7-4f71-4381-a6f3-ea8b08958f40",
        "deepnote_to_be_reexecuted": false,
        "source_hash": "6bcef6e",
        "execution_start": 1618396016983,
        "execution_millis": 39,
        "deepnote_cell_type": "code"
      },
      "outputs": [
        {
          "output_type": "execute_result",
          "execution_count": 4,
          "data": {
            "application/vnd.deepnote.dataframe.v2+json": {
              "row_count": 5,
              "column_count": 12,
              "columns": [
                {
                  "name": "URL",
                  "dtype": "object",
                  "stats": {
                    "unique_count": 5,
                    "nan_count": 0,
                    "categories": [
                      {
                        "name": "https://www.goodreads.com/book/show/136251.Harry_Potter_and_the_Deathly_Hallows\"",
                        "count": 1
                      },
                      {
                        "name": "https://www.goodreads.com/book/show/2767052-the-hunger-games\"",
                        "count": 1
                      },
                      {
                        "name": "3 others",
                        "count": 3
                      }
                    ]
                  }
                },
                {
                  "name": "Title",
                  "dtype": "object",
                  "stats": {
                    "unique_count": 5,
                    "nan_count": 0,
                    "categories": [
                      {
                        "name": "Harry Potter and the Deathly Hallows (Harry Potter, #7)",
                        "count": 1
                      },
                      {
                        "name": "The Hunger Games (The Hunger Games, #1)",
                        "count": 1
                      },
                      {
                        "name": "3 others",
                        "count": 3
                      }
                    ]
                  }
                },
                {
                  "name": "Author",
                  "dtype": "object",
                  "stats": {
                    "unique_count": 2,
                    "nan_count": 0,
                    "categories": [
                      {
                        "name": "J.K. Rowling",
                        "count": 4
                      },
                      {
                        "name": "Suzanne Collins",
                        "count": 1
                      }
                    ]
                  }
                },
                {
                  "name": "Number of Ratings",
                  "dtype": "int64",
                  "stats": {
                    "unique_count": 5,
                    "nan_count": 0,
                    "min": "2574373",
                    "max": "6683135",
                    "histogram": [
                      {
                        "bin_start": 2574373,
                        "bin_end": 2985249.2,
                        "count": 4
                      },
                      {
                        "bin_start": 2985249.2,
                        "bin_end": 3396125.4,
                        "count": 0
                      },
                      {
                        "bin_start": 3396125.4,
                        "bin_end": 3807001.6,
                        "count": 0
                      },
                      {
                        "bin_start": 3807001.6,
                        "bin_end": 4217877.8,
                        "count": 0
                      },
                      {
                        "bin_start": 4217877.8,
                        "bin_end": 4628754,
                        "count": 0
                      },
                      {
                        "bin_start": 4628754,
                        "bin_end": 5039630.2,
                        "count": 0
                      },
                      {
                        "bin_start": 5039630.2,
                        "bin_end": 5450506.4,
                        "count": 0
                      },
                      {
                        "bin_start": 5450506.4,
                        "bin_end": 5861382.6,
                        "count": 0
                      },
                      {
                        "bin_start": 5861382.6,
                        "bin_end": 6272258.800000001,
                        "count": 0
                      },
                      {
                        "bin_start": 6272258.800000001,
                        "bin_end": 6683135,
                        "count": 1
                      }
                    ]
                  }
                },
                {
                  "name": "Number of Reviews",
                  "dtype": "int64",
                  "stats": {
                    "unique_count": 5,
                    "nan_count": 0,
                    "min": "41988",
                    "max": "175476",
                    "histogram": [
                      {
                        "bin_start": 41988,
                        "bin_end": 55336.8,
                        "count": 3
                      },
                      {
                        "bin_start": 55336.8,
                        "bin_end": 68685.6,
                        "count": 1
                      },
                      {
                        "bin_start": 68685.6,
                        "bin_end": 82034.4,
                        "count": 0
                      },
                      {
                        "bin_start": 82034.4,
                        "bin_end": 95383.2,
                        "count": 0
                      },
                      {
                        "bin_start": 95383.2,
                        "bin_end": 108732,
                        "count": 0
                      },
                      {
                        "bin_start": 108732,
                        "bin_end": 122080.79999999999,
                        "count": 0
                      },
                      {
                        "bin_start": 122080.79999999999,
                        "bin_end": 135429.59999999998,
                        "count": 0
                      },
                      {
                        "bin_start": 135429.59999999998,
                        "bin_end": 148778.4,
                        "count": 0
                      },
                      {
                        "bin_start": 148778.4,
                        "bin_end": 162127.2,
                        "count": 0
                      },
                      {
                        "bin_start": 162127.2,
                        "bin_end": 175476,
                        "count": 1
                      }
                    ]
                  }
                },
                {
                  "name": "Average Ratings",
                  "dtype": "float64",
                  "stats": {
                    "unique_count": 2,
                    "nan_count": 0,
                    "min": "4.0",
                    "max": "5.0",
                    "histogram": [
                      {
                        "bin_start": 4,
                        "bin_end": 4.1,
                        "count": 4
                      },
                      {
                        "bin_start": 4.1,
                        "bin_end": 4.2,
                        "count": 0
                      },
                      {
                        "bin_start": 4.2,
                        "bin_end": 4.3,
                        "count": 0
                      },
                      {
                        "bin_start": 4.3,
                        "bin_end": 4.4,
                        "count": 0
                      },
                      {
                        "bin_start": 4.4,
                        "bin_end": 4.5,
                        "count": 0
                      },
                      {
                        "bin_start": 4.5,
                        "bin_end": 4.6,
                        "count": 0
                      },
                      {
                        "bin_start": 4.6,
                        "bin_end": 4.7,
                        "count": 0
                      },
                      {
                        "bin_start": 4.7,
                        "bin_end": 4.8,
                        "count": 0
                      },
                      {
                        "bin_start": 4.8,
                        "bin_end": 4.9,
                        "count": 0
                      },
                      {
                        "bin_start": 4.9,
                        "bin_end": 5,
                        "count": 1
                      }
                    ]
                  }
                },
                {
                  "name": "Number of Pages",
                  "dtype": "float64",
                  "stats": {
                    "unique_count": 5,
                    "nan_count": 0,
                    "min": "374.0",
                    "max": "870.0",
                    "histogram": [
                      {
                        "bin_start": 374,
                        "bin_end": 423.6,
                        "count": 1
                      },
                      {
                        "bin_start": 423.6,
                        "bin_end": 473.2,
                        "count": 0
                      },
                      {
                        "bin_start": 473.2,
                        "bin_end": 522.8,
                        "count": 0
                      },
                      {
                        "bin_start": 522.8,
                        "bin_end": 572.4,
                        "count": 0
                      },
                      {
                        "bin_start": 572.4,
                        "bin_end": 622,
                        "count": 0
                      },
                      {
                        "bin_start": 622,
                        "bin_end": 671.6,
                        "count": 1
                      },
                      {
                        "bin_start": 671.6,
                        "bin_end": 721.2,
                        "count": 0
                      },
                      {
                        "bin_start": 721.2,
                        "bin_end": 770.8,
                        "count": 2
                      },
                      {
                        "bin_start": 770.8,
                        "bin_end": 820.4000000000001,
                        "count": 0
                      },
                      {
                        "bin_start": 820.4000000000001,
                        "bin_end": 870,
                        "count": 1
                      }
                    ]
                  }
                },
                {
                  "name": "Published Year",
                  "dtype": "float64",
                  "stats": {
                    "unique_count": 5,
                    "nan_count": 0,
                    "min": "2002.0",
                    "max": "2008.0",
                    "histogram": [
                      {
                        "bin_start": 2002,
                        "bin_end": 2002.6,
                        "count": 1
                      },
                      {
                        "bin_start": 2002.6,
                        "bin_end": 2003.2,
                        "count": 0
                      },
                      {
                        "bin_start": 2003.2,
                        "bin_end": 2003.8,
                        "count": 0
                      },
                      {
                        "bin_start": 2003.8,
                        "bin_end": 2004.4,
                        "count": 1
                      },
                      {
                        "bin_start": 2004.4,
                        "bin_end": 2005,
                        "count": 0
                      },
                      {
                        "bin_start": 2005,
                        "bin_end": 2005.6,
                        "count": 0
                      },
                      {
                        "bin_start": 2005.6,
                        "bin_end": 2006.2,
                        "count": 1
                      },
                      {
                        "bin_start": 2006.2,
                        "bin_end": 2006.8,
                        "count": 0
                      },
                      {
                        "bin_start": 2006.8,
                        "bin_end": 2007.4,
                        "count": 1
                      },
                      {
                        "bin_start": 2007.4,
                        "bin_end": 2008,
                        "count": 1
                      }
                    ]
                  }
                },
                {
                  "name": "Series",
                  "dtype": "float64",
                  "stats": {
                    "unique_count": 1,
                    "nan_count": 0,
                    "min": "1.0",
                    "max": "1.0",
                    "histogram": [
                      {
                        "bin_start": 0.5,
                        "bin_end": 0.6,
                        "count": 0
                      },
                      {
                        "bin_start": 0.6,
                        "bin_end": 0.7,
                        "count": 0
                      },
                      {
                        "bin_start": 0.7,
                        "bin_end": 0.8,
                        "count": 0
                      },
                      {
                        "bin_start": 0.8,
                        "bin_end": 0.9,
                        "count": 0
                      },
                      {
                        "bin_start": 0.9,
                        "bin_end": 1,
                        "count": 0
                      },
                      {
                        "bin_start": 1,
                        "bin_end": 1.1,
                        "count": 5
                      },
                      {
                        "bin_start": 1.1,
                        "bin_end": 1.2000000000000002,
                        "count": 0
                      },
                      {
                        "bin_start": 1.2000000000000002,
                        "bin_end": 1.3,
                        "count": 0
                      },
                      {
                        "bin_start": 1.3,
                        "bin_end": 1.4,
                        "count": 0
                      },
                      {
                        "bin_start": 1.4,
                        "bin_end": 1.5,
                        "count": 0
                      }
                    ]
                  }
                },
                {
                  "name": "Genres",
                  "dtype": "object",
                  "stats": {
                    "unique_count": 1,
                    "nan_count": 0,
                    "categories": [
                      {
                        "name": "['Fantasy', 'Young Adult', 'Fiction']",
                        "count": 5
                      }
                    ]
                  }
                },
                {
                  "name": "Awards",
                  "dtype": "object",
                  "stats": {
                    "unique_count": 5,
                    "nan_count": 0,
                    "categories": [
                      {
                        "name": "['Locus Award Nominee for Best Young Adult Novel (2008)', 'Odyssey Award Nominee (2008)', 'Audie Award (2008)', 'Books I Loved Best Yearly (BILBY) Awards for Older Readers (2008)', 'Teen Read Award Nominee for Best All-Time-Fave (2010)', 'Puddly Award for Fiction (2008)', 'Andre Norton Award (2007)', 'Carnegie Medal Nominee (2008)']",
                        "count": 1
                      },
                      {
                        "name": "['Locus Award Nominee for Best Young Adult Book (2009)', 'Georgia Peach Book Award (2009)', 'Buxtehuder Bulle (2009)', 'Golden Duck Award for Young Adult (Hal Clement Award) (2009)', \"Grand Prix de l'Imaginaire Nominee for Roman jeunesse étranger (2010)\", 'Books I Loved Best Yearly (BILBY) Awards for Older Readers (2012)', \"West Australian Young Readers' Book Award (WAYRBA) for Older Readers (2010)\", \"Red House Children's Book Award for Older Readers & Overall (2010)\", 'South Carolina Book Award for Junior and Young Adult Book (2011)', 'Charlotte Award (2010)', 'Colorado Blue Spruce Young Adult Book Award (2010)', 'Teen Buckeye Book Award (2009)', \"Pennsylvania Young Readers' Choice Award for Young Adults (2010)\", 'Rhode Island Teen Book Award (2010)', \"Dorothy Canfield Fisher Children's Book Award (2010)\", 'Evergreen Teen Book Award (2011)', 'Soaring Eagle Book Award (2009)', 'Milwaukee County Teen Book Award Nominee (2010)', 'Sakura Medal for Middle School Book (2010)', 'Michigan Library Association Thumbs Up! Award (2009)', 'Florida Teens Read (2009)', 'Deutscher Jugendliteraturpreis for Preis der Jugendjury (2010)', 'Iowa High School Book Award (2011)', 'New Mexico Land of Enchantment Award for Young Adult (2011)', 'Eliot Rosewater Indiana High School Book Award (2010)', 'The Inky Awards for Silver Inky (2009)', 'California Young Readers Medal for Young Adult (2011)', 'Lincoln Award (2011)', 'Kinderboekwinkelprijs (2010)', 'Missouri Truman Readers Award (2011)', 'CYBILS Award for Young Adult Fantasy & Science Fiction (2008)', 'Literaturpreis der Jury der jungen Leser for Jugendbuch (2010)', 'The Inky Awards Shortlist for Silver Inky (2009)', 'Prix Et-lisez-moi (2011)', 'Missouri Gateway Readers Award (2011)', 'Oklahoma Sequoyah Award for High School and Intermediate (2011)', 'Premio El Templo de las Mil Puertas for Mejor novela extranjera perteneciente a saga (2009)', \"Rebecca Caudill Young Readers' Book Award (2011)\", 'LovelyBooks Leserpreis for Fantasy (2009)', 'LovelyBooks Leserpreis for Bestes Cover/Umschlag (2009)', 'Premi Protagonista Jove for Categoria 13-14 anys (2010)']",
                        "count": 1
                      },
                      {
                        "name": "3 others",
                        "count": 3
                      }
                    ]
                  }
                },
                {
                  "name": "Places",
                  "dtype": "object",
                  "stats": {
                    "unique_count": 5,
                    "nan_count": 0,
                    "categories": [
                      {
                        "name": "[['London, England', '(United Kingdom)'], ['Hogwarts School of Witchcraft and Wizardry', '(United Kingdom)'], ['Pagford', '(United Kingdom)']]",
                        "count": 1
                      },
                      {
                        "name": "[['District 12, Panem', 'Capitol, Panem', 'Panem', '(United States)']]",
                        "count": 1
                      },
                      {
                        "name": "3 others",
                        "count": 3
                      }
                    ]
                  }
                },
                {
                  "name": "_deepnote_index_column",
                  "dtype": "int64"
                }
              ],
              "rows_top": [
                {
                  "URL": "https://www.goodreads.com/book/show/136251.Harry_Potter_and_the_Deathly_Hallows\"",
                  "Title": "Harry Potter and the Deathly Hallows (Harry Potter, #7)",
                  "Author": "J.K. Rowling",
                  "Number of Ratings": 2958364,
                  "Number of Reviews": 68421,
                  "Average Ratings": 5,
                  "Number of Pages": 759,
                  "Published Year": 2007,
                  "Series": 1,
                  "Genres": "['Fantasy', 'Young Adult', 'Fiction']",
                  "Awards": "['Locus Award Nominee for Best Young Adult Novel (2008)', 'Odyssey Award Nominee (2008)', 'Audie Award (2008)', 'Books I Loved Best Yearly (BILBY) Awards for Older Readers (2008)', 'Teen Read Award Nominee for Best All-Time-Fave (2010)', 'Puddly Award for Fiction (2008)', 'Andre Norton Award (2007)', 'Carnegie Medal Nominee (2008)']",
                  "Places": "[['London, England', '(United Kingdom)'], ['Hogwarts School of Witchcraft and Wizardry', '(United Kingdom)'], ['Pagford', '(United Kingdom)']]",
                  "_deepnote_index_column": 0
                },
                {
                  "URL": "https://www.goodreads.com/book/show/2767052-the-hunger-games\"",
                  "Title": "The Hunger Games (The Hunger Games, #1)",
                  "Author": "Suzanne Collins",
                  "Number of Ratings": 6683135,
                  "Number of Reviews": 175476,
                  "Average Ratings": 4,
                  "Number of Pages": 374,
                  "Published Year": 2008,
                  "Series": 1,
                  "Genres": "['Fantasy', 'Young Adult', 'Fiction']",
                  "Awards": "['Locus Award Nominee for Best Young Adult Book (2009)', 'Georgia Peach Book Award (2009)', 'Buxtehuder Bulle (2009)', 'Golden Duck Award for Young Adult (Hal Clement Award) (2009)', \"Grand Prix de l'Imaginaire Nominee for Roman jeunesse étranger (2010)\", 'Books I Loved Best Yearly (BILBY) Awards for Older Readers (2012)', \"West Australian Young Readers' Book Award (WAYRBA) for Older Readers (2010)\", \"Red House Children's Book Award for Older Readers & Overall (2010)\", 'South Carolina Book Award for Junior and Young Adult Book (2011)', 'Charlotte Award (2010)', 'Colorado Blue Spruce Young Adult Book Award (2010)', 'Teen Buckeye Book Award (2009)', \"Pennsylvania Young Readers' Choice Award for Young Adults (2010)\", 'Rhode Island Teen Book Award (2010)', \"Dorothy Canfield Fisher Children's Book Award (2010)\", 'Evergreen Teen Book Award (2011)', 'Soaring Eagle Book Award (2009)', 'Milwaukee County Teen Book Award Nominee (2010)', 'Sakura Medal for Middle School Book (2010)', 'Michigan Library Association Thumbs Up! Award (2009)', 'Florida Teens Read (2009)', 'Deutscher Jugendliteraturpreis for Preis der Jugendjury (2010)', 'Iowa High School Book Award (2011)', 'New Mexico Land of Enchantment Award for Young Adult (2011)', 'Eliot Rosewater Indiana High School Book Award (2010)', 'The Inky Awards for Silver Inky (2009)', 'California Young Readers Medal for Young Adult (2011)', 'Lincoln Award (2011)', 'Kinderboekwinkelprijs (2010)', 'Missouri Truman Readers Award (2011)', 'CYBILS Award for Young Adult Fantasy & Science Fiction (2008)', 'Literaturpreis der Jury der jungen Leser for Jugendbuch (2010)', 'The Inky Awards Shortlist for Silver Inky (2009)', 'Prix Et-lisez-moi (2011)', 'Missouri Gateway Readers Award (2011)', 'Oklahoma Sequoyah Award for High School and Intermediate (2011)', 'Premio El Templo de las Mil Puertas for Mejor novela extranjera perteneciente a saga (2009)', \"Rebecca Caudill Young Readers' Book Award (2011)\", 'LovelyBooks Leserpreis for Fantasy (2009)', 'LovelyBooks Leserpreis for Bestes Cover/Umschlag (2009)', 'Premi Protagonista Jove for Categoria 13-14 anys (2010)']",
                  "Places": "[['District 12, Panem', 'Capitol, Panem', 'Panem', '(United States)']]",
                  "_deepnote_index_column": 1
                },
                {
                  "URL": "https://www.goodreads.com/book/show/1.Harry_Potter_and_the_Half_Blood_Prince\"",
                  "Title": "Harry Potter and the Half-Blood Prince (Harry Potter, #6)",
                  "Author": "J.K. Rowling",
                  "Number of Ratings": 2574373,
                  "Number of Reviews": 41988,
                  "Average Ratings": 4,
                  "Number of Pages": 652,
                  "Published Year": 2006,
                  "Series": 1,
                  "Genres": "['Fantasy', 'Young Adult', 'Fiction']",
                  "Awards": "['Locus Award Nominee for Best Young Adult Novel (2006)', 'Audie Award for Audiobook of the Year (2006)', 'British Book of the Year (2006)']",
                  "Places": "[['Hogwarts School of Witchcraft and Wizardry', '(United Kingdom)'], ['England', '(United Kingdom)']]",
                  "_deepnote_index_column": 2
                },
                {
                  "URL": "https://www.goodreads.com/book/show/6.Harry_Potter_and_the_Goblet_of_Fire\"",
                  "Title": "Harry Potter and the Goblet of Fire (Harry Potter, #4)",
                  "Author": "J.K. Rowling",
                  "Number of Ratings": 2748838,
                  "Number of Reviews": 49554,
                  "Average Ratings": 4,
                  "Number of Pages": 734,
                  "Published Year": 2002,
                  "Series": 1,
                  "Genres": "['Fantasy', 'Young Adult', 'Fiction']",
                  "Awards": "['Hugo Award for Best Novel (2001)', \"Mythopoeic Fantasy Award for Children's Literature (2008)\", 'Publieksprijs voor het Nederlandse Boek (2001)', 'Audie Award for Solo Narration - Male (2001)', \"West Australian Young Readers' Book Award (WAYRBA) for Younger Readers (2001)\", 'Golden Archer Award for Middle/Junior High (2002)', 'Indian Paintbrush Book Award (2002)', 'Deutscher Bücherpreis for Publikumspreis', 'Corine Internationaler Buchpreis for Kinder- und Jugendbuch (2001)']",
                  "Places": "[['Hogwarts School of Witchcraft and Wizardry,\\n1994', '(United Kingdom)'], ['Scotland', 'United Kingdom']]",
                  "_deepnote_index_column": 3
                },
                {
                  "URL": "https://www.goodreads.com/book/show/2.Harry_Potter_and_the_Order_of_the_Phoenix\"",
                  "Title": "Harry Potter and the Order of the Phoenix (Harry Potter, #5)",
                  "Author": "J.K. Rowling",
                  "Number of Ratings": 2652319,
                  "Number of Reviews": 45347,
                  "Average Ratings": 4,
                  "Number of Pages": 870,
                  "Published Year": 2004,
                  "Series": 1,
                  "Genres": "['Fantasy', 'Young Adult', 'Fiction']",
                  "Awards": "['Bram Stoker Award for Works for Young Readers (2003)', 'Anthony Award for Young Adult (2004)', \"Mythopoeic Fantasy Award for Children's Literature (2008)\", 'Audie Award for Audiobook of the Year (2004)', 'Books I Loved Best Yearly (BILBY) Awards for Older Readers (2004)', 'Colorado Blue Spruce Young Adult Book Award (2006)', 'Golden Archer Award for Middle/Junior High (2005)', 'Deutscher Jugendliteraturpreis Nominee for Preis der Jugendjury (2004)', 'Carnegie Medal Nominee (2003)']",
                  "Places": "[['Hogwarts School of Witchcraft and Wizardry', '(United Kingdom)'], ['London, England', '(United Kingdom)']]",
                  "_deepnote_index_column": 4
                }
              ],
              "rows_bottom": null
            },
            "text/plain": "                                                 URL  \\\n0  https://www.goodreads.com/book/show/136251.Har...   \n1  https://www.goodreads.com/book/show/2767052-th...   \n2  https://www.goodreads.com/book/show/1.Harry_Po...   \n3  https://www.goodreads.com/book/show/6.Harry_Po...   \n4  https://www.goodreads.com/book/show/2.Harry_Po...   \n\n                                               Title           Author  \\\n0  Harry Potter and the Deathly Hallows (Harry Po...     J.K. Rowling   \n1            The Hunger Games (The Hunger Games, #1)  Suzanne Collins   \n2  Harry Potter and the Half-Blood Prince (Harry ...     J.K. Rowling   \n3  Harry Potter and the Goblet of Fire (Harry Pot...     J.K. Rowling   \n4  Harry Potter and the Order of the Phoenix (Har...     J.K. Rowling   \n\n   Number of Ratings  Number of Reviews  Average Ratings  Number of Pages  \\\n0            2958364              68421              5.0            759.0   \n1            6683135             175476              4.0            374.0   \n2            2574373              41988              4.0            652.0   \n3            2748838              49554              4.0            734.0   \n4            2652319              45347              4.0            870.0   \n\n   Published Year  Series                                 Genres  \\\n0          2007.0     1.0  ['Fantasy', 'Young Adult', 'Fiction']   \n1          2008.0     1.0  ['Fantasy', 'Young Adult', 'Fiction']   \n2          2006.0     1.0  ['Fantasy', 'Young Adult', 'Fiction']   \n3          2002.0     1.0  ['Fantasy', 'Young Adult', 'Fiction']   \n4          2004.0     1.0  ['Fantasy', 'Young Adult', 'Fiction']   \n\n                                              Awards  \\\n0  ['Locus Award Nominee for Best Young Adult Nov...   \n1  ['Locus Award Nominee for Best Young Adult Boo...   \n2  ['Locus Award Nominee for Best Young Adult Nov...   \n3  ['Hugo Award for Best Novel (2001)', \"Mythopoe...   \n4  ['Bram Stoker Award for Works for Young Reader...   \n\n                                              Places  \n0  [['London, England', '(United Kingdom)'], ['Ho...  \n1  [['District 12, Panem', 'Capitol, Panem', 'Pan...  \n2  [['Hogwarts School of Witchcraft and Wizardry'...  \n3  [['Hogwarts School of Witchcraft and Wizardry,...  \n4  [['Hogwarts School of Witchcraft and Wizardry'...  ",
            "text/html": "<div>\n<style scoped>\n    .dataframe tbody tr th:only-of-type {\n        vertical-align: middle;\n    }\n\n    .dataframe tbody tr th {\n        vertical-align: top;\n    }\n\n    .dataframe thead th {\n        text-align: right;\n    }\n</style>\n<table border=\"1\" class=\"dataframe\">\n  <thead>\n    <tr style=\"text-align: right;\">\n      <th></th>\n      <th>URL</th>\n      <th>Title</th>\n      <th>Author</th>\n      <th>Number of Ratings</th>\n      <th>Number of Reviews</th>\n      <th>Average Ratings</th>\n      <th>Number of Pages</th>\n      <th>Published Year</th>\n      <th>Series</th>\n      <th>Genres</th>\n      <th>Awards</th>\n      <th>Places</th>\n    </tr>\n  </thead>\n  <tbody>\n    <tr>\n      <th>0</th>\n      <td>https://www.goodreads.com/book/show/136251.Har...</td>\n      <td>Harry Potter and the Deathly Hallows (Harry Po...</td>\n      <td>J.K. Rowling</td>\n      <td>2958364</td>\n      <td>68421</td>\n      <td>5.0</td>\n      <td>759.0</td>\n      <td>2007.0</td>\n      <td>1.0</td>\n      <td>['Fantasy', 'Young Adult', 'Fiction']</td>\n      <td>['Locus Award Nominee for Best Young Adult Nov...</td>\n      <td>[['London, England', '(United Kingdom)'], ['Ho...</td>\n    </tr>\n    <tr>\n      <th>1</th>\n      <td>https://www.goodreads.com/book/show/2767052-th...</td>\n      <td>The Hunger Games (The Hunger Games, #1)</td>\n      <td>Suzanne Collins</td>\n      <td>6683135</td>\n      <td>175476</td>\n      <td>4.0</td>\n      <td>374.0</td>\n      <td>2008.0</td>\n      <td>1.0</td>\n      <td>['Fantasy', 'Young Adult', 'Fiction']</td>\n      <td>['Locus Award Nominee for Best Young Adult Boo...</td>\n      <td>[['District 12, Panem', 'Capitol, Panem', 'Pan...</td>\n    </tr>\n    <tr>\n      <th>2</th>\n      <td>https://www.goodreads.com/book/show/1.Harry_Po...</td>\n      <td>Harry Potter and the Half-Blood Prince (Harry ...</td>\n      <td>J.K. Rowling</td>\n      <td>2574373</td>\n      <td>41988</td>\n      <td>4.0</td>\n      <td>652.0</td>\n      <td>2006.0</td>\n      <td>1.0</td>\n      <td>['Fantasy', 'Young Adult', 'Fiction']</td>\n      <td>['Locus Award Nominee for Best Young Adult Nov...</td>\n      <td>[['Hogwarts School of Witchcraft and Wizardry'...</td>\n    </tr>\n    <tr>\n      <th>3</th>\n      <td>https://www.goodreads.com/book/show/6.Harry_Po...</td>\n      <td>Harry Potter and the Goblet of Fire (Harry Pot...</td>\n      <td>J.K. Rowling</td>\n      <td>2748838</td>\n      <td>49554</td>\n      <td>4.0</td>\n      <td>734.0</td>\n      <td>2002.0</td>\n      <td>1.0</td>\n      <td>['Fantasy', 'Young Adult', 'Fiction']</td>\n      <td>['Hugo Award for Best Novel (2001)', \"Mythopoe...</td>\n      <td>[['Hogwarts School of Witchcraft and Wizardry,...</td>\n    </tr>\n    <tr>\n      <th>4</th>\n      <td>https://www.goodreads.com/book/show/2.Harry_Po...</td>\n      <td>Harry Potter and the Order of the Phoenix (Har...</td>\n      <td>J.K. Rowling</td>\n      <td>2652319</td>\n      <td>45347</td>\n      <td>4.0</td>\n      <td>870.0</td>\n      <td>2004.0</td>\n      <td>1.0</td>\n      <td>['Fantasy', 'Young Adult', 'Fiction']</td>\n      <td>['Bram Stoker Award for Works for Young Reader...</td>\n      <td>[['Hogwarts School of Witchcraft and Wizardry'...</td>\n    </tr>\n  </tbody>\n</table>\n</div>"
          },
          "metadata": {}
        }
      ],
      "execution_count": 4
    },
    {
      "cell_type": "code",
      "source": "",
      "metadata": {
        "tags": [],
        "cell_id": "00008-dc0a9632-8009-41db-bc3b-dbdd8ece4cdd",
        "deepnote_cell_type": "code"
      },
      "outputs": [],
      "execution_count": null
    },
    {
      "cell_type": "markdown",
      "source": "<a style='text-decoration:none;line-height:16px;display:flex;color:#5B5B62;padding:10px;justify-content:end;' href='https://deepnote.com?utm_source=created-in-deepnote-cell&projectId=a0867bd3-5624-476b-af8a-bd1f917bd510' target=\"_blank\">\n<img alt='Created in deepnote.com' style='display:inline;max-height:16px;margin:0px;margin-right:7.5px;' src='data:image/svg+xml;base64,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' > </img>\nCreated in <span style='font-weight:600;margin-left:4px;'>Deepnote</span></a>",
      "metadata": {
        "tags": [],
        "created_in_deepnote_cell": true,
        "deepnote_cell_type": "markdown"
      }
    }
  ],
  "nbformat": 4,
  "nbformat_minor": 2,
  "metadata": {
    "orig_nbformat": 2,
    "deepnote": {
      "is_reactive": false
    },
    "deepnote_notebook_id": "e77e6893-4e68-4d00-abde-5ff8fce9f744",
    "deepnote_execution_queue": []
  }
}