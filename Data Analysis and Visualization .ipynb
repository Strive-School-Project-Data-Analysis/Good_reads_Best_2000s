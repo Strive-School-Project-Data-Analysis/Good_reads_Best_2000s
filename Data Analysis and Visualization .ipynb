{
  "cells": [
    {
      "cell_type": "markdown",
      "source": "# Data Analysis and Visualization ",
      "metadata": {
        "cell_id": "00000-d33b8591-0026-48f3-b00b-73a0fa411e0b",
        "deepnote_cell_type": "markdown"
      }
    },
    {
      "cell_type": "markdown",
      "source": "   # 1. Data analysis ",
      "metadata": {
        "cell_id": "00001-d5709031-69e7-4eca-8402-87ff4796fa71",
        "deepnote_cell_type": "markdown"
      }
    },
    {
      "cell_type": "code",
      "metadata": {
        "cell_id": "00002-a031312d-b3ed-4f06-ac10-6d2d542f6aed",
        "deepnote_to_be_reexecuted": false,
        "source_hash": "485d3fbf",
        "execution_millis": 425,
        "execution_start": 1618407866341,
        "deepnote_cell_type": "code"
      },
      "source": "#import liberaries \nimport numpy as np \nimport pandas as pd\nimport seaborn as sns\n#import statsmodels.api as sm\nimport matplotlib.pyplot as plt\nimport plotly.graph_objs as go\nimport plotly.offline as pyo\nimport cufflinks as cf\n%matplotlib inline \n\nfrom plotly.offline import download_plotlyjs, init_notebook_mode, plot, iplot\ninit_notebook_mode(connected=True)\nimport sweetviz as sv\ncf.go_offline()",
      "execution_count": 16,
      "outputs": [
        {
          "data": {
            "text/html": "        <script type=\"text/javascript\">\n        window.PlotlyConfig = {MathJaxConfig: 'local'};\n        if (window.MathJax) {MathJax.Hub.Config({SVG: {font: \"STIX-Web\"}});}\n        if (typeof require !== 'undefined') {\n        require.undef(\"plotly\");\n        requirejs.config({\n            paths: {\n                'plotly': ['https://cdn.plot.ly/plotly-latest.min']\n            }\n        });\n        require(['plotly'], function(Plotly) {\n            window._Plotly = Plotly;\n        });\n        }\n        </script>\n        "
          },
          "metadata": {},
          "output_type": "display_data"
        },
        {
          "data": {
            "text/html": "        <script type=\"text/javascript\">\n        window.PlotlyConfig = {MathJaxConfig: 'local'};\n        if (window.MathJax) {MathJax.Hub.Config({SVG: {font: \"STIX-Web\"}});}\n        if (typeof require !== 'undefined') {\n        require.undef(\"plotly\");\n        requirejs.config({\n            paths: {\n                'plotly': ['https://cdn.plot.ly/plotly-latest.min']\n            }\n        });\n        require(['plotly'], function(Plotly) {\n            window._Plotly = Plotly;\n        });\n        }\n        </script>\n        "
          },
          "metadata": {},
          "output_type": "display_data"
        }
      ]
    },
    {
      "cell_type": "code",
      "source": "!pip install cufflinks",
      "metadata": {
        "tags": [],
        "cell_id": "00003-a5e8b44a-ccec-460c-b07a-b5fb3e0f9b09",
        "deepnote_to_be_reexecuted": false,
        "source_hash": "d7db3491",
        "execution_start": 1618407855284,
        "execution_millis": 5622,
        "deepnote_cell_type": "code"
      },
      "outputs": [
        {
          "name": "stdout",
          "text": "Collecting cufflinks\n  Downloading cufflinks-0.17.3.tar.gz (81 kB)\n\u001b[K     |████████████████████████████████| 81 kB 12.7 MB/s \n\u001b[?25hRequirement already satisfied: numpy>=1.9.2 in /shared-libs/python3.7/py/lib/python3.7/site-packages (from cufflinks) (1.19.5)\nRequirement already satisfied: pandas>=0.19.2 in /shared-libs/python3.7/py/lib/python3.7/site-packages (from cufflinks) (1.2.4)\nRequirement already satisfied: plotly>=4.1.1 in /shared-libs/python3.7/py/lib/python3.7/site-packages (from cufflinks) (4.14.3)\nRequirement already satisfied: six>=1.9.0 in /shared-libs/python3.7/py-core/lib/python3.7/site-packages (from cufflinks) (1.15.0)\nCollecting colorlover>=0.2.1\n  Downloading colorlover-0.3.0-py3-none-any.whl (8.9 kB)\nRequirement already satisfied: setuptools>=34.4.1 in /root/venv/lib/python3.7/site-packages (from cufflinks) (54.1.2)\nRequirement already satisfied: ipython>=5.3.0 in /shared-libs/python3.7/py-core/lib/python3.7/site-packages (from cufflinks) (7.22.0)\nCollecting ipywidgets>=7.0.0\n  Downloading ipywidgets-7.6.3-py2.py3-none-any.whl (121 kB)\n\u001b[K     |████████████████████████████████| 121 kB 45.8 MB/s \n\u001b[?25hRequirement already satisfied: pexpect>4.3 in /shared-libs/python3.7/py-core/lib/python3.7/site-packages (from ipython>=5.3.0->cufflinks) (4.8.0)\nRequirement already satisfied: decorator in /shared-libs/python3.7/py-core/lib/python3.7/site-packages (from ipython>=5.3.0->cufflinks) (5.0.6)\nRequirement already satisfied: traitlets>=4.2 in /shared-libs/python3.7/py-core/lib/python3.7/site-packages (from ipython>=5.3.0->cufflinks) (5.0.5)\nRequirement already satisfied: backcall in /shared-libs/python3.7/py-core/lib/python3.7/site-packages (from ipython>=5.3.0->cufflinks) (0.2.0)\nRequirement already satisfied: pickleshare in /shared-libs/python3.7/py-core/lib/python3.7/site-packages (from ipython>=5.3.0->cufflinks) (0.7.5)\nRequirement already satisfied: prompt-toolkit!=3.0.0,!=3.0.1,<3.1.0,>=2.0.0 in /shared-libs/python3.7/py-core/lib/python3.7/site-packages (from ipython>=5.3.0->cufflinks) (3.0.18)\nRequirement already satisfied: pygments in /shared-libs/python3.7/py-core/lib/python3.7/site-packages (from ipython>=5.3.0->cufflinks) (2.8.1)\nRequirement already satisfied: jedi>=0.16 in /shared-libs/python3.7/py-core/lib/python3.7/site-packages (from ipython>=5.3.0->cufflinks) (0.17.2)\nCollecting widgetsnbextension~=3.5.0\n  Downloading widgetsnbextension-3.5.1-py2.py3-none-any.whl (2.2 MB)\n\u001b[K     |████████████████████████████████| 2.2 MB 43.7 MB/s \n\u001b[?25hRequirement already satisfied: nbformat>=4.2.0 in /shared-libs/python3.7/py-core/lib/python3.7/site-packages (from ipywidgets>=7.0.0->cufflinks) (5.1.3)\nRequirement already satisfied: ipykernel>=4.5.1 in /shared-libs/python3.7/py-core/lib/python3.7/site-packages (from ipywidgets>=7.0.0->cufflinks) (5.5.3)\nCollecting jupyterlab-widgets>=1.0.0\n  Downloading jupyterlab_widgets-1.0.0-py3-none-any.whl (243 kB)\n\u001b[K     |████████████████████████████████| 243 kB 47.9 MB/s \n\u001b[?25hRequirement already satisfied: jupyter-client in /shared-libs/python3.7/py-core/lib/python3.7/site-packages (from ipykernel>=4.5.1->ipywidgets>=7.0.0->cufflinks) (6.1.12)\nRequirement already satisfied: tornado>=4.2 in /shared-libs/python3.7/py-core/lib/python3.7/site-packages (from ipykernel>=4.5.1->ipywidgets>=7.0.0->cufflinks) (6.1)\nRequirement already satisfied: parso<0.8.0,>=0.7.0 in /shared-libs/python3.7/py-core/lib/python3.7/site-packages (from jedi>=0.16->ipython>=5.3.0->cufflinks) (0.7.1)\nRequirement already satisfied: ipython-genutils in /shared-libs/python3.7/py-core/lib/python3.7/site-packages (from nbformat>=4.2.0->ipywidgets>=7.0.0->cufflinks) (0.2.0)\nRequirement already satisfied: jsonschema!=2.5.0,>=2.4 in /shared-libs/python3.7/py-core/lib/python3.7/site-packages (from nbformat>=4.2.0->ipywidgets>=7.0.0->cufflinks) (3.2.0)\nRequirement already satisfied: jupyter-core in /shared-libs/python3.7/py-core/lib/python3.7/site-packages (from nbformat>=4.2.0->ipywidgets>=7.0.0->cufflinks) (4.7.1)\nRequirement already satisfied: pyrsistent>=0.14.0 in /shared-libs/python3.7/py-core/lib/python3.7/site-packages (from jsonschema!=2.5.0,>=2.4->nbformat>=4.2.0->ipywidgets>=7.0.0->cufflinks) (0.17.3)\nRequirement already satisfied: importlib-metadata in /shared-libs/python3.7/py-core/lib/python3.7/site-packages (from jsonschema!=2.5.0,>=2.4->nbformat>=4.2.0->ipywidgets>=7.0.0->cufflinks) (3.10.1)\nRequirement already satisfied: attrs>=17.4.0 in /shared-libs/python3.7/py-core/lib/python3.7/site-packages (from jsonschema!=2.5.0,>=2.4->nbformat>=4.2.0->ipywidgets>=7.0.0->cufflinks) (20.3.0)\nRequirement already satisfied: python-dateutil>=2.7.3 in /shared-libs/python3.7/py-core/lib/python3.7/site-packages (from pandas>=0.19.2->cufflinks) (2.8.1)\nRequirement already satisfied: pytz>=2017.3 in /shared-libs/python3.7/py/lib/python3.7/site-packages (from pandas>=0.19.2->cufflinks) (2021.1)\nRequirement already satisfied: ptyprocess>=0.5 in /shared-libs/python3.7/py-core/lib/python3.7/site-packages (from pexpect>4.3->ipython>=5.3.0->cufflinks) (0.7.0)\nRequirement already satisfied: retrying>=1.3.3 in /shared-libs/python3.7/py/lib/python3.7/site-packages (from plotly>=4.1.1->cufflinks) (1.3.3)\nRequirement already satisfied: wcwidth in /shared-libs/python3.7/py-core/lib/python3.7/site-packages (from prompt-toolkit!=3.0.0,!=3.0.1,<3.1.0,>=2.0.0->ipython>=5.3.0->cufflinks) (0.2.5)\nRequirement already satisfied: notebook>=4.4.1 in /shared-libs/python3.7/py-core/lib/python3.7/site-packages (from widgetsnbextension~=3.5.0->ipywidgets>=7.0.0->cufflinks) (7.0.0.dev0)\nRequirement already satisfied: pyzmq>=17 in /shared-libs/python3.7/py-core/lib/python3.7/site-packages (from notebook>=4.4.1->widgetsnbextension~=3.5.0->ipywidgets>=7.0.0->cufflinks) (22.0.3)\nRequirement already satisfied: terminado>=0.8.3 in /shared-libs/python3.7/py-core/lib/python3.7/site-packages (from notebook>=4.4.1->widgetsnbextension~=3.5.0->ipywidgets>=7.0.0->cufflinks) (0.9.4)\nRequirement already satisfied: nbconvert in /shared-libs/python3.7/py-core/lib/python3.7/site-packages (from notebook>=4.4.1->widgetsnbextension~=3.5.0->ipywidgets>=7.0.0->cufflinks) (6.0.7)\nRequirement already satisfied: Send2Trash>=1.5.0 in /shared-libs/python3.7/py-core/lib/python3.7/site-packages (from notebook>=4.4.1->widgetsnbextension~=3.5.0->ipywidgets>=7.0.0->cufflinks) (1.5.0)\nRequirement already satisfied: argon2-cffi in /shared-libs/python3.7/py-core/lib/python3.7/site-packages (from notebook>=4.4.1->widgetsnbextension~=3.5.0->ipywidgets>=7.0.0->cufflinks) (20.1.0)\nRequirement already satisfied: prometheus-client in /shared-libs/python3.7/py-core/lib/python3.7/site-packages (from notebook>=4.4.1->widgetsnbextension~=3.5.0->ipywidgets>=7.0.0->cufflinks) (0.10.1)\nRequirement already satisfied: jinja2 in /shared-libs/python3.7/py-core/lib/python3.7/site-packages (from notebook>=4.4.1->widgetsnbextension~=3.5.0->ipywidgets>=7.0.0->cufflinks) (2.11.3)\nRequirement already satisfied: cffi>=1.0.0 in /shared-libs/python3.7/py-core/lib/python3.7/site-packages (from argon2-cffi->notebook>=4.4.1->widgetsnbextension~=3.5.0->ipywidgets>=7.0.0->cufflinks) (1.14.5)\nRequirement already satisfied: pycparser in /shared-libs/python3.7/py-core/lib/python3.7/site-packages (from cffi>=1.0.0->argon2-cffi->notebook>=4.4.1->widgetsnbextension~=3.5.0->ipywidgets>=7.0.0->cufflinks) (2.20)\nRequirement already satisfied: zipp>=0.5 in /shared-libs/python3.7/py-core/lib/python3.7/site-packages (from importlib-metadata->jsonschema!=2.5.0,>=2.4->nbformat>=4.2.0->ipywidgets>=7.0.0->cufflinks) (3.4.1)\nRequirement already satisfied: typing-extensions>=3.6.4 in /shared-libs/python3.7/py-core/lib/python3.7/site-packages (from importlib-metadata->jsonschema!=2.5.0,>=2.4->nbformat>=4.2.0->ipywidgets>=7.0.0->cufflinks) (3.7.4.3)\nRequirement already satisfied: MarkupSafe>=0.23 in /shared-libs/python3.7/py-core/lib/python3.7/site-packages (from jinja2->notebook>=4.4.1->widgetsnbextension~=3.5.0->ipywidgets>=7.0.0->cufflinks) (1.1.1)\nRequirement already satisfied: jupyterlab-pygments in /shared-libs/python3.7/py-core/lib/python3.7/site-packages (from nbconvert->notebook>=4.4.1->widgetsnbextension~=3.5.0->ipywidgets>=7.0.0->cufflinks) (0.1.2)\nRequirement already satisfied: nbclient<0.6.0,>=0.5.0 in /shared-libs/python3.7/py-core/lib/python3.7/site-packages (from nbconvert->notebook>=4.4.1->widgetsnbextension~=3.5.0->ipywidgets>=7.0.0->cufflinks) (0.5.3)\nRequirement already satisfied: pandocfilters>=1.4.1 in /shared-libs/python3.7/py-core/lib/python3.7/site-packages (from nbconvert->notebook>=4.4.1->widgetsnbextension~=3.5.0->ipywidgets>=7.0.0->cufflinks) (1.4.3)\nRequirement already satisfied: defusedxml in /shared-libs/python3.7/py-core/lib/python3.7/site-packages (from nbconvert->notebook>=4.4.1->widgetsnbextension~=3.5.0->ipywidgets>=7.0.0->cufflinks) (0.7.1)\nRequirement already satisfied: bleach in /shared-libs/python3.7/py-core/lib/python3.7/site-packages (from nbconvert->notebook>=4.4.1->widgetsnbextension~=3.5.0->ipywidgets>=7.0.0->cufflinks) (3.3.0)\nRequirement already satisfied: entrypoints>=0.2.2 in /shared-libs/python3.7/py-core/lib/python3.7/site-packages (from nbconvert->notebook>=4.4.1->widgetsnbextension~=3.5.0->ipywidgets>=7.0.0->cufflinks) (0.3)\nRequirement already satisfied: testpath in /shared-libs/python3.7/py-core/lib/python3.7/site-packages (from nbconvert->notebook>=4.4.1->widgetsnbextension~=3.5.0->ipywidgets>=7.0.0->cufflinks) (0.4.4)\nRequirement already satisfied: mistune<2,>=0.8.1 in /shared-libs/python3.7/py-core/lib/python3.7/site-packages (from nbconvert->notebook>=4.4.1->widgetsnbextension~=3.5.0->ipywidgets>=7.0.0->cufflinks) (0.8.4)\nRequirement already satisfied: nest-asyncio in /shared-libs/python3.7/py-core/lib/python3.7/site-packages (from nbclient<0.6.0,>=0.5.0->nbconvert->notebook>=4.4.1->widgetsnbextension~=3.5.0->ipywidgets>=7.0.0->cufflinks) (1.5.1)\nRequirement already satisfied: async-generator in /shared-libs/python3.7/py-core/lib/python3.7/site-packages (from nbclient<0.6.0,>=0.5.0->nbconvert->notebook>=4.4.1->widgetsnbextension~=3.5.0->ipywidgets>=7.0.0->cufflinks) (1.10)\nRequirement already satisfied: webencodings in /shared-libs/python3.7/py-core/lib/python3.7/site-packages (from bleach->nbconvert->notebook>=4.4.1->widgetsnbextension~=3.5.0->ipywidgets>=7.0.0->cufflinks) (0.5.1)\nRequirement already satisfied: packaging in /shared-libs/python3.7/py-core/lib/python3.7/site-packages (from bleach->nbconvert->notebook>=4.4.1->widgetsnbextension~=3.5.0->ipywidgets>=7.0.0->cufflinks) (20.9)\nRequirement already satisfied: pyparsing>=2.0.2 in /shared-libs/python3.7/py-core/lib/python3.7/site-packages (from packaging->bleach->nbconvert->notebook>=4.4.1->widgetsnbextension~=3.5.0->ipywidgets>=7.0.0->cufflinks) (2.4.7)\nBuilding wheels for collected packages: cufflinks\n  Building wheel for cufflinks (setup.py) ... \u001b[?25ldone\n\u001b[?25h  Created wheel for cufflinks: filename=cufflinks-0.17.3-py3-none-any.whl size=67922 sha256=163566d51054455f90ab3f80ba133eb565bfe445c45ae34aec9ac410e70bd4e2\n  Stored in directory: /root/.cache/pip/wheels/e1/27/13/3fe67fa7ea7be444b831d117220b3b586b872c9acd4df480d0\nSuccessfully built cufflinks\nInstalling collected packages: widgetsnbextension, jupyterlab-widgets, ipywidgets, colorlover, cufflinks\nSuccessfully installed colorlover-0.3.0 cufflinks-0.17.3 ipywidgets-7.6.3 jupyterlab-widgets-1.0.0 widgetsnbextension-3.5.1\n",
          "output_type": "stream"
        }
      ],
      "execution_count": 15
    },
    {
      "cell_type": "code",
      "metadata": {
        "cell_id": "00003-30c82925-5f24-42f6-a01a-6faec5da538c",
        "deepnote_to_be_reexecuted": false,
        "source_hash": "6d329e1a",
        "execution_start": 1618319071871,
        "execution_millis": 17,
        "deepnote_cell_type": "code"
      },
      "source": "#opening the data base\ndf = pd.read_csv('test_csv.csv')\ndf = df.drop(['URL'], axis= 1)",
      "execution_count": null,
      "outputs": []
    },
    {
      "cell_type": "code",
      "metadata": {
        "scrolled": false,
        "cell_id": "00004-a91fcfd4-f0eb-4567-a07b-b91953ff4dd4",
        "deepnote_to_be_reexecuted": false,
        "source_hash": "f804c160",
        "execution_start": 1618319078843,
        "execution_millis": 45,
        "deepnote_cell_type": "code"
      },
      "source": "df",
      "execution_count": null,
      "outputs": [
        {
          "output_type": "execute_result",
          "execution_count": 3,
          "data": {
            "application/vnd.deepnote.dataframe.v2+json": {
              "row_count": 100,
              "column_count": 11,
              "columns": [
                {
                  "name": "Title",
                  "dtype": "object",
                  "stats": {
                    "unique_count": 100,
                    "nan_count": 0,
                    "categories": [
                      {
                        "name": "Harry Potter and the Deathly Hallows (Harry Potter, #7)",
                        "count": 1
                      },
                      {
                        "name": "The Hunger Games (The Hunger Games, #1)",
                        "count": 1
                      },
                      {
                        "name": "98 others",
                        "count": 98
                      }
                    ]
                  }
                },
                {
                  "name": "Author",
                  "dtype": "object",
                  "stats": {
                    "unique_count": 76,
                    "nan_count": 0,
                    "categories": [
                      {
                        "name": "J.K. Rowling",
                        "count": 5
                      },
                      {
                        "name": "Stephenie Meyer",
                        "count": 5
                      },
                      {
                        "name": "74 others",
                        "count": 90
                      }
                    ]
                  }
                },
                {
                  "name": "Number of Ratings",
                  "dtype": "int64",
                  "stats": {
                    "unique_count": 100,
                    "nan_count": 0,
                    "min": "80852",
                    "max": "6683135",
                    "histogram": [
                      {
                        "bin_start": 80852,
                        "bin_end": 741080.3,
                        "count": 63
                      },
                      {
                        "bin_start": 741080.3,
                        "bin_end": 1401308.6,
                        "count": 15
                      },
                      {
                        "bin_start": 1401308.6,
                        "bin_end": 2061536.9000000001,
                        "count": 9
                      },
                      {
                        "bin_start": 2061536.9000000001,
                        "bin_end": 2721765.2,
                        "count": 8
                      },
                      {
                        "bin_start": 2721765.2,
                        "bin_end": 3381993.5,
                        "count": 3
                      },
                      {
                        "bin_start": 3381993.5,
                        "bin_end": 4042221.8000000003,
                        "count": 0
                      },
                      {
                        "bin_start": 4042221.8000000003,
                        "bin_end": 4702450.100000001,
                        "count": 0
                      },
                      {
                        "bin_start": 4702450.100000001,
                        "bin_end": 5362678.4,
                        "count": 1
                      },
                      {
                        "bin_start": 5362678.4,
                        "bin_end": 6022906.7,
                        "count": 0
                      },
                      {
                        "bin_start": 6022906.7,
                        "bin_end": 6683135,
                        "count": 1
                      }
                    ]
                  }
                },
                {
                  "name": "Number of Reviews",
                  "dtype": "int64",
                  "stats": {
                    "unique_count": 100,
                    "nan_count": 0,
                    "min": "4158",
                    "max": "175476",
                    "histogram": [
                      {
                        "bin_start": 4158,
                        "bin_end": 21289.8,
                        "count": 43
                      },
                      {
                        "bin_start": 21289.8,
                        "bin_end": 38421.6,
                        "count": 25
                      },
                      {
                        "bin_start": 38421.6,
                        "bin_end": 55553.399999999994,
                        "count": 18
                      },
                      {
                        "bin_start": 55553.399999999994,
                        "bin_end": 72685.2,
                        "count": 8
                      },
                      {
                        "bin_start": 72685.2,
                        "bin_end": 89817,
                        "count": 2
                      },
                      {
                        "bin_start": 89817,
                        "bin_end": 106948.79999999999,
                        "count": 1
                      },
                      {
                        "bin_start": 106948.79999999999,
                        "bin_end": 124080.59999999999,
                        "count": 2
                      },
                      {
                        "bin_start": 124080.59999999999,
                        "bin_end": 141212.4,
                        "count": 0
                      },
                      {
                        "bin_start": 141212.4,
                        "bin_end": 158344.19999999998,
                        "count": 0
                      },
                      {
                        "bin_start": 158344.19999999998,
                        "bin_end": 175476,
                        "count": 1
                      }
                    ]
                  }
                },
                {
                  "name": "Average Ratings",
                  "dtype": "float64",
                  "stats": {
                    "unique_count": 2,
                    "nan_count": 1,
                    "min": "4.0",
                    "max": "5.0",
                    "histogram": [
                      {
                        "bin_start": 4,
                        "bin_end": 4.1,
                        "count": 97
                      },
                      {
                        "bin_start": 4.1,
                        "bin_end": 4.2,
                        "count": 0
                      },
                      {
                        "bin_start": 4.2,
                        "bin_end": 4.3,
                        "count": 0
                      },
                      {
                        "bin_start": 4.3,
                        "bin_end": 4.4,
                        "count": 0
                      },
                      {
                        "bin_start": 4.4,
                        "bin_end": 4.5,
                        "count": 0
                      },
                      {
                        "bin_start": 4.5,
                        "bin_end": 4.6,
                        "count": 0
                      },
                      {
                        "bin_start": 4.6,
                        "bin_end": 4.7,
                        "count": 0
                      },
                      {
                        "bin_start": 4.7,
                        "bin_end": 4.8,
                        "count": 0
                      },
                      {
                        "bin_start": 4.8,
                        "bin_end": 4.9,
                        "count": 0
                      },
                      {
                        "bin_start": 4.9,
                        "bin_end": 5,
                        "count": 2
                      }
                    ]
                  }
                },
                {
                  "name": "Number of Pages",
                  "dtype": "float64",
                  "stats": {
                    "unique_count": 88,
                    "nan_count": 3,
                    "min": "153.0",
                    "max": "4100.0",
                    "histogram": [
                      {
                        "bin_start": 153,
                        "bin_end": 547.7,
                        "count": 71
                      },
                      {
                        "bin_start": 547.7,
                        "bin_end": 942.4,
                        "count": 22
                      },
                      {
                        "bin_start": 942.4,
                        "bin_end": 1337.1,
                        "count": 3
                      },
                      {
                        "bin_start": 1337.1,
                        "bin_end": 1731.8,
                        "count": 0
                      },
                      {
                        "bin_start": 1731.8,
                        "bin_end": 2126.5,
                        "count": 0
                      },
                      {
                        "bin_start": 2126.5,
                        "bin_end": 2521.2,
                        "count": 0
                      },
                      {
                        "bin_start": 2521.2,
                        "bin_end": 2915.9,
                        "count": 0
                      },
                      {
                        "bin_start": 2915.9,
                        "bin_end": 3310.6,
                        "count": 0
                      },
                      {
                        "bin_start": 3310.6,
                        "bin_end": 3705.2999999999997,
                        "count": 0
                      },
                      {
                        "bin_start": 3705.2999999999997,
                        "bin_end": 4100,
                        "count": 1
                      }
                    ]
                  }
                },
                {
                  "name": "Published Year",
                  "dtype": "float64",
                  "stats": {
                    "unique_count": 14,
                    "nan_count": 1,
                    "min": "2000.0",
                    "max": "2018.0",
                    "histogram": [
                      {
                        "bin_start": 2000,
                        "bin_end": 2001.8,
                        "count": 7
                      },
                      {
                        "bin_start": 2001.8,
                        "bin_end": 2003.6,
                        "count": 16
                      },
                      {
                        "bin_start": 2003.6,
                        "bin_end": 2005.4,
                        "count": 16
                      },
                      {
                        "bin_start": 2005.4,
                        "bin_end": 2007.2,
                        "count": 42
                      },
                      {
                        "bin_start": 2007.2,
                        "bin_end": 2009,
                        "count": 8
                      },
                      {
                        "bin_start": 2009,
                        "bin_end": 2010.8,
                        "count": 7
                      },
                      {
                        "bin_start": 2010.8,
                        "bin_end": 2012.6,
                        "count": 1
                      },
                      {
                        "bin_start": 2012.6,
                        "bin_end": 2014.4,
                        "count": 1
                      },
                      {
                        "bin_start": 2014.4,
                        "bin_end": 2016.2,
                        "count": 0
                      },
                      {
                        "bin_start": 2016.2,
                        "bin_end": 2018,
                        "count": 1
                      }
                    ]
                  }
                },
                {
                  "name": "Series",
                  "dtype": "float64",
                  "stats": {
                    "unique_count": 2,
                    "nan_count": 2,
                    "min": "0.0",
                    "max": "1.0",
                    "histogram": [
                      {
                        "bin_start": 0,
                        "bin_end": 0.1,
                        "count": 60
                      },
                      {
                        "bin_start": 0.1,
                        "bin_end": 0.2,
                        "count": 0
                      },
                      {
                        "bin_start": 0.2,
                        "bin_end": 0.30000000000000004,
                        "count": 0
                      },
                      {
                        "bin_start": 0.30000000000000004,
                        "bin_end": 0.4,
                        "count": 0
                      },
                      {
                        "bin_start": 0.4,
                        "bin_end": 0.5,
                        "count": 0
                      },
                      {
                        "bin_start": 0.5,
                        "bin_end": 0.6000000000000001,
                        "count": 0
                      },
                      {
                        "bin_start": 0.6000000000000001,
                        "bin_end": 0.7000000000000001,
                        "count": 0
                      },
                      {
                        "bin_start": 0.7000000000000001,
                        "bin_end": 0.8,
                        "count": 0
                      },
                      {
                        "bin_start": 0.8,
                        "bin_end": 0.9,
                        "count": 0
                      },
                      {
                        "bin_start": 0.9,
                        "bin_end": 1,
                        "count": 38
                      }
                    ]
                  }
                },
                {
                  "name": "Genres",
                  "dtype": "object",
                  "stats": {
                    "unique_count": 1,
                    "nan_count": 0,
                    "categories": [
                      {
                        "name": "['Fantasy', 'Young Adult', 'Fiction']",
                        "count": 100
                      }
                    ]
                  }
                },
                {
                  "name": "Awards",
                  "dtype": "object",
                  "stats": {
                    "unique_count": 90,
                    "nan_count": 0,
                    "categories": [
                      {
                        "name": "[]",
                        "count": 11
                      },
                      {
                        "name": "['Locus Award Nominee for Best Young Adult Novel (2008)', 'Odyssey Award Nominee (2008)', 'Audie Award (2008)', 'Books I Loved Best Yearly (BILBY) Awards for Older Readers (2008)', 'Teen Read Award Nominee for Best All-Time-Fave (2010)', 'Puddly Award for Fiction (2008)', 'Andre Norton Award (2007)', 'Carnegie Medal Nominee (2008)']",
                        "count": 1
                      },
                      {
                        "name": "88 others",
                        "count": 88
                      }
                    ]
                  }
                },
                {
                  "name": "Places",
                  "dtype": "object",
                  "stats": {
                    "unique_count": 80,
                    "nan_count": 16,
                    "categories": [
                      {
                        "name": "[['United States of America']]",
                        "count": 3
                      },
                      {
                        "name": "79 others",
                        "count": 81
                      },
                      {
                        "name": "Missing",
                        "count": 16
                      }
                    ]
                  }
                },
                {
                  "name": "_deepnote_index_column",
                  "dtype": "int64"
                }
              ],
              "rows_top": [
                {
                  "Title": "Harry Potter and the Deathly Hallows (Harry Potter, #7)",
                  "Author": "J.K. Rowling",
                  "Number of Ratings": 2958364,
                  "Number of Reviews": 68421,
                  "Average Ratings": 5,
                  "Number of Pages": "759.0",
                  "Published Year": 2007,
                  "Series": "1.0",
                  "Genres": "['Fantasy', 'Young Adult', 'Fiction']",
                  "Awards": "['Locus Award Nominee for Best Young Adult Novel (2008)', 'Odyssey Award Nominee (2008)', 'Audie Award (2008)', 'Books I Loved Best Yearly (BILBY) Awards for Older Readers (2008)', 'Teen Read Award Nominee for Best All-Time-Fave (2010)', 'Puddly Award for Fiction (2008)', 'Andre Norton Award (2007)', 'Carnegie Medal Nominee (2008)']",
                  "Places": "[['London, England', '(United Kingdom)'], ['Hogwarts School of Witchcraft and Wizardry', '(United Kingdom)'], ['Pagford', '(United Kingdom)']]",
                  "_deepnote_index_column": 0
                },
                {
                  "Title": "The Hunger Games (The Hunger Games, #1)",
                  "Author": "Suzanne Collins",
                  "Number of Ratings": 6683135,
                  "Number of Reviews": 175476,
                  "Average Ratings": 4,
                  "Number of Pages": "374.0",
                  "Published Year": 2008,
                  "Series": "1.0",
                  "Genres": "['Fantasy', 'Young Adult', 'Fiction']",
                  "Awards": "['Locus Award Nominee for Best Young Adult Book (2009)', 'Georgia Peach Book Award (2009)', 'Buxtehuder Bulle (2009)', 'Golden Duck Award for Young Adult (Hal Clement Award) (2009)', \"Grand Prix de l'Imaginaire Nominee for Roman jeunesse étranger (2010)\", 'Books I Loved Best Yearly (BILBY) Awards for Older Readers (2012)', \"West Australian Young Readers' Book Award (WAYRBA) for Older Readers (2010)\", \"Red House Children's Book Award for Older Readers & Overall (2010)\", 'South Carolina Book Award for Junior and Young Adult Book (2011)', 'Charlotte Award (2010)', 'Colorado Blue Spruce Young Adult Book Award (2010)', 'Teen Buckeye Book Award (2009)', \"Pennsylvania Young Readers' Choice Award for Young Adults (2010)\", 'Rhode Island Teen Book Award (2010)', \"Dorothy Canfield Fisher Children's Book Award (2010)\", 'Evergreen Teen Book Award (2011)', 'Soaring Eagle Book Award (2009)', 'Milwaukee County Teen Book Award Nominee (2010)', 'Sakura Medal for Middle School Book (2010)', 'Michigan Library Association Thumbs Up! Award (2009)', 'Florida Teens Read (2009)', 'Deutscher Jugendliteraturpreis for Preis der Jugendjury (2010)', 'Iowa High School Book Award (2011)', 'New Mexico Land of Enchantment Award for Young Adult (2011)', 'Eliot Rosewater Indiana High School Book Award (2010)', 'The Inky Awards for Silver Inky (2009)', 'California Young Readers Medal for Young Adult (2011)', 'Lincoln Award (2011)', 'Kinderboekwinkelprijs (2010)', 'Missouri Truman Readers Award (2011)', 'CYBILS Award for Young Adult Fantasy & Science Fiction (2008)', 'Literaturpreis der Jury der jungen Leser for Jugendbuch (2010)', 'The Inky Awards Shortlist for Silver Inky (2009)', 'Prix Et-lisez-moi (2011)', 'Missouri Gateway Readers Award (2011)', 'Oklahoma Sequoyah Award for High School and Intermediate (2011)', 'Premio El Templo de las Mil Puertas for Mejor novela extranjera perteneciente a saga (2009)', \"Rebecca Caudill Young Readers' Book Award (2011)\", 'LovelyBooks Leserpreis for Fantasy (2009)', 'LovelyBooks Leserpreis for Bestes Cover/Umschlag (2009)', 'Premi Protagonista Jove for Categoria 13-14 anys (2010)']",
                  "Places": "[['District 12, Panem', 'Capitol, Panem', 'Panem', '(United States)']]",
                  "_deepnote_index_column": 1
                },
                {
                  "Title": "Harry Potter and the Half-Blood Prince (Harry Potter, #6)",
                  "Author": "J.K. Rowling",
                  "Number of Ratings": 2574373,
                  "Number of Reviews": 41988,
                  "Average Ratings": 4,
                  "Number of Pages": "652.0",
                  "Published Year": 2006,
                  "Series": "1.0",
                  "Genres": "['Fantasy', 'Young Adult', 'Fiction']",
                  "Awards": "['Locus Award Nominee for Best Young Adult Novel (2006)', 'Audie Award for Audiobook of the Year (2006)', 'British Book of the Year (2006)']",
                  "Places": "[['Hogwarts School of Witchcraft and Wizardry', '(United Kingdom)'], ['England', '(United Kingdom)']]",
                  "_deepnote_index_column": 2
                },
                {
                  "Title": "Harry Potter and the Goblet of Fire (Harry Potter, #4)",
                  "Author": "J.K. Rowling",
                  "Number of Ratings": 2748838,
                  "Number of Reviews": 49554,
                  "Average Ratings": 4,
                  "Number of Pages": "734.0",
                  "Published Year": 2002,
                  "Series": "1.0",
                  "Genres": "['Fantasy', 'Young Adult', 'Fiction']",
                  "Awards": "['Hugo Award for Best Novel (2001)', \"Mythopoeic Fantasy Award for Children's Literature (2008)\", 'Publieksprijs voor het Nederlandse Boek (2001)', 'Audie Award for Solo Narration - Male (2001)', \"West Australian Young Readers' Book Award (WAYRBA) for Younger Readers (2001)\", 'Golden Archer Award for Middle/Junior High (2002)', 'Indian Paintbrush Book Award (2002)', 'Deutscher Bücherpreis for Publikumspreis', 'Corine Internationaler Buchpreis for Kinder- und Jugendbuch (2001)']",
                  "Places": "[['Hogwarts School of Witchcraft and Wizardry,\\n1994', '(United Kingdom)'], ['Scotland', 'United Kingdom']]",
                  "_deepnote_index_column": 3
                },
                {
                  "Title": "Harry Potter and the Order of the Phoenix (Harry Potter, #5)",
                  "Author": "J.K. Rowling",
                  "Number of Ratings": 2652319,
                  "Number of Reviews": 45347,
                  "Average Ratings": 4,
                  "Number of Pages": "870.0",
                  "Published Year": 2004,
                  "Series": "1.0",
                  "Genres": "['Fantasy', 'Young Adult', 'Fiction']",
                  "Awards": "['Bram Stoker Award for Works for Young Readers (2003)', 'Anthony Award for Young Adult (2004)', \"Mythopoeic Fantasy Award for Children's Literature (2008)\", 'Audie Award for Audiobook of the Year (2004)', 'Books I Loved Best Yearly (BILBY) Awards for Older Readers (2004)', 'Colorado Blue Spruce Young Adult Book Award (2006)', 'Golden Archer Award for Middle/Junior High (2005)', 'Deutscher Jugendliteraturpreis Nominee for Preis der Jugendjury (2004)', 'Carnegie Medal Nominee (2003)']",
                  "Places": "[['Hogwarts School of Witchcraft and Wizardry', '(United Kingdom)'], ['London, England', '(United Kingdom)']]",
                  "_deepnote_index_column": 4
                },
                {
                  "Title": "The Book Thief",
                  "Author": "Markus Zusak",
                  "Number of Ratings": 1941171,
                  "Number of Reviews": 116775,
                  "Average Ratings": 4,
                  "Number of Pages": "552.0",
                  "Published Year": 2006,
                  "Series": "0.0",
                  "Genres": "['Fantasy', 'Young Adult', 'Fiction']",
                  "Awards": "['National Jewish Book Award for Children’s and Young Adult Literature (2006)', \"Book Sense Book of the Year Award for Children's Literature (2007)\", 'Buxtehuder Bulle (2008)', 'Sydney Taylor Book Award for Teen Readers (2007)', 'Prijs van de Kinder- en Jeugdjury Vlaanderen (2009)', 'Michael L. Printz Award Nominee (2007)', 'Exclusive Books Boeke Prize (2007)', 'Rhode Island Teen Book Award Nominee (2008)', 'The Quill Award Nominee for Young Adult/Teen (2006)', 'Zilveren Zoen (2008)', 'Teen Read Award Nominee for Best All-Time-Fave (2010)', 'Deutscher Jugendliteraturpreis for Preis der Jugendjury (2009)', 'Association of Jewish Libraries for Teen Book Award (2006)', 'Lincoln Award Nominee (2010)', 'Australian Book Industry Award (ABIA) Nominee for Literary Fiction (2008)', 'Kathleen Mitchell Award', 'Ena Noel Award (2008)', 'Literaturpreis der Jury der jungen Leser for Jugendbuch (2009)', 'LovelyBooks Leserpreis for Allgemeine Literatur (2009)', 'Margaret A. Edwards Award (2014)']",
                  "Places": "[['Molching,\\n1939', '(Germany)'], ['Germany']]",
                  "_deepnote_index_column": 5
                },
                {
                  "Title": "The Time Traveler's Wife",
                  "Author": "Audrey Niffenegger",
                  "Number of Ratings": 1619337,
                  "Number of Reviews": 47967,
                  "Average Ratings": 4,
                  "Number of Pages": "500.0",
                  "Published Year": 2013,
                  "Series": "0.0",
                  "Genres": "['Fantasy', 'Young Adult', 'Fiction']",
                  "Awards": "['Arthur C. Clarke Award Nominee (2005)', 'Orange Prize Nominee for Fiction Longlist (2004)', 'British Book Award (2006)', 'John W. Campbell Memorial Award Nominee for Best Science Fiction Novel (2005)', 'Exclusive Books Boeke Prize (2005)', 'ALA Alex Award (2004)']",
                  "Places": "[['Chicago, Illinois', '(United States)'], ['Illinois', '(United States)']]",
                  "_deepnote_index_column": 6
                },
                {
                  "Title": "The Kite Runner",
                  "Author": "Khaled Hosseini",
                  "Number of Ratings": 2537451,
                  "Number of Reviews": 76647,
                  "Average Ratings": 4,
                  "Number of Pages": "371.0",
                  "Published Year": 2004,
                  "Series": "0.0",
                  "Genres": "['Fantasy', 'Young Adult', 'Fiction']",
                  "Awards": "['Borders Original Voices Award for Fiction (2003)', \"Humo's Gouden Bladwijzer (2008)\", 'Exclusive Books Boeke Prize (2004)', 'ALA Alex Award (2004)', 'Puddly Award for Fiction (2006)', 'Lincoln Award Nominee (2006)', 'Prix des libraires du Québec for Lauréats hors Québec (2006)', 'LovelyBooks Leserpreis Nominee for Allgemeine Literatur (2009)']",
                  "Places": "[['Kabul', '(Afghanistan)'], ['Fremont, California', '(United States)'], ['Afghanistan', '…more\\nPeshawar', '(Pakistan)'], ['…less']]",
                  "_deepnote_index_column": 7
                },
                {
                  "Title": "The Help",
                  "Author": "Kathryn Stockett",
                  "Number of Ratings": 2265115,
                  "Number of Reviews": 85526,
                  "Average Ratings": 4,
                  "Number of Pages": "464.0",
                  "Published Year": 2009,
                  "Series": "0.0",
                  "Genres": "['Fantasy', 'Young Adult', 'Fiction']",
                  "Awards": "['Orange Prize Nominee for Fiction Longlist (2010)', 'Audie Award for Fiction (2010)', 'Exclusive Books Boeke Prize (2009)', 'SIBA Book Award for Fiction (2010)', 'Indies Choice Book Award for Adult Debut (2010)', 'Puddly Award for Fiction (2011)', 'Lincoln Award Nominee (2013)', 'Grand Prix des lectrices de Elle for roman (2011)', 'Goodreads Choice Award for Fiction (2009) and Nominee for Best of the Best  (2018)', 'Townsend Prize for Fiction (2010)']",
                  "Places": "[['Jackson, Mississippi,\\n1962', '(United States)'], ['Jackson, Mississippi', '(United States)'], ['Mississippi', '(United States)']]",
                  "_deepnote_index_column": 8
                },
                {
                  "Title": "A Thousand Splendid Suns",
                  "Author": "Khaled Hosseini",
                  "Number of Ratings": 1207753,
                  "Number of Reviews": 56635,
                  "Average Ratings": 4,
                  "Number of Pages": "372.0",
                  "Published Year": 2007,
                  "Series": "0.0",
                  "Genres": "['Fantasy', 'Young Adult', 'Fiction']",
                  "Awards": "['British Book Award for Best Read of the Year (2008)', 'Book Sense Book of the Year Award for Adult Fiction (2008)', 'California Book Award for Fiction (Silver) (2007)', 'Exclusive Books Boeke Prize Nominee (2007)', 'Lincoln Award Nominee (2011)']",
                  "Places": "[['Afghanistan', 'Kabul', '(Afghanistan)'], ['Herat', '(Afghanistan)']]",
                  "_deepnote_index_column": 9
                },
                {
                  "Title": "Catching Fire (The Hunger Games, #2)",
                  "Author": "Suzanne Collins",
                  "Number of Ratings": 2661198,
                  "Number of Reviews": 98722,
                  "Average Ratings": 4,
                  "Number of Pages": "391.0",
                  "Published Year": 2009,
                  "Series": "1.0",
                  "Genres": "['Fantasy', 'Young Adult', 'Fiction']",
                  "Awards": "['Locus Award Nominee for Best Young Adult Book (2010)', 'Golden Duck Award for Young Adult (Hal Clement Award) (2010)', 'Soaring Eagle Book Award (2011)', \"Children's Choice Book Award for Teen Choice Book of the Year (2010)\", 'Indies Choice Book Award for Young Adult (2010)', 'Teen Read Award Nominee for Best Read (2010)', 'DABWAHA Romance Tournament for Best Young Adult (2010)', 'Goodreads Choice Award for Favorite Book and Young Adult Series (2009) and Nominee for Best of the Best  (2018)', 'Premio El Templo de las Mil Puertas Nominee for Mejor novela extranjera perteneciente a saga (2010)']",
                  "Places": "[['District 12, Panem', 'Capitol, Panem', 'Panem', '(United States)']]",
                  "_deepnote_index_column": 10
                },
                {
                  "Title": "Twilight (Twilight, #1)",
                  "Author": "Stephenie Meyer",
                  "Number of Ratings": 5204581,
                  "Number of Reviews": 107216,
                  "Average Ratings": 4,
                  "Number of Pages": "501.0",
                  "Published Year": 2006,
                  "Series": "1.0",
                  "Genres": "['Fantasy', 'Young Adult', 'Fiction']",
                  "Awards": "['Georgia Peach Book Award (2007)', 'Buxtehuder Bulle (2006)', 'Kentucky Bluegrass Award for 9-12 (2007)', 'Prijs van de Kinder- en Jeugdjury Vlaanderen (2008)', 'Books I Loved Best Yearly (BILBY) Awards for Older Readers (2009)', \"West Australian Young Readers' Book Award (WAYRBA) for Older Readers (2008)\", 'Garden State Book Award for Fiction (Grades 9-12) (2008)', 'South Carolina Book Award for Young Adult Book Award (2008)', 'Grand Canyon Reader Award for Teen Book (2008)', 'Maryland Black-Eyed Susan Book Award for High School (2008)', 'Golden Sower Award for Young Adult (2009)', \"Nevada Young Readers' Award for Young Adult Category  (2007)\", \"The Flume: New Hampshire Teen Reader's Choice Award (2007)\", \"Pennsylvania Young Readers' Choice Award for Young Adult (2009)\", 'Rhode Island Teen Book Award (2007)', 'Evergreen Teen Book Award (2008)', 'Michigan Library Association Thumbs Up! Award Nominee (2006)', 'Teen Read Award Nominee for Best All-Time-Fave (2010)', 'Deutscher Jugendliteraturpreis Nominee for Preis der Jugendjury (2007)', 'Iowa High School Book Award (2008)', 'Eliot Rosewater Indiana High School Book Award (2008)', 'Lincoln Award (2008)', 'Literaturpreis der Jury der jungen Leser for Cover (2007)', 'Prix Et-lisez-moi (2008)', 'Missouri Gateway Readers Award (2008)']",
                  "Places": "[['Forks, Washington', '(United States)'], ['Phoenix, Arizona', '(United States)'], ['Washington (state)', '(United States)']]",
                  "_deepnote_index_column": 11
                },
                {
                  "Title": "Water for Elephants",
                  "Author": "Sara Gruen",
                  "Number of Ratings": 1425651,
                  "Number of Reviews": 59311,
                  "Average Ratings": 4,
                  "Number of Pages": "335.0",
                  "Published Year": 2007,
                  "Series": "0.0",
                  "Genres": "['Fantasy', 'Young Adult', 'Fiction']",
                  "Awards": "['Book Sense Book of the Year Award for Adult Fiction (2007)', 'ALA Alex Award (2007)', 'The Quill Award Nominee for General Fiction (2006)', 'LovelyBooks Leserpreis Nominee for Allgemeine Literatur (2009)']",
                  "Places": "[['United States of America', 'Joliet, Illinois,\\n1932', '(United States)'], ['Ithaca, New York,\\n1932', '(United States)']]",
                  "_deepnote_index_column": 12
                },
                {
                  "Title": "The Girl with the Dragon Tattoo (Millennium, #1)",
                  "Author": "Stieg Larsson",
                  "Number of Ratings": 2719687,
                  "Number of Reviews": 69812,
                  "Average Ratings": 4,
                  "Number of Pages": "465.0",
                  "Published Year": 2008,
                  "Series": "1.0",
                  "Genres": "['Fantasy', 'Young Adult', 'Fiction']",
                  "Awards": "['Barry Award for Mystery/Crime Novel Of The Decade (2010)', 'Macavity Award for Best First Mystery Novel (2009)', 'Anthony Award for Best First Novel (2009)', 'Glass Key Award (2006)', 'CWA International Dagger Nominee (2008)', 'Galaxy British Book Awards for Crime Thriller of the Year (2009)', 'Exclusive Books Boeke Prize (2008)', 'Strand Critics Award  Nominee for Best First Novel (2008)']",
                  "Places": "[['Stockholm', '(Sweden)'], ['Hedeby Island', '(Sweden)'], ['Hedestad, Stockholm', '(Sweden)'], ['…more\\nSweden', '…less']]",
                  "_deepnote_index_column": 13
                },
                {
                  "Title": "Life of Pi",
                  "Author": "Yann Martel",
                  "Number of Ratings": 1390191,
                  "Number of Reviews": 47970,
                  "Average Ratings": 4,
                  "Number of Pages": "460.0",
                  "Published Year": 2006,
                  "Series": "0.0",
                  "Genres": "['Fantasy', 'Young Adult', 'Fiction']",
                  "Awards": "['Booker Prize (2002)', 'Bollinger Everyman Wodehouse Prize Nominee for Comic Fiction (2003)', 'Exclusive Books Boeke Prize (2003)', \"Governor General's Literary Awards / Prix littéraires du Gouverneur général Nominee for Fiction (2001)\", 'Lincoln Award Nominee (2005)', 'Deutscher Bücherpreis for Belletristik (2004)', 'CBC Canada Reads Nominee (2003)', 'Luisterboek Award Nominee (2015)', \"QWF (Quebec Writer's Federation) Award for Paragraphe Hugh MacLennan Prize for Fiction (2001)\", 'Asian/Pacific American Award for Literature for Adult Fiction (2003)']",
                  "Places": "[['Pacific Ocean', 'Pondicherry', '(India)'], ['Toronto, Ontario', '(Canada)'], ['…more\\nTomatlan', '(Mexico)'], ['…less']]",
                  "_deepnote_index_column": 14
                },
                {
                  "Title": "The Da Vinci Code (Robert Langdon, #2)",
                  "Author": "Dan Brown",
                  "Number of Ratings": 2010511,
                  "Number of Reviews": 48290,
                  "Average Ratings": 4,
                  "Number of Pages": "489.0",
                  "Published Year": 2006,
                  "Series": "1.0",
                  "Genres": "['Fantasy', 'Young Adult', 'Fiction']",
                  "Awards": "['British Book Award for Book of the Year (2005)', 'Book Sense Book of the Year Award for Adult Fiction (2004)', \"Humo's Gouden Bladwijzer (2004)\", 'Zilveren Vingerafdruk (2004)', \"The Flume: New Hampshire Teen Reader's Choice Award (2006)\", 'Teen Buckeye Book Award (2005)', 'Iowa High School Book Award (2006)', 'Puddly Award for Fiction (2007)', 'Missouri Gateway Readers Award for Adult (2006)']",
                  "Places": "[['Paris', '(France)'], ['London, England', '(United Kingdom)'], ['France', '…more\\nEngland', '(United Kingdom)'], ['United Kingdom', '…less']]",
                  "_deepnote_index_column": 15
                },
                {
                  "Title": "The Lovely Bones",
                  "Author": "Alice Sebold",
                  "Number of Ratings": 2083676,
                  "Number of Reviews": 41249,
                  "Average Ratings": 4,
                  "Number of Pages": "372.0",
                  "Published Year": 2006,
                  "Series": "0.0",
                  "Genres": "['Fantasy', 'Young Adult', 'Fiction']",
                  "Awards": "['Bram Stoker Award for Best First Novel (2002)', 'Orange Prize Nominee for Fiction Longlist (2003)', 'British Book Award for Best Read of the Year (2004)', 'Book Sense Book of the Year Award for Adult Fiction (2003)', 'California Book Award for First Fiction (Silver) (2002)', 'South Carolina Book Award for Young Adult Book Award (2005)', 'Chicago Tribune Heartland Prize for Fiction (2002)', 'Iowa High School Book Award (2005)', 'Puddly Award for Fiction (2003)', 'Eliot Rosewater Indiana High School Book Award (2005)', 'Lincoln Award Nominee (2005)', 'Missouri Gateway Readers Award (2005)']",
                  "Places": "[['Philadelphia, Pennsylvania,\\n1973', '(United States)'], ['Pennsylvania,\\n1973', '(United States)'], ['United States of America,\\n1973']]",
                  "_deepnote_index_column": 16
                },
                {
                  "Title": "The Road",
                  "Author": "Cormac McCarthy",
                  "Number of Ratings": 746309,
                  "Number of Reviews": 47079,
                  "Average Ratings": 4,
                  "Number of Pages": "241.0",
                  "Published Year": 2006,
                  "Series": "0.0",
                  "Genres": "['Fantasy', 'Young Adult', 'Fiction']",
                  "Awards": "['Pulitzer Prize for Fiction (2007)', 'Locus Award Nominee for Best SF Novel (2007)', 'James Tait Black Memorial Prize for Fiction (2006)', 'The Quill Award for General Fiction (2007)', 'Puddly Award for Fiction (2010)', 'National Book Critics Circle Award Nominee for Fiction (2006)', 'Believer Book Award (2006)', 'Tähtivaeltaja Award (2009)', 'Cena Akademie SFFH for Kniha roku (Book of the Year) (2008)', 'Prix des libraires du Québec for Lauréats hors Québec (2009)', 'International Dublin Literary Award Nominee (2008)', 'The Rooster -- The Morning News Tournament of Books (2007)']",
                  "Places": "[['United States of America']]",
                  "_deepnote_index_column": 17
                },
                {
                  "Title": "The Curious Incident of the Dog in the Night-Time",
                  "Author": "Mark Haddon",
                  "Number of Ratings": 1244753,
                  "Number of Reviews": 45588,
                  "Average Ratings": 4,
                  "Number of Pages": "226.0",
                  "Published Year": 2004,
                  "Series": "0.0",
                  "Genres": "['Fantasy', 'Young Adult', 'Fiction']",
                  "Awards": "['Booker Prize Nominee for Longlist (2003)', 'James Tait Black Memorial Prize Nominee for Fiction (2003)', 'Whitbread Award for Novel and Book of the Year (2003)', \"Guardian Children's Fiction Prize (2003)\", 'McKitterick Prize (2004)', 'Los Angeles Times Book Prize for Art Seidenbaum Award for First Fiction (2003)', 'Exclusive Books Boeke Prize (2004)', 'ALA Alex Award (2004)', 'Zilveren Zoen (2004)', 'Lincoln Award Nominee (2006)', \"Commonwealth Writers' Prize for Best First Book Overall (2004)\", 'North East Teenage Book Award Nominee (2004)', 'Carnegie Medal Nominee (2003)', \"Dolly Gray Children's Literature Award (2004)\", 'Premi Protagonista Jove for Categoria 15-16 anys (2006)']",
                  "Places": "[['Swindon, England,\\n1999', '(United Kingdom)'], ['London, England,\\n1999', '(United Kingdom)'], ['England,\\n1999', '(United Kingdom)']]",
                  "_deepnote_index_column": 18
                },
                {
                  "Title": "The Secret Life of Bees",
                  "Author": "Sue Monk Kidd",
                  "Number of Ratings": 1149208,
                  "Number of Reviews": 31189,
                  "Average Ratings": 4,
                  "Number of Pages": "302.0",
                  "Published Year": 2003,
                  "Series": "0.0",
                  "Genres": "['Fantasy', 'Young Adult', 'Fiction']",
                  "Awards": "['Orange Prize Nominee for Fiction Longlist (2002)', 'Book Sense Book of the Year Award for Paperback (2004)', 'Lincoln Award Nominee (2005)', 'Missouri Gateway Readers Award Nominee (2005)', 'LovelyBooks Leserpreis Nominee for Allgemeine Literatur (2009)']",
                  "Places": "[['United States of America', 'South Carolina', '(United States)'], ['Tiburon, South Carolina,\\n1964', '(United States)']]",
                  "_deepnote_index_column": 19
                },
                {
                  "Title": "Middlesex",
                  "Author": "Jeffrey Eugenides",
                  "Number of Ratings": 593719,
                  "Number of Reviews": 23578,
                  "Average Ratings": 4,
                  "Number of Pages": "529.0",
                  "Published Year": 2003,
                  "Series": "0.0",
                  "Genres": "['Fantasy', 'Young Adult', 'Fiction']",
                  "Awards": "['Pulitzer Prize for Fiction (2003)', 'James Tait Black Memorial Prize Nominee for Fiction (2003)', 'Ambassador Book Award for Fiction (2003)', 'Audie Award for Fiction, Unabridged (2003)', 'National Book Critics Circle Award Nominee for Fiction (2002)']",
                  "Places": "[['Bursa', '(Turkey)'], ['Izmir', '(Turkey)'], ['Detroit, Michigan', '(United States)'], ['…more\\nBerlin', '(Germany)'], ['…less']]",
                  "_deepnote_index_column": 20
                },
                {
                  "Title": "Harry Potter Series Box Set (Harry Potter, #1-7)",
                  "Author": "J.K. Rowling",
                  "Number of Ratings": 260224,
                  "Number of Reviews": 7544,
                  "Average Ratings": 5,
                  "Number of Pages": "4100.0",
                  "Published Year": 2007,
                  "Series": "1.0",
                  "Genres": "['Fantasy', 'Young Adult', 'Fiction']",
                  "Awards": "[\"Mythopoeic Fantasy Award for Children's Literature (2008)\"]",
                  "Places": "nan",
                  "_deepnote_index_column": 21
                },
                {
                  "Title": "My Sister's Keeper",
                  "Author": "Jodi Picoult",
                  "Number of Ratings": 1086123,
                  "Number of Reviews": 33880,
                  "Average Ratings": 4,
                  "Number of Pages": "423.0",
                  "Published Year": 2005,
                  "Series": "0.0",
                  "Genres": "['Fantasy', 'Young Adult', 'Fiction']",
                  "Awards": "['Audie Award for Multi-Voiced Performance (2005)', \"Pennsylvania Young Readers' Choice Award for Young Adults (2007)\", 'ALA Alex Award (2005)', 'Lincoln Award (2006)', 'Green Mountain Book Award (2007)', 'Missouri Gateway Readers Award Nominee (2007)']",
                  "Places": "[['United States of America', 'Providence, Rhode Island', '(United States)'], ['Rhode Island', '(United States)']]",
                  "_deepnote_index_column": 22
                },
                {
                  "Title": "The Lightning Thief (Percy Jackson and the Olympians, #1)",
                  "Author": "Rick Riordan",
                  "Number of Ratings": 2124535,
                  "Number of Reviews": 64811,
                  "Average Ratings": 4,
                  "Number of Pages": "377.0",
                  "Published Year": 2006,
                  "Series": "1.0",
                  "Genres": "['Fantasy', 'Young Adult', 'Fiction']",
                  "Awards": "[\"Young Readers' Choice Award (2008)\", 'Books I Loved Best Yearly (BILBY) Awards for Older Readers (2011)', 'South Carolina Book Award for Junior Book Award (2008)', 'Grand Canyon Reader Award for Tween Book (2008)', 'Nene Award (2008)', \"Massachusetts Children's Book Award (2008)\", \"Pennsylvania Young Readers' Choice Award for Grades 6-8 (2008)\", 'Rhode Island Teen Book Award Nominee (2007)', 'Sunshine State Young Readers Award for Grades 6-8 (2007)', \"Pacific Northwest Library Association Young Reader's Choice Award for Intermediate (2008)\", 'Iowa Teen Award (2009)', 'Lincoln Award Nominee (2009)', 'Oklahoma Sequoyah Award for YA (2008)', \"Rebecca Caudill Young Readers' Book Award (2009)\"]",
                  "Places": "[['New York City, New York', '(United States)'], ['Montauk, New York', '(United States)'], ['New Jersey', '(United States)'], ['…more\\nSt. Louis, Missouri', '(United States)'], ['Las Vegas, Nevada', '(United States)'], ['Long Island, New York', '(United States)'], ['…less']]",
                  "_deepnote_index_column": 23
                },
                {
                  "Title": "The Glass Castle",
                  "Author": "Jeannette Walls",
                  "Number of Ratings": 951630,
                  "Number of Reviews": 52482,
                  "Average Ratings": 4,
                  "Number of Pages": "nan",
                  "Published Year": 2006,
                  "Series": "0.0",
                  "Genres": "['Fantasy', 'Young Adult', 'Fiction']",
                  "Awards": "['ALA Alex Award (2006)', 'Lincoln Award Nominee (2008)']",
                  "Places": "[['New York City, New York', '(United States)'], ['West Virginia', '(United States)']]",
                  "_deepnote_index_column": 24
                },
                {
                  "Title": "Breaking Dawn (Twilight, #4)",
                  "Author": "Stephenie Meyer",
                  "Number of Ratings": 1387757,
                  "Number of Reviews": 47824,
                  "Average Ratings": 4,
                  "Number of Pages": "756.0",
                  "Published Year": 2008,
                  "Series": "1.0",
                  "Genres": "['Fantasy', 'Young Adult', 'Fiction']",
                  "Awards": "[\"Children's Choice Book Award for Teen Choice Book of the Year (2009)\", 'LovelyBooks Leserpreis Nominee for Allgemeine Literatur (2009)', 'LovelyBooks Leserpreis for Romantik/Liebe/Gefühl (2009)']",
                  "Places": "[['Forks, Washington', '(United States)'], ['Washington (state)', '(United States)']]",
                  "_deepnote_index_column": 25
                },
                {
                  "Title": "Atonement",
                  "Author": "Ian McEwan",
                  "Number of Ratings": 454556,
                  "Number of Reviews": 17835,
                  "Average Ratings": 4,
                  "Number of Pages": "351.0",
                  "Published Year": 2003,
                  "Series": "0.0",
                  "Genres": "['Fantasy', 'Young Adult', 'Fiction']",
                  "Awards": "['Booker Prize Nominee (2001)', 'James Tait Black Memorial Prize Nominee for Fiction (2001)', 'Whitbread Award Nominee for Novel (2001)', 'WH Smith Literary Award (2002)', 'Los Angeles Times Book Prize for Fiction (2002)', 'Exclusive Books Boeke Prize (2002)', 'National Book Critics Circle Award for Fiction (2002)', \"Commonwealth Writers' Prize for Best Book in South Asia and Europe (2002)\", 'Deutscher Bücherpreis for Internationale Belletristik (2003)', 'Premi Llibreter de narrativa Nominee (2003)', 'International Dublin Literary Award Nominee (2003)']",
                  "Places": "[['England', '(United Kingdom)'], ['France', 'London, England', '(United Kingdom)'], ['…more\\nUnited Kingdom', '…less']]",
                  "_deepnote_index_column": 26
                },
                {
                  "Title": "Eclipse (The Twilight Saga, #3)",
                  "Author": "Stephenie Meyer",
                  "Number of Ratings": 1492643,
                  "Number of Reviews": 38619,
                  "Average Ratings": 4,
                  "Number of Pages": "629.0",
                  "Published Year": 2007,
                  "Series": "1.0",
                  "Genres": "['Fantasy', 'Young Adult', 'Fiction']",
                  "Awards": "['Colorado Blue Spruce Young Adult Book Award (2009)', 'Teen Buckeye Book Award (2008)']",
                  "Places": "[['Forks, Washington', '(United States)'], ['Washington (state)', '(United States)'], ['La Push, Washington', '(United States)']]",
                  "_deepnote_index_column": 27
                },
                {
                  "Title": "The Shadow of the Wind (The Cemetery of Forgotten Books, #1)",
                  "Author": "Carlos Ruiz Zafón",
                  "Number of Ratings": 495484,
                  "Number of Reviews": 38211,
                  "Average Ratings": 4,
                  "Number of Pages": "487.0",
                  "Published Year": 2005,
                  "Series": "1.0",
                  "Genres": "['Fantasy', 'Young Adult', 'Fiction']",
                  "Awards": "['Barry Award for Best First Novel (2005)', 'Gumshoe Award Nominee for Best European Crime Novel (2005)', 'Borders Original Voices Award for Fiction (2004)', 'Dilys Award Nominee (2005)', \"Humo's Gouden Bladwijzer (2006)\", 'Prix du Meilleur Livre Étranger for Roman (2004)', 'Prix des libraires du Québec for Lauréats hors Québec (2005)', 'One Book One San Diego (2015)', 'Premi Llibreter de narrativa Nominee (2002)']",
                  "Places": "[['Spain', 'Barcelona, Catalonia', '(Spain)']]",
                  "_deepnote_index_column": 28
                },
                {
                  "Title": "Angels & Demons (Robert Langdon, #1)",
                  "Author": "Dan Brown",
                  "Number of Ratings": 2778175,
                  "Number of Reviews": 29841,
                  "Average Ratings": 4,
                  "Number of Pages": "736.0",
                  "Published Year": 2006,
                  "Series": "1.0",
                  "Genres": "['Fantasy', 'Young Adult', 'Fiction']",
                  "Awards": "[\"Humo's Gouden Bladwijzer (2005)\"]",
                  "Places": "[['Rome', '(Italy)'], ['Vatican City', '(Italy)'], ['Italy']]",
                  "_deepnote_index_column": 29
                },
                {
                  "Title": "American Gods (American Gods, #1)",
                  "Author": "Neil Gaiman",
                  "Number of Ratings": 793298,
                  "Number of Reviews": 39880,
                  "Average Ratings": 4,
                  "Number of Pages": "635.0",
                  "Published Year": 2011,
                  "Series": "nan",
                  "Genres": "['Fantasy', 'Young Adult', 'Fiction']",
                  "Awards": "['Bram Stoker Award for Best Novel (2001)', 'Hugo Award for Best Novel (2002)', 'Nebula Award for Best Novel (2002)', 'Locus Award for Best Fantasy Novel (2002)', 'International Horror Guild Award Nominee for Best Novel (2001)', 'World Fantasy Award Nominee for Best Novel (2002)', 'SFX Award for Best Novel (2002)', 'Geffen Award (2003)', 'Mythopoeic Fantasy Award Nominee for Adult Literature (2002)', 'British Science Fiction Association Award Nominee for Best Novel (2001)', \"Grand Prix de l'Imaginaire Nominee for Roman étranger (2003)\", 'Prix Bob Morane for roman traduit (2003)', 'British Fantasy Award Nominee for Best Novel (August Derlith Fantasy Award) (2002)']",
                  "Places": "[['United States of America', 'Chicago, Illinois', '(United States)'], ['Chattanooga, Tennessee', '(United States)'], ['…more\\nMinnesota', '(United States)'], ['Wisconsin', '(United States)'], ['Illinois', '(United States)'], ['…less']]",
                  "_deepnote_index_column": 30
                },
                {
                  "Title": "New Moon (Twilight, #2)",
                  "Author": "Stephenie Meyer",
                  "Number of Ratings": 1540536,
                  "Number of Reviews": 48751,
                  "Average Ratings": 4,
                  "Number of Pages": "563.0",
                  "Published Year": 2006,
                  "Series": "1.0",
                  "Genres": "['Fantasy', 'Young Adult', 'Fiction']",
                  "Awards": "['Books I Loved Best Yearly (BILBY) Awards for Older Readers (2010)', 'South Carolina Book Award for Young Adult Book Award (2009)', \"The Flume: New Hampshire Teen Reader's Choice Award (2008)\", 'Soaring Eagle Book Award (2007)', \"Pacific Northwest Library Association Young Reader's Choice Award for Senior (2009)\"]",
                  "Places": "[['Forks, Washington', '(United States)'], ['La Push, Washington', '(United States)'], ['Volterra', '(Italy)'], ['…more\\nWashington (state)', '(United States)'], ['…less']]",
                  "_deepnote_index_column": 31
                },
                {
                  "Title": "The Host",
                  "Author": "Stephenie Meyer",
                  "Number of Ratings": 923959,
                  "Number of Reviews": 41836,
                  "Average Ratings": 4,
                  "Number of Pages": "619.0",
                  "Published Year": 2008,
                  "Series": "1.0",
                  "Genres": "['Fantasy', 'Young Adult', 'Fiction']",
                  "Awards": "[]",
                  "Places": "[['Arizona', '(United States)'], [''], ['', 'Other Editions (183)'], [''], [''], [''], [''], [''], [''], [''], [''], [''], [''], [''], ['All Editions', ' | ', 'Add a New Edition', ' | ', 'Combine']]",
                  "_deepnote_index_column": 32
                },
                {
                  "Title": "City of Bones (The Mortal Instruments, #1)",
                  "Author": "Cassandra Clare",
                  "Number of Ratings": 1692450,
                  "Number of Reviews": 64127,
                  "Average Ratings": 4,
                  "Number of Pages": "485.0",
                  "Published Year": 2007,
                  "Series": "1.0",
                  "Genres": "['Fantasy', 'Young Adult', 'Fiction']",
                  "Awards": "['Locus Award Nominee for Best First Novel (2008)', 'Georgia Peach Book Award Nominee for Honor book (2009)', 'South Carolina Book Award Nominee for Young Adult Book Award (2010)', \"Pacific Northwest Library Association Young Reader's Choice Award (2010)\", 'Lincoln Award (2010)']",
                  "Places": "[['New York City, New York,\\n2007', '(United States)']]",
                  "_deepnote_index_column": 33
                },
                {
                  "Title": "The Girl Who Played with Fire (Millennium, #2)",
                  "Author": "Stieg Larsson",
                  "Number of Ratings": 833907,
                  "Number of Reviews": 34577,
                  "Average Ratings": 4,
                  "Number of Pages": "503.0",
                  "Published Year": 2009,
                  "Series": "1.0",
                  "Genres": "['Fantasy', 'Young Adult', 'Fiction']",
                  "Awards": "['Anthony Award Nominee for Best Novel (2010)', 'Dilys Award Nominee (2010)', 'CWA International Dagger Nominee (2009)', 'Svenska Deckarakademins pris för bästa svenska kriminalroman (2006)', 'Goodreads Choice Award for Mystery/Thriller (2009)']",
                  "Places": "[['Stockholm', '(Sweden)'], ['Sweden']]",
                  "_deepnote_index_column": 34
                },
                {
                  "Title": "The Five People You Meet in Heaven",
                  "Author": "Mitch Albom",
                  "Number of Ratings": 598813,
                  "Number of Reviews": 21493,
                  "Average Ratings": 4,
                  "Number of Pages": "196.0",
                  "Published Year": 2003,
                  "Series": "1.0",
                  "Genres": "['Fantasy', 'Young Adult', 'Fiction']",
                  "Awards": "['Lincoln Award Nominee (2008)']",
                  "Places": "[['United States of America']]",
                  "_deepnote_index_column": 35
                },
                {
                  "Title": "Extremely Loud & Incredibly Close",
                  "Author": "Jonathan Safran Foer",
                  "Number of Ratings": 390473,
                  "Number of Reviews": 23597,
                  "Average Ratings": 4,
                  "Number of Pages": "326.0",
                  "Published Year": 2006,
                  "Series": "0.0",
                  "Genres": "['Fantasy', 'Young Adult', 'Fiction']",
                  "Awards": "['Prix des libraires du Québec for Lauréats hors Québec (2007)', 'Luisterboek Award (2009)', 'LovelyBooks Leserpreis Nominee for Allgemeine Literatur (2009)']",
                  "Places": "[['New York City, New York,\\n2003', '(United States)'], ['Dresden,\\n1945', '(Germany)']]",
                  "_deepnote_index_column": 36
                },
                {
                  "Title": "Looking for Alaska",
                  "Author": "John Green",
                  "Number of Ratings": 1177191,
                  "Number of Reviews": 57834,
                  "Average Ratings": 4,
                  "Number of Pages": "221.0",
                  "Published Year": 2006,
                  "Series": "0.0",
                  "Genres": "['Fantasy', 'Young Adult', 'Fiction']",
                  "Awards": "['Los Angeles Times Book Prize Nominee for Young Adult Fiction (2005)', 'Michael L. Printz Award (2006)', 'Rhode Island Teen Book Award Nominee (2007)', 'Michigan Library Association Thumbs Up! Award Nominee (2006)', 'Deutscher Jugendliteraturpreis Nominee for Jugendbuch (2008)', 'The Inky Awards for Silver Inky (2007)', 'Lincoln Award Nominee (2009)', 'Bronzener Lufti (2007)', 'Green Mountain Book Award (2008)', 'The Inky Awards Shortlist for Silver Inky (2007)', 'Alabama Author Award for Young Adult (2006)', 'Premio El Templo de las Mil Puertas Nominee for Mejor novela extranjera independiente (2014)']",
                  "Places": "[['Alabama', '(United States)']]",
                  "_deepnote_index_column": 37
                },
                {
                  "Title": "Never Let Me Go",
                  "Author": "Kazuo Ishiguro",
                  "Number of Ratings": 506546,
                  "Number of Reviews": 33700,
                  "Average Ratings": 4,
                  "Number of Pages": "288.0",
                  "Published Year": 2010,
                  "Series": "0.0",
                  "Genres": "['Fantasy', 'Young Adult', 'Fiction']",
                  "Awards": "['Booker Prize Nominee (2005)', 'Locus Award Nominee for Best SF Novel (2006)', 'Arthur C. Clarke Award Nominee (2006)', 'James Tait Black Memorial Prize Nominee for Fiction (2005)', 'ALA Alex Award (2006)', 'National Book Critics Circle Award Nominee for Fiction (2005)', 'Corine Internationaler Buchpreis for Belletristik (2006)', 'International Dublin Literary Award Nominee (2007)']",
                  "Places": "[['Hailsham', '(United Kingdom)'], ['Norfolk, England', 'The Cottages', '(United Kingdom)'], ['…more\\nKingsfield', '(United Kingdom)'], ['…less']]",
                  "_deepnote_index_column": 38
                },
                {
                  "Title": "The Guernsey Literary and Potato Peel Pie Society",
                  "Author": "Mary Ann Shaffer",
                  "Number of Ratings": 639796,
                  "Number of Reviews": 55588,
                  "Average Ratings": 4,
                  "Number of Pages": "291.0",
                  "Published Year": 2018,
                  "Series": "0.0",
                  "Genres": "['Fantasy', 'Young Adult', 'Fiction']",
                  "Awards": "['Indies Choice Book Award for Best Indie Buzz Book (Fiction) (2009)', 'LovelyBooks Leserpreis Nominee for Allgemeine Literatur (2009)']",
                  "Places": "[['United Kingdom,\\n1946', '    \\nGuernsey,\\n1946']]",
                  "_deepnote_index_column": 39
                },
                {
                  "Title": "Eat, Pray, Love",
                  "Author": "Elizabeth Gilbert",
                  "Number of Ratings": 1531375,
                  "Number of Reviews": 54589,
                  "Average Ratings": 4,
                  "Number of Pages": "368.0",
                  "Published Year": 2007,
                  "Series": "0.0",
                  "Genres": "['Fantasy', 'Young Adult', 'Fiction']",
                  "Awards": "['Puddly Award for Nonfiction (2008)']",
                  "Places": "[['Italy', 'India', 'Bali', '(Indonesia)']]",
                  "_deepnote_index_column": 40
                },
                {
                  "Title": "The Name of the Wind (The Kingkiller Chronicle, #1)",
                  "Author": "Patrick Rothfuss",
                  "Number of Ratings": 759785,
                  "Number of Reviews": 43979,
                  "Average Ratings": 4,
                  "Number of Pages": "662.0",
                  "Published Year": 2007,
                  "Series": "1.0",
                  "Genres": "['Fantasy', 'Young Adult', 'Fiction']",
                  "Awards": "['Locus Award Nominee for Best First Novel and Best Fantasy Novel (2008)', 'Compton Crook Award Nominee (2008)', \"Grand Prix de l'Imaginaire Nominee for Roman étranger and Traduction (2010)\", 'ALA Alex Award (2008)', 'The Quill Award for Science Fiction/Fantasy/Horror (2007)', 'Sakura Medal for High School Book (2009)', 'Premio Ignotus Nominee for Mejor novela extranjera (Best Foreign Novel) (2010)', 'Tähtifantasia Award Nominee (2011)']",
                  "Places": "nan",
                  "_deepnote_index_column": 41
                },
                {
                  "Title": "The Thirteenth Tale",
                  "Author": "Diane Setterfield",
                  "Number of Ratings": 281367,
                  "Number of Reviews": 23483,
                  "Average Ratings": 4,
                  "Number of Pages": "406.0",
                  "Published Year": 2006,
                  "Series": "0.0",
                  "Genres": "['Fantasy', 'Young Adult', 'Fiction']",
                  "Awards": "['Dilys Award Nominee (2007)', 'ALA Alex Award (2007)', 'The Quill Award for Debut Author (2007)']",
                  "Places": "[['Angelfield', '(United Kingdom)']]",
                  "_deepnote_index_column": 42
                },
                {
                  "Title": "Bel Canto",
                  "Author": "Ann Patchett",
                  "Number of Ratings": 248825,
                  "Number of Reviews": 15616,
                  "Average Ratings": 4,
                  "Number of Pages": "318.0",
                  "Published Year": 2005,
                  "Series": "0.0",
                  "Genres": "['Fantasy', 'Young Adult', 'Fiction']",
                  "Awards": "['Orange Prize for Fiction (2002)', 'Book Sense Book of the Year Award for Paperback (2003)', 'PEN/Faulkner Award for Fiction (2002)', 'National Book Critics Circle Award Nominee for Fiction (2001)', 'International Dublin Literary Award Nominee for Shortlist (2003)']",
                  "Places": "nan",
                  "_deepnote_index_column": 43
                },
                {
                  "Title": "The Amazing Adventures of Kavalier & Clay",
                  "Author": "Michael Chabon",
                  "Number of Ratings": 187435,
                  "Number of Reviews": 11123,
                  "Average Ratings": 4,
                  "Number of Pages": "639.0",
                  "Published Year": 2001,
                  "Series": "0.0",
                  "Genres": "['Fantasy', 'Young Adult', 'Fiction']",
                  "Awards": "['Pulitzer Prize for Fiction (2001)', 'PEN/Faulkner Award for Fiction Nominee (2001)', 'Gaylactic Spectrum Award Nominee for Best Novel (2001)', 'California Book Award for Fiction (Gold) (2000)', 'Los Angeles Times Book Prize Nominee for Fiction (2000)', 'New York City Book Award for Fiction (2000)', 'National Book Critics Circle Award Nominee for Fiction (2000)']",
                  "Places": "[['Brooklyn, New York City, New York', '(United States)'], ['Prague (Praha)', '(Czech Republic)'], ['New York State', '(United States)'], ['…more\\nNew York City, New York', '(United States)'], ['Flatbush, Brooklyn, New York', '(United States)'], ['…less']]",
                  "_deepnote_index_column": 44
                }
              ],
              "rows_bottom": [
                {
                  "Title": "Vampire Academy (Vampire Academy, #1)",
                  "Author": "Richelle Mead",
                  "Number of Ratings": 573677,
                  "Number of Reviews": 22653,
                  "Average Ratings": 4,
                  "Number of Pages": "332.0",
                  "Published Year": "2007.0",
                  "Series": "1.0",
                  "Genres": "['Fantasy', 'Young Adult', 'Fiction']",
                  "Awards": "[]",
                  "Places": "[['Montana', '(United States)'], [''], ['', 'Other Editions (75)'], [''], [''], [''], [''], [''], [''], [''], [''], [''], [''], [''], ['All Editions', ' | ', 'Add a New Edition', ' | ', 'Combine']]",
                  "_deepnote_index_column": 55
                },
                {
                  "Title": "Coraline",
                  "Author": "Neil Gaiman",
                  "Number of Ratings": 517337,
                  "Number of Reviews": 22682,
                  "Average Ratings": 4,
                  "Number of Pages": "162.0",
                  "Published Year": "2006.0",
                  "Series": "0.0",
                  "Genres": "['Fantasy', 'Young Adult', 'Fiction']",
                  "Awards": "['Bram Stoker Award for Best Work for Young Readers (2002)', 'Hugo Award for Best Novella (2003)', 'Nebula Award for Best Novella (2003)', 'Locus Award for Best Young Adult Novel (2003)', 'World Fantasy Award Nominee for Best Novella (2003)', \"Mythopoeic Fantasy Award Nominee for Children's Literature (2003)\", \"Dorothy Canfield Fisher Children's Book Award Nominee (2004)\", 'Child Magazine Best Book of the Year', 'Will Eisner Comic Industry Awards for Best Publication for Teens/Tweens (2009)', 'Elizabeth Burr / Worzalla Award (2003)', 'Premi Protagonista Jove Nominee for Categoria 13-14 anys (2004)']",
                  "Places": "[['England', '(United Kingdom)']]",
                  "_deepnote_index_column": 56
                },
                {
                  "Title": "The Graveyard Book",
                  "Author": "Neil Gaiman",
                  "Number of Ratings": 460630,
                  "Number of Reviews": 32749,
                  "Average Ratings": 4,
                  "Number of Pages": "307.0",
                  "Published Year": "2008.0",
                  "Series": "0.0",
                  "Genres": "['Fantasy', 'Young Adult', 'Fiction']",
                  "Awards": "['Hugo Award for Best Novel (2009)', 'Newbery Medal (2009)', 'Locus Award for Best Young Adult Novel (2009)', 'World Fantasy Award Nominee for Best Novel (2009)', \"Mythopoeic Fantasy Award Nominee for Children's Literature (2009)\", 'Audie Award for Audiobook of the Year (2009)', \"Dorothy Canfield Fisher Children's Book Award Nominee (2010)\", 'Michigan Library Association Thumbs Up! Award Nominee (2009)', 'Indies Choice Book Award for Best Indie Young Adult Buzz Book (Fiction): (2009)', 'Amelia Elizabeth Walden Award Nominee (2009)', 'British Fantasy Award Nominee for Best Novel (2009)', 'CYBILS Award for Middle Grade Fantasy & Science Fiction (2008)', 'Carnegie Medal (2010)', 'Elizabeth Burr / Worzalla Award (2009)', 'Premio El Templo de las Mil Puertas for Mejor novela extranjera independiente (2009)', \"Rebecca Caudill Young Readers' Book Award Nominee (2013)\"]",
                  "Places": "[['England', '(United Kingdom)'], ['United Kingdom', 'Old Town', '(United Kingdom)']]",
                  "_deepnote_index_column": 57
                },
                {
                  "Title": "Jonathan Strange & Mr Norrell",
                  "Author": "Susanna Clarke",
                  "Number of Ratings": 210715,
                  "Number of Reviews": 14676,
                  "Average Ratings": 4,
                  "Number of Pages": "1006.0",
                  "Published Year": "2006.0",
                  "Series": "0.0",
                  "Genres": "['Fantasy', 'Young Adult', 'Fiction']",
                  "Awards": "['Hugo Award for Best Novel (2005)', 'Booker Prize Nominee for Longlist (2004)', 'Nebula Award Nominee for Best Novel (2005)', 'Locus Award for Best First Novel and Nominee for Best Fantasy Novel (2005)', 'Guardian First Book Award Nominee (2004)', 'World Fantasy Award for Best Novel (2005)', 'Mythopoeic Fantasy Award for Adult Literature (2005)', 'Book Sense Book of the Year Award for Adult Fiction (2005)', 'British Fantasy Award Nominee for Best Novel (2005)', 'Cena Akademie SFFH for Kniha roku (Book of the Year) (2007)']",
                  "Places": "[['United Kingdom,\\n1806']]",
                  "_deepnote_index_column": 58
                },
                {
                  "Title": "Freakonomics: A Rogue Economist Explores the Hidden Side of Everything",
                  "Author": "Steven D. Levitt",
                  "Number of Ratings": 741249,
                  "Number of Reviews": 16799,
                  "Average Ratings": 4,
                  "Number of Pages": "320.0",
                  "Published Year": "2006.0",
                  "Series": "1.0",
                  "Genres": "['Fantasy', 'Young Adult', 'Fiction']",
                  "Awards": "['Book Sense Book of the Year Award for Adult Nonfiction (2006)', 'Financial Times and McKinsey Business Book of the Year Nominee for Shortlist (2005)', 'The Quill Award for Business (2005)']",
                  "Places": "nan",
                  "_deepnote_index_column": 59
                },
                {
                  "Title": "Nineteen Minutes",
                  "Author": "Jodi Picoult",
                  "Number of Ratings": 309753,
                  "Number of Reviews": 16206,
                  "Average Ratings": 4,
                  "Number of Pages": "440.0",
                  "Published Year": "2007.0",
                  "Series": "0.0",
                  "Genres": "['Fantasy', 'Young Adult', 'Fiction']",
                  "Awards": "['Iowa High School Book Award (2010)', 'Lincoln Award Nominee (2010)', 'LovelyBooks Leserpreis Nominee for Allgemeine Literatur (2009)']",
                  "Places": "[['New Hampshire', '(United States)']]",
                  "_deepnote_index_column": 60
                },
                {
                  "Title": "Kafka on the Shore",
                  "Author": "Haruki Murakami",
                  "Number of Ratings": 330225,
                  "Number of Reviews": 23404,
                  "Average Ratings": 4,
                  "Number of Pages": "467.0",
                  "Published Year": "2006.0",
                  "Series": "0.0",
                  "Genres": "['Fantasy', 'Young Adult', 'Fiction']",
                  "Awards": "['World Fantasy Award for Best Novel (2006)', 'Los Angeles Times Book Prize Nominee for Fiction (2005)', 'Independent Foreign Fiction Prize Nominee for Longlist (2006)', 'PEN Translation Prize for Philip Gabriel (2006)', 'Deutscher Jugendliteraturpreis Nominee for Preis der Jugendjury (2005)', 'Tähtifantasia Award (2010)', 'Βραβείο Βιβλίου Public for Μεταφρασμένο μυθιστόρημα της χρονιάς (Translator: Αργυρώ Μαντόγλου) (2016)']",
                  "Places": "[['Takamatsu', '(Japan)']]",
                  "_deepnote_index_column": 61
                },
                {
                  "Title": "Everything Is Illuminated",
                  "Author": "Jonathan Safran Foer",
                  "Number of Ratings": 169263,
                  "Number of Reviews": 7960,
                  "Average Ratings": 4,
                  "Number of Pages": "276.0",
                  "Published Year": "2003.0",
                  "Series": "0.0",
                  "Genres": "['Fantasy', 'Young Adult', 'Fiction']",
                  "Awards": "[]",
                  "Places": "[['Ukraine', 'Trochenbrod', '(Ukraine)'], ['Odessa', '(Ukraine)'], ['…more\\nLviv', '(Ukraine)'], ['…less']]",
                  "_deepnote_index_column": 62
                },
                {
                  "Title": "The Last Lecture",
                  "Author": "Randy Pausch",
                  "Number of Ratings": 314346,
                  "Number of Reviews": 17572,
                  "Average Ratings": 4,
                  "Number of Pages": "206.0",
                  "Published Year": "nan",
                  "Series": "0.0",
                  "Genres": "['Fantasy', 'Young Adult', 'Fiction']",
                  "Awards": "['Audie Award for Biography/Memoir (2009)']",
                  "Places": "nan",
                  "_deepnote_index_column": 63
                },
                {
                  "Title": "Three Cups of Tea: One Man's Mission to Promote Peace ... One School at a Time",
                  "Author": "Greg Mortenson",
                  "Number of Ratings": 334318,
                  "Number of Reviews": 22202,
                  "Average Ratings": 4,
                  "Number of Pages": "349.0",
                  "Published Year": "2007.0",
                  "Series": "0.0",
                  "Genres": "['Fantasy', 'Young Adult', 'Fiction']",
                  "Awards": "['Dayton Literary Peace Prize Nominee for Nonfiction (2007)', 'Puddly Award for Nonfiction (2010)', 'Montana Book Award Nominee (2006)', 'Kiriyama Prize for Nonfiction (2007)', 'One Book One San Diego (2008)']",
                  "Places": "[['(Pakistan)']]",
                  "_deepnote_index_column": 64
                },
                {
                  "Title": "The Memory Keeper's Daughter",
                  "Author": "Kim Edwards",
                  "Number of Ratings": 570046,
                  "Number of Reviews": 19511,
                  "Average Ratings": 4,
                  "Number of Pages": "401.0",
                  "Published Year": "2006.0",
                  "Series": "0.0",
                  "Genres": "['Fantasy', 'Young Adult', 'Fiction']",
                  "Awards": "[]",
                  "Places": "[['Pittsburgh, Pennsylvania,\\n1970', '(United States)'], ['Lexington, Kentucky,\\n1964', '(United States)'], ['Paris,\\n1988', '(France)'], [''], ['', 'Other Editions (117)'], [''], [''], [''], [''], [''], [''], [''], [''], [''], [''], [''], ['All Editions', ' | ', 'Add a New Edition', ' | ', 'Combine']]",
                  "_deepnote_index_column": 65
                },
                {
                  "Title": "The Brief Wondrous Life of Oscar Wao",
                  "Author": "Junot Díaz",
                  "Number of Ratings": 238116,
                  "Number of Reviews": 19718,
                  "Average Ratings": 4,
                  "Number of Pages": "335.0",
                  "Published Year": "2007.0",
                  "Series": "0.0",
                  "Genres": "['Fantasy', 'Young Adult', 'Fiction']",
                  "Awards": "['Pulitzer Prize for Fiction (2008)', 'Anisfield-Wolf Book Award (2008)', 'Massachusetts Book Award for Fiction (2008)', 'Los Angeles Times Book Prize Nominee for Fiction (2007)', 'Dayton Literary Peace Prize for Fiction (2008)', 'National Book Critics Circle Award for Fiction (2007)', 'Hurston/Wright Legacy Award for Fiction (2008)', 'The Center for Fiction First Novel Prize (2007)', 'International Dublin Literary Award Nominee (2009)', 'The Rooster -- The Morning News Tournament of Books (2008)']",
                  "Places": "[['Dominican Republic', 'Washington Heights, New York', '(United States)'], ['Paterson, New Jersey', '(United States)'], ['…more\\nRutgers University, New Brunswick, New Jersey (United States)', 'Santo Domingo', '(Dominican Republic)'], ['Baní', '(Dominican Republic)'], ['Samaná', '(Dominican Republic)'], ['Santiago, Dominican Republic', '…less']]",
                  "_deepnote_index_column": 66
                },
                {
                  "Title": "The Namesake",
                  "Author": "Jhumpa Lahiri",
                  "Number of Ratings": 241066,
                  "Number of Reviews": 12298,
                  "Average Ratings": 4,
                  "Number of Pages": "291.0",
                  "Published Year": "2004.0",
                  "Series": "0.0",
                  "Genres": "['Fantasy', 'Young Adult', 'Fiction']",
                  "Awards": "['Orange Prize Nominee for Fiction Longlist (2004)', 'Los Angeles Times Book Prize Nominee for Fiction (2003)']",
                  "Places": "nan",
                  "_deepnote_index_column": 67
                },
                {
                  "Title": "Persepolis: The Story of a Childhood (Persepolis, #1)",
                  "Author": "Marjane Satrapi",
                  "Number of Ratings": 167153,
                  "Number of Reviews": 9377,
                  "Average Ratings": 4,
                  "Number of Pages": "153.0",
                  "Published Year": "2004.0",
                  "Series": "1.0",
                  "Genres": "['Fantasy', 'Young Adult', 'Fiction']",
                  "Awards": "['Harvey Awards for Best US Edition of Foreign Material (2004)', 'ALA Alex Award (2004)', \"Prix du Festival d'Angoulême for Alph-art du coup de coeur (2001)\"]",
                  "Places": "[['Iran, Islamic Republic of', 'Tehran,\\n1980', '(Iran)'], ['Persia']]",
                  "_deepnote_index_column": 68
                },
                {
                  "Title": "The Art of Racing in the Rain",
                  "Author": "Garth Stein",
                  "Number of Ratings": 464242,
                  "Number of Reviews": 39616,
                  "Average Ratings": 4,
                  "Number of Pages": "321.0",
                  "Published Year": "2008.0",
                  "Series": "0.0",
                  "Genres": "['Fantasy', 'Young Adult', 'Fiction']",
                  "Awards": "[]",
                  "Places": "[['Seattle, Washington', '(United States)'], [''], ['', 'Other Editions (120)'], [''], [''], [''], [''], [''], [''], [''], [''], [''], [''], [''], ['All Editions', ' | ', 'Add a New Edition', ' | ', 'Combine']]",
                  "_deepnote_index_column": 69
                },
                {
                  "Title": "Oryx and Crake (MaddAddam, #1)",
                  "Author": "Margaret Atwood",
                  "Number of Ratings": 231252,
                  "Number of Reviews": 13954,
                  "Average Ratings": 4,
                  "Number of Pages": "389.0",
                  "Published Year": "2004.0",
                  "Series": "1.0",
                  "Genres": "['Fantasy', 'Young Adult', 'Fiction']",
                  "Awards": "['Booker Prize Nominee (2003)', 'Orange Prize Nominee for Fiction Shortlist (2004)', 'Sunburst Award Nominee for Canadian Novel (2004)', 'Scotiabank Giller Prize Nominee (2003)', \"Grand Prix de l'Imaginaire Nominee for Roman étranger (2006)\"]",
                  "Places": "nan",
                  "_deepnote_index_column": 70
                },
                {
                  "Title": "The Corrections",
                  "Author": "Jonathan Franzen",
                  "Number of Ratings": 162415,
                  "Number of Reviews": 9612,
                  "Average Ratings": 4,
                  "Number of Pages": "653.0",
                  "Published Year": "2002.0",
                  "Series": "0.0",
                  "Genres": "['Fantasy', 'Young Adult', 'Fiction']",
                  "Awards": "['Pulitzer Prize Nominee for Fiction (2002)', 'National Book Award for Fiction (2001)', 'James Tait Black Memorial Prize for Fiction (2002)', 'PEN/Faulkner Award for Fiction Nominee (2002)', 'Audie Award for Fiction, Abridged (2002)', 'Los Angeles Times Book Prize Nominee for Fiction (2001)', 'National Book Critics Circle Award Nominee for Fiction (2001)', 'International Dublin Literary Award Nominee for Shortlist (2003)']",
                  "Places": "[['St. Jude, Illinois', '(United States)']]",
                  "_deepnote_index_column": 71
                },
                {
                  "Title": "Running with Scissors",
                  "Author": "Augusten Burroughs",
                  "Number of Ratings": 362698,
                  "Number of Reviews": 12722,
                  "Average Ratings": 4,
                  "Number of Pages": "nan",
                  "Published Year": "2003.0",
                  "Series": "0.0",
                  "Genres": "['Fantasy', 'Young Adult', 'Fiction']",
                  "Awards": "[]",
                  "Places": "nan",
                  "_deepnote_index_column": 72
                },
                {
                  "Title": "No Country for Old Men",
                  "Author": "Cormac McCarthy",
                  "Number of Ratings": 157944,
                  "Number of Reviews": 8362,
                  "Average Ratings": 4,
                  "Number of Pages": "309.0",
                  "Published Year": "2006.0",
                  "Series": "0.0",
                  "Genres": "['Fantasy', 'Young Adult', 'Fiction']",
                  "Awards": "['Hammett Prize Nominee (2005)', 'Audie Award for Audiobook Adaptation (2011)', 'Exclusive Books Boeke Prize Nominee (2007)', 'Falcon Award (2008)', 'International Dublin Literary Award Nominee for Shortlist (2007)']",
                  "Places": "[['United States of America', 'Terrell County, Texas,\\n1980', '(United States)']]",
                  "_deepnote_index_column": 73
                },
                {
                  "Title": "The Amber Spyglass",
                  "Author": "Philip Pullman",
                  "Number of Ratings": 316792,
                  "Number of Reviews": 11044,
                  "Average Ratings": 4,
                  "Number of Pages": "467.0",
                  "Published Year": "2003.0",
                  "Series": "1.0",
                  "Genres": "['Fantasy', 'Young Adult', 'Fiction']",
                  "Awards": "['Booker Prize Nominee for Longlist (2001)', 'Locus Award Nominee for Best Fantasy Novel (2001)', \"Whitbread Award for Children's Book of the Year and Book of the Year (2001)\", \"British Book Award for Children's Book of the Year (2001)\", \"Audie Award for Children's Titles Ages 8-12 (2002)\", \"West Australian Young Readers' Book Award (WAYRBA) for Older Readers (2002)\"]",
                  "Places": "nan",
                  "_deepnote_index_column": 74
                },
                {
                  "Title": "The Blind Assassin",
                  "Author": "Margaret Atwood",
                  "Number of Ratings": 139749,
                  "Number of Reviews": 8125,
                  "Average Ratings": 4,
                  "Number of Pages": "637.0",
                  "Published Year": "2001.0",
                  "Series": "0.0",
                  "Genres": "['Fantasy', 'Young Adult', 'Fiction']",
                  "Awards": "['Booker Prize (2000)', 'Orange Prize Nominee for Fiction Shortlist (2001)', 'Hammett Prize (2000)', 'Puddly Award for New Novel (2001)', 'International Dublin Literary Award Nominee for Shortlist (2002)']",
                  "Places": "[['Canada,\\n1999', '    \\nToronto, Ontario', '(Canada)'], ['Southwest Ontario,\\n1914', '(Canada)']]",
                  "_deepnote_index_column": 75
                },
                {
                  "Title": "World Without End (Kingsbridge, #2)",
                  "Author": "Ken Follett",
                  "Number of Ratings": 211545,
                  "Number of Reviews": 11749,
                  "Average Ratings": 4,
                  "Number of Pages": "1014.0",
                  "Published Year": "2007.0",
                  "Series": "1.0",
                  "Genres": "['Fantasy', 'Young Adult', 'Fiction']",
                  "Awards": "[]",
                  "Places": "[['Kingsbridge, England', '(United Kingdom)'], [''], ['', 'Other Editions (189)'], [''], [''], [''], [''], [''], [''], [''], [''], [''], [''], [''], ['All Editions', ' | ', 'Add a New Edition', ' | ', 'Combine']]",
                  "_deepnote_index_column": 76
                },
                {
                  "Title": "A Heartbreaking Work of Staggering Genius",
                  "Author": "Dave Eggers",
                  "Number of Ratings": 176344,
                  "Number of Reviews": 9283,
                  "Average Ratings": 4,
                  "Number of Pages": "485.0",
                  "Published Year": "2001.0",
                  "Series": "0.0",
                  "Genres": "['Fantasy', 'Young Adult', 'Fiction']",
                  "Awards": "['Pulitzer Prize Nominee for General Nonfiction (2001)', 'Guardian First Book Award Nominee (2000)', 'Borders Original Voices Award for Nonfiction (2000)', 'Puddly Award for Memoir (2001)']",
                  "Places": "nan",
                  "_deepnote_index_column": 77
                },
                {
                  "Title": "The Shack",
                  "Author": "William Paul Young",
                  "Number of Ratings": 559966,
                  "Number of Reviews": 33526,
                  "Average Ratings": 4,
                  "Number of Pages": "294.0",
                  "Published Year": "2008.0",
                  "Series": "0.0",
                  "Genres": "['Fantasy', 'Young Adult', 'Fiction']",
                  "Awards": "['LovelyBooks Leserpreis Nominee for Allgemeine Literatur (2009)']",
                  "Places": "[['United States of America', 'Oregon', '(United States)']]",
                  "_deepnote_index_column": 78
                },
                {
                  "Title": "Cutting for Stone",
                  "Author": "Abraham   Verghese",
                  "Number of Ratings": 345241,
                  "Number of Reviews": 25907,
                  "Average Ratings": 4,
                  "Number of Pages": "541.0",
                  "Published Year": "2009.0",
                  "Series": "0.0",
                  "Genres": "['Fantasy', 'Young Adult', 'Fiction']",
                  "Awards": "['PEN/Hemingway Foundation Award Nominee (2010)', 'Exclusive Books Boeke Prize Nominee (2011)', 'Indies Choice Book Award for Adult Fiction (2010)', 'Dayton Literary Peace Prize Nominee for Fiction (2010)', 'Wellcome Book Prize Nominee for Shortlist (2009)', 'Goodreads Choice Award Nominee for Fiction (2009)']",
                  "Places": "[['Addis Ababa', '(Ethiopia)'], ['Madras', '(India)'], ['Kochi', '(India)'], ['…more\\nAden', '(Yemen)'], ['Djibouti', 'Asmara', '(Eritrea)'], ['Khartoum', '(Sudan)'], ['Nairobi', '(Kenya)'], ['New York City, New York', '(United States)'], ['Boston, Massachusetts', '(United States)'], ['Rome', '(Italy)'], ['…less']]",
                  "_deepnote_index_column": 79
                },
                {
                  "Title": "The Omnivore's Dilemma: A Natural History of Four Meals",
                  "Author": "Michael Pollan",
                  "Number of Ratings": 190432,
                  "Number of Reviews": 13083,
                  "Average Ratings": 4,
                  "Number of Pages": "450.0",
                  "Published Year": "2006.0",
                  "Series": "0.0",
                  "Genres": "['Fantasy', 'Young Adult', 'Fiction']",
                  "Awards": "['California Book Award for Nonfiction (Gold) (2006)', 'Orion Book Award Nominee (2007)', 'National Book Critics Circle Award Nominee for General Nonfiction (2006)']",
                  "Places": "nan",
                  "_deepnote_index_column": 80
                },
                {
                  "Title": "The History of Love",
                  "Author": "Nicole Krauss",
                  "Number of Ratings": 125901,
                  "Number of Reviews": 11183,
                  "Average Ratings": 4,
                  "Number of Pages": "255.0",
                  "Published Year": "2006.0",
                  "Series": "0.0",
                  "Genres": "['Fantasy', 'Young Adult', 'Fiction']",
                  "Awards": "['Orange Prize Nominee for Fiction Shortlist (2006)', 'Edward Lewis Wallant Award (2005)', 'Borders Original Voices Award for Fiction (2005)', 'William Saroyan International Prize for Writing for Fiction (2008)', 'Prix du Meilleur Livre Étranger for Roman (2006)', 'Premi Llibreter de narrativa Nominee (2006)']",
                  "Places": "[['New York City, New York', '(United States)'], ['Slonim', '(Poland)']]",
                  "_deepnote_index_column": 81
                },
                {
                  "Title": "Sarah's Key",
                  "Author": "Tatiana de Rosnay",
                  "Number of Ratings": 432566,
                  "Number of Reviews": 29472,
                  "Average Ratings": 4,
                  "Number of Pages": "294.0",
                  "Published Year": "2007.0",
                  "Series": "0.0",
                  "Genres": "['Fantasy', 'Young Adult', 'Fiction']",
                  "Awards": "[]",
                  "Places": "[['Paris,\\n1942', '(France)'], ['Paris,\\n2002', '(France)'], [''], ['', 'Other Editions (146)'], [''], [''], [''], [''], [''], [''], [''], [''], [''], [''], [''], ['All Editions', ' | ', 'Add a New Edition', ' | ', 'Combine']]",
                  "_deepnote_index_column": 82
                },
                {
                  "Title": "Seabiscuit: An American Legend",
                  "Author": "Laura Hillenbrand",
                  "Number of Ratings": 152120,
                  "Number of Reviews": 4481,
                  "Average Ratings": 4,
                  "Number of Pages": "457.0",
                  "Published Year": "2003.0",
                  "Series": "0.0",
                  "Genres": "['Fantasy', 'Young Adult', 'Fiction']",
                  "Awards": "['Book Sense Book of the Year Award for Adult Nonfiction (2002)', 'William Hill Sports Book of the Year (2001)', 'Puddly Award for Nonfiction (2004)', 'National Book Critics Circle Award Nominee for General Nonfiction (2001)']",
                  "Places": "[['United States of America']]",
                  "_deepnote_index_column": 83
                },
                {
                  "Title": "The Pact",
                  "Author": "Jodi Picoult",
                  "Number of Ratings": 279009,
                  "Number of Reviews": 10372,
                  "Average Ratings": 4,
                  "Number of Pages": "512.0",
                  "Published Year": "2006.0",
                  "Series": "0.0",
                  "Genres": "['Fantasy', 'Young Adult', 'Fiction']",
                  "Awards": "[]",
                  "Places": "nan",
                  "_deepnote_index_column": 84
                },
                {
                  "Title": "Shantaram",
                  "Author": "Gregory David Roberts",
                  "Number of Ratings": 179955,
                  "Number of Reviews": 13899,
                  "Average Ratings": 4,
                  "Number of Pages": "936.0",
                  "Published Year": "2004.0",
                  "Series": "1.0",
                  "Genres": "['Fantasy', 'Young Adult', 'Fiction']",
                  "Awards": "[\"Commonwealth Writers' Prize Nominee for Best First Book (the Pacific Region) (2004)\"]",
                  "Places": "[['Bombay', '(India)'], ['Afghanistan', 'Australia', '…more\\nIndia', '…less']]",
                  "_deepnote_index_column": 85
                },
                {
                  "Title": "House of Leaves",
                  "Author": "Mark Z. Danielewski",
                  "Number of Ratings": 142814,
                  "Number of Reviews": 11791,
                  "Average Ratings": 4,
                  "Number of Pages": "710.0",
                  "Published Year": "2000.0",
                  "Series": "0.0",
                  "Genres": "['Fantasy', 'Young Adult', 'Fiction']",
                  "Awards": "['Bram Stoker Award Nominee for Best First Novel (2000)', 'Locus Award Nominee for Best First Novel (2001)', 'New York Public Library Young Lions Fiction Award (2001)', 'Guardian First Book Award Nominee (2000)', 'James Tait Black Memorial Prize Nominee for Fiction (2000)', 'International Horror Guild Award Nominee for Best First Novel (2000)', 'Premio Ignotus Nominee for Mejor novela extranjera (Best Foreign Novel) (2014)']",
                  "Places": "nan",
                  "_deepnote_index_column": 86
                },
                {
                  "Title": "Empire Falls",
                  "Author": "Richard Russo",
                  "Number of Ratings": 115795,
                  "Number of Reviews": 4537,
                  "Average Ratings": 4,
                  "Number of Pages": "483.0",
                  "Published Year": "2002.0",
                  "Series": "0.0",
                  "Genres": "['Fantasy', 'Young Adult', 'Fiction']",
                  "Awards": "['Pulitzer Prize for Fiction (2002)', 'Ambassador Book Award for Fiction (2002)']",
                  "Places": "[['Maine', '(United States)']]",
                  "_deepnote_index_column": 87
                },
                {
                  "Title": "The Story of Edgar Sawtelle",
                  "Author": "David Wroblewski",
                  "Number of Ratings": 95694,
                  "Number of Reviews": 13731,
                  "Average Ratings": 4,
                  "Number of Pages": "566.0",
                  "Published Year": "2008.0",
                  "Series": "0.0",
                  "Genres": "['Fantasy', 'Young Adult', 'Fiction']",
                  "Awards": "['John Sargent, Sr. First Novel Prize (2008)', 'Colorado Book Award for Literary Fiction (2009)', 'Sakura Medal Nominee for High School Book (2010)', 'Indies Choice Book Award for Best Author Discovery (2009)', 'Puddly Award for Fiction (2009)', 'The Center for Fiction First Novel Prize Nominee (2008)']",
                  "Places": "[['Mellen', '(United States)'], ['Wisconsin', '(United States)'], ['Pusan,\\n1952', '(Korea, Republic of)']]",
                  "_deepnote_index_column": 88
                },
                {
                  "Title": "White Teeth",
                  "Author": "Zadie Smith",
                  "Number of Ratings": 130318,
                  "Number of Reviews": 7944,
                  "Average Ratings": 4,
                  "Number of Pages": "448.0",
                  "Published Year": "2001.0",
                  "Series": "0.0",
                  "Genres": "['Fantasy', 'Young Adult', 'Fiction']",
                  "Awards": "['Orange Prize Nominee for Fiction Shortlist (2000)', 'Guardian First Book Award (2000)', 'James Tait Black Memorial Prize for Fiction (2000)', 'Whitbread Award for First Novel (2000)', 'John Llewellyn Rhys Prize Nominee (2000)', 'Puddly Award for Debut Novel (2001)', 'National Book Critics Circle Award Nominee for Fiction (2000)', \"Commonwealth Writers' Prize for Best First Book Overall (2001)\", 'Sunday Times/Peters Fraser + Dunlop Young Writer of the Year Award (2001)', 'Betty Trask Award (2001)']",
                  "Places": "[['Willesden, North London,\\n1974', '(United Kingdom)']]",
                  "_deepnote_index_column": 89
                },
                {
                  "Title": "A Great and Terrible Beauty (Gemma Doyle, #1)",
                  "Author": "Libba Bray",
                  "Number of Ratings": 218068,
                  "Number of Reviews": 9971,
                  "Average Ratings": 4,
                  "Number of Pages": "403.0",
                  "Published Year": "2003.0",
                  "Series": "1.0",
                  "Genres": "['Fantasy', 'Young Adult', 'Fiction']",
                  "Awards": "['Iowa High School Book Award (2007)', 'Lincoln Award Nominee (2007)']",
                  "Places": "[['United Kingdom', 'India,\\n1895', '    \\nLondon, England', '(United Kingdom)']]",
                  "_deepnote_index_column": 90
                },
                {
                  "Title": "Blink: The Power of Thinking Without Thinking",
                  "Author": "Malcolm Gladwell",
                  "Number of Ratings": 511530,
                  "Number of Reviews": 15742,
                  "Average Ratings": 4,
                  "Number of Pages": "296.0",
                  "Published Year": "2007.0",
                  "Series": "0.0",
                  "Genres": "['Fantasy', 'Young Adult', 'Fiction']",
                  "Awards": "[]",
                  "Places": "nan",
                  "_deepnote_index_column": 91
                },
                {
                  "Title": "Fast Food Nation: The Dark Side of the All-American Meal",
                  "Author": "Eric Schlosser",
                  "Number of Ratings": 201981,
                  "Number of Reviews": 5436,
                  "Average Ratings": 4,
                  "Number of Pages": "399.0",
                  "Published Year": "2005.0",
                  "Series": "0.0",
                  "Genres": "['Fantasy', 'Young Adult', 'Fiction']",
                  "Awards": "['Puddly Award for Nonfiction (2003)']",
                  "Places": "[['Colorado Springs, Colorado', '(United States)']]",
                  "_deepnote_index_column": 92
                },
                {
                  "Title": "The Last Olympian (Percy Jackson and the Olympians, #5)",
                  "Author": "Rick Riordan",
                  "Number of Ratings": 717179,
                  "Number of Reviews": 25215,
                  "Average Ratings": 4,
                  "Number of Pages": "381.0",
                  "Published Year": "2009.0",
                  "Series": "1.0",
                  "Genres": "['Fantasy', 'Young Adult', 'Fiction']",
                  "Awards": "['Soaring Eagle Book Award (2010)', 'Goodreads Choice Award Nominee for Favorite Book & Young Adult Series (2009)', 'Carnegie Medal Nominee (2010)', 'Premio El Templo de las Mil Puertas Nominee for Mejor novela extranjera perteneciente a saga (2010)']",
                  "Places": "[['Manhattan, New York City, New York', '(United States)'], ['New York City, New York', '(United States)'], ['New York State', '(United States)']]",
                  "_deepnote_index_column": 93
                },
                {
                  "Title": "John Adams",
                  "Author": "David McCullough",
                  "Number of Ratings": 328379,
                  "Number of Reviews": 6489,
                  "Average Ratings": 4,
                  "Number of Pages": "751.0",
                  "Published Year": "2001.0",
                  "Series": "nan",
                  "Genres": "['Fantasy', 'Young Adult', 'Fiction']",
                  "Awards": "['Pulitzer Prize for Biography or Autobiography (2002)', 'Ambassador Book Award for Biography (2002)', 'Audie Award for Nonfiction (2002)', 'Puddly Award for Nonfiction (2002)', 'American Revolution Round Table Award (2001)', 'Fraunces Tavern Museum Book Award (2002)']",
                  "Places": "[['Boston, Massachusetts', '(United States)'], ['Philadelphia, Pennsylvania', '(United States)']]",
                  "_deepnote_index_column": 94
                },
                {
                  "Title": "Anansi Boys",
                  "Author": "Neil Gaiman",
                  "Number of Ratings": 202125,
                  "Number of Reviews": 10199,
                  "Average Ratings": 4,
                  "Number of Pages": "387.0",
                  "Published Year": "2006.0",
                  "Series": "1.0",
                  "Genres": "['Fantasy', 'Young Adult', 'Fiction']",
                  "Awards": "['Locus Award for Best Fantasy Novel (2006)', 'Mythopoeic Fantasy Award for Adult Literature (2006)', \"Grand Prix de l'Imaginaire Nominee for Roman étranger (2007)\", 'ALA Alex Award (2006)', 'British Fantasy Award for Best Novel (2006)']",
                  "Places": "[['London, England', '(United Kingdom)'], ['Florida', '(United States)']]",
                  "_deepnote_index_column": 95
                },
                {
                  "Title": "Daughter of Fortune",
                  "Author": "Isabel Allende",
                  "Number of Ratings": 119426,
                  "Number of Reviews": 4158,
                  "Average Ratings": 4,
                  "Number of Pages": "432.0",
                  "Published Year": "2006.0",
                  "Series": "1.0",
                  "Genres": "['Fantasy', 'Young Adult', 'Fiction']",
                  "Awards": "['Premio de traducción literaria Valle Inclán Nominee for Margaret Sayers Peden (2000)']",
                  "Places": "nan",
                  "_deepnote_index_column": 96
                },
                {
                  "Title": "Year of Wonders",
                  "Author": "Geraldine Brooks",
                  "Number of Ratings": 146254,
                  "Number of Reviews": 10579,
                  "Average Ratings": 4,
                  "Number of Pages": "304.0",
                  "Published Year": "2002.0",
                  "Series": "0.0",
                  "Genres": "['Fantasy', 'Young Adult', 'Fiction']",
                  "Awards": "['ALA Alex Award (2002)']",
                  "Places": "[['Eyam, Derbyshire, England,\\n1666', '(United Kingdom)']]",
                  "_deepnote_index_column": 97
                },
                {
                  "Title": "The Sea of Monsters (Percy Jackson and the Olympians, #2)",
                  "Author": "Rick Riordan",
                  "Number of Ratings": 805198,
                  "Number of Reviews": 29067,
                  "Average Ratings": 4,
                  "Number of Pages": "279.0",
                  "Published Year": "2006.0",
                  "Series": "1.0",
                  "Genres": "['Fantasy', 'Young Adult', 'Fiction']",
                  "Awards": "[]",
                  "Places": "[['Miami, Florida', '(United States)'], ['Atlantic Ocean', 'Bermuda Triangle,\\n2006', '    '], [''], ['Other Editions (189)'], [''], [''], [''], [''], [''], [''], [''], [''], [''], [''], [''], ['All Editions', ' | ', 'Add a New Edition', ' | ', 'Combine']]",
                  "_deepnote_index_column": 98
                },
                {
                  "Title": "What Is the What",
                  "Author": "Dave Eggers",
                  "Number of Ratings": 80852,
                  "Number of Reviews": 7222,
                  "Average Ratings": 4,
                  "Number of Pages": "475.0",
                  "Published Year": "2006.0",
                  "Series": "0.0",
                  "Genres": "['Fantasy', 'Young Adult', 'Fiction']",
                  "Awards": "['Independent Publisher Book Award (IPPY) for Literary Fiction (2007)', 'Prix Médicis Etranger (2009)', 'National Book Critics Circle Award Nominee for Fiction (2006)']",
                  "Places": "[['Sudan', 'Ethiopia', 'Kakuma', '(Kenya)'], ['…more\\nMarial Bai', '(South Sudan)'], ['…less']]",
                  "_deepnote_index_column": 99
                }
              ]
            },
            "text/plain": "                                                Title            Author  \\\n0   Harry Potter and the Deathly Hallows (Harry Po...      J.K. Rowling   \n1             The Hunger Games (The Hunger Games, #1)   Suzanne Collins   \n2   Harry Potter and the Half-Blood Prince (Harry ...      J.K. Rowling   \n3   Harry Potter and the Goblet of Fire (Harry Pot...      J.K. Rowling   \n4   Harry Potter and the Order of the Phoenix (Har...      J.K. Rowling   \n..                                                ...               ...   \n95                                        Anansi Boys       Neil Gaiman   \n96                                Daughter of Fortune    Isabel Allende   \n97                                    Year of Wonders  Geraldine Brooks   \n98  The Sea of Monsters (Percy Jackson and the Oly...      Rick Riordan   \n99                                   What Is the What       Dave Eggers   \n\n    Number of Ratings  Number of Reviews  Average Ratings  Number of Pages  \\\n0             2958364              68421              5.0            759.0   \n1             6683135             175476              4.0            374.0   \n2             2574373              41988              4.0            652.0   \n3             2748838              49554              4.0            734.0   \n4             2652319              45347              4.0            870.0   \n..                ...                ...              ...              ...   \n95             202125              10199              4.0            387.0   \n96             119426               4158              4.0            432.0   \n97             146254              10579              4.0            304.0   \n98             805198              29067              4.0            279.0   \n99              80852               7222              4.0            475.0   \n\n    Published Year  Series                                 Genres  \\\n0           2007.0     1.0  ['Fantasy', 'Young Adult', 'Fiction']   \n1           2008.0     1.0  ['Fantasy', 'Young Adult', 'Fiction']   \n2           2006.0     1.0  ['Fantasy', 'Young Adult', 'Fiction']   \n3           2002.0     1.0  ['Fantasy', 'Young Adult', 'Fiction']   \n4           2004.0     1.0  ['Fantasy', 'Young Adult', 'Fiction']   \n..             ...     ...                                    ...   \n95          2006.0     1.0  ['Fantasy', 'Young Adult', 'Fiction']   \n96          2006.0     1.0  ['Fantasy', 'Young Adult', 'Fiction']   \n97          2002.0     0.0  ['Fantasy', 'Young Adult', 'Fiction']   \n98          2006.0     1.0  ['Fantasy', 'Young Adult', 'Fiction']   \n99          2006.0     0.0  ['Fantasy', 'Young Adult', 'Fiction']   \n\n                                               Awards  \\\n0   ['Locus Award Nominee for Best Young Adult Nov...   \n1   ['Locus Award Nominee for Best Young Adult Boo...   \n2   ['Locus Award Nominee for Best Young Adult Nov...   \n3   ['Hugo Award for Best Novel (2001)', \"Mythopoe...   \n4   ['Bram Stoker Award for Works for Young Reader...   \n..                                                ...   \n95  ['Locus Award for Best Fantasy Novel (2006)', ...   \n96  ['Premio de traducción literaria Valle Inclán ...   \n97                          ['ALA Alex Award (2002)']   \n98                                                 []   \n99  ['Independent Publisher Book Award (IPPY) for ...   \n\n                                               Places  \n0   [['London, England', '(United Kingdom)'], ['Ho...  \n1   [['District 12, Panem', 'Capitol, Panem', 'Pan...  \n2   [['Hogwarts School of Witchcraft and Wizardry'...  \n3   [['Hogwarts School of Witchcraft and Wizardry,...  \n4   [['Hogwarts School of Witchcraft and Wizardry'...  \n..                                                ...  \n95  [['London, England', '(United Kingdom)'], ['Fl...  \n96                                                NaN  \n97  [['Eyam, Derbyshire, England,\\n1666', '(United...  \n98  [['Miami, Florida', '(United States)'], ['Atla...  \n99  [['Sudan', 'Ethiopia', 'Kakuma', '(Kenya)'], [...  \n\n[100 rows x 11 columns]",
            "text/html": "<div>\n<style scoped>\n    .dataframe tbody tr th:only-of-type {\n        vertical-align: middle;\n    }\n\n    .dataframe tbody tr th {\n        vertical-align: top;\n    }\n\n    .dataframe thead th {\n        text-align: right;\n    }\n</style>\n<table border=\"1\" class=\"dataframe\">\n  <thead>\n    <tr style=\"text-align: right;\">\n      <th></th>\n      <th>Title</th>\n      <th>Author</th>\n      <th>Number of Ratings</th>\n      <th>Number of Reviews</th>\n      <th>Average Ratings</th>\n      <th>Number of Pages</th>\n      <th>Published Year</th>\n      <th>Series</th>\n      <th>Genres</th>\n      <th>Awards</th>\n      <th>Places</th>\n    </tr>\n  </thead>\n  <tbody>\n    <tr>\n      <th>0</th>\n      <td>Harry Potter and the Deathly Hallows (Harry Po...</td>\n      <td>J.K. Rowling</td>\n      <td>2958364</td>\n      <td>68421</td>\n      <td>5.0</td>\n      <td>759.0</td>\n      <td>2007.0</td>\n      <td>1.0</td>\n      <td>['Fantasy', 'Young Adult', 'Fiction']</td>\n      <td>['Locus Award Nominee for Best Young Adult Nov...</td>\n      <td>[['London, England', '(United Kingdom)'], ['Ho...</td>\n    </tr>\n    <tr>\n      <th>1</th>\n      <td>The Hunger Games (The Hunger Games, #1)</td>\n      <td>Suzanne Collins</td>\n      <td>6683135</td>\n      <td>175476</td>\n      <td>4.0</td>\n      <td>374.0</td>\n      <td>2008.0</td>\n      <td>1.0</td>\n      <td>['Fantasy', 'Young Adult', 'Fiction']</td>\n      <td>['Locus Award Nominee for Best Young Adult Boo...</td>\n      <td>[['District 12, Panem', 'Capitol, Panem', 'Pan...</td>\n    </tr>\n    <tr>\n      <th>2</th>\n      <td>Harry Potter and the Half-Blood Prince (Harry ...</td>\n      <td>J.K. Rowling</td>\n      <td>2574373</td>\n      <td>41988</td>\n      <td>4.0</td>\n      <td>652.0</td>\n      <td>2006.0</td>\n      <td>1.0</td>\n      <td>['Fantasy', 'Young Adult', 'Fiction']</td>\n      <td>['Locus Award Nominee for Best Young Adult Nov...</td>\n      <td>[['Hogwarts School of Witchcraft and Wizardry'...</td>\n    </tr>\n    <tr>\n      <th>3</th>\n      <td>Harry Potter and the Goblet of Fire (Harry Pot...</td>\n      <td>J.K. Rowling</td>\n      <td>2748838</td>\n      <td>49554</td>\n      <td>4.0</td>\n      <td>734.0</td>\n      <td>2002.0</td>\n      <td>1.0</td>\n      <td>['Fantasy', 'Young Adult', 'Fiction']</td>\n      <td>['Hugo Award for Best Novel (2001)', \"Mythopoe...</td>\n      <td>[['Hogwarts School of Witchcraft and Wizardry,...</td>\n    </tr>\n    <tr>\n      <th>4</th>\n      <td>Harry Potter and the Order of the Phoenix (Har...</td>\n      <td>J.K. Rowling</td>\n      <td>2652319</td>\n      <td>45347</td>\n      <td>4.0</td>\n      <td>870.0</td>\n      <td>2004.0</td>\n      <td>1.0</td>\n      <td>['Fantasy', 'Young Adult', 'Fiction']</td>\n      <td>['Bram Stoker Award for Works for Young Reader...</td>\n      <td>[['Hogwarts School of Witchcraft and Wizardry'...</td>\n    </tr>\n    <tr>\n      <th>...</th>\n      <td>...</td>\n      <td>...</td>\n      <td>...</td>\n      <td>...</td>\n      <td>...</td>\n      <td>...</td>\n      <td>...</td>\n      <td>...</td>\n      <td>...</td>\n      <td>...</td>\n      <td>...</td>\n    </tr>\n    <tr>\n      <th>95</th>\n      <td>Anansi Boys</td>\n      <td>Neil Gaiman</td>\n      <td>202125</td>\n      <td>10199</td>\n      <td>4.0</td>\n      <td>387.0</td>\n      <td>2006.0</td>\n      <td>1.0</td>\n      <td>['Fantasy', 'Young Adult', 'Fiction']</td>\n      <td>['Locus Award for Best Fantasy Novel (2006)', ...</td>\n      <td>[['London, England', '(United Kingdom)'], ['Fl...</td>\n    </tr>\n    <tr>\n      <th>96</th>\n      <td>Daughter of Fortune</td>\n      <td>Isabel Allende</td>\n      <td>119426</td>\n      <td>4158</td>\n      <td>4.0</td>\n      <td>432.0</td>\n      <td>2006.0</td>\n      <td>1.0</td>\n      <td>['Fantasy', 'Young Adult', 'Fiction']</td>\n      <td>['Premio de traducción literaria Valle Inclán ...</td>\n      <td>NaN</td>\n    </tr>\n    <tr>\n      <th>97</th>\n      <td>Year of Wonders</td>\n      <td>Geraldine Brooks</td>\n      <td>146254</td>\n      <td>10579</td>\n      <td>4.0</td>\n      <td>304.0</td>\n      <td>2002.0</td>\n      <td>0.0</td>\n      <td>['Fantasy', 'Young Adult', 'Fiction']</td>\n      <td>['ALA Alex Award (2002)']</td>\n      <td>[['Eyam, Derbyshire, England,\\n1666', '(United...</td>\n    </tr>\n    <tr>\n      <th>98</th>\n      <td>The Sea of Monsters (Percy Jackson and the Oly...</td>\n      <td>Rick Riordan</td>\n      <td>805198</td>\n      <td>29067</td>\n      <td>4.0</td>\n      <td>279.0</td>\n      <td>2006.0</td>\n      <td>1.0</td>\n      <td>['Fantasy', 'Young Adult', 'Fiction']</td>\n      <td>[]</td>\n      <td>[['Miami, Florida', '(United States)'], ['Atla...</td>\n    </tr>\n    <tr>\n      <th>99</th>\n      <td>What Is the What</td>\n      <td>Dave Eggers</td>\n      <td>80852</td>\n      <td>7222</td>\n      <td>4.0</td>\n      <td>475.0</td>\n      <td>2006.0</td>\n      <td>0.0</td>\n      <td>['Fantasy', 'Young Adult', 'Fiction']</td>\n      <td>['Independent Publisher Book Award (IPPY) for ...</td>\n      <td>[['Sudan', 'Ethiopia', 'Kakuma', '(Kenya)'], [...</td>\n    </tr>\n  </tbody>\n</table>\n<p>100 rows × 11 columns</p>\n</div>"
          },
          "metadata": {}
        }
      ]
    },
    {
      "cell_type": "code",
      "metadata": {
        "scrolled": true,
        "cell_id": "00005-9cf39f5b-e53d-4281-86ee-0f3f7c95beaa",
        "deepnote_cell_type": "code"
      },
      "source": "df.describe()",
      "execution_count": null,
      "outputs": [
        {
          "data": {
            "text/html": "<div>\n<style scoped>\n    .dataframe tbody tr th:only-of-type {\n        vertical-align: middle;\n    }\n\n    .dataframe tbody tr th {\n        vertical-align: top;\n    }\n\n    .dataframe thead th {\n        text-align: right;\n    }\n</style>\n<table border=\"1\" class=\"dataframe\">\n  <thead>\n    <tr style=\"text-align: right;\">\n      <th></th>\n      <th>Number of Ratings</th>\n      <th>Number of Reviews</th>\n      <th>Average Ratings</th>\n      <th>Number of Pages</th>\n      <th>Published Year</th>\n      <th>Series</th>\n    </tr>\n  </thead>\n  <tbody>\n    <tr>\n      <th>count</th>\n      <td>1.000000e+02</td>\n      <td>100.000000</td>\n      <td>99.000000</td>\n      <td>97.000000</td>\n      <td>99.000000</td>\n      <td>98.000000</td>\n    </tr>\n    <tr>\n      <th>mean</th>\n      <td>9.095087e+05</td>\n      <td>31935.410000</td>\n      <td>4.020202</td>\n      <td>503.257732</td>\n      <td>2005.656566</td>\n      <td>0.387755</td>\n    </tr>\n    <tr>\n      <th>std</th>\n      <td>1.060243e+06</td>\n      <td>27119.255395</td>\n      <td>0.141407</td>\n      <td>416.300604</td>\n      <td>2.726146</td>\n      <td>0.489743</td>\n    </tr>\n    <tr>\n      <th>min</th>\n      <td>8.085200e+04</td>\n      <td>4158.000000</td>\n      <td>4.000000</td>\n      <td>153.000000</td>\n      <td>2000.000000</td>\n      <td>0.000000</td>\n    </tr>\n    <tr>\n      <th>25%</th>\n      <td>2.364000e+05</td>\n      <td>12992.750000</td>\n      <td>4.000000</td>\n      <td>321.000000</td>\n      <td>2004.000000</td>\n      <td>0.000000</td>\n    </tr>\n    <tr>\n      <th>50%</th>\n      <td>5.144335e+05</td>\n      <td>23443.500000</td>\n      <td>4.000000</td>\n      <td>440.000000</td>\n      <td>2006.000000</td>\n      <td>0.000000</td>\n    </tr>\n    <tr>\n      <th>75%</th>\n      <td>1.217003e+06</td>\n      <td>44321.000000</td>\n      <td>4.000000</td>\n      <td>563.000000</td>\n      <td>2007.000000</td>\n      <td>1.000000</td>\n    </tr>\n    <tr>\n      <th>max</th>\n      <td>6.683135e+06</td>\n      <td>175476.000000</td>\n      <td>5.000000</td>\n      <td>4100.000000</td>\n      <td>2018.000000</td>\n      <td>1.000000</td>\n    </tr>\n  </tbody>\n</table>\n</div>",
            "text/plain": "       Number of Ratings  Number of Reviews  Average Ratings  Number of Pages  \\\ncount       1.000000e+02         100.000000        99.000000        97.000000   \nmean        9.095087e+05       31935.410000         4.020202       503.257732   \nstd         1.060243e+06       27119.255395         0.141407       416.300604   \nmin         8.085200e+04        4158.000000         4.000000       153.000000   \n25%         2.364000e+05       12992.750000         4.000000       321.000000   \n50%         5.144335e+05       23443.500000         4.000000       440.000000   \n75%         1.217003e+06       44321.000000         4.000000       563.000000   \nmax         6.683135e+06      175476.000000         5.000000      4100.000000   \n\n       Published Year     Series  \ncount       99.000000  98.000000  \nmean      2005.656566   0.387755  \nstd          2.726146   0.489743  \nmin       2000.000000   0.000000  \n25%       2004.000000   0.000000  \n50%       2006.000000   0.000000  \n75%       2007.000000   1.000000  \nmax       2018.000000   1.000000  "
          },
          "execution_count": 27,
          "metadata": {},
          "output_type": "execute_result"
        }
      ]
    },
    {
      "cell_type": "code",
      "metadata": {
        "cell_id": "00006-7c0dca9b-239c-4ac2-aa3f-2869941c923b",
        "deepnote_to_be_reexecuted": false,
        "source_hash": "217caf75",
        "execution_start": 1618319096091,
        "execution_millis": 1,
        "deepnote_cell_type": "code"
      },
      "source": "published_year = df['Published Year']\nAuthor = df['Author']",
      "execution_count": null,
      "outputs": []
    },
    {
      "cell_type": "code",
      "metadata": {
        "cell_id": "00007-cd1827cc-fdd9-420b-84d6-5e4bf8ac46ca",
        "deepnote_to_be_reexecuted": false,
        "source_hash": "366f6d8f",
        "execution_start": 1618319118123,
        "execution_millis": 5,
        "deepnote_cell_type": "code"
      },
      "source": "pd.Categorical(df['Genres'])",
      "execution_count": null,
      "outputs": [
        {
          "output_type": "execute_result",
          "execution_count": 5,
          "data": {
            "text/plain": "['['Fantasy', 'Young Adult', 'Fiction']', '['Fantasy', 'Young Adult', 'Fiction']', '['Fantasy', 'Young Adult', 'Fiction']', '['Fantasy', 'Young Adult', 'Fiction']', '['Fantasy', 'Young Adult', 'Fiction']', ..., '['Fantasy', 'Young Adult', 'Fiction']', '['Fantasy', 'Young Adult', 'Fiction']', '['Fantasy', 'Young Adult', 'Fiction']', '['Fantasy', 'Young Adult', 'Fiction']', '['Fantasy', 'Young Adult', 'Fiction']']\nLength: 100\nCategories (1, object): ['['Fantasy', 'Young Adult', 'Fiction']']"
          },
          "metadata": {}
        }
      ]
    },
    {
      "cell_type": "code",
      "metadata": {
        "scrolled": true,
        "cell_id": "00008-09c921c7-83b0-4fb2-8921-2105e496fd26",
        "deepnote_to_be_reexecuted": false,
        "source_hash": "8ff2a416",
        "execution_start": 1618319120807,
        "execution_millis": 56,
        "deepnote_cell_type": "code"
      },
      "source": "Author_counts = df['Author'].value_counts()\nAuthor_counts[:13]",
      "execution_count": null,
      "outputs": [
        {
          "output_type": "execute_result",
          "execution_count": 6,
          "data": {
            "text/plain": "Stephenie Meyer         5\nJ.K. Rowling            5\nNeil Gaiman             4\nRick Riordan            3\nStieg Larsson           3\nJodi Picoult            3\nMargaret Atwood         2\nKhaled Hosseini         2\nCormac McCarthy         2\nJonathan Safran Foer    2\nDan Brown               2\nDave Eggers             2\nSuzanne Collins         2\nName: Author, dtype: int64"
          },
          "metadata": {}
        }
      ]
    },
    {
      "cell_type": "code",
      "metadata": {
        "scrolled": false,
        "cell_id": "00009-9395b845-06a5-4dee-9932-569ca4748ba6",
        "deepnote_to_be_reexecuted": false,
        "source_hash": "33de199a",
        "execution_start": 1618319123640,
        "execution_millis": 8,
        "deepnote_cell_type": "code"
      },
      "source": "df['Published Year'].value_counts()\n",
      "execution_count": null,
      "outputs": [
        {
          "output_type": "execute_result",
          "execution_count": 7,
          "data": {
            "text/plain": "2006.0    27\n2007.0    15\n2003.0    12\n2008.0     8\n2005.0     8\n2004.0     8\n2001.0     6\n2009.0     5\n2002.0     4\n2010.0     2\n2011.0     1\n2000.0     1\n2013.0     1\n2018.0     1\nName: Published Year, dtype: int64"
          },
          "metadata": {}
        }
      ]
    },
    {
      "cell_type": "code",
      "metadata": {
        "cell_id": "00010-0239c880-ce0e-4007-87fe-8260295b76a0",
        "deepnote_to_be_reexecuted": false,
        "source_hash": "46554c45",
        "execution_start": 1618319125973,
        "execution_millis": 4,
        "deepnote_cell_type": "code"
      },
      "source": "by_year = df.groupby('Published Year')\n",
      "execution_count": null,
      "outputs": []
    },
    {
      "cell_type": "code",
      "metadata": {
        "scrolled": true,
        "cell_id": "00011-e9ddd9ee-ab88-4f5b-bec1-98fc0ad62acc",
        "deepnote_to_be_reexecuted": false,
        "source_hash": "59e5ac7e",
        "execution_millis": 39,
        "execution_start": 1618328412897,
        "deepnote_cell_type": "code"
      },
      "source": "report = sv.analyze(df)",
      "execution_count": null,
      "outputs": [
        {
          "output_type": "error",
          "ename": "ImportError",
          "evalue": "IProgress not found. Please update jupyter and ipywidgets. See https://ipywidgets.readthedocs.io/en/stable/user_install.html",
          "traceback": [
            "\u001b[0;31m---------------------------------------------------------------------------\u001b[0m",
            "\u001b[0;31mImportError\u001b[0m                               Traceback (most recent call last)",
            "\u001b[0;32m<ipython-input-13-825ded5b1381>\u001b[0m in \u001b[0;36m<module>\u001b[0;34m\u001b[0m\n\u001b[0;32m----> 1\u001b[0;31m \u001b[0mreport\u001b[0m \u001b[0;34m=\u001b[0m \u001b[0msv\u001b[0m\u001b[0;34m.\u001b[0m\u001b[0manalyze\u001b[0m\u001b[0;34m(\u001b[0m\u001b[0mdf\u001b[0m\u001b[0;34m)\u001b[0m\u001b[0;34m\u001b[0m\u001b[0;34m\u001b[0m\u001b[0m\n\u001b[0m",
            "\u001b[0;32m~/venv/lib/python3.7/site-packages/sweetviz/sv_public.py\u001b[0m in \u001b[0;36manalyze\u001b[0;34m(source, target_feat, feat_cfg, pairwise_analysis)\u001b[0m\n\u001b[1;32m     11\u001b[0m             pairwise_analysis: str = 'auto'):\n\u001b[1;32m     12\u001b[0m     report = sweetviz.DataframeReport(source, target_feat, None,\n\u001b[0;32m---> 13\u001b[0;31m                                       pairwise_analysis, feat_cfg)\n\u001b[0m\u001b[1;32m     14\u001b[0m     \u001b[0;32mreturn\u001b[0m \u001b[0mreport\u001b[0m\u001b[0;34m\u001b[0m\u001b[0;34m\u001b[0m\u001b[0m\n\u001b[1;32m     15\u001b[0m \u001b[0;34m\u001b[0m\u001b[0m\n",
            "\u001b[0;32m~/venv/lib/python3.7/site-packages/sweetviz/dataframe_report.py\u001b[0m in \u001b[0;36m__init__\u001b[0;34m(self, source, target_feature_name, compare, pairwise_analysis, fc)\u001b[0m\n\u001b[1;32m    123\u001b[0m         self.progress_bar = tqdm(total=progress_chunks, bar_format= \\\n\u001b[1;32m    124\u001b[0m                 \u001b[0;34m'{desc:45}|{bar}| [{percentage:3.0f}%]   {elapsed} -> ({remaining} left)'\u001b[0m\u001b[0;34m,\u001b[0m\u001b[0;31m \u001b[0m\u001b[0;31m\\\u001b[0m\u001b[0;34m\u001b[0m\u001b[0;34m\u001b[0m\u001b[0m\n\u001b[0;32m--> 125\u001b[0;31m                 ascii=False, dynamic_ncols=True, position=0, leave= True)\n\u001b[0m\u001b[1;32m    126\u001b[0m \u001b[0;34m\u001b[0m\u001b[0m\n\u001b[1;32m    127\u001b[0m         \u001b[0;31m# Summarize dataframe\u001b[0m\u001b[0;34m\u001b[0m\u001b[0;34m\u001b[0m\u001b[0;34m\u001b[0m\u001b[0m\n",
            "\u001b[0;32m/shared-libs/python3.7/py/lib/python3.7/site-packages/tqdm/notebook.py\u001b[0m in \u001b[0;36m__init__\u001b[0;34m(self, *args, **kwargs)\u001b[0m\n\u001b[1;32m    237\u001b[0m         \u001b[0munit_scale\u001b[0m \u001b[0;34m=\u001b[0m \u001b[0;36m1\u001b[0m \u001b[0;32mif\u001b[0m \u001b[0mself\u001b[0m\u001b[0;34m.\u001b[0m\u001b[0munit_scale\u001b[0m \u001b[0;32mis\u001b[0m \u001b[0;32mTrue\u001b[0m \u001b[0;32melse\u001b[0m \u001b[0mself\u001b[0m\u001b[0;34m.\u001b[0m\u001b[0munit_scale\u001b[0m \u001b[0;32mor\u001b[0m \u001b[0;36m1\u001b[0m\u001b[0;34m\u001b[0m\u001b[0;34m\u001b[0m\u001b[0m\n\u001b[1;32m    238\u001b[0m         \u001b[0mtotal\u001b[0m \u001b[0;34m=\u001b[0m \u001b[0mself\u001b[0m\u001b[0;34m.\u001b[0m\u001b[0mtotal\u001b[0m \u001b[0;34m*\u001b[0m \u001b[0munit_scale\u001b[0m \u001b[0;32mif\u001b[0m \u001b[0mself\u001b[0m\u001b[0;34m.\u001b[0m\u001b[0mtotal\u001b[0m \u001b[0;32melse\u001b[0m \u001b[0mself\u001b[0m\u001b[0;34m.\u001b[0m\u001b[0mtotal\u001b[0m\u001b[0;34m\u001b[0m\u001b[0;34m\u001b[0m\u001b[0m\n\u001b[0;32m--> 239\u001b[0;31m         \u001b[0mself\u001b[0m\u001b[0;34m.\u001b[0m\u001b[0mcontainer\u001b[0m \u001b[0;34m=\u001b[0m \u001b[0mself\u001b[0m\u001b[0;34m.\u001b[0m\u001b[0mstatus_printer\u001b[0m\u001b[0;34m(\u001b[0m\u001b[0mself\u001b[0m\u001b[0;34m.\u001b[0m\u001b[0mfp\u001b[0m\u001b[0;34m,\u001b[0m \u001b[0mtotal\u001b[0m\u001b[0;34m,\u001b[0m \u001b[0mself\u001b[0m\u001b[0;34m.\u001b[0m\u001b[0mdesc\u001b[0m\u001b[0;34m,\u001b[0m \u001b[0mself\u001b[0m\u001b[0;34m.\u001b[0m\u001b[0mncols\u001b[0m\u001b[0;34m)\u001b[0m\u001b[0;34m\u001b[0m\u001b[0;34m\u001b[0m\u001b[0m\n\u001b[0m\u001b[1;32m    240\u001b[0m         \u001b[0mself\u001b[0m\u001b[0;34m.\u001b[0m\u001b[0mcontainer\u001b[0m\u001b[0;34m.\u001b[0m\u001b[0mpbar\u001b[0m \u001b[0;34m=\u001b[0m \u001b[0mself\u001b[0m\u001b[0;34m\u001b[0m\u001b[0;34m\u001b[0m\u001b[0m\n\u001b[1;32m    241\u001b[0m         \u001b[0mself\u001b[0m\u001b[0;34m.\u001b[0m\u001b[0mdisplayed\u001b[0m \u001b[0;34m=\u001b[0m \u001b[0;32mFalse\u001b[0m\u001b[0;34m\u001b[0m\u001b[0;34m\u001b[0m\u001b[0m\n",
            "\u001b[0;32m/shared-libs/python3.7/py/lib/python3.7/site-packages/tqdm/notebook.py\u001b[0m in \u001b[0;36mstatus_printer\u001b[0;34m(_, total, desc, ncols)\u001b[0m\n\u001b[1;32m    111\u001b[0m         \u001b[0;32mif\u001b[0m \u001b[0mIProgress\u001b[0m \u001b[0;32mis\u001b[0m \u001b[0;32mNone\u001b[0m\u001b[0;34m:\u001b[0m  \u001b[0;31m# #187 #451 #558 #872\u001b[0m\u001b[0;34m\u001b[0m\u001b[0;34m\u001b[0m\u001b[0m\n\u001b[1;32m    112\u001b[0m             raise ImportError(\n\u001b[0;32m--> 113\u001b[0;31m                 \u001b[0;34m\"IProgress not found. Please update jupyter and ipywidgets.\"\u001b[0m\u001b[0;34m\u001b[0m\u001b[0;34m\u001b[0m\u001b[0m\n\u001b[0m\u001b[1;32m    114\u001b[0m                 \u001b[0;34m\" See https://ipywidgets.readthedocs.io/en/stable\"\u001b[0m\u001b[0;34m\u001b[0m\u001b[0;34m\u001b[0m\u001b[0m\n\u001b[1;32m    115\u001b[0m                 \"/user_install.html\")\n",
            "\u001b[0;31mImportError\u001b[0m: IProgress not found. Please update jupyter and ipywidgets. See https://ipywidgets.readthedocs.io/en/stable/user_install.html"
          ]
        }
      ]
    },
    {
      "cell_type": "code",
      "metadata": {
        "scrolled": true,
        "cell_id": "00012-7401a8e8-dfec-4757-965e-a99f79d72b08",
        "deepnote_to_be_reexecuted": false,
        "source_hash": "4df25f77",
        "execution_start": 1618328434851,
        "execution_millis": 12,
        "deepnote_cell_type": "code"
      },
      "source": "report.show_html('Best Books of the Decade: 2000s.html')",
      "execution_count": null,
      "outputs": [
        {
          "output_type": "error",
          "ename": "NameError",
          "evalue": "name 'report' is not defined",
          "traceback": [
            "\u001b[0;31m---------------------------------------------------------------------------\u001b[0m",
            "\u001b[0;31mNameError\u001b[0m                                 Traceback (most recent call last)",
            "\u001b[0;32m<ipython-input-14-64a28914b6b8>\u001b[0m in \u001b[0;36m<module>\u001b[0;34m\u001b[0m\n\u001b[0;32m----> 1\u001b[0;31m \u001b[0mreport\u001b[0m\u001b[0;34m.\u001b[0m\u001b[0mshow_html\u001b[0m\u001b[0;34m(\u001b[0m\u001b[0;34m'Best Books of the Decade: 2000s.html'\u001b[0m\u001b[0;34m)\u001b[0m\u001b[0;34m\u001b[0m\u001b[0;34m\u001b[0m\u001b[0m\n\u001b[0m",
            "\u001b[0;31mNameError\u001b[0m: name 'report' is not defined"
          ]
        }
      ]
    },
    {
      "cell_type": "code",
      "metadata": {
        "cell_id": "00013-62f04a56-4fd8-4449-aa71-359dbea275bb",
        "deepnote_cell_type": "code"
      },
      "source": "df1 = sv.compare(df, df)\ndf1.show_html('Compare.html')",
      "execution_count": null,
      "outputs": [
        {
          "data": {
            "application/vnd.jupyter.widget-view+json": {
              "model_id": "16ae038a6496467d8977fb331ec20b29",
              "version_major": 2,
              "version_minor": 0
            },
            "text/plain": "HBox(children=(HTML(value=''), FloatProgress(value=0.0, layout=Layout(flex='2'), max=12.0), HTML(value='')), l…"
          },
          "metadata": {},
          "output_type": "display_data"
        },
        {
          "name": "stdout",
          "output_type": "stream",
          "text": "\nReport Compare.html was generated! NOTEBOOK/COLAB USERS: the web browser MAY not pop up, regardless, the report IS saved in your notebook/colab files.\n"
        }
      ]
    },
    {
      "cell_type": "markdown",
      "source": "### Function to find the Min_Max normalized values of rating avearge.",
      "metadata": {
        "tags": [],
        "cell_id": "00014-1bd36312-549f-4388-b8ae-5ab4258a6ce9",
        "deepnote_cell_type": "markdown"
      }
    },
    {
      "cell_type": "code",
      "source": "def min_max(series):\n    \"\"\" Returns the Min-Max normalised values for the average ratings value.\n    Can filter elements greater than a given threshhold value i.e. the artificial minimum\"\"\"\n    \n    min = series.min()\n    max = series.max()\n    new_dseries = series.apply(lambda x: 1 + (((x-threshhold)/(max-threshhold)) * 9))\n    return new_dseries",
      "metadata": {
        "tags": [],
        "cell_id": "00014-bef28aa6-630f-48bb-8771-51ccf28d2795",
        "deepnote_to_be_reexecuted": false,
        "source_hash": "ce89487b",
        "execution_millis": 3,
        "execution_start": 1618407526876,
        "deepnote_cell_type": "code"
      },
      "outputs": [],
      "execution_count": 6
    },
    {
      "cell_type": "markdown",
      "source": "### Funtion to find the normalised values of rating average.",
      "metadata": {
        "tags": [],
        "cell_id": "00016-f230d891-711c-434e-95f0-886e81951a4f",
        "deepnote_cell_type": "markdown"
      }
    },
    {
      "cell_type": "code",
      "source": "def norm_series(series):\n    \"\"\" Returns the Normalised values for the Average rating values.\n    Can filter elements greater than a given threshhold value i.e. the artificial minimum\"\"\"\n    \n    pd_series_mean = series.mean(skipna=True)\n    min = series.min()\n    max = series.max()\n    # print(pd_series_mean)\n    normed = series.apply(lambda x: 1+((x-pd_series_mean)/(max-threshhold)) * 9)\n    return normed",
      "metadata": {
        "tags": [],
        "cell_id": "00016-458df16b-fb8c-4e17-8eaa-eaf4434d06ee",
        "deepnote_to_be_reexecuted": false,
        "source_hash": "2759cb61",
        "execution_millis": 1,
        "execution_start": 1618407531174,
        "deepnote_cell_type": "code"
      },
      "outputs": [],
      "execution_count": 7
    },
    {
      "cell_type": "markdown",
      "source": "### Function that returns the best rated book title of a given author.",
      "metadata": {
        "tags": [],
        "cell_id": "00018-42b2c176-81c2-4d30-93a3-c2a98c1b3a77",
        "deepnote_cell_type": "markdown"
      }
    },
    {
      "cell_type": "code",
      "source": "def best_book(name):\n    df_test = pd.read_csv('data_set_0.csv')\n    filter = (df_test['Author'] == name)\n    books_author = df_test[filter]\n    book = books_author['Average_rating'] == books_author['Average_rating'].max()\n    book_title = books_author[book]\n    return book_title['Title']",
      "metadata": {
        "tags": [],
        "cell_id": "00019-cf988e14-0f76-4c8a-8c5c-3e920daeb238",
        "deepnote_to_be_reexecuted": false,
        "source_hash": "1106db95",
        "execution_millis": 0,
        "execution_start": 1618400785991,
        "deepnote_cell_type": "code"
      },
      "outputs": [],
      "execution_count": 3
    },
    {
      "cell_type": "code",
      "source": "# Creating Dataframe\ndf = pd.read_csv('big_books_clean.csv')\n\n# Artificial minimum\nthreshhold = 3.9\n\n# Filtered Average ratings series\nfilter1 = df['Average_rating'] >= threshhold\n\n# Threshhold - Max Normalised avarage ratings values\nmin_max_norm = min_max(df['Average_rating'][filter1])\n\n# Threshhold - Mean normalised average ratings values\nnormalised = norm_series(df['Average_rating'][filter1])",
      "metadata": {
        "tags": [],
        "cell_id": "00019-79d85937-b394-4801-a6e8-8638089185ab",
        "deepnote_to_be_reexecuted": false,
        "source_hash": "d103ebd6",
        "execution_millis": 27,
        "execution_start": 1618407567475,
        "deepnote_cell_type": "code"
      },
      "outputs": [],
      "execution_count": 10
    },
    {
      "cell_type": "code",
      "source": "# Sample plotly Histogram of the two distributions from the cell above.\ntrace0 = go.Histogram(x=min_max_norm,\n                      name='Average rating min max',\n                      opacity=.5)\ntrace1 = go.Histogram(x=normalised,\n                      name='Average rating normalised',\n                      opacity=.5)\n\ndata = [trace0, trace1]\nlayout = go.Layout(title='Average rating Distribution')\nfig = go.Figure(data=data, layout=layout)\npyo.plot(fig)\n",
      "metadata": {
        "tags": [],
        "cell_id": "00021-cea1beb6-6933-4fab-bb35-335a48041b1a",
        "deepnote_to_be_reexecuted": false,
        "source_hash": "d42ec78f",
        "execution_millis": 50,
        "execution_start": 1618407874737,
        "deepnote_cell_type": "code"
      },
      "outputs": [
        {
          "output_type": "execute_result",
          "execution_count": 17,
          "data": {
            "text/plain": "'temp-plot.html'"
          },
          "metadata": {}
        }
      ],
      "execution_count": 17
    },
    {
      "cell_type": "code",
      "source": "",
      "metadata": {
        "tags": [],
        "cell_id": "00022-d6f523c5-49c0-42c6-87f5-9ef42717f6f8",
        "deepnote_cell_type": "code"
      },
      "outputs": [],
      "execution_count": null
    },
    {
      "cell_type": "markdown",
      "source": "<a style='text-decoration:none;line-height:16px;display:flex;color:#5B5B62;padding:10px;justify-content:end;' href='https://deepnote.com?utm_source=created-in-deepnote-cell&projectId=a0867bd3-5624-476b-af8a-bd1f917bd510' target=\"_blank\">\n<img alt='Created in deepnote.com' style='display:inline;max-height:16px;margin:0px;margin-right:7.5px;' src='data:image/svg+xml;base64,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' > </img>\nCreated in <span style='font-weight:600;margin-left:4px;'>Deepnote</span></a>",
      "metadata": {
        "tags": [],
        "created_in_deepnote_cell": true,
        "deepnote_cell_type": "markdown"
      }
    }
  ],
  "nbformat": 4,
  "nbformat_minor": 4,
  "metadata": {
    "kernelspec": {
      "display_name": "Python 3",
      "language": "python",
      "name": "python3"
    },
    "language_info": {
      "codemirror_mode": {
        "name": "ipython",
        "version": 3
      },
      "file_extension": ".py",
      "mimetype": "text/x-python",
      "name": "python",
      "nbconvert_exporter": "python",
      "pygments_lexer": "ipython3",
      "version": "3.8.5"
    },
    "deepnote_notebook_id": "b6a868dc-3859-4fab-b876-e3883cc376ff",
    "deepnote": {},
    "deepnote_execution_queue": []
  }
}