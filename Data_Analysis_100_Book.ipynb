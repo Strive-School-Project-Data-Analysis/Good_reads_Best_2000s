{
  "cells": [
    {
      "cell_type": "markdown",
      "source": "### Data Preparation\n1. Importing Libraries and Data Set\n2. Understanding Data Set\n3. Cleaning Data Set",
      "metadata": {
        "tags": [],
        "cell_id": "00001-2db04db0-d915-4f59-9bf5-181f22781807",
        "deepnote_cell_type": "markdown"
      }
    },
    {
      "cell_type": "markdown",
      "source": "#### 1.Importing Libraries and Data Set",
      "metadata": {
        "tags": [],
        "cell_id": "00001-e14878dc-0ffb-4cdd-a66f-6c7a522c711c",
        "deepnote_cell_type": "markdown"
      }
    },
    {
      "cell_type": "code",
      "metadata": {
        "tags": [],
        "cell_id": "00000-935d6674-7799-4dc3-8bd5-872878f83ee9",
        "deepnote_to_be_reexecuted": false,
        "source_hash": "86ec21fd",
        "execution_millis": 1,
        "execution_start": 1618382548198,
        "deepnote_cell_type": "code"
      },
      "source": "#Importing Libraries\nimport numpy as np # linear algebra\nimport pandas as pd # data processing, CSV file I/O (e.g. pd.read_csv)\nimport seaborn as sns\nimport os\nimport matplotlib as mpl\nimport matplotlib.pyplot as plt",
      "execution_count": 3,
      "outputs": []
    },
    {
      "cell_type": "code",
      "metadata": {
        "tags": [],
        "cell_id": "00001-f8714e80-49cc-4fe2-aac2-f7247067defc",
        "deepnote_to_be_reexecuted": false,
        "source_hash": "4c765026",
        "execution_millis": 12,
        "execution_start": 1618329498572,
        "deepnote_cell_type": "code"
      },
      "source": "#Importing Data\ndf=pd.read_csv(\"/work/Good_reads_Best_2000s/Data.csv\")",
      "execution_count": null,
      "outputs": []
    },
    {
      "cell_type": "markdown",
      "source": "#### 2.Understanding Data Set",
      "metadata": {
        "tags": [],
        "cell_id": "00004-32e5a7fd-ed68-4267-af4e-28b4c4c344c7",
        "deepnote_cell_type": "markdown"
      }
    },
    {
      "cell_type": "code",
      "metadata": {
        "tags": [],
        "cell_id": "00005-7f16131a-c40e-4118-8d79-23fbe8fed1a9",
        "deepnote_to_be_reexecuted": false,
        "source_hash": "6dd7a748",
        "execution_millis": 7,
        "execution_start": 1618330270049,
        "deepnote_cell_type": "code"
      },
      "source": "#Showing first 5 row of dataset\ndf.head()",
      "execution_count": null,
      "outputs": [
        {
          "output_type": "execute_result",
          "execution_count": 23,
          "data": {
            "application/vnd.deepnote.dataframe.v2+json": {
              "row_count": 5,
              "column_count": 12,
              "columns": [
                {
                  "name": "URL",
                  "dtype": "object",
                  "stats": {
                    "unique_count": 5,
                    "nan_count": 0,
                    "categories": [
                      {
                        "name": "https://www.goodreads.com/book/show/136251.Harry_Potter_and_the_Deathly_Hallows\"",
                        "count": 1
                      },
                      {
                        "name": "https://www.goodreads.com/book/show/2767052-the-hunger-games\"",
                        "count": 1
                      },
                      {
                        "name": "3 others",
                        "count": 3
                      }
                    ]
                  }
                },
                {
                  "name": "Title",
                  "dtype": "object",
                  "stats": {
                    "unique_count": 5,
                    "nan_count": 0,
                    "categories": [
                      {
                        "name": "Harry Potter and the Deathly Hallows (Harry Potter, #7)",
                        "count": 1
                      },
                      {
                        "name": "The Hunger Games (The Hunger Games, #1)",
                        "count": 1
                      },
                      {
                        "name": "3 others",
                        "count": 3
                      }
                    ]
                  }
                },
                {
                  "name": "Author",
                  "dtype": "object",
                  "stats": {
                    "unique_count": 2,
                    "nan_count": 0,
                    "categories": [
                      {
                        "name": "J.K. Rowling",
                        "count": 4
                      },
                      {
                        "name": "Suzanne Collins",
                        "count": 1
                      }
                    ]
                  }
                },
                {
                  "name": "Number of Ratings",
                  "dtype": "float64",
                  "stats": {
                    "unique_count": 5,
                    "nan_count": 0,
                    "min": "2575144.0",
                    "max": "6684900.0",
                    "histogram": [
                      {
                        "bin_start": 2575144,
                        "bin_end": 2986119.6,
                        "count": 4
                      },
                      {
                        "bin_start": 2986119.6,
                        "bin_end": 3397095.2,
                        "count": 0
                      },
                      {
                        "bin_start": 3397095.2,
                        "bin_end": 3808070.8,
                        "count": 0
                      },
                      {
                        "bin_start": 3808070.8,
                        "bin_end": 4219046.4,
                        "count": 0
                      },
                      {
                        "bin_start": 4219046.4,
                        "bin_end": 4630022,
                        "count": 0
                      },
                      {
                        "bin_start": 4630022,
                        "bin_end": 5040997.6,
                        "count": 0
                      },
                      {
                        "bin_start": 5040997.6,
                        "bin_end": 5451973.199999999,
                        "count": 0
                      },
                      {
                        "bin_start": 5451973.199999999,
                        "bin_end": 5862948.8,
                        "count": 0
                      },
                      {
                        "bin_start": 5862948.8,
                        "bin_end": 6273924.4,
                        "count": 0
                      },
                      {
                        "bin_start": 6273924.4,
                        "bin_end": 6684900,
                        "count": 1
                      }
                    ]
                  }
                },
                {
                  "name": "Number of Reviews",
                  "dtype": "float64",
                  "stats": {
                    "unique_count": 5,
                    "nan_count": 0,
                    "min": "42015.0",
                    "max": "175492.0",
                    "histogram": [
                      {
                        "bin_start": 42015,
                        "bin_end": 55362.7,
                        "count": 3
                      },
                      {
                        "bin_start": 55362.7,
                        "bin_end": 68710.4,
                        "count": 1
                      },
                      {
                        "bin_start": 68710.4,
                        "bin_end": 82058.1,
                        "count": 0
                      },
                      {
                        "bin_start": 82058.1,
                        "bin_end": 95405.8,
                        "count": 0
                      },
                      {
                        "bin_start": 95405.8,
                        "bin_end": 108753.5,
                        "count": 0
                      },
                      {
                        "bin_start": 108753.5,
                        "bin_end": 122101.20000000001,
                        "count": 0
                      },
                      {
                        "bin_start": 122101.20000000001,
                        "bin_end": 135448.90000000002,
                        "count": 0
                      },
                      {
                        "bin_start": 135448.90000000002,
                        "bin_end": 148796.6,
                        "count": 0
                      },
                      {
                        "bin_start": 148796.6,
                        "bin_end": 162144.3,
                        "count": 0
                      },
                      {
                        "bin_start": 162144.3,
                        "bin_end": 175492,
                        "count": 1
                      }
                    ]
                  }
                },
                {
                  "name": "Average Ratings",
                  "dtype": "float64",
                  "stats": {
                    "unique_count": 2,
                    "nan_count": 0,
                    "min": "4.0",
                    "max": "5.0",
                    "histogram": [
                      {
                        "bin_start": 4,
                        "bin_end": 4.1,
                        "count": 4
                      },
                      {
                        "bin_start": 4.1,
                        "bin_end": 4.2,
                        "count": 0
                      },
                      {
                        "bin_start": 4.2,
                        "bin_end": 4.3,
                        "count": 0
                      },
                      {
                        "bin_start": 4.3,
                        "bin_end": 4.4,
                        "count": 0
                      },
                      {
                        "bin_start": 4.4,
                        "bin_end": 4.5,
                        "count": 0
                      },
                      {
                        "bin_start": 4.5,
                        "bin_end": 4.6,
                        "count": 0
                      },
                      {
                        "bin_start": 4.6,
                        "bin_end": 4.7,
                        "count": 0
                      },
                      {
                        "bin_start": 4.7,
                        "bin_end": 4.8,
                        "count": 0
                      },
                      {
                        "bin_start": 4.8,
                        "bin_end": 4.9,
                        "count": 0
                      },
                      {
                        "bin_start": 4.9,
                        "bin_end": 5,
                        "count": 1
                      }
                    ]
                  }
                },
                {
                  "name": "Number of Pages",
                  "dtype": "float64",
                  "stats": {
                    "unique_count": 5,
                    "nan_count": 0,
                    "min": "374.0",
                    "max": "870.0",
                    "histogram": [
                      {
                        "bin_start": 374,
                        "bin_end": 423.6,
                        "count": 1
                      },
                      {
                        "bin_start": 423.6,
                        "bin_end": 473.2,
                        "count": 0
                      },
                      {
                        "bin_start": 473.2,
                        "bin_end": 522.8,
                        "count": 0
                      },
                      {
                        "bin_start": 522.8,
                        "bin_end": 572.4,
                        "count": 0
                      },
                      {
                        "bin_start": 572.4,
                        "bin_end": 622,
                        "count": 0
                      },
                      {
                        "bin_start": 622,
                        "bin_end": 671.6,
                        "count": 1
                      },
                      {
                        "bin_start": 671.6,
                        "bin_end": 721.2,
                        "count": 0
                      },
                      {
                        "bin_start": 721.2,
                        "bin_end": 770.8,
                        "count": 2
                      },
                      {
                        "bin_start": 770.8,
                        "bin_end": 820.4000000000001,
                        "count": 0
                      },
                      {
                        "bin_start": 820.4000000000001,
                        "bin_end": 870,
                        "count": 1
                      }
                    ]
                  }
                },
                {
                  "name": "Published Year",
                  "dtype": "float64",
                  "stats": {
                    "unique_count": 5,
                    "nan_count": 0,
                    "min": "2002.0",
                    "max": "2008.0",
                    "histogram": [
                      {
                        "bin_start": 2002,
                        "bin_end": 2002.6,
                        "count": 1
                      },
                      {
                        "bin_start": 2002.6,
                        "bin_end": 2003.2,
                        "count": 0
                      },
                      {
                        "bin_start": 2003.2,
                        "bin_end": 2003.8,
                        "count": 0
                      },
                      {
                        "bin_start": 2003.8,
                        "bin_end": 2004.4,
                        "count": 1
                      },
                      {
                        "bin_start": 2004.4,
                        "bin_end": 2005,
                        "count": 0
                      },
                      {
                        "bin_start": 2005,
                        "bin_end": 2005.6,
                        "count": 0
                      },
                      {
                        "bin_start": 2005.6,
                        "bin_end": 2006.2,
                        "count": 1
                      },
                      {
                        "bin_start": 2006.2,
                        "bin_end": 2006.8,
                        "count": 0
                      },
                      {
                        "bin_start": 2006.8,
                        "bin_end": 2007.4,
                        "count": 1
                      },
                      {
                        "bin_start": 2007.4,
                        "bin_end": 2008,
                        "count": 1
                      }
                    ]
                  }
                },
                {
                  "name": "Series",
                  "dtype": "float64",
                  "stats": {
                    "unique_count": 1,
                    "nan_count": 0,
                    "min": "1.0",
                    "max": "1.0",
                    "histogram": [
                      {
                        "bin_start": 0.5,
                        "bin_end": 0.6,
                        "count": 0
                      },
                      {
                        "bin_start": 0.6,
                        "bin_end": 0.7,
                        "count": 0
                      },
                      {
                        "bin_start": 0.7,
                        "bin_end": 0.8,
                        "count": 0
                      },
                      {
                        "bin_start": 0.8,
                        "bin_end": 0.9,
                        "count": 0
                      },
                      {
                        "bin_start": 0.9,
                        "bin_end": 1,
                        "count": 0
                      },
                      {
                        "bin_start": 1,
                        "bin_end": 1.1,
                        "count": 5
                      },
                      {
                        "bin_start": 1.1,
                        "bin_end": 1.2000000000000002,
                        "count": 0
                      },
                      {
                        "bin_start": 1.2000000000000002,
                        "bin_end": 1.3,
                        "count": 0
                      },
                      {
                        "bin_start": 1.3,
                        "bin_end": 1.4,
                        "count": 0
                      },
                      {
                        "bin_start": 1.4,
                        "bin_end": 1.5,
                        "count": 0
                      }
                    ]
                  }
                },
                {
                  "name": "Genres",
                  "dtype": "object",
                  "stats": {
                    "unique_count": 2,
                    "nan_count": 0,
                    "categories": [
                      {
                        "name": "['Fantasy', 'Young Adult', 'Fiction']",
                        "count": 4
                      },
                      {
                        "name": "['Young Adult', 'Fiction', 'Dystopia']",
                        "count": 1
                      }
                    ]
                  }
                },
                {
                  "name": "Awards",
                  "dtype": "object",
                  "stats": {
                    "unique_count": 5,
                    "nan_count": 0,
                    "categories": [
                      {
                        "name": "['Locus Award Nominee for Best Young Adult Novel (2008)', 'Odyssey Award Nominee (2008)', 'Audie Award (2008)', 'Books I Loved Best Yearly (BILBY) Awards for Older Readers (2008)', 'Teen Read Award Nominee for Best All-Time-Fave (2010)', 'Puddly Award for Fiction (2008)', 'Andre Norton Award (2007)', 'Carnegie Medal Nominee (2008)']",
                        "count": 1
                      },
                      {
                        "name": "['Locus Award Nominee for Best Young Adult Book (2009)', 'Georgia Peach Book Award (2009)', 'Buxtehuder Bulle (2009)', 'Golden Duck Award for Young Adult (Hal Clement Award) (2009)', \"Grand Prix de l'Imaginaire Nominee for Roman jeunesse étranger (2010)\", 'Books I Loved Best Yearly (BILBY) Awards for Older Readers (2012)', \"West Australian Young Readers' Book Award (WAYRBA) for Older Readers (2010)\", \"Red House Children's Book Award for Older Readers & Overall (2010)\", 'South Carolina Book Award for Junior and Young Adult Book (2011)', 'Charlotte Award (2010)', 'Colorado Blue Spruce Young Adult Book Award (2010)', 'Teen Buckeye Book Award (2009)', \"Pennsylvania Young Readers' Choice Award for Young Adults (2010)\", 'Rhode Island Teen Book Award (2010)', \"Dorothy Canfield Fisher Children's Book Award (2010)\", 'Evergreen Teen Book Award (2011)', 'Soaring Eagle Book Award (2009)', 'Milwaukee County Teen Book Award Nominee (2010)', 'Sakura Medal for Middle School Book (2010)', 'Michigan Library Association Thumbs Up! Award (2009)', 'Florida Teens Read (2009)', 'Deutscher Jugendliteraturpreis for Preis der Jugendjury (2010)', 'Iowa High School Book Award (2011)', 'New Mexico Land of Enchantment Award for Young Adult (2011)', 'Eliot Rosewater Indiana High School Book Award (2010)', 'The Inky Awards for Silver Inky (2009)', 'California Young Readers Medal for Young Adult (2011)', 'Lincoln Award (2011)', 'Kinderboekwinkelprijs (2010)', 'Missouri Truman Readers Award (2011)', 'CYBILS Award for Young Adult Fantasy & Science Fiction (2008)', 'Literaturpreis der Jury der jungen Leser for Jugendbuch (2010)', 'The Inky Awards Shortlist for Silver Inky (2009)', 'Prix Et-lisez-moi (2011)', 'Missouri Gateway Readers Award (2011)', 'Oklahoma Sequoyah Award for High School and Intermediate (2011)', 'Premio El Templo de las Mil Puertas for Mejor novela extranjera perteneciente a saga (2009)', \"Rebecca Caudill Young Readers' Book Award (2011)\", 'LovelyBooks Leserpreis for Fantasy (2009)', 'LovelyBooks Leserpreis for Bestes Cover/Umschlag (2009)', 'Premi Protagonista Jove for Categoria 13-14 anys (2010)']",
                        "count": 1
                      },
                      {
                        "name": "3 others",
                        "count": 3
                      }
                    ]
                  }
                },
                {
                  "name": "Places",
                  "dtype": "object",
                  "stats": {
                    "unique_count": 5,
                    "nan_count": 0,
                    "categories": [
                      {
                        "name": "[['London, England', '(United Kingdom)'], ['Hogwarts School of Witchcraft and Wizardry', '(United Kingdom)'], ['Pagford', '(United Kingdom)']]",
                        "count": 1
                      },
                      {
                        "name": "[['District 12, Panem', 'Capitol, Panem', 'Panem', '(United States)']]",
                        "count": 1
                      },
                      {
                        "name": "3 others",
                        "count": 3
                      }
                    ]
                  }
                },
                {
                  "name": "_deepnote_index_column",
                  "dtype": "int64"
                }
              ],
              "rows_top": [
                {
                  "URL": "https://www.goodreads.com/book/show/136251.Harry_Potter_and_the_Deathly_Hallows\"",
                  "Title": "Harry Potter and the Deathly Hallows (Harry Potter, #7)",
                  "Author": "J.K. Rowling",
                  "Number of Ratings": 2959288,
                  "Number of Reviews": 68446,
                  "Average Ratings": 5,
                  "Number of Pages": 759,
                  "Published Year": 2007,
                  "Series": 1,
                  "Genres": "['Fantasy', 'Young Adult', 'Fiction']",
                  "Awards": "['Locus Award Nominee for Best Young Adult Novel (2008)', 'Odyssey Award Nominee (2008)', 'Audie Award (2008)', 'Books I Loved Best Yearly (BILBY) Awards for Older Readers (2008)', 'Teen Read Award Nominee for Best All-Time-Fave (2010)', 'Puddly Award for Fiction (2008)', 'Andre Norton Award (2007)', 'Carnegie Medal Nominee (2008)']",
                  "Places": "[['London, England', '(United Kingdom)'], ['Hogwarts School of Witchcraft and Wizardry', '(United Kingdom)'], ['Pagford', '(United Kingdom)']]",
                  "_deepnote_index_column": 0
                },
                {
                  "URL": "https://www.goodreads.com/book/show/2767052-the-hunger-games\"",
                  "Title": "The Hunger Games (The Hunger Games, #1)",
                  "Author": "Suzanne Collins",
                  "Number of Ratings": 6684900,
                  "Number of Reviews": 175492,
                  "Average Ratings": 4,
                  "Number of Pages": 374,
                  "Published Year": 2008,
                  "Series": 1,
                  "Genres": "['Young Adult', 'Fiction', 'Dystopia']",
                  "Awards": "['Locus Award Nominee for Best Young Adult Book (2009)', 'Georgia Peach Book Award (2009)', 'Buxtehuder Bulle (2009)', 'Golden Duck Award for Young Adult (Hal Clement Award) (2009)', \"Grand Prix de l'Imaginaire Nominee for Roman jeunesse étranger (2010)\", 'Books I Loved Best Yearly (BILBY) Awards for Older Readers (2012)', \"West Australian Young Readers' Book Award (WAYRBA) for Older Readers (2010)\", \"Red House Children's Book Award for Older Readers & Overall (2010)\", 'South Carolina Book Award for Junior and Young Adult Book (2011)', 'Charlotte Award (2010)', 'Colorado Blue Spruce Young Adult Book Award (2010)', 'Teen Buckeye Book Award (2009)', \"Pennsylvania Young Readers' Choice Award for Young Adults (2010)\", 'Rhode Island Teen Book Award (2010)', \"Dorothy Canfield Fisher Children's Book Award (2010)\", 'Evergreen Teen Book Award (2011)', 'Soaring Eagle Book Award (2009)', 'Milwaukee County Teen Book Award Nominee (2010)', 'Sakura Medal for Middle School Book (2010)', 'Michigan Library Association Thumbs Up! Award (2009)', 'Florida Teens Read (2009)', 'Deutscher Jugendliteraturpreis for Preis der Jugendjury (2010)', 'Iowa High School Book Award (2011)', 'New Mexico Land of Enchantment Award for Young Adult (2011)', 'Eliot Rosewater Indiana High School Book Award (2010)', 'The Inky Awards for Silver Inky (2009)', 'California Young Readers Medal for Young Adult (2011)', 'Lincoln Award (2011)', 'Kinderboekwinkelprijs (2010)', 'Missouri Truman Readers Award (2011)', 'CYBILS Award for Young Adult Fantasy & Science Fiction (2008)', 'Literaturpreis der Jury der jungen Leser for Jugendbuch (2010)', 'The Inky Awards Shortlist for Silver Inky (2009)', 'Prix Et-lisez-moi (2011)', 'Missouri Gateway Readers Award (2011)', 'Oklahoma Sequoyah Award for High School and Intermediate (2011)', 'Premio El Templo de las Mil Puertas for Mejor novela extranjera perteneciente a saga (2009)', \"Rebecca Caudill Young Readers' Book Award (2011)\", 'LovelyBooks Leserpreis for Fantasy (2009)', 'LovelyBooks Leserpreis for Bestes Cover/Umschlag (2009)', 'Premi Protagonista Jove for Categoria 13-14 anys (2010)']",
                  "Places": "[['District 12, Panem', 'Capitol, Panem', 'Panem', '(United States)']]",
                  "_deepnote_index_column": 1
                },
                {
                  "URL": "https://www.goodreads.com/book/show/1.Harry_Potter_and_the_Half_Blood_Prince\"",
                  "Title": "Harry Potter and the Half-Blood Prince (Harry Potter, #6)",
                  "Author": "J.K. Rowling",
                  "Number of Ratings": 2575144,
                  "Number of Reviews": 42015,
                  "Average Ratings": 4,
                  "Number of Pages": 652,
                  "Published Year": 2006,
                  "Series": 1,
                  "Genres": "['Fantasy', 'Young Adult', 'Fiction']",
                  "Awards": "['Locus Award Nominee for Best Young Adult Novel (2006)', 'Audie Award for Audiobook of the Year (2006)', 'British Book of the Year (2006)']",
                  "Places": "[['Hogwarts School of Witchcraft and Wizardry', '(United Kingdom)'], ['England', '(United Kingdom)']]",
                  "_deepnote_index_column": 2
                },
                {
                  "URL": "https://www.goodreads.com/book/show/6.Harry_Potter_and_the_Goblet_of_Fire\"",
                  "Title": "Harry Potter and the Goblet of Fire (Harry Potter, #4)",
                  "Author": "J.K. Rowling",
                  "Number of Ratings": 2749673,
                  "Number of Reviews": 49578,
                  "Average Ratings": 4,
                  "Number of Pages": 734,
                  "Published Year": 2002,
                  "Series": 1,
                  "Genres": "['Fantasy', 'Young Adult', 'Fiction']",
                  "Awards": "['Hugo Award for Best Novel (2001)', \"Mythopoeic Fantasy Award for Children's Literature (2008)\", 'Publieksprijs voor het Nederlandse Boek (2001)', 'Audie Award for Solo Narration - Male (2001)', \"West Australian Young Readers' Book Award (WAYRBA) for Younger Readers (2001)\", 'Golden Archer Award for Middle/Junior High (2002)', 'Indian Paintbrush Book Award (2002)', 'Deutscher Bücherpreis for Publikumspreis', 'Corine Internationaler Buchpreis for Kinder- und Jugendbuch (2001)']",
                  "Places": "[['Hogwarts School of Witchcraft and Wizardry,\\n1994', '(United Kingdom)'], ['Scotland', 'United Kingdom']]",
                  "_deepnote_index_column": 3
                },
                {
                  "URL": "https://www.goodreads.com/book/show/2.Harry_Potter_and_the_Order_of_the_Phoenix\"",
                  "Title": "Harry Potter and the Order of the Phoenix (Harry Potter, #5)",
                  "Author": "J.K. Rowling",
                  "Number of Ratings": 2653157,
                  "Number of Reviews": 45371,
                  "Average Ratings": 4,
                  "Number of Pages": 870,
                  "Published Year": 2004,
                  "Series": 1,
                  "Genres": "['Fantasy', 'Young Adult', 'Fiction']",
                  "Awards": "['Bram Stoker Award for Works for Young Readers (2003)', 'Anthony Award for Young Adult (2004)', \"Mythopoeic Fantasy Award for Children's Literature (2008)\", 'Audie Award for Audiobook of the Year (2004)', 'Books I Loved Best Yearly (BILBY) Awards for Older Readers (2004)', 'Colorado Blue Spruce Young Adult Book Award (2006)', 'Golden Archer Award for Middle/Junior High (2005)', 'Deutscher Jugendliteraturpreis Nominee for Preis der Jugendjury (2004)', 'Carnegie Medal Nominee (2003)']",
                  "Places": "[['Hogwarts School of Witchcraft and Wizardry', '(United Kingdom)'], ['London, England', '(United Kingdom)']]",
                  "_deepnote_index_column": 4
                }
              ],
              "rows_bottom": null
            },
            "text/plain": "                                                 URL  \\\n0  https://www.goodreads.com/book/show/136251.Har...   \n1  https://www.goodreads.com/book/show/2767052-th...   \n2  https://www.goodreads.com/book/show/1.Harry_Po...   \n3  https://www.goodreads.com/book/show/6.Harry_Po...   \n4  https://www.goodreads.com/book/show/2.Harry_Po...   \n\n                                               Title           Author  \\\n0  Harry Potter and the Deathly Hallows (Harry Po...     J.K. Rowling   \n1            The Hunger Games (The Hunger Games, #1)  Suzanne Collins   \n2  Harry Potter and the Half-Blood Prince (Harry ...     J.K. Rowling   \n3  Harry Potter and the Goblet of Fire (Harry Pot...     J.K. Rowling   \n4  Harry Potter and the Order of the Phoenix (Har...     J.K. Rowling   \n\n   Number of Ratings  Number of Reviews  Average Ratings  Number of Pages  \\\n0          2959288.0            68446.0              5.0            759.0   \n1          6684900.0           175492.0              4.0            374.0   \n2          2575144.0            42015.0              4.0            652.0   \n3          2749673.0            49578.0              4.0            734.0   \n4          2653157.0            45371.0              4.0            870.0   \n\n   Published Year  Series                                  Genres  \\\n0          2007.0     1.0   ['Fantasy', 'Young Adult', 'Fiction']   \n1          2008.0     1.0  ['Young Adult', 'Fiction', 'Dystopia']   \n2          2006.0     1.0   ['Fantasy', 'Young Adult', 'Fiction']   \n3          2002.0     1.0   ['Fantasy', 'Young Adult', 'Fiction']   \n4          2004.0     1.0   ['Fantasy', 'Young Adult', 'Fiction']   \n\n                                              Awards  \\\n0  ['Locus Award Nominee for Best Young Adult Nov...   \n1  ['Locus Award Nominee for Best Young Adult Boo...   \n2  ['Locus Award Nominee for Best Young Adult Nov...   \n3  ['Hugo Award for Best Novel (2001)', \"Mythopoe...   \n4  ['Bram Stoker Award for Works for Young Reader...   \n\n                                              Places  \n0  [['London, England', '(United Kingdom)'], ['Ho...  \n1  [['District 12, Panem', 'Capitol, Panem', 'Pan...  \n2  [['Hogwarts School of Witchcraft and Wizardry'...  \n3  [['Hogwarts School of Witchcraft and Wizardry,...  \n4  [['Hogwarts School of Witchcraft and Wizardry'...  ",
            "text/html": "<div>\n<style scoped>\n    .dataframe tbody tr th:only-of-type {\n        vertical-align: middle;\n    }\n\n    .dataframe tbody tr th {\n        vertical-align: top;\n    }\n\n    .dataframe thead th {\n        text-align: right;\n    }\n</style>\n<table border=\"1\" class=\"dataframe\">\n  <thead>\n    <tr style=\"text-align: right;\">\n      <th></th>\n      <th>URL</th>\n      <th>Title</th>\n      <th>Author</th>\n      <th>Number of Ratings</th>\n      <th>Number of Reviews</th>\n      <th>Average Ratings</th>\n      <th>Number of Pages</th>\n      <th>Published Year</th>\n      <th>Series</th>\n      <th>Genres</th>\n      <th>Awards</th>\n      <th>Places</th>\n    </tr>\n  </thead>\n  <tbody>\n    <tr>\n      <th>0</th>\n      <td>https://www.goodreads.com/book/show/136251.Har...</td>\n      <td>Harry Potter and the Deathly Hallows (Harry Po...</td>\n      <td>J.K. Rowling</td>\n      <td>2959288.0</td>\n      <td>68446.0</td>\n      <td>5.0</td>\n      <td>759.0</td>\n      <td>2007.0</td>\n      <td>1.0</td>\n      <td>['Fantasy', 'Young Adult', 'Fiction']</td>\n      <td>['Locus Award Nominee for Best Young Adult Nov...</td>\n      <td>[['London, England', '(United Kingdom)'], ['Ho...</td>\n    </tr>\n    <tr>\n      <th>1</th>\n      <td>https://www.goodreads.com/book/show/2767052-th...</td>\n      <td>The Hunger Games (The Hunger Games, #1)</td>\n      <td>Suzanne Collins</td>\n      <td>6684900.0</td>\n      <td>175492.0</td>\n      <td>4.0</td>\n      <td>374.0</td>\n      <td>2008.0</td>\n      <td>1.0</td>\n      <td>['Young Adult', 'Fiction', 'Dystopia']</td>\n      <td>['Locus Award Nominee for Best Young Adult Boo...</td>\n      <td>[['District 12, Panem', 'Capitol, Panem', 'Pan...</td>\n    </tr>\n    <tr>\n      <th>2</th>\n      <td>https://www.goodreads.com/book/show/1.Harry_Po...</td>\n      <td>Harry Potter and the Half-Blood Prince (Harry ...</td>\n      <td>J.K. Rowling</td>\n      <td>2575144.0</td>\n      <td>42015.0</td>\n      <td>4.0</td>\n      <td>652.0</td>\n      <td>2006.0</td>\n      <td>1.0</td>\n      <td>['Fantasy', 'Young Adult', 'Fiction']</td>\n      <td>['Locus Award Nominee for Best Young Adult Nov...</td>\n      <td>[['Hogwarts School of Witchcraft and Wizardry'...</td>\n    </tr>\n    <tr>\n      <th>3</th>\n      <td>https://www.goodreads.com/book/show/6.Harry_Po...</td>\n      <td>Harry Potter and the Goblet of Fire (Harry Pot...</td>\n      <td>J.K. Rowling</td>\n      <td>2749673.0</td>\n      <td>49578.0</td>\n      <td>4.0</td>\n      <td>734.0</td>\n      <td>2002.0</td>\n      <td>1.0</td>\n      <td>['Fantasy', 'Young Adult', 'Fiction']</td>\n      <td>['Hugo Award for Best Novel (2001)', \"Mythopoe...</td>\n      <td>[['Hogwarts School of Witchcraft and Wizardry,...</td>\n    </tr>\n    <tr>\n      <th>4</th>\n      <td>https://www.goodreads.com/book/show/2.Harry_Po...</td>\n      <td>Harry Potter and the Order of the Phoenix (Har...</td>\n      <td>J.K. Rowling</td>\n      <td>2653157.0</td>\n      <td>45371.0</td>\n      <td>4.0</td>\n      <td>870.0</td>\n      <td>2004.0</td>\n      <td>1.0</td>\n      <td>['Fantasy', 'Young Adult', 'Fiction']</td>\n      <td>['Bram Stoker Award for Works for Young Reader...</td>\n      <td>[['Hogwarts School of Witchcraft and Wizardry'...</td>\n    </tr>\n  </tbody>\n</table>\n</div>"
          },
          "metadata": {}
        }
      ]
    },
    {
      "cell_type": "code",
      "metadata": {
        "tags": [],
        "cell_id": "00002-1569a56a-dec6-4a19-922c-a2cba1f95015",
        "deepnote_to_be_reexecuted": false,
        "source_hash": "de1e323c",
        "execution_millis": 0,
        "execution_start": 1618329720495,
        "deepnote_cell_type": "code"
      },
      "source": "df.info()",
      "execution_count": null,
      "outputs": [
        {
          "name": "stdout",
          "text": "<class 'pandas.core.frame.DataFrame'>\nRangeIndex: 1000 entries, 0 to 999\nData columns (total 12 columns):\n #   Column             Non-Null Count  Dtype  \n---  ------             --------------  -----  \n 0   URL                1000 non-null   object \n 1   Title              1000 non-null   object \n 2   Author             1000 non-null   object \n 3   Number of Ratings  996 non-null    float64\n 4   Number of Reviews  996 non-null    float64\n 5   Average Ratings    977 non-null    float64\n 6   Number of Pages    993 non-null    float64\n 7   Published Year     995 non-null    float64\n 8   Series             996 non-null    float64\n 9   Genres             993 non-null    object \n 10  Awards             1000 non-null   object \n 11  Places             672 non-null    object \ndtypes: float64(6), object(6)\nmemory usage: 93.9+ KB\n",
          "output_type": "stream"
        }
      ]
    },
    {
      "cell_type": "markdown",
      "source": "We have 12 different columns which can be categorical or numerical data in our data set. Also, we can say that there are some non-values that we should take care of! Let's check how big they are.",
      "metadata": {
        "tags": [],
        "cell_id": "00006-58719b3b-a6a5-41f7-a233-4f264557265e",
        "deepnote_cell_type": "markdown"
      }
    },
    {
      "cell_type": "code",
      "metadata": {
        "tags": [],
        "cell_id": "00003-5eebbc1c-e4bd-4029-99be-c7591d9148bd",
        "deepnote_to_be_reexecuted": false,
        "source_hash": "f7ecc600",
        "execution_millis": 455,
        "execution_start": 1618330409145,
        "deepnote_cell_type": "code"
      },
      "source": "#Heat map of null cells\nfig = plt.figure(figsize=(15,5))\nfig.add_subplot(121)\nplt.title('Nulls of Data')\nsns.heatmap(df.isnull(), cmap='plasma')\nplt.show()",
      "execution_count": null,
      "outputs": [
        {
          "data": {
            "text/plain": "<Figure size 1080x360 with 2 Axes>",
            "image/png": "[encoded data removed]"
          },
          "metadata": {
            "needs_background": "dark"
          },
          "output_type": "display_data"
        }
      ]
    },
    {
      "cell_type": "code",
      "metadata": {
        "tags": [],
        "cell_id": "00004-ae2faa8c-338e-462d-9920-fc15e34d2f14",
        "deepnote_to_be_reexecuted": false,
        "source_hash": "ad9b1920",
        "execution_start": 1618330414475,
        "execution_millis": 14,
        "deepnote_cell_type": "code"
      },
      "source": "print(\"Percentage of Null Values\")\nmissing_percentage = df.isnull().sum() * 100 / len(df) #Calculating percentage of missing values\nmissing_percentage",
      "execution_count": null,
      "outputs": [
        {
          "name": "stdout",
          "text": "Percentage of Null Values\n",
          "output_type": "stream"
        },
        {
          "output_type": "execute_result",
          "execution_count": 25,
          "data": {
            "text/plain": "URL                   0.0\nTitle                 0.0\nAuthor                0.0\nNumber of Ratings     0.4\nNumber of Reviews     0.4\nAverage Ratings       2.3\nNumber of Pages       0.7\nPublished Year        0.5\nSeries                0.4\nGenres                0.7\nAwards                0.0\nPlaces               32.8\ndtype: float64"
          },
          "metadata": {}
        }
      ]
    },
    {
      "cell_type": "markdown",
      "source": "We have pretty less null value in our data set. Only \"Places\" have 32% null value.\n\nLets look at basic statistical information of our data set.",
      "metadata": {
        "tags": [],
        "cell_id": "00010-9a479ca3-a357-49d3-bb4a-b7baebd5ddbb",
        "deepnote_cell_type": "markdown"
      }
    },
    {
      "cell_type": "code",
      "metadata": {
        "tags": [],
        "cell_id": "00010-0e890cec-9711-4167-b872-86e450b677fe",
        "deepnote_to_be_reexecuted": false,
        "source_hash": "f88152d9",
        "execution_start": 1618330575462,
        "execution_millis": 40,
        "deepnote_cell_type": "code"
      },
      "source": "df.describe()",
      "execution_count": null,
      "outputs": [
        {
          "output_type": "execute_result",
          "execution_count": 26,
          "data": {
            "application/vnd.deepnote.dataframe.v2+json": {
              "row_count": 8,
              "column_count": 6,
              "columns": [
                {
                  "name": "Number of Ratings",
                  "dtype": "float64",
                  "stats": {
                    "unique_count": 8,
                    "nan_count": 0,
                    "min": "15.0",
                    "max": "6684900.0",
                    "histogram": [
                      {
                        "bin_start": 15,
                        "bin_end": 668503.5,
                        "count": 7
                      },
                      {
                        "bin_start": 668503.5,
                        "bin_end": 1336992,
                        "count": 0
                      },
                      {
                        "bin_start": 1336992,
                        "bin_end": 2005480.5,
                        "count": 0
                      },
                      {
                        "bin_start": 2005480.5,
                        "bin_end": 2673969,
                        "count": 0
                      },
                      {
                        "bin_start": 2673969,
                        "bin_end": 3342457.5,
                        "count": 0
                      },
                      {
                        "bin_start": 3342457.5,
                        "bin_end": 4010946,
                        "count": 0
                      },
                      {
                        "bin_start": 4010946,
                        "bin_end": 4679434.5,
                        "count": 0
                      },
                      {
                        "bin_start": 4679434.5,
                        "bin_end": 5347923,
                        "count": 0
                      },
                      {
                        "bin_start": 5347923,
                        "bin_end": 6016411.5,
                        "count": 0
                      },
                      {
                        "bin_start": 6016411.5,
                        "bin_end": 6684900,
                        "count": 1
                      }
                    ]
                  }
                },
                {
                  "name": "Number of Reviews",
                  "dtype": "float64",
                  "stats": {
                    "unique_count": 8,
                    "nan_count": 0,
                    "min": "0.0",
                    "max": "175492.0",
                    "histogram": [
                      {
                        "bin_start": 0,
                        "bin_end": 17549.2,
                        "count": 7
                      },
                      {
                        "bin_start": 17549.2,
                        "bin_end": 35098.4,
                        "count": 0
                      },
                      {
                        "bin_start": 35098.4,
                        "bin_end": 52647.600000000006,
                        "count": 0
                      },
                      {
                        "bin_start": 52647.600000000006,
                        "bin_end": 70196.8,
                        "count": 0
                      },
                      {
                        "bin_start": 70196.8,
                        "bin_end": 87746,
                        "count": 0
                      },
                      {
                        "bin_start": 87746,
                        "bin_end": 105295.20000000001,
                        "count": 0
                      },
                      {
                        "bin_start": 105295.20000000001,
                        "bin_end": 122844.40000000001,
                        "count": 0
                      },
                      {
                        "bin_start": 122844.40000000001,
                        "bin_end": 140393.6,
                        "count": 0
                      },
                      {
                        "bin_start": 140393.6,
                        "bin_end": 157942.80000000002,
                        "count": 0
                      },
                      {
                        "bin_start": 157942.80000000002,
                        "bin_end": 175492,
                        "count": 1
                      }
                    ]
                  }
                },
                {
                  "name": "Average Ratings",
                  "dtype": "float64",
                  "stats": {
                    "unique_count": 6,
                    "nan_count": 0,
                    "min": "0.20945084833603483",
                    "max": "977.0",
                    "histogram": [
                      {
                        "bin_start": 0.20945084833603483,
                        "bin_end": 97.88850576350244,
                        "count": 7
                      },
                      {
                        "bin_start": 97.88850576350244,
                        "bin_end": 195.56756067866885,
                        "count": 0
                      },
                      {
                        "bin_start": 195.56756067866885,
                        "bin_end": 293.24661559383526,
                        "count": 0
                      },
                      {
                        "bin_start": 293.24661559383526,
                        "bin_end": 390.92567050900163,
                        "count": 0
                      },
                      {
                        "bin_start": 390.92567050900163,
                        "bin_end": 488.604725424168,
                        "count": 0
                      },
                      {
                        "bin_start": 488.604725424168,
                        "bin_end": 586.2837803393345,
                        "count": 0
                      },
                      {
                        "bin_start": 586.2837803393345,
                        "bin_end": 683.9628352545009,
                        "count": 0
                      },
                      {
                        "bin_start": 683.9628352545009,
                        "bin_end": 781.6418901696672,
                        "count": 0
                      },
                      {
                        "bin_start": 781.6418901696672,
                        "bin_end": 879.3209450848336,
                        "count": 0
                      },
                      {
                        "bin_start": 879.3209450848336,
                        "bin_end": 977,
                        "count": 1
                      }
                    ]
                  }
                },
                {
                  "name": "Number of Pages",
                  "dtype": "float64",
                  "stats": {
                    "unique_count": 8,
                    "nan_count": 0,
                    "min": "6.0",
                    "max": "4100.0",
                    "histogram": [
                      {
                        "bin_start": 6,
                        "bin_end": 415.4,
                        "count": 5
                      },
                      {
                        "bin_start": 415.4,
                        "bin_end": 824.8,
                        "count": 1
                      },
                      {
                        "bin_start": 824.8,
                        "bin_end": 1234.1999999999998,
                        "count": 1
                      },
                      {
                        "bin_start": 1234.1999999999998,
                        "bin_end": 1643.6,
                        "count": 0
                      },
                      {
                        "bin_start": 1643.6,
                        "bin_end": 2053,
                        "count": 0
                      },
                      {
                        "bin_start": 2053,
                        "bin_end": 2462.3999999999996,
                        "count": 0
                      },
                      {
                        "bin_start": 2462.3999999999996,
                        "bin_end": 2871.7999999999997,
                        "count": 0
                      },
                      {
                        "bin_start": 2871.7999999999997,
                        "bin_end": 3281.2,
                        "count": 0
                      },
                      {
                        "bin_start": 3281.2,
                        "bin_end": 3690.6,
                        "count": 0
                      },
                      {
                        "bin_start": 3690.6,
                        "bin_end": 4100,
                        "count": 1
                      }
                    ]
                  }
                },
                {
                  "name": "Published Year",
                  "dtype": "float64",
                  "stats": {
                    "unique_count": 8,
                    "nan_count": 0,
                    "min": "2.637521376895164",
                    "max": "2018.0",
                    "histogram": [
                      {
                        "bin_start": 2.637521376895164,
                        "bin_end": 204.17376923920565,
                        "count": 1
                      },
                      {
                        "bin_start": 204.17376923920565,
                        "bin_end": 405.71001710151614,
                        "count": 0
                      },
                      {
                        "bin_start": 405.71001710151614,
                        "bin_end": 607.2462649638267,
                        "count": 0
                      },
                      {
                        "bin_start": 607.2462649638267,
                        "bin_end": 808.7825128261371,
                        "count": 0
                      },
                      {
                        "bin_start": 808.7825128261371,
                        "bin_end": 1010.3187606884476,
                        "count": 1
                      },
                      {
                        "bin_start": 1010.3187606884476,
                        "bin_end": 1211.8550085507582,
                        "count": 0
                      },
                      {
                        "bin_start": 1211.8550085507582,
                        "bin_end": 1413.3912564130685,
                        "count": 0
                      },
                      {
                        "bin_start": 1413.3912564130685,
                        "bin_end": 1614.927504275379,
                        "count": 0
                      },
                      {
                        "bin_start": 1614.927504275379,
                        "bin_end": 1816.4637521376897,
                        "count": 0
                      },
                      {
                        "bin_start": 1816.4637521376897,
                        "bin_end": 2018,
                        "count": 6
                      }
                    ]
                  }
                },
                {
                  "name": "Series",
                  "dtype": "float64",
                  "stats": {
                    "unique_count": 5,
                    "nan_count": 0,
                    "min": "0.0",
                    "max": "996.0",
                    "histogram": [
                      {
                        "bin_start": 0,
                        "bin_end": 99.6,
                        "count": 7
                      },
                      {
                        "bin_start": 99.6,
                        "bin_end": 199.2,
                        "count": 0
                      },
                      {
                        "bin_start": 199.2,
                        "bin_end": 298.79999999999995,
                        "count": 0
                      },
                      {
                        "bin_start": 298.79999999999995,
                        "bin_end": 398.4,
                        "count": 0
                      },
                      {
                        "bin_start": 398.4,
                        "bin_end": 498,
                        "count": 0
                      },
                      {
                        "bin_start": 498,
                        "bin_end": 597.5999999999999,
                        "count": 0
                      },
                      {
                        "bin_start": 597.5999999999999,
                        "bin_end": 697.1999999999999,
                        "count": 0
                      },
                      {
                        "bin_start": 697.1999999999999,
                        "bin_end": 796.8,
                        "count": 0
                      },
                      {
                        "bin_start": 796.8,
                        "bin_end": 896.4,
                        "count": 0
                      },
                      {
                        "bin_start": 896.4,
                        "bin_end": 996,
                        "count": 1
                      }
                    ]
                  }
                },
                {
                  "name": "_deepnote_index_column",
                  "dtype": "object"
                }
              ],
              "rows_top": [
                {
                  "Number of Ratings": 996,
                  "Number of Reviews": 996,
                  "Average Ratings": 977,
                  "Number of Pages": 993,
                  "Published Year": 995,
                  "Series": 996,
                  "_deepnote_index_column": "count"
                },
                {
                  "Number of Ratings": 184067.3232931727,
                  "Number of Reviews": 7862.584337349397,
                  "Average Ratings": 3.9651995905834188,
                  "Number of Pages": 412.0906344410876,
                  "Published Year": 2006.0472361809045,
                  "Series": 0.5080321285140562,
                  "_deepnote_index_column": "mean"
                },
                {
                  "Number of Ratings": 433172.038797276,
                  "Number of Reviews": 13197.642298498291,
                  "Average Ratings": 0.20945084833603483,
                  "Number of Pages": 216.79221098752413,
                  "Published Year": 2.637521376895164,
                  "Series": 0.5001866415185994,
                  "_deepnote_index_column": "std"
                },
                {
                  "Number of Ratings": 15,
                  "Number of Reviews": 0,
                  "Average Ratings": 3,
                  "Number of Pages": 6,
                  "Published Year": 1998,
                  "Series": 0,
                  "_deepnote_index_column": "min"
                },
                {
                  "Number of Ratings": 29872.25,
                  "Number of Reviews": 1799,
                  "Average Ratings": 4,
                  "Number of Pages": 301,
                  "Published Year": 2004,
                  "Series": 0,
                  "_deepnote_index_column": "25%"
                },
                {
                  "Number of Ratings": 71368,
                  "Number of Reviews": 3673,
                  "Average Ratings": 4,
                  "Number of Pages": 374,
                  "Published Year": 2006,
                  "Series": 1,
                  "_deepnote_index_column": "50%"
                },
                {
                  "Number of Ratings": 157119.75,
                  "Number of Reviews": 7992.5,
                  "Average Ratings": 4,
                  "Number of Pages": 471,
                  "Published Year": 2008,
                  "Series": 1,
                  "_deepnote_index_column": "75%"
                },
                {
                  "Number of Ratings": 6684900,
                  "Number of Reviews": 175492,
                  "Average Ratings": 5,
                  "Number of Pages": 4100,
                  "Published Year": 2018,
                  "Series": 1,
                  "_deepnote_index_column": "max"
                }
              ],
              "rows_bottom": null
            },
            "text/plain": "       Number of Ratings  Number of Reviews  Average Ratings  Number of Pages  \\\ncount       9.960000e+02         996.000000       977.000000       993.000000   \nmean        1.840673e+05        7862.584337         3.965200       412.090634   \nstd         4.331720e+05       13197.642298         0.209451       216.792211   \nmin         1.500000e+01           0.000000         3.000000         6.000000   \n25%         2.987225e+04        1799.000000         4.000000       301.000000   \n50%         7.136800e+04        3673.000000         4.000000       374.000000   \n75%         1.571198e+05        7992.500000         4.000000       471.000000   \nmax         6.684900e+06      175492.000000         5.000000      4100.000000   \n\n       Published Year      Series  \ncount      995.000000  996.000000  \nmean      2006.047236    0.508032  \nstd          2.637521    0.500187  \nmin       1998.000000    0.000000  \n25%       2004.000000    0.000000  \n50%       2006.000000    1.000000  \n75%       2008.000000    1.000000  \nmax       2018.000000    1.000000  ",
            "text/html": "<div>\n<style scoped>\n    .dataframe tbody tr th:only-of-type {\n        vertical-align: middle;\n    }\n\n    .dataframe tbody tr th {\n        vertical-align: top;\n    }\n\n    .dataframe thead th {\n        text-align: right;\n    }\n</style>\n<table border=\"1\" class=\"dataframe\">\n  <thead>\n    <tr style=\"text-align: right;\">\n      <th></th>\n      <th>Number of Ratings</th>\n      <th>Number of Reviews</th>\n      <th>Average Ratings</th>\n      <th>Number of Pages</th>\n      <th>Published Year</th>\n      <th>Series</th>\n    </tr>\n  </thead>\n  <tbody>\n    <tr>\n      <th>count</th>\n      <td>9.960000e+02</td>\n      <td>996.000000</td>\n      <td>977.000000</td>\n      <td>993.000000</td>\n      <td>995.000000</td>\n      <td>996.000000</td>\n    </tr>\n    <tr>\n      <th>mean</th>\n      <td>1.840673e+05</td>\n      <td>7862.584337</td>\n      <td>3.965200</td>\n      <td>412.090634</td>\n      <td>2006.047236</td>\n      <td>0.508032</td>\n    </tr>\n    <tr>\n      <th>std</th>\n      <td>4.331720e+05</td>\n      <td>13197.642298</td>\n      <td>0.209451</td>\n      <td>216.792211</td>\n      <td>2.637521</td>\n      <td>0.500187</td>\n    </tr>\n    <tr>\n      <th>min</th>\n      <td>1.500000e+01</td>\n      <td>0.000000</td>\n      <td>3.000000</td>\n      <td>6.000000</td>\n      <td>1998.000000</td>\n      <td>0.000000</td>\n    </tr>\n    <tr>\n      <th>25%</th>\n      <td>2.987225e+04</td>\n      <td>1799.000000</td>\n      <td>4.000000</td>\n      <td>301.000000</td>\n      <td>2004.000000</td>\n      <td>0.000000</td>\n    </tr>\n    <tr>\n      <th>50%</th>\n      <td>7.136800e+04</td>\n      <td>3673.000000</td>\n      <td>4.000000</td>\n      <td>374.000000</td>\n      <td>2006.000000</td>\n      <td>1.000000</td>\n    </tr>\n    <tr>\n      <th>75%</th>\n      <td>1.571198e+05</td>\n      <td>7992.500000</td>\n      <td>4.000000</td>\n      <td>471.000000</td>\n      <td>2008.000000</td>\n      <td>1.000000</td>\n    </tr>\n    <tr>\n      <th>max</th>\n      <td>6.684900e+06</td>\n      <td>175492.000000</td>\n      <td>5.000000</td>\n      <td>4100.000000</td>\n      <td>2018.000000</td>\n      <td>1.000000</td>\n    </tr>\n  </tbody>\n</table>\n</div>"
          },
          "metadata": {}
        }
      ]
    },
    {
      "cell_type": "code",
      "metadata": {
        "tags": [],
        "cell_id": "00012-652695cd-e816-4059-b329-9bfed2a5baf4",
        "deepnote_cell_type": "code"
      },
      "source": "",
      "execution_count": null,
      "outputs": []
    },
    {
      "cell_type": "markdown",
      "source": "<a style='text-decoration:none;line-height:16px;display:flex;color:#5B5B62;padding:10px;justify-content:end;' href='https://deepnote.com?utm_source=created-in-deepnote-cell&projectId=a0867bd3-5624-476b-af8a-bd1f917bd510' target=\"_blank\">\n<img alt='Created in deepnote.com' style='display:inline;max-height:16px;margin:0px;margin-right:7.5px;' src='data:image/svg+xml;base64,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' > </img>\nCreated in <span style='font-weight:600;margin-left:4px;'>Deepnote</span></a>",
      "metadata": {
        "tags": [],
        "created_in_deepnote_cell": true,
        "deepnote_cell_type": "markdown"
      }
    }
  ],
  "nbformat": 4,
  "nbformat_minor": 2,
  "metadata": {
    "orig_nbformat": 2,
    "deepnote": {
      "is_reactive": false
    },
    "deepnote_notebook_id": "66a0c235-95ed-4dba-bb5e-30b31abf3ce2",
    "deepnote_execution_queue": []
  }
}