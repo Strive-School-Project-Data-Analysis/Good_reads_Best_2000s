{
  "cells": [
    {
      "cell_type": "code",
      "metadata": {
        "tags": [],
        "cell_id": "00000-935d6674-7799-4dc3-8bd5-872878f83ee9",
        "deepnote_to_be_reexecuted": false,
        "source_hash": "c76c7c51",
        "execution_start": 1618327719318,
        "execution_millis": 3,
        "deepnote_cell_type": "code"
      },
      "source": "import pandas as pd\nimport numpy as np",
      "execution_count": 1,
      "outputs": []
    },
    {
      "cell_type": "code",
      "source": "df=pd.read_csv(\"/work/Good_reads_Best_2000s/Data.csv\")",
      "metadata": {
        "tags": [],
        "cell_id": "00001-f8714e80-49cc-4fe2-aac2-f7247067defc",
        "deepnote_to_be_reexecuted": false,
        "source_hash": "4c765026",
        "execution_millis": 20,
        "execution_start": 1618327823015,
        "deepnote_cell_type": "code"
      },
      "outputs": [],
      "execution_count": 4
    },
    {
      "cell_type": "code",
      "source": "df",
      "metadata": {
        "tags": [],
        "cell_id": "00002-1569a56a-dec6-4a19-922c-a2cba1f95015",
        "deepnote_to_be_reexecuted": false,
        "source_hash": "f804c160",
        "execution_start": 1618327825430,
        "execution_millis": 85,
        "deepnote_cell_type": "code"
      },
      "outputs": [
        {
          "output_type": "execute_result",
          "execution_count": 5,
          "data": {
            "application/vnd.deepnote.dataframe.v2+json": {
              "row_count": 1000,
              "column_count": 12,
              "columns": [
                {
                  "name": "URL",
                  "dtype": "object",
                  "stats": {
                    "unique_count": 1000,
                    "nan_count": 0,
                    "categories": [
                      {
                        "name": "https://www.goodreads.com/book/show/136251.Harry_Potter_and_the_Deathly_Hallows\"",
                        "count": 1
                      },
                      {
                        "name": "https://www.goodreads.com/book/show/2767052-the-hunger-games\"",
                        "count": 1
                      },
                      {
                        "name": "998 others",
                        "count": 998
                      }
                    ]
                  }
                },
                {
                  "name": "Title",
                  "dtype": "object",
                  "stats": {
                    "unique_count": 1000,
                    "nan_count": 0,
                    "categories": [
                      {
                        "name": "Harry Potter and the Deathly Hallows (Harry Potter, #7)",
                        "count": 1
                      },
                      {
                        "name": "The Hunger Games (The Hunger Games, #1)",
                        "count": 1
                      },
                      {
                        "name": "998 others",
                        "count": 998
                      }
                    ]
                  }
                },
                {
                  "name": "Author",
                  "dtype": "object",
                  "stats": {
                    "unique_count": 76,
                    "nan_count": 0,
                    "categories": [
                      {
                        "name": "J.K. Rowling",
                        "count": 50
                      },
                      {
                        "name": "Stephenie Meyer",
                        "count": 50
                      },
                      {
                        "name": "74 others",
                        "count": 900
                      }
                    ]
                  }
                },
                {
                  "name": "Number of Ratings",
                  "dtype": "float64",
                  "stats": {
                    "unique_count": 995,
                    "nan_count": 4,
                    "min": "15.0",
                    "max": "6684900.0",
                    "histogram": [
                      {
                        "bin_start": 15,
                        "bin_end": 668503.5,
                        "count": 943
                      },
                      {
                        "bin_start": 668503.5,
                        "bin_end": 1336992,
                        "count": 29
                      },
                      {
                        "bin_start": 1336992,
                        "bin_end": 2005480.5,
                        "count": 10
                      },
                      {
                        "bin_start": 2005480.5,
                        "bin_end": 2673969,
                        "count": 8
                      },
                      {
                        "bin_start": 2673969,
                        "bin_end": 3342457.5,
                        "count": 4
                      },
                      {
                        "bin_start": 3342457.5,
                        "bin_end": 4010946,
                        "count": 0
                      },
                      {
                        "bin_start": 4010946,
                        "bin_end": 4679434.5,
                        "count": 0
                      },
                      {
                        "bin_start": 4679434.5,
                        "bin_end": 5347923,
                        "count": 1
                      },
                      {
                        "bin_start": 5347923,
                        "bin_end": 6016411.5,
                        "count": 0
                      },
                      {
                        "bin_start": 6016411.5,
                        "bin_end": 6684900,
                        "count": 1
                      }
                    ]
                  }
                },
                {
                  "name": "Number of Reviews",
                  "dtype": "float64",
                  "stats": {
                    "unique_count": 963,
                    "nan_count": 4,
                    "min": "0.0",
                    "max": "175492.0",
                    "histogram": [
                      {
                        "bin_start": 0,
                        "bin_end": 17549.2,
                        "count": 888
                      },
                      {
                        "bin_start": 17549.2,
                        "bin_end": 35098.4,
                        "count": 68
                      },
                      {
                        "bin_start": 35098.4,
                        "bin_end": 52647.600000000006,
                        "count": 24
                      },
                      {
                        "bin_start": 52647.600000000006,
                        "bin_end": 70196.8,
                        "count": 10
                      },
                      {
                        "bin_start": 70196.8,
                        "bin_end": 87746,
                        "count": 2
                      },
                      {
                        "bin_start": 87746,
                        "bin_end": 105295.20000000001,
                        "count": 1
                      },
                      {
                        "bin_start": 105295.20000000001,
                        "bin_end": 122844.40000000001,
                        "count": 2
                      },
                      {
                        "bin_start": 122844.40000000001,
                        "bin_end": 140393.6,
                        "count": 0
                      },
                      {
                        "bin_start": 140393.6,
                        "bin_end": 157942.80000000002,
                        "count": 0
                      },
                      {
                        "bin_start": 157942.80000000002,
                        "bin_end": 175492,
                        "count": 1
                      }
                    ]
                  }
                },
                {
                  "name": "Average Ratings",
                  "dtype": "float64",
                  "stats": {
                    "unique_count": 3,
                    "nan_count": 23,
                    "min": "3.0",
                    "max": "5.0",
                    "histogram": [
                      {
                        "bin_start": 3,
                        "bin_end": 3.2,
                        "count": 39
                      },
                      {
                        "bin_start": 3.2,
                        "bin_end": 3.4,
                        "count": 0
                      },
                      {
                        "bin_start": 3.4,
                        "bin_end": 3.6,
                        "count": 0
                      },
                      {
                        "bin_start": 3.6,
                        "bin_end": 3.8,
                        "count": 0
                      },
                      {
                        "bin_start": 3.8,
                        "bin_end": 4,
                        "count": 0
                      },
                      {
                        "bin_start": 4,
                        "bin_end": 4.2,
                        "count": 933
                      },
                      {
                        "bin_start": 4.2,
                        "bin_end": 4.4,
                        "count": 0
                      },
                      {
                        "bin_start": 4.4,
                        "bin_end": 4.6,
                        "count": 0
                      },
                      {
                        "bin_start": 4.6,
                        "bin_end": 4.8,
                        "count": 0
                      },
                      {
                        "bin_start": 4.8,
                        "bin_end": 5,
                        "count": 5
                      }
                    ]
                  }
                },
                {
                  "name": "Number of Pages",
                  "dtype": "float64",
                  "stats": {
                    "unique_count": 450,
                    "nan_count": 7,
                    "min": "6.0",
                    "max": "4100.0",
                    "histogram": [
                      {
                        "bin_start": 6,
                        "bin_end": 415.4,
                        "count": 617
                      },
                      {
                        "bin_start": 415.4,
                        "bin_end": 824.8,
                        "count": 342
                      },
                      {
                        "bin_start": 824.8,
                        "bin_end": 1234.1999999999998,
                        "count": 29
                      },
                      {
                        "bin_start": 1234.1999999999998,
                        "bin_end": 1643.6,
                        "count": 4
                      },
                      {
                        "bin_start": 1643.6,
                        "bin_end": 2053,
                        "count": 0
                      },
                      {
                        "bin_start": 2053,
                        "bin_end": 2462.3999999999996,
                        "count": 0
                      },
                      {
                        "bin_start": 2462.3999999999996,
                        "bin_end": 2871.7999999999997,
                        "count": 0
                      },
                      {
                        "bin_start": 2871.7999999999997,
                        "bin_end": 3281.2,
                        "count": 0
                      },
                      {
                        "bin_start": 3281.2,
                        "bin_end": 3690.6,
                        "count": 0
                      },
                      {
                        "bin_start": 3690.6,
                        "bin_end": 4100,
                        "count": 1
                      }
                    ]
                  }
                },
                {
                  "name": "Published Year",
                  "dtype": "float64",
                  "stats": {
                    "unique_count": 21,
                    "nan_count": 5,
                    "min": "1998.0",
                    "max": "2018.0",
                    "histogram": [
                      {
                        "bin_start": 1998,
                        "bin_end": 2000,
                        "count": 2
                      },
                      {
                        "bin_start": 2000,
                        "bin_end": 2002,
                        "count": 48
                      },
                      {
                        "bin_start": 2002,
                        "bin_end": 2004,
                        "count": 121
                      },
                      {
                        "bin_start": 2004,
                        "bin_end": 2006,
                        "count": 186
                      },
                      {
                        "bin_start": 2006,
                        "bin_end": 2008,
                        "count": 355
                      },
                      {
                        "bin_start": 2008,
                        "bin_end": 2010,
                        "count": 239
                      },
                      {
                        "bin_start": 2010,
                        "bin_end": 2012,
                        "count": 26
                      },
                      {
                        "bin_start": 2012,
                        "bin_end": 2014,
                        "count": 7
                      },
                      {
                        "bin_start": 2014,
                        "bin_end": 2016,
                        "count": 5
                      },
                      {
                        "bin_start": 2016,
                        "bin_end": 2018,
                        "count": 6
                      }
                    ]
                  }
                },
                {
                  "name": "Series",
                  "dtype": "float64",
                  "stats": {
                    "unique_count": 2,
                    "nan_count": 4,
                    "min": "0.0",
                    "max": "1.0",
                    "histogram": [
                      {
                        "bin_start": 0,
                        "bin_end": 0.1,
                        "count": 490
                      },
                      {
                        "bin_start": 0.1,
                        "bin_end": 0.2,
                        "count": 0
                      },
                      {
                        "bin_start": 0.2,
                        "bin_end": 0.30000000000000004,
                        "count": 0
                      },
                      {
                        "bin_start": 0.30000000000000004,
                        "bin_end": 0.4,
                        "count": 0
                      },
                      {
                        "bin_start": 0.4,
                        "bin_end": 0.5,
                        "count": 0
                      },
                      {
                        "bin_start": 0.5,
                        "bin_end": 0.6000000000000001,
                        "count": 0
                      },
                      {
                        "bin_start": 0.6000000000000001,
                        "bin_end": 0.7000000000000001,
                        "count": 0
                      },
                      {
                        "bin_start": 0.7000000000000001,
                        "bin_end": 0.8,
                        "count": 0
                      },
                      {
                        "bin_start": 0.8,
                        "bin_end": 0.9,
                        "count": 0
                      },
                      {
                        "bin_start": 0.9,
                        "bin_end": 1,
                        "count": 506
                      }
                    ]
                  }
                },
                {
                  "name": "Genres",
                  "dtype": "object",
                  "stats": {
                    "unique_count": 429,
                    "nan_count": 7,
                    "categories": [
                      {
                        "name": "['Fantasy', 'Young Adult', 'Fiction']",
                        "count": 59
                      },
                      {
                        "name": "428 others",
                        "count": 934
                      },
                      {
                        "name": "Missing",
                        "count": 7
                      }
                    ]
                  }
                },
                {
                  "name": "Awards",
                  "dtype": "object",
                  "stats": {
                    "unique_count": 608,
                    "nan_count": 0,
                    "categories": [
                      {
                        "name": "[]",
                        "count": 382
                      },
                      {
                        "name": "['Margaret A. Edwards Award (2013)']",
                        "count": 3
                      },
                      {
                        "name": "606 others",
                        "count": 615
                      }
                    ]
                  }
                },
                {
                  "name": "Places",
                  "dtype": "object",
                  "stats": {
                    "unique_count": 591,
                    "nan_count": 328,
                    "categories": [
                      {
                        "name": "[['United States of America']]",
                        "count": 18
                      },
                      {
                        "name": "590 others",
                        "count": 654
                      },
                      {
                        "name": "Missing",
                        "count": 328
                      }
                    ]
                  }
                },
                {
                  "name": "_deepnote_index_column",
                  "dtype": "int64"
                }
              ],
              "rows_top": [
                {
                  "URL": "https://www.goodreads.com/book/show/136251.Harry_Potter_and_the_Deathly_Hallows\"",
                  "Title": "Harry Potter and the Deathly Hallows (Harry Potter, #7)",
                  "Author": "J.K. Rowling",
                  "Number of Ratings": 2959288,
                  "Number of Reviews": 68446,
                  "Average Ratings": 5,
                  "Number of Pages": 759,
                  "Published Year": 2007,
                  "Series": 1,
                  "Genres": "['Fantasy', 'Young Adult', 'Fiction']",
                  "Awards": "['Locus Award Nominee for Best Young Adult Novel (2008)', 'Odyssey Award Nominee (2008)', 'Audie Award (2008)', 'Books I Loved Best Yearly (BILBY) Awards for Older Readers (2008)', 'Teen Read Award Nominee for Best All-Time-Fave (2010)', 'Puddly Award for Fiction (2008)', 'Andre Norton Award (2007)', 'Carnegie Medal Nominee (2008)']",
                  "Places": "[['London, England', '(United Kingdom)'], ['Hogwarts School of Witchcraft and Wizardry', '(United Kingdom)'], ['Pagford', '(United Kingdom)']]",
                  "_deepnote_index_column": 0
                },
                {
                  "URL": "https://www.goodreads.com/book/show/2767052-the-hunger-games\"",
                  "Title": "The Hunger Games (The Hunger Games, #1)",
                  "Author": "Suzanne Collins",
                  "Number of Ratings": 6684900,
                  "Number of Reviews": 175492,
                  "Average Ratings": 4,
                  "Number of Pages": 374,
                  "Published Year": 2008,
                  "Series": 1,
                  "Genres": "['Young Adult', 'Fiction', 'Dystopia']",
                  "Awards": "['Locus Award Nominee for Best Young Adult Book (2009)', 'Georgia Peach Book Award (2009)', 'Buxtehuder Bulle (2009)', 'Golden Duck Award for Young Adult (Hal Clement Award) (2009)', \"Grand Prix de l'Imaginaire Nominee for Roman jeunesse étranger (2010)\", 'Books I Loved Best Yearly (BILBY) Awards for Older Readers (2012)', \"West Australian Young Readers' Book Award (WAYRBA) for Older Readers (2010)\", \"Red House Children's Book Award for Older Readers & Overall (2010)\", 'South Carolina Book Award for Junior and Young Adult Book (2011)', 'Charlotte Award (2010)', 'Colorado Blue Spruce Young Adult Book Award (2010)', 'Teen Buckeye Book Award (2009)', \"Pennsylvania Young Readers' Choice Award for Young Adults (2010)\", 'Rhode Island Teen Book Award (2010)', \"Dorothy Canfield Fisher Children's Book Award (2010)\", 'Evergreen Teen Book Award (2011)', 'Soaring Eagle Book Award (2009)', 'Milwaukee County Teen Book Award Nominee (2010)', 'Sakura Medal for Middle School Book (2010)', 'Michigan Library Association Thumbs Up! Award (2009)', 'Florida Teens Read (2009)', 'Deutscher Jugendliteraturpreis for Preis der Jugendjury (2010)', 'Iowa High School Book Award (2011)', 'New Mexico Land of Enchantment Award for Young Adult (2011)', 'Eliot Rosewater Indiana High School Book Award (2010)', 'The Inky Awards for Silver Inky (2009)', 'California Young Readers Medal for Young Adult (2011)', 'Lincoln Award (2011)', 'Kinderboekwinkelprijs (2010)', 'Missouri Truman Readers Award (2011)', 'CYBILS Award for Young Adult Fantasy & Science Fiction (2008)', 'Literaturpreis der Jury der jungen Leser for Jugendbuch (2010)', 'The Inky Awards Shortlist for Silver Inky (2009)', 'Prix Et-lisez-moi (2011)', 'Missouri Gateway Readers Award (2011)', 'Oklahoma Sequoyah Award for High School and Intermediate (2011)', 'Premio El Templo de las Mil Puertas for Mejor novela extranjera perteneciente a saga (2009)', \"Rebecca Caudill Young Readers' Book Award (2011)\", 'LovelyBooks Leserpreis for Fantasy (2009)', 'LovelyBooks Leserpreis for Bestes Cover/Umschlag (2009)', 'Premi Protagonista Jove for Categoria 13-14 anys (2010)']",
                  "Places": "[['District 12, Panem', 'Capitol, Panem', 'Panem', '(United States)']]",
                  "_deepnote_index_column": 1
                },
                {
                  "URL": "https://www.goodreads.com/book/show/1.Harry_Potter_and_the_Half_Blood_Prince\"",
                  "Title": "Harry Potter and the Half-Blood Prince (Harry Potter, #6)",
                  "Author": "J.K. Rowling",
                  "Number of Ratings": 2575144,
                  "Number of Reviews": 42015,
                  "Average Ratings": 4,
                  "Number of Pages": 652,
                  "Published Year": 2006,
                  "Series": 1,
                  "Genres": "['Fantasy', 'Young Adult', 'Fiction']",
                  "Awards": "['Locus Award Nominee for Best Young Adult Novel (2006)', 'Audie Award for Audiobook of the Year (2006)', 'British Book of the Year (2006)']",
                  "Places": "[['Hogwarts School of Witchcraft and Wizardry', '(United Kingdom)'], ['England', '(United Kingdom)']]",
                  "_deepnote_index_column": 2
                },
                {
                  "URL": "https://www.goodreads.com/book/show/6.Harry_Potter_and_the_Goblet_of_Fire\"",
                  "Title": "Harry Potter and the Goblet of Fire (Harry Potter, #4)",
                  "Author": "J.K. Rowling",
                  "Number of Ratings": 2749673,
                  "Number of Reviews": 49578,
                  "Average Ratings": 4,
                  "Number of Pages": 734,
                  "Published Year": 2002,
                  "Series": 1,
                  "Genres": "['Fantasy', 'Young Adult', 'Fiction']",
                  "Awards": "['Hugo Award for Best Novel (2001)', \"Mythopoeic Fantasy Award for Children's Literature (2008)\", 'Publieksprijs voor het Nederlandse Boek (2001)', 'Audie Award for Solo Narration - Male (2001)', \"West Australian Young Readers' Book Award (WAYRBA) for Younger Readers (2001)\", 'Golden Archer Award for Middle/Junior High (2002)', 'Indian Paintbrush Book Award (2002)', 'Deutscher Bücherpreis for Publikumspreis', 'Corine Internationaler Buchpreis for Kinder- und Jugendbuch (2001)']",
                  "Places": "[['Hogwarts School of Witchcraft and Wizardry,\\n1994', '(United Kingdom)'], ['Scotland', 'United Kingdom']]",
                  "_deepnote_index_column": 3
                },
                {
                  "URL": "https://www.goodreads.com/book/show/2.Harry_Potter_and_the_Order_of_the_Phoenix\"",
                  "Title": "Harry Potter and the Order of the Phoenix (Harry Potter, #5)",
                  "Author": "J.K. Rowling",
                  "Number of Ratings": 2653157,
                  "Number of Reviews": 45371,
                  "Average Ratings": 4,
                  "Number of Pages": 870,
                  "Published Year": 2004,
                  "Series": 1,
                  "Genres": "['Fantasy', 'Young Adult', 'Fiction']",
                  "Awards": "['Bram Stoker Award for Works for Young Readers (2003)', 'Anthony Award for Young Adult (2004)', \"Mythopoeic Fantasy Award for Children's Literature (2008)\", 'Audie Award for Audiobook of the Year (2004)', 'Books I Loved Best Yearly (BILBY) Awards for Older Readers (2004)', 'Colorado Blue Spruce Young Adult Book Award (2006)', 'Golden Archer Award for Middle/Junior High (2005)', 'Deutscher Jugendliteraturpreis Nominee for Preis der Jugendjury (2004)', 'Carnegie Medal Nominee (2003)']",
                  "Places": "[['Hogwarts School of Witchcraft and Wizardry', '(United Kingdom)'], ['London, England', '(United Kingdom)']]",
                  "_deepnote_index_column": 4
                },
                {
                  "URL": "https://www.goodreads.com/book/show/19063.The_Book_Thief\"",
                  "Title": "The Book Thief",
                  "Author": "Markus Zusak",
                  "Number of Ratings": 1941773,
                  "Number of Reviews": 116799,
                  "Average Ratings": 4,
                  "Number of Pages": 552,
                  "Published Year": 2006,
                  "Series": 0,
                  "Genres": "['Historical Fiction', 'Fiction', 'Young Adult']",
                  "Awards": "['National Jewish Book Award for Children’s and Young Adult Literature (2006)', \"Book Sense Book of the Year Award for Children's Literature (2007)\", 'Buxtehuder Bulle (2008)', 'Sydney Taylor Book Award for Teen Readers (2007)', 'Prijs van de Kinder- en Jeugdjury Vlaanderen (2009)', 'Michael L. Printz Award Nominee (2007)', 'Exclusive Books Boeke Prize (2007)', 'Rhode Island Teen Book Award Nominee (2008)', 'The Quill Award Nominee for Young Adult/Teen (2006)', 'Zilveren Zoen (2008)', 'Teen Read Award Nominee for Best All-Time-Fave (2010)', 'Deutscher Jugendliteraturpreis for Preis der Jugendjury (2009)', 'Association of Jewish Libraries for Teen Book Award (2006)', 'Lincoln Award Nominee (2010)', 'Australian Book Industry Award (ABIA) Nominee for Literary Fiction (2008)', 'Kathleen Mitchell Award', 'Ena Noel Award (2008)', 'Literaturpreis der Jury der jungen Leser for Jugendbuch (2009)', 'LovelyBooks Leserpreis for Allgemeine Literatur (2009)', 'Margaret A. Edwards Award (2014)']",
                  "Places": "[['Molching,\\n1939', '(Germany)'], ['Germany']]",
                  "_deepnote_index_column": 5
                },
                {
                  "URL": "https://www.goodreads.com/book/show/18619684-the-time-traveler-s-wife\"",
                  "Title": "The Time Traveler's Wife",
                  "Author": "Audrey Niffenegger",
                  "Number of Ratings": 1619596,
                  "Number of Reviews": 47976,
                  "Average Ratings": 4,
                  "Number of Pages": 500,
                  "Published Year": 2013,
                  "Series": 0,
                  "Genres": "['Fiction', 'Romance', 'Fantasy']",
                  "Awards": "['Arthur C. Clarke Award Nominee (2005)', 'Orange Prize Nominee for Fiction Longlist (2004)', 'British Book Award (2006)', 'John W. Campbell Memorial Award Nominee for Best Science Fiction Novel (2005)', 'Exclusive Books Boeke Prize (2005)', 'ALA Alex Award (2004)']",
                  "Places": "[['Chicago, Illinois', '(United States)'], ['Illinois', '(United States)']]",
                  "_deepnote_index_column": 6
                },
                {
                  "URL": "https://www.goodreads.com/book/show/77203.The_Kite_Runner\"",
                  "Title": "The Kite Runner",
                  "Author": "Khaled Hosseini",
                  "Number of Ratings": 2538075,
                  "Number of Reviews": 76666,
                  "Average Ratings": 4,
                  "Number of Pages": 371,
                  "Published Year": 2004,
                  "Series": 0,
                  "Genres": "['Fiction', 'Historical Fiction', 'Contemporary']",
                  "Awards": "['Borders Original Voices Award for Fiction (2003)', \"Humo's Gouden Bladwijzer (2008)\", 'Exclusive Books Boeke Prize (2004)', 'ALA Alex Award (2004)', 'Puddly Award for Fiction (2006)', 'Lincoln Award Nominee (2006)', 'Prix des libraires du Québec for Lauréats hors Québec (2006)', 'LovelyBooks Leserpreis Nominee for Allgemeine Literatur (2009)']",
                  "Places": "[['Kabul', '(Afghanistan)'], ['Fremont, California', '(United States)'], ['Afghanistan', '…more\\nPeshawar', '(Pakistan)'], ['…less']]",
                  "_deepnote_index_column": 7
                },
                {
                  "URL": "https://www.goodreads.com/book/show/4667024-the-help\"",
                  "Title": "The Help",
                  "Author": "Kathryn Stockett",
                  "Number of Ratings": 2265595,
                  "Number of Reviews": 85532,
                  "Average Ratings": 4,
                  "Number of Pages": 464,
                  "Published Year": 2009,
                  "Series": 0,
                  "Genres": "['Fiction', 'Historical Fiction', 'Historical']",
                  "Awards": "['Orange Prize Nominee for Fiction Longlist (2010)', 'Audie Award for Fiction (2010)', 'Exclusive Books Boeke Prize (2009)', 'SIBA Book Award for Fiction (2010)', 'Indies Choice Book Award for Adult Debut (2010)', 'Puddly Award for Fiction (2011)', 'Lincoln Award Nominee (2013)', 'Grand Prix des lectrices de Elle for roman (2011)', 'Goodreads Choice Award for Fiction (2009) and Nominee for Best of the Best  (2018)', 'Townsend Prize for Fiction (2010)']",
                  "Places": "[['Jackson, Mississippi,\\n1962', '(United States)'], ['Jackson, Mississippi', '(United States)'], ['Mississippi', '(United States)']]",
                  "_deepnote_index_column": 8
                },
                {
                  "URL": "https://www.goodreads.com/book/show/128029.A_Thousand_Splendid_Suns\"",
                  "Title": "A Thousand Splendid Suns",
                  "Author": "Khaled Hosseini",
                  "Number of Ratings": 1208082,
                  "Number of Reviews": 56651,
                  "Average Ratings": 4,
                  "Number of Pages": 372,
                  "Published Year": 2007,
                  "Series": 0,
                  "Genres": "['Fiction', 'Historical Fiction', 'Contemporary']",
                  "Awards": "['British Book Award for Best Read of the Year (2008)', 'Book Sense Book of the Year Award for Adult Fiction (2008)', 'California Book Award for Fiction (Silver) (2007)', 'Exclusive Books Boeke Prize Nominee (2007)', 'Lincoln Award Nominee (2011)']",
                  "Places": "[['Afghanistan', 'Kabul', '(Afghanistan)'], ['Herat', '(Afghanistan)']]",
                  "_deepnote_index_column": 9
                },
                {
                  "URL": "https://www.goodreads.com/book/show/6148028-catching-fire\"",
                  "Title": "Catching Fire (The Hunger Games, #2)",
                  "Author": "Suzanne Collins",
                  "Number of Ratings": 2662181,
                  "Number of Reviews": 98738,
                  "Average Ratings": 4,
                  "Number of Pages": 391,
                  "Published Year": 2009,
                  "Series": 1,
                  "Genres": "['Young Adult', 'Dystopia', 'Fiction']",
                  "Awards": "['Locus Award Nominee for Best Young Adult Book (2010)', 'Golden Duck Award for Young Adult (Hal Clement Award) (2010)', 'Soaring Eagle Book Award (2011)', \"Children's Choice Book Award for Teen Choice Book of the Year (2010)\", 'Indies Choice Book Award for Young Adult (2010)', 'Teen Read Award Nominee for Best Read (2010)', 'DABWAHA Romance Tournament for Best Young Adult (2010)', 'Goodreads Choice Award for Favorite Book and Young Adult Series (2009) and Nominee for Best of the Best  (2018)', 'Premio El Templo de las Mil Puertas Nominee for Mejor novela extranjera perteneciente a saga (2010)']",
                  "Places": "[['District 12, Panem', 'Capitol, Panem', 'Panem', '(United States)']]",
                  "_deepnote_index_column": 10
                },
                {
                  "URL": "https://www.goodreads.com/book/show/41865.Twilight\"",
                  "Title": "Twilight (Twilight, #1)",
                  "Author": "Stephenie Meyer",
                  "Number of Ratings": 5205880,
                  "Number of Reviews": 107227,
                  "Average Ratings": 4,
                  "Number of Pages": 501,
                  "Published Year": 2006,
                  "Series": 1,
                  "Genres": "['Young Adult', 'Fantasy', 'Romance']",
                  "Awards": "['Georgia Peach Book Award (2007)', 'Buxtehuder Bulle (2006)', 'Kentucky Bluegrass Award for 9-12 (2007)', 'Prijs van de Kinder- en Jeugdjury Vlaanderen (2008)', 'Books I Loved Best Yearly (BILBY) Awards for Older Readers (2009)', \"West Australian Young Readers' Book Award (WAYRBA) for Older Readers (2008)\", 'Garden State Book Award for Fiction (Grades 9-12) (2008)', 'South Carolina Book Award for Young Adult Book Award (2008)', 'Grand Canyon Reader Award for Teen Book (2008)', 'Maryland Black-Eyed Susan Book Award for High School (2008)', 'Golden Sower Award for Young Adult (2009)', \"Nevada Young Readers' Award for Young Adult Category  (2007)\", \"The Flume: New Hampshire Teen Reader's Choice Award (2007)\", \"Pennsylvania Young Readers' Choice Award for Young Adult (2009)\", 'Rhode Island Teen Book Award (2007)', 'Evergreen Teen Book Award (2008)', 'Michigan Library Association Thumbs Up! Award Nominee (2006)', 'Teen Read Award Nominee for Best All-Time-Fave (2010)', 'Deutscher Jugendliteraturpreis Nominee for Preis der Jugendjury (2007)', 'Iowa High School Book Award (2008)', 'Eliot Rosewater Indiana High School Book Award (2008)', 'Lincoln Award (2008)', 'Literaturpreis der Jury der jungen Leser for Cover (2007)', 'Prix Et-lisez-moi (2008)', 'Missouri Gateway Readers Award (2008)']",
                  "Places": "[['Forks, Washington', '(United States)'], ['Phoenix, Arizona', '(United States)'], ['Washington (state)', '(United States)']]",
                  "_deepnote_index_column": 11
                },
                {
                  "URL": "https://www.goodreads.com/book/show/43641.Water_for_Elephants\"",
                  "Title": "Water for Elephants",
                  "Author": "Sara Gruen",
                  "Number of Ratings": 1425916,
                  "Number of Reviews": 59315,
                  "Average Ratings": 4,
                  "Number of Pages": 335,
                  "Published Year": 2007,
                  "Series": 0,
                  "Genres": "['Fiction', 'Historical Fiction', 'Romance']",
                  "Awards": "['Book Sense Book of the Year Award for Adult Fiction (2007)', 'ALA Alex Award (2007)', 'The Quill Award Nominee for General Fiction (2006)', 'LovelyBooks Leserpreis Nominee for Allgemeine Literatur (2009)']",
                  "Places": "[['United States of America', 'Joliet, Illinois,\\n1932', '(United States)'], ['Ithaca, New York,\\n1932', '(United States)']]",
                  "_deepnote_index_column": 12
                },
                {
                  "URL": "https://www.goodreads.com/book/show/2429135.The_Girl_with_the_Dragon_Tattoo\"",
                  "Title": "The Girl with the Dragon Tattoo (Millennium, #1)",
                  "Author": "Stieg Larsson",
                  "Number of Ratings": 2720290,
                  "Number of Reviews": 69821,
                  "Average Ratings": 4,
                  "Number of Pages": 465,
                  "Published Year": 2008,
                  "Series": 1,
                  "Genres": "['Fiction', 'Mystery', 'Thriller']",
                  "Awards": "['Barry Award for Mystery/Crime Novel Of The Decade (2010)', 'Macavity Award for Best First Mystery Novel (2009)', 'Anthony Award for Best First Novel (2009)', 'Glass Key Award (2006)', 'CWA International Dagger Nominee (2008)', 'Galaxy British Book Awards for Crime Thriller of the Year (2009)', 'Exclusive Books Boeke Prize (2008)', 'Strand Critics Award  Nominee for Best First Novel (2008)']",
                  "Places": "[['Stockholm', '(Sweden)'], ['Hedeby Island', '(Sweden)'], ['Hedestad, Stockholm', '(Sweden)'], ['…more\\nSweden', '…less']]",
                  "_deepnote_index_column": 13
                },
                {
                  "URL": "https://www.goodreads.com/book/show/4214.Life_of_Pi\"",
                  "Title": "Life of Pi",
                  "Author": "Yann Martel",
                  "Number of Ratings": 1390495,
                  "Number of Reviews": 47973,
                  "Average Ratings": 4,
                  "Number of Pages": 460,
                  "Published Year": 2006,
                  "Series": 0,
                  "Genres": "['Fiction', 'Fantasy', 'Classics']",
                  "Awards": "['Booker Prize (2002)', 'Bollinger Everyman Wodehouse Prize Nominee for Comic Fiction (2003)', 'Exclusive Books Boeke Prize (2003)', \"Governor General's Literary Awards / Prix littéraires du Gouverneur général Nominee for Fiction (2001)\", 'Lincoln Award Nominee (2005)', 'Deutscher Bücherpreis for Belletristik (2004)', 'CBC Canada Reads Nominee (2003)', 'Luisterboek Award Nominee (2015)', \"QWF (Quebec Writer's Federation) Award for Paragraphe Hugh MacLennan Prize for Fiction (2001)\", 'Asian/Pacific American Award for Literature for Adult Fiction (2003)']",
                  "Places": "[['Pacific Ocean', 'Pondicherry', '(India)'], ['Toronto, Ontario', '(Canada)'], ['…more\\nTomatlan', '(Mexico)'], ['…less']]",
                  "_deepnote_index_column": 14
                },
                {
                  "URL": "https://www.goodreads.com/book/show/968.The_Da_Vinci_Code\"",
                  "Title": "The Da Vinci Code (Robert Langdon, #2)",
                  "Author": "Dan Brown",
                  "Number of Ratings": 2010946,
                  "Number of Reviews": 48295,
                  "Average Ratings": 4,
                  "Number of Pages": 489,
                  "Published Year": 2006,
                  "Series": 1,
                  "Genres": "['Fiction', 'Mystery', 'Thriller']",
                  "Awards": "['British Book Award for Book of the Year (2005)', 'Book Sense Book of the Year Award for Adult Fiction (2004)', \"Humo's Gouden Bladwijzer (2004)\", 'Zilveren Vingerafdruk (2004)', \"The Flume: New Hampshire Teen Reader's Choice Award (2006)\", 'Teen Buckeye Book Award (2005)', 'Iowa High School Book Award (2006)', 'Puddly Award for Fiction (2007)', 'Missouri Gateway Readers Award for Adult (2006)']",
                  "Places": "[['Paris', '(France)'], ['London, England', '(United Kingdom)'], ['France', '…more\\nEngland', '(United Kingdom)'], ['United Kingdom', '…less']]",
                  "_deepnote_index_column": 15
                },
                {
                  "URL": "https://www.goodreads.com/book/show/12232938-the-lovely-bones\"",
                  "Title": "The Lovely Bones",
                  "Author": "Alice Sebold",
                  "Number of Ratings": 2084043,
                  "Number of Reviews": 41256,
                  "Average Ratings": 4,
                  "Number of Pages": 372,
                  "Published Year": 2006,
                  "Series": 0,
                  "Genres": "['Fiction', 'Mystery', 'Young Adult']",
                  "Awards": "['Bram Stoker Award for Best First Novel (2002)', 'Orange Prize Nominee for Fiction Longlist (2003)', 'British Book Award for Best Read of the Year (2004)', 'Book Sense Book of the Year Award for Adult Fiction (2003)', 'California Book Award for First Fiction (Silver) (2002)', 'South Carolina Book Award for Young Adult Book Award (2005)', 'Chicago Tribune Heartland Prize for Fiction (2002)', 'Iowa High School Book Award (2005)', 'Puddly Award for Fiction (2003)', 'Eliot Rosewater Indiana High School Book Award (2005)', 'Lincoln Award Nominee (2005)', 'Missouri Gateway Readers Award (2005)']",
                  "Places": "[['Philadelphia, Pennsylvania,\\n1973', '(United States)'], ['Pennsylvania,\\n1973', '(United States)'], ['United States of America,\\n1973']]",
                  "_deepnote_index_column": 16
                },
                {
                  "URL": "https://www.goodreads.com/book/show/6288.The_Road\"",
                  "Title": "The Road",
                  "Author": "Cormac McCarthy",
                  "Number of Ratings": 746540,
                  "Number of Reviews": 47092,
                  "Average Ratings": 4,
                  "Number of Pages": 241,
                  "Published Year": 2006,
                  "Series": 0,
                  "Genres": "['Fiction', 'Science Fiction', 'Dystopia']",
                  "Awards": "['Pulitzer Prize for Fiction (2007)', 'Locus Award Nominee for Best SF Novel (2007)', 'James Tait Black Memorial Prize for Fiction (2006)', 'The Quill Award for General Fiction (2007)', 'Puddly Award for Fiction (2010)', 'National Book Critics Circle Award Nominee for Fiction (2006)', 'Believer Book Award (2006)', 'Tähtivaeltaja Award (2009)', 'Cena Akademie SFFH for Kniha roku (Book of the Year) (2008)', 'Prix des libraires du Québec for Lauréats hors Québec (2009)', 'International Dublin Literary Award Nominee (2008)', 'The Rooster -- The Morning News Tournament of Books (2007)']",
                  "Places": "[['United States of America']]",
                  "_deepnote_index_column": 17
                },
                {
                  "URL": "https://www.goodreads.com/book/show/1618.The_Curious_Incident_of_the_Dog_in_the_Night_Time\"",
                  "Title": "The Curious Incident of the Dog in the Night-Time",
                  "Author": "Mark Haddon",
                  "Number of Ratings": 1245111,
                  "Number of Reviews": 45595,
                  "Average Ratings": 4,
                  "Number of Pages": 226,
                  "Published Year": 2004,
                  "Series": 0,
                  "Genres": "['Fiction', 'Mystery', 'Young Adult']",
                  "Awards": "['Booker Prize Nominee for Longlist (2003)', 'James Tait Black Memorial Prize Nominee for Fiction (2003)', 'Whitbread Award for Novel and Book of the Year (2003)', \"Guardian Children's Fiction Prize (2003)\", 'McKitterick Prize (2004)', 'Los Angeles Times Book Prize for Art Seidenbaum Award for First Fiction (2003)', 'Exclusive Books Boeke Prize (2004)', 'ALA Alex Award (2004)', 'Zilveren Zoen (2004)', 'Lincoln Award Nominee (2006)', \"Commonwealth Writers' Prize for Best First Book Overall (2004)\", 'North East Teenage Book Award Nominee (2004)', 'Carnegie Medal Nominee (2003)', \"Dolly Gray Children's Literature Award (2004)\", 'Premi Protagonista Jove for Categoria 15-16 anys (2006)']",
                  "Places": "[['Swindon, England,\\n1999', '(United Kingdom)'], ['London, England,\\n1999', '(United Kingdom)'], ['England,\\n1999', '(United Kingdom)']]",
                  "_deepnote_index_column": 18
                },
                {
                  "URL": "https://www.goodreads.com/book/show/37435.The_Secret_Life_of_Bees\"",
                  "Title": "The Secret Life of Bees",
                  "Author": "Sue Monk Kidd",
                  "Number of Ratings": 1149425,
                  "Number of Reviews": 31196,
                  "Average Ratings": 4,
                  "Number of Pages": 302,
                  "Published Year": 2003,
                  "Series": 0,
                  "Genres": "['Fiction', 'Historical Fiction', 'Young Adult']",
                  "Awards": "['Orange Prize Nominee for Fiction Longlist (2002)', 'Book Sense Book of the Year Award for Paperback (2004)', 'Lincoln Award Nominee (2005)', 'Missouri Gateway Readers Award Nominee (2005)', 'LovelyBooks Leserpreis Nominee for Allgemeine Literatur (2009)']",
                  "Places": "[['United States of America', 'South Carolina', '(United States)'], ['Tiburon, South Carolina,\\n1964', '(United States)']]",
                  "_deepnote_index_column": 19
                },
                {
                  "URL": "https://www.goodreads.com/book/show/2187.Middlesex\"",
                  "Title": "Middlesex",
                  "Author": "Jeffrey Eugenides",
                  "Number of Ratings": 593846,
                  "Number of Reviews": 23581,
                  "Average Ratings": 4,
                  "Number of Pages": 529,
                  "Published Year": 2003,
                  "Series": 0,
                  "Genres": "['Fiction', 'Historical Fiction', 'Contemporary']",
                  "Awards": "['Pulitzer Prize for Fiction (2003)', 'James Tait Black Memorial Prize Nominee for Fiction (2003)', 'Ambassador Book Award for Fiction (2003)', 'Audie Award for Fiction, Unabridged (2003)', 'National Book Critics Circle Award Nominee for Fiction (2002)']",
                  "Places": "[['Bursa', '(Turkey)'], ['Izmir', '(Turkey)'], ['Detroit, Michigan', '(United States)'], ['…more\\nBerlin', '(Germany)'], ['…less']]",
                  "_deepnote_index_column": 20
                },
                {
                  "URL": "https://www.goodreads.com/book/show/862041.Harry_Potter_Series_Box_Set\"",
                  "Title": "Harry Potter Series Box Set (Harry Potter, #1-7)",
                  "Author": "J.K. Rowling",
                  "Number of Ratings": 260285,
                  "Number of Reviews": 7545,
                  "Average Ratings": 5,
                  "Number of Pages": 4100,
                  "Published Year": 2007,
                  "Series": 1,
                  "Genres": "['Fantasy', 'Young Adult', 'Fiction']",
                  "Awards": "[\"Mythopoeic Fantasy Award for Children's Literature (2008)\"]",
                  "Places": "nan",
                  "_deepnote_index_column": 21
                },
                {
                  "URL": "https://www.goodreads.com/book/show/10917.My_Sister_s_Keeper\"",
                  "Title": "My Sister's Keeper",
                  "Author": "Jodi Picoult",
                  "Number of Ratings": 1086290,
                  "Number of Reviews": 33883,
                  "Average Ratings": 4,
                  "Number of Pages": 423,
                  "Published Year": 2005,
                  "Series": 0,
                  "Genres": "['Fiction', 'Contemporary', 'Chick Lit']",
                  "Awards": "['Audie Award for Multi-Voiced Performance (2005)', \"Pennsylvania Young Readers' Choice Award for Young Adults (2007)\", 'ALA Alex Award (2005)', 'Lincoln Award (2006)', 'Green Mountain Book Award (2007)', 'Missouri Gateway Readers Award Nominee (2007)']",
                  "Places": "[['United States of America', 'Providence, Rhode Island', '(United States)'], ['Rhode Island', '(United States)']]",
                  "_deepnote_index_column": 22
                },
                {
                  "URL": "https://www.goodreads.com/book/show/28187.The_Lightning_Thief\"",
                  "Title": "The Lightning Thief (Percy Jackson and the Olympians, #1)",
                  "Author": "Rick Riordan",
                  "Number of Ratings": 2125345,
                  "Number of Reviews": 64845,
                  "Average Ratings": 4,
                  "Number of Pages": 377,
                  "Published Year": 2006,
                  "Series": 1,
                  "Genres": "['Fantasy', 'Young Adult', 'Mythology']",
                  "Awards": "[\"Young Readers' Choice Award (2008)\", 'Books I Loved Best Yearly (BILBY) Awards for Older Readers (2011)', 'South Carolina Book Award for Junior Book Award (2008)', 'Grand Canyon Reader Award for Tween Book (2008)', 'Nene Award (2008)', \"Massachusetts Children's Book Award (2008)\", \"Pennsylvania Young Readers' Choice Award for Grades 6-8 (2008)\", 'Rhode Island Teen Book Award Nominee (2007)', 'Sunshine State Young Readers Award for Grades 6-8 (2007)', \"Pacific Northwest Library Association Young Reader's Choice Award for Intermediate (2008)\", 'Iowa Teen Award (2009)', 'Lincoln Award Nominee (2009)', 'Oklahoma Sequoyah Award for YA (2008)', \"Rebecca Caudill Young Readers' Book Award (2009)\"]",
                  "Places": "[['New York City, New York', '(United States)'], ['Montauk, New York', '(United States)'], ['New Jersey', '(United States)'], ['…more\\nSt. Louis, Missouri', '(United States)'], ['Las Vegas, Nevada', '(United States)'], ['Long Island, New York', '(United States)'], ['…less']]",
                  "_deepnote_index_column": 23
                },
                {
                  "URL": "https://www.goodreads.com/book/show/7445.The_Glass_Castle\"",
                  "Title": "The Glass Castle",
                  "Author": "Jeannette Walls",
                  "Number of Ratings": 951927,
                  "Number of Reviews": 52489,
                  "Average Ratings": 4,
                  "Number of Pages": 288,
                  "Published Year": 2006,
                  "Series": 0,
                  "Genres": "['Nonfiction', 'Memoir', 'Biography']",
                  "Awards": "['ALA Alex Award (2006)', 'Lincoln Award Nominee (2008)']",
                  "Places": "[['New York City, New York', '(United States)'], ['West Virginia', '(United States)']]",
                  "_deepnote_index_column": 24
                },
                {
                  "URL": "https://www.goodreads.com/book/show/1162543.Breaking_Dawn\"",
                  "Title": "Breaking Dawn (Twilight, #4)",
                  "Author": "Stephenie Meyer",
                  "Number of Ratings": 1388138,
                  "Number of Reviews": 47830,
                  "Average Ratings": 4,
                  "Number of Pages": 756,
                  "Published Year": 2008,
                  "Series": 1,
                  "Genres": "['Young Adult', 'Fantasy', 'Romance']",
                  "Awards": "[\"Children's Choice Book Award for Teen Choice Book of the Year (2009)\", 'LovelyBooks Leserpreis Nominee for Allgemeine Literatur (2009)', 'LovelyBooks Leserpreis for Romantik/Liebe/Gefühl (2009)']",
                  "Places": "[['Forks, Washington', '(United States)'], ['Washington (state)', '(United States)']]",
                  "_deepnote_index_column": 25
                },
                {
                  "URL": "https://www.goodreads.com/book/show/6867.Atonement\"",
                  "Title": "Atonement",
                  "Author": "Ian McEwan",
                  "Number of Ratings": 454661,
                  "Number of Reviews": 17842,
                  "Average Ratings": 4,
                  "Number of Pages": 351,
                  "Published Year": 2003,
                  "Series": 0,
                  "Genres": "['Fiction', 'Historical Fiction', 'Romance']",
                  "Awards": "['Booker Prize Nominee (2001)', 'James Tait Black Memorial Prize Nominee for Fiction (2001)', 'Whitbread Award Nominee for Novel (2001)', 'WH Smith Literary Award (2002)', 'Los Angeles Times Book Prize for Fiction (2002)', 'Exclusive Books Boeke Prize (2002)', 'National Book Critics Circle Award for Fiction (2002)', \"Commonwealth Writers' Prize for Best Book in South Asia and Europe (2002)\", 'Deutscher Bücherpreis for Internationale Belletristik (2003)', 'Premi Llibreter de narrativa Nominee (2003)', 'International Dublin Literary Award Nominee (2003)']",
                  "Places": "[['England', '(United Kingdom)'], ['France', 'London, England', '(United Kingdom)'], ['…more\\nUnited Kingdom', '…less']]",
                  "_deepnote_index_column": 26
                },
                {
                  "URL": "https://www.goodreads.com/book/show/428263.Eclipse\"",
                  "Title": "Eclipse (The Twilight Saga, #3)",
                  "Author": "Stephenie Meyer",
                  "Number of Ratings": 1493084,
                  "Number of Reviews": 38627,
                  "Average Ratings": 4,
                  "Number of Pages": 629,
                  "Published Year": 2007,
                  "Series": 1,
                  "Genres": "['Young Adult', 'Fantasy', 'Romance']",
                  "Awards": "['Colorado Blue Spruce Young Adult Book Award (2009)', 'Teen Buckeye Book Award (2008)']",
                  "Places": "[['Forks, Washington', '(United States)'], ['Washington (state)', '(United States)'], ['La Push, Washington', '(United States)']]",
                  "_deepnote_index_column": 27
                },
                {
                  "URL": "https://www.goodreads.com/book/show/1232.The_Shadow_of_the_Wind\"",
                  "Title": "The Shadow of the Wind (The Cemetery of Forgotten Books, #1)",
                  "Author": "Carlos Ruiz Zafón",
                  "Number of Ratings": 495725,
                  "Number of Reviews": 38224,
                  "Average Ratings": 4,
                  "Number of Pages": 487,
                  "Published Year": 2005,
                  "Series": 1,
                  "Genres": "['Fiction', 'Historical Fiction', 'Mystery']",
                  "Awards": "['Barry Award for Best First Novel (2005)', 'Gumshoe Award Nominee for Best European Crime Novel (2005)', 'Borders Original Voices Award for Fiction (2004)', 'Dilys Award Nominee (2005)', \"Humo's Gouden Bladwijzer (2006)\", 'Prix du Meilleur Livre Étranger for Roman (2004)', 'Prix des libraires du Québec for Lauréats hors Québec (2005)', 'One Book One San Diego (2015)', 'Premi Llibreter de narrativa Nominee (2002)']",
                  "Places": "[['Spain', 'Barcelona, Catalonia', '(Spain)']]",
                  "_deepnote_index_column": 28
                },
                {
                  "URL": "https://www.goodreads.com/book/show/960.Angels_Demons\"",
                  "Title": "Angels & Demons (Robert Langdon, #1)",
                  "Author": "Dan Brown",
                  "Number of Ratings": 2778726,
                  "Number of Reviews": 29845,
                  "Average Ratings": 4,
                  "Number of Pages": 736,
                  "Published Year": 2006,
                  "Series": 1,
                  "Genres": "['Fiction', 'Mystery', 'Thriller']",
                  "Awards": "[\"Humo's Gouden Bladwijzer (2005)\"]",
                  "Places": "[['Rome', '(Italy)'], ['Vatican City', '(Italy)'], ['Italy']]",
                  "_deepnote_index_column": 29
                },
                {
                  "URL": "https://www.goodreads.com/book/show/30165203-american-gods\"",
                  "Title": "American Gods (American Gods, #1)",
                  "Author": "Neil Gaiman",
                  "Number of Ratings": 793489,
                  "Number of Reviews": 39888,
                  "Average Ratings": 4,
                  "Number of Pages": 635,
                  "Published Year": 2011,
                  "Series": 1,
                  "Genres": "['Fantasy', 'Fiction', 'Urban Fantasy']",
                  "Awards": "['Bram Stoker Award for Best Novel (2001)', 'Hugo Award for Best Novel (2002)', 'Nebula Award for Best Novel (2002)', 'Locus Award for Best Fantasy Novel (2002)', 'International Horror Guild Award Nominee for Best Novel (2001)', 'World Fantasy Award Nominee for Best Novel (2002)', 'SFX Award for Best Novel (2002)', 'Geffen Award (2003)', 'Mythopoeic Fantasy Award Nominee for Adult Literature (2002)', 'British Science Fiction Association Award Nominee for Best Novel (2001)', \"Grand Prix de l'Imaginaire Nominee for Roman étranger (2003)\", 'Prix Bob Morane for roman traduit (2003)', 'British Fantasy Award Nominee for Best Novel (August Derlith Fantasy Award) (2002)']",
                  "Places": "[['United States of America', 'Chicago, Illinois', '(United States)'], ['Chattanooga, Tennessee', '(United States)'], ['…more\\nMinnesota', '(United States)'], ['Wisconsin', '(United States)'], ['Illinois', '(United States)'], ['…less']]",
                  "_deepnote_index_column": 30
                },
                {
                  "URL": "https://www.goodreads.com/book/show/49041.New_Moon\"",
                  "Title": "New Moon (Twilight, #2)",
                  "Author": "Stephenie Meyer",
                  "Number of Ratings": 1540987,
                  "Number of Reviews": 48758,
                  "Average Ratings": 4,
                  "Number of Pages": 563,
                  "Published Year": 2006,
                  "Series": 1,
                  "Genres": "['Young Adult', 'Fantasy', 'Romance']",
                  "Awards": "['Books I Loved Best Yearly (BILBY) Awards for Older Readers (2010)', 'South Carolina Book Award for Young Adult Book Award (2009)', \"The Flume: New Hampshire Teen Reader's Choice Award (2008)\", 'Soaring Eagle Book Award (2007)', \"Pacific Northwest Library Association Young Reader's Choice Award for Senior (2009)\"]",
                  "Places": "[['Forks, Washington', '(United States)'], ['La Push, Washington', '(United States)'], ['Volterra', '(Italy)'], ['…more\\nWashington (state)', '(United States)'], ['…less']]",
                  "_deepnote_index_column": 31
                },
                {
                  "URL": "https://www.goodreads.com/book/show/1656001.The_Host\"",
                  "Title": "The Host",
                  "Author": "Stephenie Meyer",
                  "Number of Ratings": 924106,
                  "Number of Reviews": 41836,
                  "Average Ratings": 4,
                  "Number of Pages": 619,
                  "Published Year": 2008,
                  "Series": 1,
                  "Genres": "['Young Adult', 'Science Fiction', 'Fantasy']",
                  "Awards": "[]",
                  "Places": "[['Arizona', '(United States)'], [''], ['Other Editions (36)'], [''], [''], [''], [''], [''], [''], [''], [''], [''], [''], [''], ['All Editions', ' | ', 'Add a New Edition', ' | ', 'Combine']]",
                  "_deepnote_index_column": 32
                },
                {
                  "URL": "https://www.goodreads.com/book/show/256683.City_of_Bones\"",
                  "Title": "City of Bones (The Mortal Instruments, #1)",
                  "Author": "Cassandra Clare",
                  "Number of Ratings": 1692874,
                  "Number of Reviews": 64144,
                  "Average Ratings": 4,
                  "Number of Pages": 485,
                  "Published Year": 2007,
                  "Series": 1,
                  "Genres": "['Young Adult', 'Paranormal', 'Romance']",
                  "Awards": "['Locus Award Nominee for Best First Novel (2008)', 'Georgia Peach Book Award Nominee for Honor book (2009)', 'South Carolina Book Award Nominee for Young Adult Book Award (2010)', \"Pacific Northwest Library Association Young Reader's Choice Award (2010)\", 'Lincoln Award (2010)']",
                  "Places": "[['New York City, New York,\\n2007', '(United States)']]",
                  "_deepnote_index_column": 33
                },
                {
                  "URL": "https://www.goodreads.com/book/show/5060378-the-girl-who-played-with-fire\"",
                  "Title": "The Girl Who Played with Fire (Millennium, #2)",
                  "Author": "Stieg Larsson",
                  "Number of Ratings": 834106,
                  "Number of Reviews": 34581,
                  "Average Ratings": 4,
                  "Number of Pages": 503,
                  "Published Year": 2009,
                  "Series": 1,
                  "Genres": "['Fiction', 'Mystery', 'Thriller']",
                  "Awards": "['Anthony Award Nominee for Best Novel (2010)', 'Dilys Award Nominee (2010)', 'CWA International Dagger Nominee (2009)', 'Svenska Deckarakademins pris för bästa svenska kriminalroman (2006)', 'Goodreads Choice Award for Mystery/Thriller (2009)']",
                  "Places": "[['Stockholm', '(Sweden)'], ['Sweden']]",
                  "_deepnote_index_column": 34
                },
                {
                  "URL": "https://www.goodreads.com/book/show/3431.The_Five_People_You_Meet_in_Heaven\"",
                  "Title": "The Five People You Meet in Heaven",
                  "Author": "Mitch Albom",
                  "Number of Ratings": 598984,
                  "Number of Reviews": 21496,
                  "Average Ratings": 4,
                  "Number of Pages": 196,
                  "Published Year": 2003,
                  "Series": 1,
                  "Genres": "['Fiction', 'Inspirational', 'Contemporary']",
                  "Awards": "['Lincoln Award Nominee (2008)']",
                  "Places": "[['United States of America']]",
                  "_deepnote_index_column": 35
                },
                {
                  "URL": "https://www.goodreads.com/book/show/4588.Extremely_Loud_Incredibly_Close\"",
                  "Title": "Extremely Loud & Incredibly Close",
                  "Author": "Jonathan Safran Foer",
                  "Number of Ratings": 390588,
                  "Number of Reviews": 23601,
                  "Average Ratings": 4,
                  "Number of Pages": 326,
                  "Published Year": 2006,
                  "Series": 0,
                  "Genres": "['Fiction', 'Contemporary', 'Historical Fiction']",
                  "Awards": "['Prix des libraires du Québec for Lauréats hors Québec (2007)', 'Luisterboek Award (2009)', 'LovelyBooks Leserpreis Nominee for Allgemeine Literatur (2009)']",
                  "Places": "[['New York City, New York,\\n2003', '(United States)'], ['Dresden,\\n1945', '(Germany)']]",
                  "_deepnote_index_column": 36
                },
                {
                  "URL": "https://www.goodreads.com/book/show/99561.Looking_for_Alaska\"",
                  "Title": "Looking for Alaska",
                  "Author": "John Green",
                  "Number of Ratings": 1177640,
                  "Number of Reviews": 57849,
                  "Average Ratings": 4,
                  "Number of Pages": 221,
                  "Published Year": 2006,
                  "Series": 0,
                  "Genres": "['Young Adult', 'Fiction', 'Contemporary']",
                  "Awards": "['Los Angeles Times Book Prize Nominee for Young Adult Fiction (2005)', 'Michael L. Printz Award (2006)', 'Rhode Island Teen Book Award Nominee (2007)', 'Michigan Library Association Thumbs Up! Award Nominee (2006)', 'Deutscher Jugendliteraturpreis Nominee for Jugendbuch (2008)', 'The Inky Awards for Silver Inky (2007)', 'Lincoln Award Nominee (2009)', 'Bronzener Lufti (2007)', 'Green Mountain Book Award (2008)', 'The Inky Awards Shortlist for Silver Inky (2007)', 'Alabama Author Award for Young Adult (2006)', 'Premio El Templo de las Mil Puertas Nominee for Mejor novela extranjera independiente (2014)']",
                  "Places": "[['Alabama', '(United States)']]",
                  "_deepnote_index_column": 37
                },
                {
                  "URL": "https://www.goodreads.com/book/show/6334.Never_Let_Me_Go\"",
                  "Title": "Never Let Me Go",
                  "Author": "Kazuo Ishiguro",
                  "Number of Ratings": 506774,
                  "Number of Reviews": 33716,
                  "Average Ratings": 4,
                  "Number of Pages": 288,
                  "Published Year": 2010,
                  "Series": 0,
                  "Genres": "['Fiction', 'Science Fiction', 'Dystopia']",
                  "Awards": "['Booker Prize Nominee (2005)', 'Locus Award Nominee for Best SF Novel (2006)', 'Arthur C. Clarke Award Nominee (2006)', 'James Tait Black Memorial Prize Nominee for Fiction (2005)', 'ALA Alex Award (2006)', 'National Book Critics Circle Award Nominee for Fiction (2005)', 'Corine Internationaler Buchpreis for Belletristik (2006)', 'International Dublin Literary Award Nominee (2007)']",
                  "Places": "[['Hailsham', '(United Kingdom)'], ['Norfolk, England', 'The Cottages', '(United Kingdom)'], ['…more\\nKingsfield', '(United Kingdom)'], ['…less']]",
                  "_deepnote_index_column": 38
                },
                {
                  "URL": "https://www.goodreads.com/book/show/39832183-the-guernsey-literary-and-potato-peel-pie-society\"",
                  "Title": "The Guernsey Literary and Potato Peel Pie Society",
                  "Author": "Mary Ann Shaffer",
                  "Number of Ratings": 639982,
                  "Number of Reviews": 55600,
                  "Average Ratings": 4,
                  "Number of Pages": 291,
                  "Published Year": 2018,
                  "Series": 0,
                  "Genres": "['Historical Fiction', 'Fiction', 'Historical']",
                  "Awards": "['Indies Choice Book Award for Best Indie Buzz Book (Fiction) (2009)', 'LovelyBooks Leserpreis Nominee for Allgemeine Literatur (2009)']",
                  "Places": "[['United Kingdom,\\n1946', '    \\nGuernsey,\\n1946']]",
                  "_deepnote_index_column": 39
                },
                {
                  "URL": "https://www.goodreads.com/book/show/19501.Eat_Pray_Love\"",
                  "Title": "Eat, Pray, Love",
                  "Author": "Elizabeth Gilbert",
                  "Number of Ratings": 1531708,
                  "Number of Reviews": 54594,
                  "Average Ratings": 4,
                  "Number of Pages": 368,
                  "Published Year": 2007,
                  "Series": 0,
                  "Genres": "['Nonfiction', 'Memoir', 'Travel']",
                  "Awards": "['Puddly Award for Nonfiction (2008)']",
                  "Places": "[['Italy', 'India', 'Bali', '(Indonesia)']]",
                  "_deepnote_index_column": 40
                }
              ],
              "rows_bottom": [
                {
                  "URL": "https://www.goodreads.com/book/show/171102.The_Birth_House\"",
                  "Title": "The Birth House",
                  "Author": "Susanna Clarke",
                  "Number of Ratings": "40206.0",
                  "Number of Reviews": "2794.0",
                  "Average Ratings": "4.0",
                  "Number of Pages": "408.0",
                  "Published Year": "2007.0",
                  "Series": "0.0",
                  "Genres": "['Historical Fiction', 'Fiction', 'Canada']",
                  "Awards": "['Atlantic Independent Booksellers’ Choice Award (2007)', 'Canadian Booksellers Association Libris Award for Fiction Book & Book Design (2007)', 'OLA Evergreen Award (2007)']",
                  "Places": "[['Canada', 'Nova Scotia', '(Canada)']]",
                  "_deepnote_index_column": 958
                },
                {
                  "URL": "https://www.goodreads.com/book/show/39020.1491\"",
                  "Title": "1491: New Revelations of the Americas Before Columbus",
                  "Author": "Steven D. Levitt",
                  "Number of Ratings": "71941.0",
                  "Number of Reviews": "3974.0",
                  "Average Ratings": "nan",
                  "Number of Pages": "541.0",
                  "Published Year": "2006.0",
                  "Series": "0.0",
                  "Genres": "['History', 'Nonfiction', 'American History']",
                  "Awards": "['Julia Ward Howe Prize (2006)', 'Spur Award Nominee for Best Western Juvenile Nonfiction (2010)']",
                  "Places": "nan",
                  "_deepnote_index_column": 959
                },
                {
                  "URL": "https://www.goodreads.com/book/show/235773.Waiting\"",
                  "Title": "Waiting",
                  "Author": "Jodi Picoult",
                  "Number of Ratings": "19795.0",
                  "Number of Reviews": "1842.0",
                  "Average Ratings": "4.0",
                  "Number of Pages": "310.0",
                  "Published Year": "2000.0",
                  "Series": "0.0",
                  "Genres": "['Fiction', 'China', 'Historical Fiction']",
                  "Awards": "['Pulitzer Prize Nominee for Fiction (2000)', 'National Book Award for Fiction (1999)', 'PEN/Faulkner Award for Fiction (2000)', 'Los Angeles Times Book Prize Nominee for Fiction (1999)']",
                  "Places": "nan",
                  "_deepnote_index_column": 960
                },
                {
                  "URL": "https://www.goodreads.com/book/show/3300.In_s_of_My_Soul\"",
                  "Title": "Inés of My Soul",
                  "Author": "Haruki Murakami",
                  "Number of Ratings": "23492.0",
                  "Number of Reviews": "1911.0",
                  "Average Ratings": "4.0",
                  "Number of Pages": "321.0",
                  "Published Year": "2006.0",
                  "Series": "0.0",
                  "Genres": "['Historical Fiction', 'Fiction', 'Historical']",
                  "Awards": "[]",
                  "Places": "[['Peru', 'Chile'], [''], ['Other Editions (113)'], [''], [''], [''], [''], [''], [''], [''], [''], [''], [''], [''], ['All Editions', ' | ', 'Add a New Edition', ' | ', 'Combine']]",
                  "_deepnote_index_column": 961
                },
                {
                  "URL": "https://www.goodreads.com/book/show/6339989-vampire-academy-collection\"",
                  "Title": "Vampire Academy Collection (Vampire Academy, #1-3)",
                  "Author": "Jonathan Safran Foer",
                  "Number of Ratings": "33800.0",
                  "Number of Reviews": "212.0",
                  "Average Ratings": "5.0",
                  "Number of Pages": "1120.0",
                  "Published Year": "2009.0",
                  "Series": "1.0",
                  "Genres": "['Vampires', 'Fantasy', 'Young Adult']",
                  "Awards": "[]",
                  "Places": "nan",
                  "_deepnote_index_column": 962
                },
                {
                  "URL": "https://www.goodreads.com/book/show/11711.Vernon_God_Little\"",
                  "Title": "Vernon God Little",
                  "Author": "Randy Pausch",
                  "Number of Ratings": "30942.0",
                  "Number of Reviews": "1403.0",
                  "Average Ratings": "4.0",
                  "Number of Pages": "279.0",
                  "Published Year": "2004.0",
                  "Series": "0.0",
                  "Genres": "['Fiction', 'Contemporary', 'Novels']",
                  "Awards": "['Booker Prize (2003)', 'Guardian First Book Award Nominee (2003)', 'Whitbread Award for First Novel (2003)', 'Bollinger Everyman Wodehouse Prize for Comic Fiction (2003)']",
                  "Places": "[['Texas,\\n2003', '(United States)'], ['Acapulco,\\n2003', '(Mexico)']]",
                  "_deepnote_index_column": 963
                },
                {
                  "URL": "https://www.goodreads.com/book/show/13521.Son_of_a_Witch\"",
                  "Title": "Son of a Witch (The Wicked Years, #2)",
                  "Author": "Greg Mortenson",
                  "Number of Ratings": "58793.0",
                  "Number of Reviews": "3535.0",
                  "Average Ratings": "3.0",
                  "Number of Pages": "352.0",
                  "Published Year": "2006.0",
                  "Series": "1.0",
                  "Genres": "['Fantasy', 'Fiction', 'Adult']",
                  "Awards": "[]",
                  "Places": "[['Oz'], [''], ['Other Editions (40)'], [''], [''], [''], [''], [''], [''], [''], [''], [''], [''], [''], ['All Editions', ' | ', 'Add a New Edition', ' | ', 'Combine']]",
                  "_deepnote_index_column": 964
                },
                {
                  "URL": "https://www.goodreads.com/book/show/24768.Pretties\"",
                  "Title": "Pretties (Uglies, #2)",
                  "Author": "Kim Edwards",
                  "Number of Ratings": "239749.0",
                  "Number of Reviews": "10407.0",
                  "Average Ratings": "4.0",
                  "Number of Pages": "370.0",
                  "Published Year": "2005.0",
                  "Series": "1.0",
                  "Genres": "['Young Adult', 'Dystopia', 'Science Fiction']",
                  "Awards": "[]",
                  "Places": "nan",
                  "_deepnote_index_column": 965
                },
                {
                  "URL": "https://www.goodreads.com/book/show/10566.Lisey_s_Story\"",
                  "Title": "Lisey's Story",
                  "Author": "Junot Díaz",
                  "Number of Ratings": "69235.0",
                  "Number of Reviews": "3888.0",
                  "Average Ratings": "4.0",
                  "Number of Pages": "513.0",
                  "Published Year": "2006.0",
                  "Series": "0.0",
                  "Genres": "['Horror', 'Fiction', 'Fantasy']",
                  "Awards": "['Bram Stoker Award for Best Novel (2006)', 'Locus Award Nominee for Best Fantasy Novel (2007)', 'World Fantasy Award Nominee for Best Novel (2007)']",
                  "Places": "[['United States of America']]",
                  "_deepnote_index_column": 966
                },
                {
                  "URL": "https://www.goodreads.com/book/show/3476.Icy_Sparks\"",
                  "Title": "Icy Sparks",
                  "Author": "Jhumpa Lahiri",
                  "Number of Ratings": "40100.0",
                  "Number of Reviews": "1321.0",
                  "Average Ratings": "4.0",
                  "Number of Pages": "320.0",
                  "Published Year": "2001.0",
                  "Series": "0.0",
                  "Genres": "['Fiction', 'Historical Fiction', 'Adult Fiction']",
                  "Awards": "[]",
                  "Places": "[['Kentucky', '(United States)'], [''], ['Other Editions (29)'], [''], [''], [''], [''], [''], [''], [''], [''], [''], [''], [''], ['All Editions', ' | ', 'Add a New Edition', ' | ', 'Combine']]",
                  "_deepnote_index_column": 967
                },
                {
                  "URL": "https://www.goodreads.com/book/show/10873.Shopgirl\"",
                  "Title": "Shopgirl",
                  "Author": "Marjane Satrapi",
                  "Number of Ratings": "35798.0",
                  "Number of Reviews": "2768.0",
                  "Average Ratings": "3.0",
                  "Number of Pages": "130.0",
                  "Published Year": "2000.0",
                  "Series": "0.0",
                  "Genres": "['Fiction', 'Romance', 'Contemporary']",
                  "Awards": "['Grammy Award Nominee for Best Spoken Word Album (2001)']",
                  "Places": "[['California', '(United States)'], ['Beverly Hills, California', '(United States)']]",
                  "_deepnote_index_column": 968
                },
                {
                  "URL": "https://www.goodreads.com/book/show/6101718-the-magicians\"",
                  "Title": "The Magicians (The Magicians, #1)",
                  "Author": "Garth Stein",
                  "Number of Ratings": "243664.0",
                  "Number of Reviews": "22751.0",
                  "Average Ratings": "4.0",
                  "Number of Pages": "402.0",
                  "Published Year": "2009.0",
                  "Series": "1.0",
                  "Genres": "['Fantasy', 'Fiction', 'Magic']",
                  "Awards": "['ALA Alex Award (2010)', 'The Kitschies Nominee for Red Tentacle (Novel) (2009)', 'Goodreads Choice Award Nominee for Fiction & Fantasy (2009)']",
                  "Places": "[['New York State', '(United States)'], ['Brakebills College for Magical Pedagogy', '(United States)']]",
                  "_deepnote_index_column": 969
                },
                {
                  "URL": "https://www.goodreads.com/book/show/2325825.Inkdeath\"",
                  "Title": "Inkdeath (Inkworld, #3)",
                  "Author": "Margaret Atwood",
                  "Number of Ratings": "80148.0",
                  "Number of Reviews": "3194.0",
                  "Average Ratings": "4.0",
                  "Number of Pages": "699.0",
                  "Published Year": "2007.0",
                  "Series": "1.0",
                  "Genres": "['Fantasy', 'Young Adult', 'Fiction']",
                  "Awards": "[]",
                  "Places": "nan",
                  "_deepnote_index_column": 970
                },
                {
                  "URL": "https://www.goodreads.com/book/show/2152.The_Jane_Austen_Book_Club\"",
                  "Title": "The Jane Austen Book Club",
                  "Author": "Jonathan Franzen",
                  "Number of Ratings": "68734.0",
                  "Number of Reviews": "4579.0",
                  "Average Ratings": "3.0",
                  "Number of Pages": "288.0",
                  "Published Year": "2005.0",
                  "Series": "0.0",
                  "Genres": "['Fiction', 'Chick Lit', 'Romance']",
                  "Awards": "[]",
                  "Places": "[['Davis, California', '(United States)'], [''], ['Other Editions (89)'], [''], [''], [''], [''], [''], [''], [''], [''], [''], [''], [''], ['All Editions', ' | ', 'Add a New Edition', ' | ', 'Combine']]",
                  "_deepnote_index_column": 971
                },
                {
                  "URL": "https://www.goodreads.com/book/show/43369.God_Is_Not_Great\"",
                  "Title": "God Is Not Great: How Religion Poisons Everything",
                  "Author": "Augusten Burroughs",
                  "Number of Ratings": "94923.0",
                  "Number of Reviews": "4816.0",
                  "Average Ratings": "4.0",
                  "Number of Pages": "307.0",
                  "Published Year": "2007.0",
                  "Series": "0.0",
                  "Genres": "['Nonfiction', 'Religion', 'Philosophy']",
                  "Awards": "['National Book Award Finalist for Nonfiction (2007)']",
                  "Places": "nan",
                  "_deepnote_index_column": 972
                },
                {
                  "URL": "https://www.goodreads.com/book/show/15171.A_Girl_Named_Zippy\"",
                  "Title": "A Girl Named Zippy",
                  "Author": "Cormac McCarthy",
                  "Number of Ratings": "34817.0",
                  "Number of Reviews": "3879.0",
                  "Average Ratings": "4.0",
                  "Number of Pages": "275.0",
                  "Published Year": "2001.0",
                  "Series": "1.0",
                  "Genres": "['Memoir', 'Nonfiction', 'Humor']",
                  "Awards": "[]",
                  "Places": "[['United States of America'], [''], ['Other Editions'], [''], [''], [''], [''], [''], [''], [''], [''], [''], [''], ['All Editions', ' | ', 'Add a New Edition', ' | ', 'Combine']]",
                  "_deepnote_index_column": 973
                },
                {
                  "URL": "https://www.goodreads.com/book/show/1421990.Halfway_to_the_Grave\"",
                  "Title": "Halfway to the Grave (Night Huntress, #1)",
                  "Author": "Philip Pullman",
                  "Number of Ratings": "143530.0",
                  "Number of Reviews": "7599.0",
                  "Average Ratings": "4.0",
                  "Number of Pages": "358.0",
                  "Published Year": "2007.0",
                  "Series": "1.0",
                  "Genres": "['Paranormal', 'Vampires', 'Urban Fantasy']",
                  "Awards": "[\"Romantic Times Reviewers' Choice Award (RT Award) for Best Urban Fantasy (2007)\"]",
                  "Places": "[['Licking Falls, Ohio', '(United States)']]",
                  "_deepnote_index_column": 974
                },
                {
                  "URL": "https://www.goodreads.com/book/show/2233407.From_Dead_to_Worse\"",
                  "Title": "From Dead to Worse (Sookie Stackhouse, #8)",
                  "Author": "Margaret Atwood",
                  "Number of Ratings": "179509.0",
                  "Number of Reviews": "3783.0",
                  "Average Ratings": "nan",
                  "Number of Pages": "359.0",
                  "Published Year": "2008.0",
                  "Series": "1.0",
                  "Genres": "['Fantasy', 'Vampires', 'Paranormal']",
                  "Awards": "[]",
                  "Places": "[['Bon Temps, Louisiana', '(United States)'], [''], ['Other Editions (2)'], [''], [''], [''], [''], [''], [''], [''], [''], [''], [''], [''], ['All Editions', ' | ', 'Add a New Edition', ' | ', 'Combine']]",
                  "_deepnote_index_column": 975
                },
                {
                  "URL": "https://www.goodreads.com/book/show/11570.Dreamcatcher\"",
                  "Title": "Dreamcatcher",
                  "Author": "Ken Follett",
                  "Number of Ratings": "156603.0",
                  "Number of Reviews": "2700.0",
                  "Average Ratings": "4.0",
                  "Number of Pages": "688.0",
                  "Published Year": "2002.0",
                  "Series": "0.0",
                  "Genres": "['Horror', 'Fiction', 'Science Fiction']",
                  "Awards": "[]",
                  "Places": "[['Maine', '(United States)'], ['Derry, Maine', '(United States)'], [''], ['Other Editions (140)'], [''], [''], [''], [''], [''], [''], [''], [''], [''], [''], [''], ['All Editions', ' | ', 'Add a New Edition', ' | ', 'Combine']]",
                  "_deepnote_index_column": 976
                },
                {
                  "URL": "https://www.goodreads.com/book/show/2355575.Cry_Wolf\"",
                  "Title": "Cry Wolf (Alpha & Omega, #1)",
                  "Author": "Dave Eggers",
                  "Number of Ratings": "90918.0",
                  "Number of Reviews": "3999.0",
                  "Average Ratings": "4.0",
                  "Number of Pages": "294.0",
                  "Published Year": "2008.0",
                  "Series": "1.0",
                  "Genres": "['Urban Fantasy', 'Fantasy', 'Paranormal']",
                  "Awards": "['P.E.A.R.L. (Paranormal Excellence Award for Romantic Literature) (2008)', 'DABWAHA Romance Tournament for Best Paranormal/Urban Fantasy/SF Romance (2009)']",
                  "Places": "[['Montana', '(United States)']]",
                  "_deepnote_index_column": 977
                },
                {
                  "URL": "https://www.goodreads.com/book/show/22285.Rant\"",
                  "Title": "Rant",
                  "Author": "William Paul Young",
                  "Number of Ratings": "62529.0",
                  "Number of Reviews": "3028.0",
                  "Average Ratings": "4.0",
                  "Number of Pages": "320.0",
                  "Published Year": "2007.0",
                  "Series": "0.0",
                  "Genres": "['Fiction', 'Science Fiction', 'Horror']",
                  "Awards": "[]",
                  "Places": "[['United States of America'], [''], ['Other Editions (64)'], [''], [''], [''], [''], [''], [''], [''], [''], [''], [''], [''], ['All Editions', ' | ', 'Add a New Edition', ' | ', 'Combine']]",
                  "_deepnote_index_column": 978
                },
                {
                  "URL": "https://www.goodreads.com/book/show/1358844.Remember_Me_\"",
                  "Title": "Remember Me?",
                  "Author": "Abraham   Verghese",
                  "Number of Ratings": "226501.0",
                  "Number of Reviews": "8020.0",
                  "Average Ratings": "4.0",
                  "Number of Pages": "352.0",
                  "Published Year": "2008.0",
                  "Series": "0.0",
                  "Genres": "['Chick Lit', 'Romance', 'Fiction']",
                  "Awards": "[]",
                  "Places": "[['London, England,\\n2007', '(United Kingdom)'], [''], ['Other Editions (8)'], [''], [''], [''], [''], [''], [''], [''], [''], [''], [''], [''], ['All Editions', ' | ', 'Add a New Edition', ' | ', 'Combine']]",
                  "_deepnote_index_column": 979
                },
                {
                  "URL": "https://www.goodreads.com/book/show/5098079-lover-avenged\"",
                  "Title": "Lover Avenged (Black Dagger Brotherhood, #7)",
                  "Author": "Michael Pollan",
                  "Number of Ratings": "107656.0",
                  "Number of Reviews": "4044.0",
                  "Average Ratings": "4.0",
                  "Number of Pages": "527.0",
                  "Published Year": "2009.0",
                  "Series": "1.0",
                  "Genres": "['Paranormal Romance', 'Paranormal', 'Romance']",
                  "Awards": "['All About Romance (AAR) Annual Reader Poll for Guiltiest Pleasure Romance & Honorable Mention for Best Paranormal Romance (2010)', 'P.E.A.R.L. (Paranormal Excellence Award for Romantic Literature) for Best Overall Paranormal Romance AND Best Vampire Romance (2009)']",
                  "Places": "[['Caldwell, New York', '(United States)']]",
                  "_deepnote_index_column": 980
                },
                {
                  "URL": "https://www.goodreads.com/book/show/385255.Random_Family\"",
                  "Title": "Random Family: Love, Drugs, Trouble, and Coming of Age in the Bronx",
                  "Author": "Nicole Krauss",
                  "Number of Ratings": "11436.0",
                  "Number of Reviews": "1411.0",
                  "Average Ratings": "4.0",
                  "Number of Pages": "432.0",
                  "Published Year": "2004.0",
                  "Series": "0.0",
                  "Genres": "['Nonfiction', 'Sociology', 'Memoir']",
                  "Awards": "['Anisfield-Wolf Book Award (2004)', 'Borders Original Voices Award for Nonfiction (2003)', 'Ridenhour Book Prize (2005)', 'National Book Critics Circle Award Nominee for General Nonfiction (2003)']",
                  "Places": "nan",
                  "_deepnote_index_column": 981
                },
                {
                  "URL": "https://www.goodreads.com/book/show/6819.Ghostwritten\"",
                  "Title": "Ghostwritten",
                  "Author": "Tatiana de Rosnay",
                  "Number of Ratings": "27497.0",
                  "Number of Reviews": "2379.0",
                  "Average Ratings": "4.0",
                  "Number of Pages": "426.0",
                  "Published Year": "2001.0",
                  "Series": "0.0",
                  "Genres": "['Fiction', 'Fantasy', 'Contemporary']",
                  "Awards": "['Guardian First Book Award Nominee (1999)', 'John Llewellyn Rhys Prize (1999)']",
                  "Places": "[['Saint Petersburg', '(Russian Federation)'], ['Tokyo', '(Japan)'], ['Hong Kong', '…more\\nNew York City, New York', '(United States)'], ['Ireland', 'China', 'Okinawa', '(Japan)'], ['Mongolia', 'London, England', '(United Kingdom)'], ['…less']]",
                  "_deepnote_index_column": 982
                },
                {
                  "URL": "https://www.goodreads.com/book/show/34494.The_Wee_Free_Men\"",
                  "Title": "The Wee Free Men (Discworld, #30; Tiffany Aching, #1)",
                  "Author": "Laura Hillenbrand",
                  "Number of Ratings": "99747.0",
                  "Number of Reviews": "4454.0",
                  "Average Ratings": "4.0",
                  "Number of Pages": "375.0",
                  "Published Year": "2004.0",
                  "Series": "1.0",
                  "Genres": "['Fantasy', 'Young Adult', 'Fiction']",
                  "Awards": "['Locus Award for Best Young Adult Novel (2004)', \"Mythopoeic Fantasy Award Nominee for Children's Literature (2004) (2016)\", 'Rhode Island Teen Book Award Nominee (2006)', 'Parenting Book of the Year Award (2003)', 'WH Smith Teen Choice Award (2003)', 'Margaret A. Edwards Award (2011)']",
                  "Places": "[['Discworld', 'The Chalk']]",
                  "_deepnote_index_column": 983
                },
                {
                  "URL": "https://www.goodreads.com/book/show/954674.Little_Brother\"",
                  "Title": "Little Brother (Little Brother, #1)",
                  "Author": "Jodi Picoult",
                  "Number of Ratings": "48256.0",
                  "Number of Reviews": "5629.0",
                  "Average Ratings": "4.0",
                  "Number of Pages": "382.0",
                  "Published Year": "2008.0",
                  "Series": "1.0",
                  "Genres": "['Young Adult', 'Science Fiction', 'Fiction']",
                  "Awards": "['Hugo Award Nominee for Best Novel (2009)', 'Nebula Award Nominee for Best Novel (2008)', 'Locus Award Nominee for Best Young Adult Book (2009)', 'Kurd-Laßwitz-Preis Nominee for Bestes ausländisches Werk (Best Foreign Work) (2011)', 'Golden Duck Award for Young Adult (Hal Clement Award) (2009)', 'Sunburst Award for Young Adult Work (2009)', 'John W. Campbell Memorial Award (2009)', 'Emperor Norton Award (2008)', \"Grand Prix de l'Imaginaire Nominee for Roman jeunesse étranger (2013)\", 'Prometheus Award for Best Novel (2009)', 'Sakura Medal Nominee for High School Book (2010)', 'Florida Teens Read Nominee (2009)', 'Lincoln Award Nominee (2013)', 'White Pine Award (2009)', 'Premio El Templo de las Mil Puertas Nominee for Mejor novela extranjera independiente (2011)', 'Seiun Award 星雲賞 Nominee for Best Translated Long Form (2012)']",
                  "Places": "[['San Francisco, California', '(United States)']]",
                  "_deepnote_index_column": 984
                },
                {
                  "URL": "https://www.goodreads.com/book/show/6976.The_Mermaid_Chair\"",
                  "Title": "The Mermaid Chair",
                  "Author": "Gregory David Roberts",
                  "Number of Ratings": "80315.0",
                  "Number of Reviews": "6516.0",
                  "Average Ratings": "3.0",
                  "Number of Pages": "368.0",
                  "Published Year": "2006.0",
                  "Series": "0.0",
                  "Genres": "['Fiction', 'Romance', 'Chick Lit']",
                  "Awards": "[]",
                  "Places": "[['United States of America'], [''], ['Other Editions (56)'], [''], [''], [''], [''], [''], [''], [''], [''], [''], [''], [''], ['All Editions', ' | ', 'Add a New Edition', ' | ', 'Combine']]",
                  "_deepnote_index_column": 985
                },
                {
                  "URL": "https://www.goodreads.com/book/show/17683.Dead_Beat\"",
                  "Title": "Dead Beat (The Dresden Files, #7)",
                  "Author": "Mark Z. Danielewski",
                  "Number of Ratings": "114225.0",
                  "Number of Reviews": "3691.0",
                  "Average Ratings": "4.0",
                  "Number of Pages": "517.0",
                  "Published Year": "2006.0",
                  "Series": "1.0",
                  "Genres": "['Fantasy', 'Urban Fantasy', 'Fiction']",
                  "Awards": "[]",
                  "Places": "[['Chicago, Illinois', '(United States)'], [''], ['Other Editions (33)'], [''], [''], [''], [''], [''], [''], [''], [''], [''], [''], [''], ['All Editions', ' | ', 'Add a New Edition', ' | ', 'Combine']]",
                  "_deepnote_index_column": 986
                },
                {
                  "URL": "https://www.goodreads.com/book/show/11691.Snow\"",
                  "Title": "Snow",
                  "Author": "Richard Russo",
                  "Number of Ratings": "41783.0",
                  "Number of Reviews": "3702.0",
                  "Average Ratings": "4.0",
                  "Number of Pages": "463.0",
                  "Published Year": "2005.0",
                  "Series": "0.0",
                  "Genres": "['Fiction', 'Literature', 'Contemporary']",
                  "Awards": "['Independent Foreign Fiction Prize Nominee for Shortlist (2005)', 'Prix Médicis Etranger (2005)', 'Prix Méditerranée Étranger (2006)', 'Ein Buch für die Stadt (2006)', 'Metų verstinė knyga Nominee (2014)']",
                  "Places": "[['Kars', '(Turkey)']]",
                  "_deepnote_index_column": 987
                },
                {
                  "URL": "https://www.goodreads.com/book/show/32506.The_Poet\"",
                  "Title": "The Poet (Jack McEvoy, #1; Harry Bosch Universe, #5)",
                  "Author": "David Wroblewski",
                  "Number of Ratings": "87191.0",
                  "Number of Reviews": "3156.0",
                  "Average Ratings": "4.0",
                  "Number of Pages": "510.0",
                  "Published Year": "2002.0",
                  "Series": "1.0",
                  "Genres": "['Mystery', 'Fiction', 'Crime']",
                  "Awards": "['Anthony Award for Best Novel (1997)', 'Hammett Prize Nominee (1996)', 'Dilys Award (1997)', 'Nero Award (1997)', 'Marlowe for Best Crime Novel (International) (1997)']",
                  "Places": "[['Denver, Colorado', '(United States)'], ['Chicago, Illinois', '(United States)'], ['Phoenix, Arizona', '(United States)'], ['…more\\nLos Angeles, California', '(United States)'], ['…less']]",
                  "_deepnote_index_column": 988
                },
                {
                  "URL": "https://www.goodreads.com/book/show/144977.The_Tender_Bar\"",
                  "Title": "The Tender Bar: A Memoir",
                  "Author": "Zadie Smith",
                  "Number of Ratings": "33166.0",
                  "Number of Reviews": "2767.0",
                  "Average Ratings": "4.0",
                  "Number of Pages": "416.0",
                  "Published Year": "2006.0",
                  "Series": "0.0",
                  "Genres": "['Memoir', 'Nonfiction', 'Biography']",
                  "Awards": "['Audie Award for Narration by the Author or Authors (2006)']",
                  "Places": "nan",
                  "_deepnote_index_column": 989
                },
                {
                  "URL": "https://www.goodreads.com/book/show/6137154-fire\"",
                  "Title": "Fire (Graceling Realm, #2)",
                  "Author": "Libba Bray",
                  "Number of Ratings": "169808.0",
                  "Number of Reviews": "10605.0",
                  "Average Ratings": "4.0",
                  "Number of Pages": "480.0",
                  "Published Year": "2009.0",
                  "Series": "1.0",
                  "Genres": "['Fantasy', 'Young Adult', 'Romance']",
                  "Awards": "['Milwaukee County Teen Book Award Nominee (2011)', 'Amelia Elizabeth Walden Award (2010)', 'CYBILS Award for Young Adult Fantasy & Science Fiction (2009)', 'David Gemmell Ravenheart Award Nominee for Best Fantasy Cover Art (2010)']",
                  "Places": "nan",
                  "_deepnote_index_column": 990
                },
                {
                  "URL": "https://www.goodreads.com/book/show/9355.Until_I_Find_You\"",
                  "Title": "Until I Find You",
                  "Author": "Malcolm Gladwell",
                  "Number of Ratings": "25029.0",
                  "Number of Reviews": "1589.0",
                  "Average Ratings": "4.0",
                  "Number of Pages": "820.0",
                  "Published Year": "2006.0",
                  "Series": "0.0",
                  "Genres": "['Fiction', 'Contemporary', 'Novels']",
                  "Awards": "[]",
                  "Places": "[['Toronto, Ontario', '(Canada)'], ['Europe', 'New England', '(United States)'], ['…more\\nHollywood, California', '(United States)'], ['…less'], ['Other Editions (68)'], [''], [''], [''], [''], [''], [''], [''], [''], [''], [''], [''], ['All Editions', ' | ', 'Add a New Edition', ' | ', 'Combine']]",
                  "_deepnote_index_column": 991
                },
                {
                  "URL": "https://www.goodreads.com/book/show/2161733.Child_44\"",
                  "Title": "Child 44 (Leo Demidov, #1)",
                  "Author": "Eric Schlosser",
                  "Number of Ratings": "79113.0",
                  "Number of Reviews": "6421.0",
                  "Average Ratings": "4.0",
                  "Number of Pages": "509.0",
                  "Published Year": "2009.0",
                  "Series": "1.0",
                  "Genres": "['Fiction', 'Historical Fiction', 'Mystery']",
                  "Awards": "['Booker Prize Nominee for Longlist (2008)', 'Barry Award for Best First Novel (2009)', 'Anthony Award Nominee for Best First Novel (2009)', 'Dilys Award Nominee (2009)', 'Galaxy British Book Awards for New Writer of the Year (2009)', 'ITW Thriller Award for Best First Novel (2009)', 'Los Angeles Times Book Prize', 'Strand Critics Award  for Best First Novel (2008)', 'CWA Ian Fleming Steel Dagger (2008)', 'Desmond Elliott Prize Nominee (2008)', 'このミステリーがすごい！ for Best Translated Mystery Novel of the Year in Japan (2009)', 'Japan Adventure Fiction Association Prize 日本冒険小説協会大賞特別賞 for Best Translated Novel (2008)', 'Theakston Old Peculier Crime Novel of the Year Nominee for Shortlist (2010)']",
                  "Places": "[['Rostov-on-Don', '(Russian Federation)'], ['Moscow,\\n1953', '(Russian Federation)']]",
                  "_deepnote_index_column": 992
                },
                {
                  "URL": "https://www.goodreads.com/book/show/18723.Brick_Lane\"",
                  "Title": "Brick Lane",
                  "Author": "Rick Riordan",
                  "Number of Ratings": "28880.0",
                  "Number of Reviews": "1886.0",
                  "Average Ratings": "3.0",
                  "Number of Pages": "432.0",
                  "Published Year": "2004.0",
                  "Series": "0.0",
                  "Genres": "['Fiction', 'India', 'Contemporary']",
                  "Awards": "['Booker Prize Nominee (2003)', 'Orange Prize Nominee for Fiction Longlist (2004)', 'Guardian First Book Award Nominee (2003)', 'Orwell Prize Nominee (2004)', 'Audie Award for Fiction, Abridged (2004)', 'National Book Critics Circle Award Nominee for Fiction (2003)', 'Kiriyama Prize Nominee for Fiction (2004)']",
                  "Places": "nan",
                  "_deepnote_index_column": 993
                },
                {
                  "URL": "https://www.goodreads.com/book/show/24724.Drop_City\"",
                  "Title": "Drop City",
                  "Author": "David McCullough",
                  "Number of Ratings": "14363.0",
                  "Number of Reviews": "1022.0",
                  "Average Ratings": "4.0",
                  "Number of Pages": "497.0",
                  "Published Year": "2004.0",
                  "Series": "0.0",
                  "Genres": "['Fiction', 'Historical Fiction', 'Novels']",
                  "Awards": "['National Book Award Finalist for Fiction (2003)']",
                  "Places": "[['Alaska', '(United States)'], ['California', '(United States)']]",
                  "_deepnote_index_column": 994
                },
                {
                  "URL": "https://www.goodreads.com/book/show/179064.The_Goose_Girl\"",
                  "Title": "The Goose Girl (The Books of Bayern, #1)",
                  "Author": "Neil Gaiman",
                  "Number of Ratings": "140021.0",
                  "Number of Reviews": "10150.0",
                  "Average Ratings": "4.0",
                  "Number of Pages": "383.0",
                  "Published Year": "2005.0",
                  "Series": "1.0",
                  "Genres": "['Fantasy', 'Young Adult', 'Fairy Tales']",
                  "Awards": "[\"Mythopoeic Fantasy Award Nominee for Children's Literature (2010)\", 'Utah Book Award for Children/Young Adults (2003)', 'Josette Frank Award (2004)', \"Waterstones Children's Book Prize Nominee (2005)\"]",
                  "Places": "nan",
                  "_deepnote_index_column": 995
                },
                {
                  "URL": "https://www.goodreads.com/book/show/24812.The_Complete_Calvin_and_Hobbes\"",
                  "Title": "The Complete Calvin and Hobbes",
                  "Author": "Isabel Allende",
                  "Number of Ratings": "36182.0",
                  "Number of Reviews": "1048.0",
                  "Average Ratings": "5.0",
                  "Number of Pages": "1456.0",
                  "Published Year": "2005.0",
                  "Series": "1.0",
                  "Genres": "['Comics', 'Humor', 'Graphic Novels']",
                  "Awards": "[]",
                  "Places": "nan",
                  "_deepnote_index_column": 996
                },
                {
                  "URL": "https://www.goodreads.com/book/show/3432478-the-forest-of-hands-and-teeth\"",
                  "Title": "The Forest of Hands and Teeth (The Forest of Hands and Teeth, #1)",
                  "Author": "Geraldine Brooks",
                  "Number of Ratings": "nan",
                  "Number of Reviews": "nan",
                  "Average Ratings": "4.0",
                  "Number of Pages": "nan",
                  "Published Year": "nan",
                  "Series": "nan",
                  "Genres": "nan",
                  "Awards": "[]",
                  "Places": "nan",
                  "_deepnote_index_column": 997
                },
                {
                  "URL": "https://www.goodreads.com/book/show/6048530-finger-lickin-fifteen\"",
                  "Title": "Finger Lickin' Fifteen (Stephanie Plum, #15)",
                  "Author": "Rick Riordan",
                  "Number of Ratings": "81824.0",
                  "Number of Reviews": "4204.0",
                  "Average Ratings": "nan",
                  "Number of Pages": "308.0",
                  "Published Year": "2009.0",
                  "Series": "1.0",
                  "Genres": "['Mystery', 'Fiction', 'Humor']",
                  "Awards": "['Goodreads Choice Award Nominee for Mystery/Thriller (2009)']",
                  "Places": "[['Trenton, New Jersey', '(United States)']]",
                  "_deepnote_index_column": 998
                },
                {
                  "URL": "https://www.goodreads.com/book/show/28078.The_Birth_of_Venus\"",
                  "Title": "The Birth of Venus",
                  "Author": "Dave Eggers",
                  "Number of Ratings": "95662.0",
                  "Number of Reviews": "3277.0",
                  "Average Ratings": "4.0",
                  "Number of Pages": "427.0",
                  "Published Year": "2004.0",
                  "Series": "0.0",
                  "Genres": "['Historical Fiction', 'Fiction', 'Historical']",
                  "Awards": "[]",
                  "Places": "[['Italy', 'Florence', '(Italy)'], [''], ['Other Editions (75)'], [''], [''], [''], [''], [''], [''], [''], [''], [''], [''], [''], ['All Editions', ' | ', 'Add a New Edition', ' | ', 'Combine']]",
                  "_deepnote_index_column": 999
                }
              ]
            },
            "text/plain": "                                                   URL  \\\n0    https://www.goodreads.com/book/show/136251.Har...   \n1    https://www.goodreads.com/book/show/2767052-th...   \n2    https://www.goodreads.com/book/show/1.Harry_Po...   \n3    https://www.goodreads.com/book/show/6.Harry_Po...   \n4    https://www.goodreads.com/book/show/2.Harry_Po...   \n..                                                 ...   \n995  https://www.goodreads.com/book/show/179064.The...   \n996  https://www.goodreads.com/book/show/24812.The_...   \n997  https://www.goodreads.com/book/show/3432478-th...   \n998  https://www.goodreads.com/book/show/6048530-fi...   \n999  https://www.goodreads.com/book/show/28078.The_...   \n\n                                                 Title            Author  \\\n0    Harry Potter and the Deathly Hallows (Harry Po...      J.K. Rowling   \n1              The Hunger Games (The Hunger Games, #1)   Suzanne Collins   \n2    Harry Potter and the Half-Blood Prince (Harry ...      J.K. Rowling   \n3    Harry Potter and the Goblet of Fire (Harry Pot...      J.K. Rowling   \n4    Harry Potter and the Order of the Phoenix (Har...      J.K. Rowling   \n..                                                 ...               ...   \n995           The Goose Girl (The Books of Bayern, #1)       Neil Gaiman   \n996                     The Complete Calvin and Hobbes    Isabel Allende   \n997  The Forest of Hands and Teeth (The Forest of H...  Geraldine Brooks   \n998       Finger Lickin' Fifteen (Stephanie Plum, #15)      Rick Riordan   \n999                                 The Birth of Venus       Dave Eggers   \n\n     Number of Ratings  Number of Reviews  Average Ratings  Number of Pages  \\\n0            2959288.0            68446.0              5.0            759.0   \n1            6684900.0           175492.0              4.0            374.0   \n2            2575144.0            42015.0              4.0            652.0   \n3            2749673.0            49578.0              4.0            734.0   \n4            2653157.0            45371.0              4.0            870.0   \n..                 ...                ...              ...              ...   \n995           140021.0            10150.0              4.0            383.0   \n996            36182.0             1048.0              5.0           1456.0   \n997                NaN                NaN              4.0              NaN   \n998            81824.0             4204.0              NaN            308.0   \n999            95662.0             3277.0              4.0            427.0   \n\n     Published Year  Series                                           Genres  \\\n0            2007.0     1.0            ['Fantasy', 'Young Adult', 'Fiction']   \n1            2008.0     1.0           ['Young Adult', 'Fiction', 'Dystopia']   \n2            2006.0     1.0            ['Fantasy', 'Young Adult', 'Fiction']   \n3            2002.0     1.0            ['Fantasy', 'Young Adult', 'Fiction']   \n4            2004.0     1.0            ['Fantasy', 'Young Adult', 'Fiction']   \n..              ...     ...                                              ...   \n995          2005.0     1.0        ['Fantasy', 'Young Adult', 'Fairy Tales']   \n996          2005.0     1.0            ['Comics', 'Humor', 'Graphic Novels']   \n997             NaN     NaN                                              NaN   \n998          2009.0     1.0                  ['Mystery', 'Fiction', 'Humor']   \n999          2004.0     0.0  ['Historical Fiction', 'Fiction', 'Historical']   \n\n                                                Awards  \\\n0    ['Locus Award Nominee for Best Young Adult Nov...   \n1    ['Locus Award Nominee for Best Young Adult Boo...   \n2    ['Locus Award Nominee for Best Young Adult Nov...   \n3    ['Hugo Award for Best Novel (2001)', \"Mythopoe...   \n4    ['Bram Stoker Award for Works for Young Reader...   \n..                                                 ...   \n995  [\"Mythopoeic Fantasy Award Nominee for Childre...   \n996                                                 []   \n997                                                 []   \n998  ['Goodreads Choice Award Nominee for Mystery/T...   \n999                                                 []   \n\n                                                Places  \n0    [['London, England', '(United Kingdom)'], ['Ho...  \n1    [['District 12, Panem', 'Capitol, Panem', 'Pan...  \n2    [['Hogwarts School of Witchcraft and Wizardry'...  \n3    [['Hogwarts School of Witchcraft and Wizardry,...  \n4    [['Hogwarts School of Witchcraft and Wizardry'...  \n..                                                 ...  \n995                                                NaN  \n996                                                NaN  \n997                                                NaN  \n998       [['Trenton, New Jersey', '(United States)']]  \n999  [['Italy', 'Florence', '(Italy)'], [''], ['Oth...  \n\n[1000 rows x 12 columns]",
            "text/html": "<div>\n<style scoped>\n    .dataframe tbody tr th:only-of-type {\n        vertical-align: middle;\n    }\n\n    .dataframe tbody tr th {\n        vertical-align: top;\n    }\n\n    .dataframe thead th {\n        text-align: right;\n    }\n</style>\n<table border=\"1\" class=\"dataframe\">\n  <thead>\n    <tr style=\"text-align: right;\">\n      <th></th>\n      <th>URL</th>\n      <th>Title</th>\n      <th>Author</th>\n      <th>Number of Ratings</th>\n      <th>Number of Reviews</th>\n      <th>Average Ratings</th>\n      <th>Number of Pages</th>\n      <th>Published Year</th>\n      <th>Series</th>\n      <th>Genres</th>\n      <th>Awards</th>\n      <th>Places</th>\n    </tr>\n  </thead>\n  <tbody>\n    <tr>\n      <th>0</th>\n      <td>https://www.goodreads.com/book/show/136251.Har...</td>\n      <td>Harry Potter and the Deathly Hallows (Harry Po...</td>\n      <td>J.K. Rowling</td>\n      <td>2959288.0</td>\n      <td>68446.0</td>\n      <td>5.0</td>\n      <td>759.0</td>\n      <td>2007.0</td>\n      <td>1.0</td>\n      <td>['Fantasy', 'Young Adult', 'Fiction']</td>\n      <td>['Locus Award Nominee for Best Young Adult Nov...</td>\n      <td>[['London, England', '(United Kingdom)'], ['Ho...</td>\n    </tr>\n    <tr>\n      <th>1</th>\n      <td>https://www.goodreads.com/book/show/2767052-th...</td>\n      <td>The Hunger Games (The Hunger Games, #1)</td>\n      <td>Suzanne Collins</td>\n      <td>6684900.0</td>\n      <td>175492.0</td>\n      <td>4.0</td>\n      <td>374.0</td>\n      <td>2008.0</td>\n      <td>1.0</td>\n      <td>['Young Adult', 'Fiction', 'Dystopia']</td>\n      <td>['Locus Award Nominee for Best Young Adult Boo...</td>\n      <td>[['District 12, Panem', 'Capitol, Panem', 'Pan...</td>\n    </tr>\n    <tr>\n      <th>2</th>\n      <td>https://www.goodreads.com/book/show/1.Harry_Po...</td>\n      <td>Harry Potter and the Half-Blood Prince (Harry ...</td>\n      <td>J.K. Rowling</td>\n      <td>2575144.0</td>\n      <td>42015.0</td>\n      <td>4.0</td>\n      <td>652.0</td>\n      <td>2006.0</td>\n      <td>1.0</td>\n      <td>['Fantasy', 'Young Adult', 'Fiction']</td>\n      <td>['Locus Award Nominee for Best Young Adult Nov...</td>\n      <td>[['Hogwarts School of Witchcraft and Wizardry'...</td>\n    </tr>\n    <tr>\n      <th>3</th>\n      <td>https://www.goodreads.com/book/show/6.Harry_Po...</td>\n      <td>Harry Potter and the Goblet of Fire (Harry Pot...</td>\n      <td>J.K. Rowling</td>\n      <td>2749673.0</td>\n      <td>49578.0</td>\n      <td>4.0</td>\n      <td>734.0</td>\n      <td>2002.0</td>\n      <td>1.0</td>\n      <td>['Fantasy', 'Young Adult', 'Fiction']</td>\n      <td>['Hugo Award for Best Novel (2001)', \"Mythopoe...</td>\n      <td>[['Hogwarts School of Witchcraft and Wizardry,...</td>\n    </tr>\n    <tr>\n      <th>4</th>\n      <td>https://www.goodreads.com/book/show/2.Harry_Po...</td>\n      <td>Harry Potter and the Order of the Phoenix (Har...</td>\n      <td>J.K. Rowling</td>\n      <td>2653157.0</td>\n      <td>45371.0</td>\n      <td>4.0</td>\n      <td>870.0</td>\n      <td>2004.0</td>\n      <td>1.0</td>\n      <td>['Fantasy', 'Young Adult', 'Fiction']</td>\n      <td>['Bram Stoker Award for Works for Young Reader...</td>\n      <td>[['Hogwarts School of Witchcraft and Wizardry'...</td>\n    </tr>\n    <tr>\n      <th>...</th>\n      <td>...</td>\n      <td>...</td>\n      <td>...</td>\n      <td>...</td>\n      <td>...</td>\n      <td>...</td>\n      <td>...</td>\n      <td>...</td>\n      <td>...</td>\n      <td>...</td>\n      <td>...</td>\n      <td>...</td>\n    </tr>\n    <tr>\n      <th>995</th>\n      <td>https://www.goodreads.com/book/show/179064.The...</td>\n      <td>The Goose Girl (The Books of Bayern, #1)</td>\n      <td>Neil Gaiman</td>\n      <td>140021.0</td>\n      <td>10150.0</td>\n      <td>4.0</td>\n      <td>383.0</td>\n      <td>2005.0</td>\n      <td>1.0</td>\n      <td>['Fantasy', 'Young Adult', 'Fairy Tales']</td>\n      <td>[\"Mythopoeic Fantasy Award Nominee for Childre...</td>\n      <td>NaN</td>\n    </tr>\n    <tr>\n      <th>996</th>\n      <td>https://www.goodreads.com/book/show/24812.The_...</td>\n      <td>The Complete Calvin and Hobbes</td>\n      <td>Isabel Allende</td>\n      <td>36182.0</td>\n      <td>1048.0</td>\n      <td>5.0</td>\n      <td>1456.0</td>\n      <td>2005.0</td>\n      <td>1.0</td>\n      <td>['Comics', 'Humor', 'Graphic Novels']</td>\n      <td>[]</td>\n      <td>NaN</td>\n    </tr>\n    <tr>\n      <th>997</th>\n      <td>https://www.goodreads.com/book/show/3432478-th...</td>\n      <td>The Forest of Hands and Teeth (The Forest of H...</td>\n      <td>Geraldine Brooks</td>\n      <td>NaN</td>\n      <td>NaN</td>\n      <td>4.0</td>\n      <td>NaN</td>\n      <td>NaN</td>\n      <td>NaN</td>\n      <td>NaN</td>\n      <td>[]</td>\n      <td>NaN</td>\n    </tr>\n    <tr>\n      <th>998</th>\n      <td>https://www.goodreads.com/book/show/6048530-fi...</td>\n      <td>Finger Lickin' Fifteen (Stephanie Plum, #15)</td>\n      <td>Rick Riordan</td>\n      <td>81824.0</td>\n      <td>4204.0</td>\n      <td>NaN</td>\n      <td>308.0</td>\n      <td>2009.0</td>\n      <td>1.0</td>\n      <td>['Mystery', 'Fiction', 'Humor']</td>\n      <td>['Goodreads Choice Award Nominee for Mystery/T...</td>\n      <td>[['Trenton, New Jersey', '(United States)']]</td>\n    </tr>\n    <tr>\n      <th>999</th>\n      <td>https://www.goodreads.com/book/show/28078.The_...</td>\n      <td>The Birth of Venus</td>\n      <td>Dave Eggers</td>\n      <td>95662.0</td>\n      <td>3277.0</td>\n      <td>4.0</td>\n      <td>427.0</td>\n      <td>2004.0</td>\n      <td>0.0</td>\n      <td>['Historical Fiction', 'Fiction', 'Historical']</td>\n      <td>[]</td>\n      <td>[['Italy', 'Florence', '(Italy)'], [''], ['Oth...</td>\n    </tr>\n  </tbody>\n</table>\n<p>1000 rows × 12 columns</p>\n</div>"
          },
          "metadata": {}
        }
      ],
      "execution_count": 5
    },
    {
      "cell_type": "code",
      "source": "",
      "metadata": {
        "tags": [],
        "cell_id": "00003-5eebbc1c-e4bd-4029-99be-c7591d9148bd",
        "deepnote_cell_type": "code"
      },
      "outputs": [],
      "execution_count": null
    },
    {
      "cell_type": "markdown",
      "source": "<a style='text-decoration:none;line-height:16px;display:flex;color:#5B5B62;padding:10px;justify-content:end;' href='https://deepnote.com?utm_source=created-in-deepnote-cell&projectId=a0867bd3-5624-476b-af8a-bd1f917bd510' target=\"_blank\">\n<img alt='Created in deepnote.com' style='display:inline;max-height:16px;margin:0px;margin-right:7.5px;' src='data:image/svg+xml;base64,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' > </img>\nCreated in <span style='font-weight:600;margin-left:4px;'>Deepnote</span></a>",
      "metadata": {
        "tags": [],
        "created_in_deepnote_cell": true,
        "deepnote_cell_type": "markdown"
      }
    }
  ],
  "nbformat": 4,
  "nbformat_minor": 2,
  "metadata": {
    "orig_nbformat": 2,
    "deepnote": {
      "is_reactive": false
    },
    "deepnote_notebook_id": "66a0c235-95ed-4dba-bb5e-30b31abf3ce2",
    "deepnote_execution_queue": []
  }
}